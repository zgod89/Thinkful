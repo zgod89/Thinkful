{
 "cells": [
  {
   "cell_type": "code",
   "execution_count": 1,
   "metadata": {},
   "outputs": [],
   "source": [
    "import tweepy\n",
    "from tweepy import Stream\n",
    "from tweepy import OAuthHandler\n",
    "from tweepy.streaming import StreamListener\n",
    "import time\n",
    "import json"
   ]
  },
  {
   "cell_type": "code",
   "execution_count": 3,
   "metadata": {},
   "outputs": [],
   "source": [
    "import psycopg2\n",
    "\n",
    "# Connect using psycopg2\n",
    "conn = psycopg2.connect(dbname= \"Final Project\", user = \"postgres\", \n",
    "                           password = \"bobsaget541\", host=\"127.0.0.1\",\n",
    "                           port = \"5433\")\n",
    "    \n",
    "curs = conn.cursor()"
   ]
  },
  {
   "cell_type": "code",
   "execution_count": 5,
   "metadata": {},
   "outputs": [],
   "source": [
    "ckey = ''\n",
    "csecret = ''\n",
    "atoken = ''\n",
    "asecret = ''"
   ]
  },
  {
   "cell_type": "code",
   "execution_count": null,
   "metadata": {},
   "outputs": [],
   "source": [
    "class listener(StreamListener):\n",
    "\n",
    "    def on_data(self, data):\n",
    "            try:\n",
    "                all_data = json.loads(data)\n",
    "                tweet = all_data[\"text\"]\n",
    "                username = all_data[\"user\"][\"screen_name\"]\n",
    "                location = all_data[\"user\"][\"location\"]\n",
    "    \n",
    "                curs.execute(\"INSERT INTO trump (time, location, username, tweet) VALUES (%s,%s,%s,%s)\",\n",
    "                    (time.time(), location, username, tweet))\n",
    "    \n",
    "                conn.commit()\n",
    "    \n",
    "                print((username,tweet))\n",
    "    \n",
    "                return True\n",
    "            except KeyError:\n",
    "                pass\n",
    " \n",
    "        def on_error(self, status):\n",
    "            if status_code == 420:\n",
    "                #returning False in on_data disconnects the stream\n",
    "                return False\n",
    "    \n",
    "    \n",
    "auth = tweepy.OAuthHandler(ckey, csecret)\n",
    "auth.set_access_token(atoken, asecret)\n",
    "twitterStream = Stream(auth, listener())\n",
    "twitterStream.filter(track=['trump'], languages=[\"en\"])"
   ]
  }
 ],
 "metadata": {
  "kernelspec": {
   "display_name": "Python 3",
   "language": "python",
   "name": "python3"
  },
  "language_info": {
   "codemirror_mode": {
    "name": "ipython",
    "version": 3
   },
   "file_extension": ".py",
   "mimetype": "text/x-python",
   "name": "python",
   "nbconvert_exporter": "python",
   "pygments_lexer": "ipython3",
   "version": "3.7.1"
  },
  "toc": {
   "base_numbering": 1,
   "nav_menu": {},
   "number_sections": true,
   "sideBar": true,
   "skip_h1_title": false,
   "title_cell": "Table of Contents",
   "title_sidebar": "Contents",
   "toc_cell": false,
   "toc_position": {},
   "toc_section_display": true,
   "toc_window_display": false
  }
 },
 "nbformat": 4,
 "nbformat_minor": 2
}
