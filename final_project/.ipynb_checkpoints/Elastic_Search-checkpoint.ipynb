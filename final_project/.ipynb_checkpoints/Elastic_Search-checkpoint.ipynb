{
 "cells": [
  {
   "cell_type": "code",
   "execution_count": 1,
   "metadata": {},
   "outputs": [
    {
     "ename": "ModuleNotFoundError",
     "evalue": "No module named 'elasticsearch'",
     "output_type": "error",
     "traceback": [
      "\u001b[1;31m---------------------------------------------------------------------------\u001b[0m",
      "\u001b[1;31mModuleNotFoundError\u001b[0m                       Traceback (most recent call last)",
      "\u001b[1;32m<ipython-input-1-f2f6915b2fe8>\u001b[0m in \u001b[0;36m<module>\u001b[1;34m\u001b[0m\n\u001b[0;32m      4\u001b[0m \u001b[1;32mfrom\u001b[0m \u001b[0mtweepy\u001b[0m \u001b[1;32mimport\u001b[0m \u001b[0mStream\u001b[0m\u001b[1;33m\u001b[0m\u001b[1;33m\u001b[0m\u001b[0m\n\u001b[0;32m      5\u001b[0m \u001b[1;32mfrom\u001b[0m \u001b[0mtextblob\u001b[0m \u001b[1;32mimport\u001b[0m \u001b[0mTextBlob\u001b[0m\u001b[1;33m\u001b[0m\u001b[1;33m\u001b[0m\u001b[0m\n\u001b[1;32m----> 6\u001b[1;33m \u001b[1;32mfrom\u001b[0m \u001b[0melasticsearch\u001b[0m \u001b[1;32mimport\u001b[0m \u001b[0mElasticsearch\u001b[0m\u001b[1;33m\u001b[0m\u001b[1;33m\u001b[0m\u001b[0m\n\u001b[0m\u001b[0;32m      7\u001b[0m \u001b[1;33m\u001b[0m\u001b[0m\n",
      "\u001b[1;31mModuleNotFoundError\u001b[0m: No module named 'elasticsearch'"
     ]
    }
   ],
   "source": [
    "import json\n",
    "from tweepy.streaming import StreamListener\n",
    "from tweepy import OAuthHandler\n",
    "from tweepy import Stream\n",
    "from textblob import TextBlob\n",
    "from elasticsearch import Elasticsearch"
   ]
  },
  {
   "cell_type": "code",
   "execution_count": null,
   "metadata": {},
   "outputs": [],
   "source": [
    "# import twitter keys and tokens\n",
    "from Private import *\n",
    "\n",
    "# create instance of elasticsearch\n",
    "es = Elasticsearch()\n",
    "\n",
    "\n",
    "class TweetStreamListener(StreamListener):\n",
    "\n",
    "    # on success\n",
    "    def on_data(self, data):\n",
    "\n",
    "        # decode json\n",
    "        dict_data = json.loads(data)\n",
    "\n",
    "        # pass tweet into TextBlob\n",
    "        tweet = TextBlob(dict_data[\"text\"])\n",
    "\n",
    "        # output sentiment polarity\n",
    "        print tweet.sentiment.polarity\n",
    "\n",
    "        # determine if sentiment is positive, negative, or neutral\n",
    "        if tweet.sentiment.polarity < 0:\n",
    "            sentiment = \"negative\"\n",
    "        elif tweet.sentiment.polarity == 0:\n",
    "            sentiment = \"neutral\"\n",
    "        else:\n",
    "            sentiment = \"positive\"\n",
    "\n",
    "        # output sentiment\n",
    "        print sentiment\n",
    "\n",
    "        # add text and sentiment info to elasticsearch\n",
    "        es.index(index=\"sentiment\",\n",
    "                 doc_type=\"test-type\",\n",
    "                 body={\"author\": dict_data[\"user\"][\"screen_name\"],\n",
    "                       \"date\": dict_data[\"created_at\"],\n",
    "                       \"message\": dict_data[\"text\"],\n",
    "                       \"polarity\": tweet.sentiment.polarity,\n",
    "                       \"subjectivity\": tweet.sentiment.subjectivity,\n",
    "                       \"sentiment\": sentiment})\n",
    "        return True\n",
    "\n",
    "    # on failure\n",
    "    def on_error(self, status):\n",
    "        print status\n",
    "\n",
    "if __name__ == '__main__':\n",
    "\n",
    "    # create instance of the tweepy tweet stream listener\n",
    "    listener = TweetStreamListener()\n",
    "\n",
    "    # set twitter keys/tokens\n",
    "    auth = OAuthHandler(consumer_key, consumer_secret)\n",
    "    auth.set_access_token(access_token, access_token_secret)\n",
    "\n",
    "    # create instance of the tweepy stream\n",
    "    stream = Stream(auth, listener)\n",
    "\n",
    "    # search twitter for \"congress\" keyword\n",
    "    stream.filter(track=['congress'])"
   ]
  }
 ],
 "metadata": {
  "kernelspec": {
   "display_name": "Python 3",
   "language": "python",
   "name": "python3"
  },
  "language_info": {
   "codemirror_mode": {
    "name": "ipython",
    "version": 3
   },
   "file_extension": ".py",
   "mimetype": "text/x-python",
   "name": "python",
   "nbconvert_exporter": "python",
   "pygments_lexer": "ipython3",
   "version": "3.7.1"
  },
  "toc": {
   "base_numbering": 1,
   "nav_menu": {},
   "number_sections": true,
   "sideBar": true,
   "skip_h1_title": false,
   "title_cell": "Table of Contents",
   "title_sidebar": "Contents",
   "toc_cell": false,
   "toc_position": {},
   "toc_section_display": true,
   "toc_window_display": false
  }
 },
 "nbformat": 4,
 "nbformat_minor": 2
}
