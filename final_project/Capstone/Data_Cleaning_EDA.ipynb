{
  "nbformat": 4,
  "nbformat_minor": 0,
  "metadata": {
    "colab": {
      "name": "Data_Cleaning_EDA.ipynb",
      "version": "0.3.2",
      "provenance": []
    },
    "kernelspec": {
      "name": "python3",
      "display_name": "Python 3"
    }
  },
  "cells": [
    {
      "metadata": {
        "id": "5qWWgHIfYRFE",
        "colab_type": "text"
      },
      "cell_type": "markdown",
      "source": [
        "# **Imports**"
      ]
    },
    {
      "metadata": {
        "id": "LzhOzemg687s",
        "colab_type": "code",
        "outputId": "d287c2dc-fe7f-48c8-e818-21739bb102b9",
        "colab": {
          "base_uri": "https://localhost:8080/",
          "height": 591
        }
      },
      "cell_type": "code",
      "source": [
        "# sklearn analytics\n",
        "import seaborn as sns\n",
        "import matplotlib.pyplot as plt\n",
        "%matplotlib inline\n",
        "import matplotlib as mpl\n",
        "import matplotlib.cm as cm\n",
        "from sklearn import metrics\n",
        "from sklearn.metrics import classification_report\n",
        "from sklearn.metrics import roc_auc_score\n",
        "from sklearn.metrics import roc_curve\n",
        "from sklearn.metrics import precision_recall_curve\n",
        "from sklearn.metrics import f1_score\n",
        "from sklearn.metrics import precision_score, recall_score\n",
        "from sklearn.metrics import confusion_matrix\n",
        "from sklearn.model_selection import cross_val_predict\n",
        "from sklearn.model_selection import train_test_split\n",
        "from sklearn.model_selection import cross_val_score\n",
        "from sklearn.model_selection import GridSearchCV\n",
        "\n",
        "# Models\n",
        "from sklearn import cluster\n",
        "from sklearn.cluster import KMeans\n",
        "from sklearn.cluster import MiniBatchKMeans\n",
        "from sklearn.cluster import MeanShift, estimate_bandwidth\n",
        "from sklearn.cluster import SpectralClustering\n",
        "from sklearn.manifold import TSNE\n",
        "from sklearn.svm import LinearSVC\n",
        "from sklearn.naive_bayes import GaussianNB\n",
        "from sklearn.ensemble import RandomForestClassifier\n",
        "from sklearn.linear_model import LogisticRegression\n",
        "from sklearn.cluster import Birch\n",
        "\n",
        "# Text Preprocessing\n",
        "from sklearn.feature_extraction import text\n",
        "from sklearn.feature_extraction.text import TfidfVectorizer, CountVectorizer,\\\n",
        "    TfidfTransformer\n",
        "from sklearn.decomposition import TruncatedSVD\n",
        "from sklearn.preprocessing import Normalizer\n",
        "from sklearn.pipeline import make_pipeline\n",
        "\n",
        "\n",
        "# General\n",
        "import warnings\n",
        "import numpy as np\n",
        "import pandas as pd\n",
        "import nltk\n",
        "import random\n",
        "import os\n",
        "import re\n",
        "import string\n",
        "import statsmodels.api as sm\n",
        "from os import path\n",
        "from PIL import Image\n",
        "from time import time\n",
        "\n",
        "\n",
        "# NLP\n",
        "from nltk import sent_tokenize, word_tokenize\n",
        "from nltk.util import ngrams\n",
        "from nltk.stem import PorterStemmer\n",
        "from nltk.corpus import stopwords\n",
        "nltk.download('stopwords')\n",
        "nltk.download('wordnet')\n",
        "stopwords = stopwords.words('english')\n",
        "from nltk.tokenize import RegexpTokenizer\n",
        "from wordcloud import WordCloud, STOPWORDS\n",
        "from subprocess import check_output\n",
        "from collections import Counter\n",
        "import spacy\n",
        "nlp = spacy.load('en')\n",
        "\n",
        "# Set Plot Theme\n",
        "sns.set_palette([\n",
        "    \"#30a2da\",\n",
        "    \"#fc4f30\",\n",
        "    \"#e5ae38\",\n",
        "    \"#6d904f\",\n",
        "    \"#551A8B\",\n",
        "])\n",
        "\n",
        "# Warnings\n",
        "warnings.filterwarnings('ignore')\n",
        "\n",
        "from google.colab import drive, files\n",
        "drive.mount('/content/gdrive', force_remount=True)\n",
        "\n",
        "\n",
        "!pip install emoji\n",
        "import emoji\n",
        "\n",
        "from textblob import TextBlob\n",
        "\n",
        "!pip install tweet-preprocessor\n",
        "import preprocessor as p\n",
        "\n",
        "!pip install plotly\n",
        "import plotly\n",
        "\n",
        "#!pip install -q keras\n",
        "#import keras\n",
        "\n",
        "!pip install -U -q PyDrive\n",
        "from pydrive.auth import GoogleAuth\n",
        "from pydrive.drive import GoogleDrive\n",
        "from google.colab import auth\n",
        "from oauth2client.client import GoogleCredentials\n",
        "\n",
        "auth.authenticate_user()\n",
        "gauth = GoogleAuth()\n",
        "gauth.credentials = GoogleCredentials.get_application_default()\n",
        "drive = GoogleDrive(gauth)\n",
        "\n",
        "from os.path import exists\n",
        "from wheel.pep425tags import get_abbr_impl, get_impl_ver, get_abi_tag\n",
        "platform = '{}{}-{}'.format(get_abbr_impl(), get_impl_ver(), get_abi_tag())\n",
        "cuda_output = !ldconfig -p|grep cudart.so|sed -e 's/.*\\.\\([0-9]*\\)\\.\\([0-9]*\\)$/cu\\1\\2/'\n",
        "accelerator = cuda_output[0] if exists('/dev/nvidia0') else 'cpu'\n",
        "\n",
        "!pip install -q http://download.pytorch.org/whl/{accelerator}/torch-0.4.1-{platform}-linux_x86_64.whl torchvision\n",
        "import torch\n",
        "import torchvision\n",
        "\n",
        "\n",
        "# we will verify that GPU is enabled for this notebook\n",
        "# following should print: CUDA is available!  Training on GPU ...\n",
        "# \n",
        "# if it prints otherwise, then you need to enable GPU: \n",
        "# from Menu > Runtime > Change Runtime Type > Hardware Accelerator > GPU\n",
        "\n",
        "import numpy as np\n",
        "\n",
        "# check if CUDA is available\n",
        "train_on_gpu = torch.cuda.is_available()\n",
        "\n",
        "if not train_on_gpu:\n",
        "    print('CUDA is not available.  Training on CPU ...')\n",
        "else:\n",
        "    print('CUDA is available!  Training on GPU ...')"
      ],
      "execution_count": 1,
      "outputs": [
        {
          "output_type": "stream",
          "text": [
            "/usr/local/lib/python3.6/dist-packages/statsmodels/compat/pandas.py:56: FutureWarning: The pandas.core.datetools module is deprecated and will be removed in a future version. Please use the pandas.tseries module instead.\n",
            "  from pandas.core import datetools\n"
          ],
          "name": "stderr"
        },
        {
          "output_type": "stream",
          "text": [
            "[nltk_data] Downloading package stopwords to /root/nltk_data...\n",
            "[nltk_data]   Unzipping corpora/stopwords.zip.\n",
            "[nltk_data] Downloading package wordnet to /root/nltk_data...\n",
            "[nltk_data]   Unzipping corpora/wordnet.zip.\n",
            "Go to this URL in a browser: https://accounts.google.com/o/oauth2/auth?client_id=947318989803-6bn6qk8qdgf4n4g3pfee6491hc0brc4i.apps.googleusercontent.com&redirect_uri=urn%3Aietf%3Awg%3Aoauth%3A2.0%3Aoob&scope=email%20https%3A%2F%2Fwww.googleapis.com%2Fauth%2Fdocs.test%20https%3A%2F%2Fwww.googleapis.com%2Fauth%2Fdrive%20https%3A%2F%2Fwww.googleapis.com%2Fauth%2Fdrive.photos.readonly%20https%3A%2F%2Fwww.googleapis.com%2Fauth%2Fpeopleapi.readonly&response_type=code\n",
            "\n",
            "Enter your authorization code:\n",
            "··········\n",
            "Mounted at /content/gdrive\n",
            "Collecting emoji\n",
            "  Downloading https://files.pythonhosted.org/packages/9c/fb/7586e11ff9205c9be9d11d376fcb6990ec4bdfae0a35663fb1ada7e3c10f/emoji-0.5.1-py3-none-any.whl\n",
            "Installing collected packages: emoji\n",
            "Successfully installed emoji-0.5.1\n",
            "Collecting tweet-preprocessor\n",
            "  Downloading https://files.pythonhosted.org/packages/2a/f8/810ec35c31cca89bc4f1a02c14b042b9ec6c19dd21f7ef1876874ef069a6/tweet-preprocessor-0.5.0.tar.gz\n",
            "Building wheels for collected packages: tweet-preprocessor\n",
            "  Running setup.py bdist_wheel for tweet-preprocessor ... \u001b[?25l-\b \b\\\b \bdone\n",
            "\u001b[?25h  Stored in directory: /root/.cache/pip/wheels/1b/27/cc/49938e98a2470802ebdefae9d2b3f524768e970c1ebbe2dc4a\n",
            "Successfully built tweet-preprocessor\n",
            "Installing collected packages: tweet-preprocessor\n",
            "Successfully installed tweet-preprocessor-0.5.0\n",
            "Requirement already satisfied: plotly in /usr/local/lib/python3.6/dist-packages (1.12.12)\n",
            "Requirement already satisfied: requests in /usr/local/lib/python3.6/dist-packages (from plotly) (2.18.4)\n",
            "Requirement already satisfied: six in /usr/local/lib/python3.6/dist-packages (from plotly) (1.11.0)\n",
            "Requirement already satisfied: pytz in /usr/local/lib/python3.6/dist-packages (from plotly) (2018.9)\n",
            "Requirement already satisfied: urllib3<1.23,>=1.21.1 in /usr/local/lib/python3.6/dist-packages (from requests->plotly) (1.22)\n",
            "Requirement already satisfied: chardet<3.1.0,>=3.0.2 in /usr/local/lib/python3.6/dist-packages (from requests->plotly) (3.0.4)\n",
            "Requirement already satisfied: idna<2.7,>=2.5 in /usr/local/lib/python3.6/dist-packages (from requests->plotly) (2.6)\n",
            "Requirement already satisfied: certifi>=2017.4.17 in /usr/local/lib/python3.6/dist-packages (from requests->plotly) (2018.11.29)\n",
            "\u001b[31mfastai 1.0.41 has requirement torch>=1.0.0, but you'll have torch 0.4.1 which is incompatible.\u001b[0m\n",
            "CUDA is not available.  Training on CPU ...\n"
          ],
          "name": "stdout"
        }
      ]
    },
    {
      "metadata": {
        "id": "vn9TNLgW7GM_",
        "colab_type": "code",
        "outputId": "548b43d9-e014-4953-b1b0-1bddbe5fc6bf",
        "colab": {
          "base_uri": "https://localhost:8080/",
          "height": 50
        }
      },
      "cell_type": "code",
      "source": [
        "# Read and Peak at Data\n",
        "df = pd.read_csv('/content/gdrive/My Drive/Data Science/trump.csv', sep='\\t') \n",
        "\n",
        "# Extracting Missing Count and Unique Count by Column\n",
        "unique_count = []\n",
        "for x in df.columns:\n",
        "    unique_count.append([x, len(df[x].unique()), df[x].isnull().sum()])\n",
        "\n",
        "# Missing Values\n",
        "print(\"Missing Values: {}\".format(df.isnull().sum().sum()))\n",
        "\n",
        "# Data Dimensions\n",
        "print(\"Dataframe Dimension: {} Rows, {} Columns\".format(*df.shape))\n",
        "\n",
        "# Convert to tweet to string\n",
        "df['tweet'] = df['tweet'].astype(str)\n",
        "\n",
        "# Create New Variables:\n",
        "# Word Length\n",
        "df[\"word_count\"] = df['tweet'].str.split().apply(len)\n",
        "# Character Length\n",
        "df[\"character_count\"] = df['tweet'].apply(len)"
      ],
      "execution_count": 2,
      "outputs": [
        {
          "output_type": "stream",
          "text": [
            "Missing Values: 184956\n",
            "Dataframe Dimension: 430228 Rows, 5 Columns\n"
          ],
          "name": "stdout"
        }
      ]
    },
    {
      "metadata": {
        "id": "TCxrDwKIP3sh",
        "colab_type": "code",
        "outputId": "c059e952-a7aa-48ba-9774-a1b16092a643",
        "colab": {
          "base_uri": "https://localhost:8080/",
          "height": 279
        }
      },
      "cell_type": "code",
      "source": [
        "df.head()"
      ],
      "execution_count": 3,
      "outputs": [
        {
          "output_type": "execute_result",
          "data": {
            "text/html": [
              "<div>\n",
              "<style scoped>\n",
              "    .dataframe tbody tr th:only-of-type {\n",
              "        vertical-align: middle;\n",
              "    }\n",
              "\n",
              "    .dataframe tbody tr th {\n",
              "        vertical-align: top;\n",
              "    }\n",
              "\n",
              "    .dataframe thead th {\n",
              "        text-align: right;\n",
              "    }\n",
              "</style>\n",
              "<table border=\"1\" class=\"dataframe\">\n",
              "  <thead>\n",
              "    <tr style=\"text-align: right;\">\n",
              "      <th></th>\n",
              "      <th>time</th>\n",
              "      <th>tweet</th>\n",
              "      <th>id</th>\n",
              "      <th>username</th>\n",
              "      <th>location</th>\n",
              "      <th>word_count</th>\n",
              "      <th>character_count</th>\n",
              "    </tr>\n",
              "  </thead>\n",
              "  <tbody>\n",
              "    <tr>\n",
              "      <th>0</th>\n",
              "      <td>1547856694.7658603</td>\n",
              "      <td>'RT @SethAbramson: In case you missed it: what...</td>\n",
              "      <td>79549</td>\n",
              "      <td>SmithEckert13</td>\n",
              "      <td>Fort Wayne, IN</td>\n",
              "      <td>25</td>\n",
              "      <td>155</td>\n",
              "    </tr>\n",
              "    <tr>\n",
              "      <th>1</th>\n",
              "      <td>1547856694.7953787</td>\n",
              "      <td>'RT @RonWyden: Incredible. More luxury travel ...</td>\n",
              "      <td>79550</td>\n",
              "      <td>QueenTAG</td>\n",
              "      <td>Scotts Valley, CA</td>\n",
              "      <td>22</td>\n",
              "      <td>149</td>\n",
              "    </tr>\n",
              "    <tr>\n",
              "      <th>2</th>\n",
              "      <td>1547856694.8134415</td>\n",
              "      <td>'President Trump Directed Michael Cohen To Lie...</td>\n",
              "      <td>79551</td>\n",
              "      <td>vkrgz</td>\n",
              "      <td>Dünyanın içinden</td>\n",
              "      <td>16</td>\n",
              "      <td>125</td>\n",
              "    </tr>\n",
              "    <tr>\n",
              "      <th>3</th>\n",
              "      <td>1547856694.8526797</td>\n",
              "      <td>'RT @TeaPainUSA: Tea would wager that Trump in...</td>\n",
              "      <td>79552</td>\n",
              "      <td>ChazGohVan</td>\n",
              "      <td>Jupiter UNIVERSE</td>\n",
              "      <td>26</td>\n",
              "      <td>147</td>\n",
              "    </tr>\n",
              "    <tr>\n",
              "      <th>4</th>\n",
              "      <td>1547856694.904921</td>\n",
              "      <td>'RT @BruceBartlett: There is one person in Ame...</td>\n",
              "      <td>79553</td>\n",
              "      <td>JudyPrincz</td>\n",
              "      <td>Manhattan, NY</td>\n",
              "      <td>24</td>\n",
              "      <td>147</td>\n",
              "    </tr>\n",
              "  </tbody>\n",
              "</table>\n",
              "</div>"
            ],
            "text/plain": [
              "                 time                                              tweet  \\\n",
              "0  1547856694.7658603  'RT @SethAbramson: In case you missed it: what...   \n",
              "1  1547856694.7953787  'RT @RonWyden: Incredible. More luxury travel ...   \n",
              "2  1547856694.8134415  'President Trump Directed Michael Cohen To Lie...   \n",
              "3  1547856694.8526797  'RT @TeaPainUSA: Tea would wager that Trump in...   \n",
              "4   1547856694.904921  'RT @BruceBartlett: There is one person in Ame...   \n",
              "\n",
              "      id       username           location  word_count  character_count  \n",
              "0  79549  SmithEckert13     Fort Wayne, IN          25              155  \n",
              "1  79550       QueenTAG  Scotts Valley, CA          22              149  \n",
              "2  79551          vkrgz   Dünyanın içinden          16              125  \n",
              "3  79552     ChazGohVan   Jupiter UNIVERSE          26              147  \n",
              "4  79553     JudyPrincz      Manhattan, NY          24              147  "
            ]
          },
          "metadata": {
            "tags": []
          },
          "execution_count": 3
        }
      ]
    },
    {
      "metadata": {
        "id": "hkodBHkYA4Q2",
        "colab_type": "code",
        "outputId": "34dc9059-6d28-4d4a-ec07-04f11a4e1db3",
        "colab": {
          "base_uri": "https://localhost:8080/",
          "height": 284
        }
      },
      "cell_type": "code",
      "source": [
        "df.describe()"
      ],
      "execution_count": 4,
      "outputs": [
        {
          "output_type": "execute_result",
          "data": {
            "text/html": [
              "<div>\n",
              "<style scoped>\n",
              "    .dataframe tbody tr th:only-of-type {\n",
              "        vertical-align: middle;\n",
              "    }\n",
              "\n",
              "    .dataframe tbody tr th {\n",
              "        vertical-align: top;\n",
              "    }\n",
              "\n",
              "    .dataframe thead th {\n",
              "        text-align: right;\n",
              "    }\n",
              "</style>\n",
              "<table border=\"1\" class=\"dataframe\">\n",
              "  <thead>\n",
              "    <tr style=\"text-align: right;\">\n",
              "      <th></th>\n",
              "      <th>word_count</th>\n",
              "      <th>character_count</th>\n",
              "    </tr>\n",
              "  </thead>\n",
              "  <tbody>\n",
              "    <tr>\n",
              "      <th>count</th>\n",
              "      <td>430228.000000</td>\n",
              "      <td>430228.000000</td>\n",
              "    </tr>\n",
              "    <tr>\n",
              "      <th>mean</th>\n",
              "      <td>18.674238</td>\n",
              "      <td>122.972138</td>\n",
              "    </tr>\n",
              "    <tr>\n",
              "      <th>std</th>\n",
              "      <td>6.134861</td>\n",
              "      <td>33.739280</td>\n",
              "    </tr>\n",
              "    <tr>\n",
              "      <th>min</th>\n",
              "      <td>1.000000</td>\n",
              "      <td>1.000000</td>\n",
              "    </tr>\n",
              "    <tr>\n",
              "      <th>25%</th>\n",
              "      <td>16.000000</td>\n",
              "      <td>122.000000</td>\n",
              "    </tr>\n",
              "    <tr>\n",
              "      <th>50%</th>\n",
              "      <td>20.000000</td>\n",
              "      <td>140.000000</td>\n",
              "    </tr>\n",
              "    <tr>\n",
              "      <th>75%</th>\n",
              "      <td>23.000000</td>\n",
              "      <td>140.000000</td>\n",
              "    </tr>\n",
              "    <tr>\n",
              "      <th>max</th>\n",
              "      <td>37.000000</td>\n",
              "      <td>258.000000</td>\n",
              "    </tr>\n",
              "  </tbody>\n",
              "</table>\n",
              "</div>"
            ],
            "text/plain": [
              "          word_count  character_count\n",
              "count  430228.000000    430228.000000\n",
              "mean       18.674238       122.972138\n",
              "std         6.134861        33.739280\n",
              "min         1.000000         1.000000\n",
              "25%        16.000000       122.000000\n",
              "50%        20.000000       140.000000\n",
              "75%        23.000000       140.000000\n",
              "max        37.000000       258.000000"
            ]
          },
          "metadata": {
            "tags": []
          },
          "execution_count": 4
        }
      ]
    },
    {
      "metadata": {
        "id": "-ApQWoqeUV0-",
        "colab_type": "code",
        "outputId": "4668c33b-a5cd-4cf7-a3d4-9267dd66c62e",
        "colab": {
          "base_uri": "https://localhost:8080/",
          "height": 34
        }
      },
      "cell_type": "code",
      "source": [
        "df.tweet[5000]"
      ],
      "execution_count": 5,
      "outputs": [
        {
          "output_type": "execute_result",
          "data": {
            "text/plain": [
              "'RT @Chef_Epsimos: @shannonrwatts Everyone should start tweeting trump #PresidentPelosi'"
            ]
          },
          "metadata": {
            "tags": []
          },
          "execution_count": 5
        }
      ]
    },
    {
      "metadata": {
        "id": "feteuzh0YGP-",
        "colab_type": "text"
      },
      "cell_type": "markdown",
      "source": [
        "# **Data Cleaning**"
      ]
    },
    {
      "metadata": {
        "id": "9ssbbPcxBqbj",
        "colab_type": "code",
        "outputId": "1e002ca0-4a84-4f55-ad98-60b9573771da",
        "colab": {
          "base_uri": "https://localhost:8080/",
          "height": 279
        }
      },
      "cell_type": "code",
      "source": [
        "\n",
        "# Importing SKLearn's list of stopwords and \n",
        "# then appending with my own words\n",
        "stop = text.ENGLISH_STOP_WORDS\n",
        "      \n",
        "# Basic text cleaning function that also removes stopwords\n",
        "def remove_noise(text):\n",
        "\n",
        "    # Remove Mentions\n",
        "   # text = text.apply(lambda x: re.compile('\\#').sub('', re.compile(\n",
        "        #'RT @').sub('@', x, count=1).strip()))\n",
        "    \n",
        "    # Remove URLs\n",
        "    text = text.str.replace('https?://[A-Za-z0-9./]+','')\n",
        "    \n",
        "    # Keep Hashtag text\n",
        "    text = text.str.replace(\"[^a-zA-Z]\", \" \")\n",
        "    \n",
        "    # Make lowercase\n",
        "    text = text.apply(lambda x: \" \".join(x.lower() for x in x.split()))\n",
        "\n",
        "    # Remove whitespaces\n",
        "    text = text.apply(lambda x: \" \".join(x.strip() for x in x.split()))\n",
        "\n",
        "    # Remove special characters\n",
        "    text = text.apply(lambda x: \"\".join(\n",
        "        [\" \" if ord(i) < 32 or ord(i) > 126 else i for i in x]))\n",
        "\n",
        "    # Remove punctuation\n",
        "    text = text.str.replace('[^\\w\\s]', '')\n",
        "\n",
        "    # Remove numbers\n",
        "    text = text.str.replace('\\d+', '')\n",
        "\n",
        "    # Remove Stopwords\n",
        "    text = text.apply(lambda x: ' '.join(\n",
        "        [word for word in x.split() if word not in (stop)]))\n",
        "\n",
        "    # Convert to string\n",
        "    text = text.astype(str)\n",
        "\n",
        "    return text\n",
        "   \n",
        "# Function to remove RT @user\n",
        "def remove_pattern(input_txt, pattern):\n",
        "    r = re.findall(pattern, input_txt)\n",
        "    for i in r:\n",
        "        input_txt = re.sub(i, '', input_txt)\n",
        "        \n",
        "    return input_txt  \n",
        "  \n",
        "\n",
        "# remove  RT: @user\n",
        "df['filtered_tweet'] = np.vectorize(\n",
        "    remove_pattern)(df['tweet'], \"RT @[\\w]*\")\n",
        "\n",
        "# Apply cleaner function\n",
        "df['filtered_tweet'] = remove_noise(df['filtered_tweet'])\n",
        "\n",
        "df = df.drop(['time', 'id', 'username', 'location'], axis=1)\n",
        "df.head(5)"
      ],
      "execution_count": 6,
      "outputs": [
        {
          "output_type": "execute_result",
          "data": {
            "text/html": [
              "<div>\n",
              "<style scoped>\n",
              "    .dataframe tbody tr th:only-of-type {\n",
              "        vertical-align: middle;\n",
              "    }\n",
              "\n",
              "    .dataframe tbody tr th {\n",
              "        vertical-align: top;\n",
              "    }\n",
              "\n",
              "    .dataframe thead th {\n",
              "        text-align: right;\n",
              "    }\n",
              "</style>\n",
              "<table border=\"1\" class=\"dataframe\">\n",
              "  <thead>\n",
              "    <tr style=\"text-align: right;\">\n",
              "      <th></th>\n",
              "      <th>tweet</th>\n",
              "      <th>word_count</th>\n",
              "      <th>character_count</th>\n",
              "      <th>filtered_tweet</th>\n",
              "    </tr>\n",
              "  </thead>\n",
              "  <tbody>\n",
              "    <tr>\n",
              "      <th>0</th>\n",
              "      <td>'RT @SethAbramson: In case you missed it: what...</td>\n",
              "      <td>25</td>\n",
              "      <td>155</td>\n",
              "      <td>case missed fuss tonight retweet think followe...</td>\n",
              "    </tr>\n",
              "    <tr>\n",
              "      <th>1</th>\n",
              "      <td>'RT @RonWyden: Incredible. More luxury travel ...</td>\n",
              "      <td>22</td>\n",
              "      <td>149</td>\n",
              "      <td>incredible luxury travel trump administration ...</td>\n",
              "    </tr>\n",
              "    <tr>\n",
              "      <th>2</th>\n",
              "      <td>'President Trump Directed Michael Cohen To Lie...</td>\n",
              "      <td>16</td>\n",
              "      <td>125</td>\n",
              "      <td>president trump directed michael cohen lie con...</td>\n",
              "    </tr>\n",
              "    <tr>\n",
              "      <th>3</th>\n",
              "      <td>'RT @TeaPainUSA: Tea would wager that Trump in...</td>\n",
              "      <td>26</td>\n",
              "      <td>147</td>\n",
              "      <td>tea wager trump instructed folks lie congress ...</td>\n",
              "    </tr>\n",
              "    <tr>\n",
              "      <th>4</th>\n",
              "      <td>'RT @BruceBartlett: There is one person in Ame...</td>\n",
              "      <td>24</td>\n",
              "      <td>147</td>\n",
              "      <td>person america trump chose rupert murdoch medi...</td>\n",
              "    </tr>\n",
              "  </tbody>\n",
              "</table>\n",
              "</div>"
            ],
            "text/plain": [
              "                                               tweet  word_count  \\\n",
              "0  'RT @SethAbramson: In case you missed it: what...          25   \n",
              "1  'RT @RonWyden: Incredible. More luxury travel ...          22   \n",
              "2  'President Trump Directed Michael Cohen To Lie...          16   \n",
              "3  'RT @TeaPainUSA: Tea would wager that Trump in...          26   \n",
              "4  'RT @BruceBartlett: There is one person in Ame...          24   \n",
              "\n",
              "   character_count                                     filtered_tweet  \n",
              "0              155  case missed fuss tonight retweet think followe...  \n",
              "1              149  incredible luxury travel trump administration ...  \n",
              "2              125  president trump directed michael cohen lie con...  \n",
              "3              147  tea wager trump instructed folks lie congress ...  \n",
              "4              147  person america trump chose rupert murdoch medi...  "
            ]
          },
          "metadata": {
            "tags": []
          },
          "execution_count": 6
        }
      ]
    },
    {
      "metadata": {
        "id": "LqyQtNTFjAT8",
        "colab_type": "code",
        "colab": {}
      },
      "cell_type": "code",
      "source": [
        "#Second Cleaning Function that keeps stopwords\n",
        "def extract_text(text):\n",
        "    \n",
        "    # Convert to string\n",
        "    text = text.astype(str)\n",
        "    \n",
        "    # Remove URLs\n",
        "    text = text.str.replace('https?://[A-Za-z0-9./]+','')\n",
        "    \n",
        "    # Keep Hashtag text\n",
        "    text = text.str.replace(\"[^a-zA-Z]\", \" \")\n",
        "    \n",
        "    # Make lowercase\n",
        "    text = text.apply(lambda x: \" \".join(x.lower() for x in x.split()))\n",
        "\n",
        "    # Remove whitespaces\n",
        "    text = text.apply(lambda x: \" \".join(x.strip() for x in x.split()))\n",
        "\n",
        "    # Remove special characters\n",
        "    text = text.apply(lambda x: \"\".join(\n",
        "        [\" \" if ord(i) < 32 or ord(i) > 126 else i for i in x]))\n",
        "\n",
        "    # Remove punctuation\n",
        "    text = text.str.replace('[^\\w\\s]', '')\n",
        "\n",
        "    # Remove numbers\n",
        "    text = text.str.replace('\\d+', '')\n",
        "    \n",
        "    #Remove 1-2 letter clutter remnants\n",
        "    text = text.apply(lambda x: re.sub(r'\\b\\w{1,2}\\b', '', x))\n",
        "\n",
        "    return text\n",
        "\n",
        "# remove  RT: @user\n",
        "df['clean'] = np.vectorize(remove_pattern)(df['tweet'], \"RT @[\\w]*\")\n",
        "\n",
        "\n",
        "# Applying function to data\n",
        "df['clean'] = extract_text(df['clean'])\n"
      ],
      "execution_count": 0,
      "outputs": []
    },
    {
      "metadata": {
        "id": "Q6ta89cekQHI",
        "colab_type": "code",
        "outputId": "7e6a9f44-0926-4ed3-c6ce-eaa7b99bff20",
        "colab": {
          "base_uri": "https://localhost:8080/",
          "height": 70
        }
      },
      "cell_type": "code",
      "source": [
        "print(df.tweet[5])\n",
        "print(df.clean[5])"
      ],
      "execution_count": 8,
      "outputs": [
        {
          "output_type": "stream",
          "text": [
            "'RT @cher: trump\\u2019s A CROOK &amp; LIAR,IF HE WAS THE HEAD OF ANY COMPANY HE WOULD BE FIRED.THE IMMEDIATE CRISIS, \\n800,000.00 PPL ARE LOSING THE L\\u2026'\n",
            "trump    crook amp liar   was the head  any company  would  fired the immediate crisis  ppl are losing the  \n"
          ],
          "name": "stdout"
        }
      ]
    },
    {
      "metadata": {
        "id": "ia7EGocDtVOK",
        "colab_type": "text"
      },
      "cell_type": "markdown",
      "source": [
        "# Sentiment Labelling\n",
        "\n",
        "The sentiment property of Texblob returns a namedtuple of the form Sentiment(polarity, subjectivity). The polarity score is a float within the range [-1.0, 1.0]. We will use this to label tweets as positive, neutral, or negative. \n",
        "\n",
        "I will label anything with a polarity of exactly zero as neutral and remove the data rows with that label, leaving only polar data points. Then we can see if this method of labeling works for training a classifier."
      ]
    },
    {
      "metadata": {
        "id": "abs7wBFWOT91",
        "colab_type": "code",
        "outputId": "ed45e8d3-888e-427f-f8a0-61d2a28294d8",
        "colab": {
          "base_uri": "https://localhost:8080/",
          "height": 602
        }
      },
      "cell_type": "code",
      "source": [
        "def analyze_sentiment(tweet):\n",
        "    '''\n",
        "    Utility function to classify the polarity of a tweet\n",
        "    using textblob.\n",
        "    '''\n",
        "    analysis = TextBlob(tweet)\n",
        "    if analysis.sentiment.polarity > 0:\n",
        "        return 1\n",
        "    elif analysis.sentiment.polarity == 0:\n",
        "        return 0\n",
        "    else:\n",
        "        return -1\n",
        "\n",
        "# Create a column with the result of the analysis:\n",
        "df['SA'] = np.array(\n",
        "    [analyze_sentiment(tweet) for tweet in df['filtered_tweet']])\n",
        "\n",
        "df['SA2'] = np.array(\n",
        "    [analyze_sentiment(tweet) for tweet in df['clean']])\n",
        "\n",
        "df.head()"
      ],
      "execution_count": 9,
      "outputs": [
        {
          "output_type": "execute_result",
          "data": {
            "text/html": [
              "<div>\n",
              "<style scoped>\n",
              "    .dataframe tbody tr th:only-of-type {\n",
              "        vertical-align: middle;\n",
              "    }\n",
              "\n",
              "    .dataframe tbody tr th {\n",
              "        vertical-align: top;\n",
              "    }\n",
              "\n",
              "    .dataframe thead th {\n",
              "        text-align: right;\n",
              "    }\n",
              "</style>\n",
              "<table border=\"1\" class=\"dataframe\">\n",
              "  <thead>\n",
              "    <tr style=\"text-align: right;\">\n",
              "      <th></th>\n",
              "      <th>tweet</th>\n",
              "      <th>word_count</th>\n",
              "      <th>character_count</th>\n",
              "      <th>filtered_tweet</th>\n",
              "      <th>clean</th>\n",
              "      <th>SA</th>\n",
              "      <th>SA2</th>\n",
              "    </tr>\n",
              "  </thead>\n",
              "  <tbody>\n",
              "    <tr>\n",
              "      <th>0</th>\n",
              "      <td>'RT @SethAbramson: In case you missed it: what...</td>\n",
              "      <td>25</td>\n",
              "      <td>155</td>\n",
              "      <td>case missed fuss tonight retweet think followe...</td>\n",
              "      <td>case you missed  what all the fuss  about ton...</td>\n",
              "      <td>0</td>\n",
              "      <td>0</td>\n",
              "    </tr>\n",
              "    <tr>\n",
              "      <th>1</th>\n",
              "      <td>'RT @RonWyden: Incredible. More luxury travel ...</td>\n",
              "      <td>22</td>\n",
              "      <td>149</td>\n",
              "      <td>incredible luxury travel trump administration ...</td>\n",
              "      <td>incredible more luxury travel from the trump a...</td>\n",
              "      <td>1</td>\n",
              "      <td>1</td>\n",
              "    </tr>\n",
              "    <tr>\n",
              "      <th>2</th>\n",
              "      <td>'President Trump Directed Michael Cohen To Lie...</td>\n",
              "      <td>16</td>\n",
              "      <td>125</td>\n",
              "      <td>president trump directed michael cohen lie con...</td>\n",
              "      <td>president trump directed michael cohen  lie  c...</td>\n",
              "      <td>0</td>\n",
              "      <td>0</td>\n",
              "    </tr>\n",
              "    <tr>\n",
              "      <th>3</th>\n",
              "      <td>'RT @TeaPainUSA: Tea would wager that Trump in...</td>\n",
              "      <td>26</td>\n",
              "      <td>147</td>\n",
              "      <td>tea wager trump instructed folks lie congress ...</td>\n",
              "      <td>tea would wager that trump instructed all his ...</td>\n",
              "      <td>0</td>\n",
              "      <td>-1</td>\n",
              "    </tr>\n",
              "    <tr>\n",
              "      <th>4</th>\n",
              "      <td>'RT @BruceBartlett: There is one person in Ame...</td>\n",
              "      <td>24</td>\n",
              "      <td>147</td>\n",
              "      <td>person america trump chose rupert murdoch medi...</td>\n",
              "      <td>there  one person  america who could  somethin...</td>\n",
              "      <td>0</td>\n",
              "      <td>0</td>\n",
              "    </tr>\n",
              "  </tbody>\n",
              "</table>\n",
              "</div>"
            ],
            "text/plain": [
              "                                               tweet  word_count  \\\n",
              "0  'RT @SethAbramson: In case you missed it: what...          25   \n",
              "1  'RT @RonWyden: Incredible. More luxury travel ...          22   \n",
              "2  'President Trump Directed Michael Cohen To Lie...          16   \n",
              "3  'RT @TeaPainUSA: Tea would wager that Trump in...          26   \n",
              "4  'RT @BruceBartlett: There is one person in Ame...          24   \n",
              "\n",
              "   character_count                                     filtered_tweet  \\\n",
              "0              155  case missed fuss tonight retweet think followe...   \n",
              "1              149  incredible luxury travel trump administration ...   \n",
              "2              125  president trump directed michael cohen lie con...   \n",
              "3              147  tea wager trump instructed folks lie congress ...   \n",
              "4              147  person america trump chose rupert murdoch medi...   \n",
              "\n",
              "                                               clean  SA  SA2  \n",
              "0   case you missed  what all the fuss  about ton...   0    0  \n",
              "1  incredible more luxury travel from the trump a...   1    1  \n",
              "2  president trump directed michael cohen  lie  c...   0    0  \n",
              "3  tea would wager that trump instructed all his ...   0   -1  \n",
              "4  there  one person  america who could  somethin...   0    0  "
            ]
          },
          "metadata": {
            "tags": []
          },
          "execution_count": 9
        }
      ]
    },
    {
      "metadata": {
        "id": "qzAHLSAsVMwi",
        "colab_type": "code",
        "outputId": "f775bc26-1959-4d37-eea6-5433305ef605",
        "colab": {
          "base_uri": "https://localhost:8080/",
          "height": 54
        }
      },
      "cell_type": "code",
      "source": [
        "print(df.tweet[3])"
      ],
      "execution_count": 10,
      "outputs": [
        {
          "output_type": "stream",
          "text": [
            "'RT @TeaPainUSA: Tea would wager that Trump instructed all his folks to lie to Congress because he knew Nunes and his other GOP imps and dem\\u2026'\n"
          ],
          "name": "stdout"
        }
      ]
    },
    {
      "metadata": {
        "id": "N7K_0QmLwLum",
        "colab_type": "text"
      },
      "cell_type": "markdown",
      "source": [
        "Looking at the Tweet at index 3 we can see there is a polarity differnce between the filtered tweet and the clean tweet. This could mean that stop words impact the way Textblob assess polarity. \n",
        "\n",
        "Intuitively I would call this tweet negative as it is objectively critical. As such, I'll use the SA2 variable as my label.\n",
        "\n",
        "I'm going to drop all the neutral tweets since I'm interetsed in binary sentiment classification."
      ]
    },
    {
      "metadata": {
        "id": "tk7z-5m803IR",
        "colab_type": "code",
        "outputId": "d523fb9d-10e9-4d7e-e20e-3dca199f4b80",
        "colab": {
          "base_uri": "https://localhost:8080/",
          "height": 138
        }
      },
      "cell_type": "code",
      "source": [
        "# Make a copy of the data frame for later, and dropping neutral tweets\n",
        "df2 = df[df.SA2 != 0]\n",
        "\n",
        "# Dropping neutral tweets\n",
        "df = df[df.SA != 0]\n",
        "\n",
        "print('DF has {} rows.'.format(len(df)))\n",
        "print('DF2 has {} rows.'.format(len(df2)))\n",
        "print('\\n')\n",
        "print('DF2 has {} negative comments.'.format(\n",
        "    (df2.SA2 != 0).sum()))\n",
        "print('DF2 has {} positive comments.'.format(\n",
        "    (df2.SA2 != 1).sum()))\n",
        "\n"
      ],
      "execution_count": 11,
      "outputs": [
        {
          "output_type": "stream",
          "text": [
            "DF has 238014 rows.\n",
            "DF2 has 257218 rows.\n",
            "\n",
            "\n",
            "DF2 has 257218 negative comments.\n",
            "DF2 has 93343 positive comments.\n"
          ],
          "name": "stdout"
        }
      ]
    },
    {
      "metadata": {
        "id": "XqcbrVTrNDO_",
        "colab_type": "text"
      },
      "cell_type": "markdown",
      "source": [
        "# **EDA**"
      ]
    },
    {
      "metadata": {
        "id": "E9ZfUNjLT2Y4",
        "colab_type": "text"
      },
      "cell_type": "markdown",
      "source": [
        "First I'm going to do some data organization and trimming to build data frame copies for later. EDA will mostly focus on the full, imbalanced data set."
      ]
    },
    {
      "metadata": {
        "id": "rI52do4WPbY8",
        "colab_type": "code",
        "outputId": "cb923730-866e-4c01-cb28-78aeb10030ad",
        "colab": {
          "base_uri": "https://localhost:8080/",
          "height": 1013
        }
      },
      "cell_type": "code",
      "source": [
        "# Removed data to give even batch sizes DF\n",
        "remove_n = len(df)%50\n",
        "drop_indices = np.random.choice(df.index, remove_n, replace=False)\n",
        "df = df.drop(drop_indices)\n",
        "\n",
        "# Plot the label classes\n",
        "fig = plt.figure(figsize=(8,5))\n",
        "ax = sns.barplot(x=df.SA.unique(),y=df.SA.value_counts());\n",
        "ax.set(xlabel='Labels')\n",
        "ax.set_title('DF Class Balance')\n",
        "\n",
        "# Removed data to give even batch sizes DF2\n",
        "remove_n = len(df2)%50\n",
        "drop_indices2 = np.random.choice(df2.index, remove_n, replace=False)\n",
        "df2 = df2.drop(drop_indices2)\n",
        "\n",
        "# Plot the label classes\n",
        "fig = plt.figure(figsize=(8,5))\n",
        "ax = sns.barplot(x=df2.SA2.unique(),y=df2.SA2.value_counts());\n",
        "ax.set(xlabel='Labels')\n",
        "ax.set_title('DF2 Class Balance')\n",
        "plt.savefig('Imbalanced.png')\n",
        "#files.download('Imbalanced.png')\n",
        "\n",
        "#Define DF Copy to Reduce and set len\n",
        "#for each class equal to len og minority class\n",
        "df3 = pd.concat(g.sample(87155) for idx, g in df2.groupby('SA2'))\n",
        "df3 = df3.sample(frac=1)\n",
        "\n",
        "# Removed data to give even batch sizes DF3\n",
        "remove_n = len(df3)%50\n",
        "drop_indices3 = np.random.choice(df3.index, remove_n, replace=False)\n",
        "df3 = df3.drop(drop_indices3)\n",
        "\n",
        "# Plot the label classes\n",
        "fig = plt.figure(figsize=(8,5))\n",
        "ax = sns.barplot(x=df3.SA2.unique(),y=df3.SA2.value_counts());\n",
        "ax.set(xlabel='Labels')\n",
        "ax.set_title('DF3 Class Balance')\n",
        "\n",
        "plt.savefig('Balanced.png')\n",
        "#files.download('Balancing.png')\n",
        "plt.show()"
      ],
      "execution_count": 12,
      "outputs": [
        {
          "output_type": "display_data",
          "data": {
            "image/png": "[encoded data removed]",
            "text/plain": [
              "<Figure size 576x360 with 1 Axes>"
            ]
          },
          "metadata": {
            "tags": []
          }
        },
        {
          "output_type": "display_data",
          "data": {
            "image/png": "[encoded data removed]",
            "text/plain": [
              "<Figure size 576x360 with 1 Axes>"
            ]
          },
          "metadata": {
            "tags": []
          }
        },
        {
          "output_type": "display_data",
          "data": {
            "image/png": "[encoded data removed]",
            "text/plain": [
              "<Figure size 576x360 with 1 Axes>"
            ]
          },
          "metadata": {
            "tags": []
          }
        }
      ]
    },
    {
      "metadata": {
        "id": "k4jevNDl4-jy",
        "colab_type": "code",
        "outputId": "4a820e37-8691-4fb1-8bbf-2c7fc5e9b5cd",
        "colab": {
          "base_uri": "https://localhost:8080/",
          "height": 374
        }
      },
      "cell_type": "code",
      "source": [
        "# Exploring tweet word count\n",
        "z = df3.groupby(by=['word_count'], as_index=False).count(\n",
        ").sort_values(by='SA2', ascending=False)\n",
        "\n",
        "plt.figure(figsize=(8, 5))\n",
        "sns.set_style(\"whitegrid\")\n",
        "ax = sns.barplot(x=z['word_count'], y=z['SA2'], data=z)\n",
        "plt.xlabel(\"\\nWord Count\")\n",
        "plt.ylabel(\"Count\")\n",
        "plt.title(\"Tweet Counts By Word Length\\n\")\n",
        "plt.savefig(\"Counts By Word Length.png\", dpi=300)\n",
        "#files.download(\"Counts By Word Length.png\")\n",
        "plt.show()"
      ],
      "execution_count": 13,
      "outputs": [
        {
          "output_type": "display_data",
          "data": {
            "image/png": "[encoded data removed]",
            "text/plain": [
              "<Figure size 576x360 with 1 Axes>"
            ]
          },
          "metadata": {
            "tags": []
          }
        }
      ]
    },
    {
      "metadata": {
        "id": "8KZnsCwCONl3",
        "colab_type": "code",
        "outputId": "0fa58710-db76-42a2-de32-752661f27d7f",
        "colab": {
          "base_uri": "https://localhost:8080/",
          "height": 406
        }
      },
      "cell_type": "code",
      "source": [
        "# Exploring Word Count.\n",
        "colors = color={-1: \"#e5ae38\",\n",
        "                0: '#30a2da',\n",
        "                1: '#fc4f30'}\n",
        "f, ax = plt.subplots(figsize=(8, 5))\n",
        "df.groupby(['SA2', pd.cut(df['word_count'], np.arange(0, 40, 5))])\\\n",
        "    .size()\\\n",
        "    .unstack(0)\\\n",
        "    .plot.bar(stacked=True, ax=ax, color=colors.values())\n",
        "#plt.subplots_adjust(top=.8)\n",
        "plt.suptitle('Sentiment and Tweet Word Count')\n",
        "plt.xlabel(\"\\nWord Count\")\n",
        "ax.legend(loc='best', frameon=True)\n",
        "#plt.savefig(\"Sentiment and Word Count.png\")\n",
        "#files.download(\"Sentiment and Word Count.png\")\n",
        "#plt.tight_layout()\n",
        "plt.show()"
      ],
      "execution_count": 14,
      "outputs": [
        {
          "output_type": "display_data",
          "data": {
            "image/png": "[encoded data removed]",
            "text/plain": [
              "<Figure size 576x360 with 1 Axes>"
            ]
          },
          "metadata": {
            "tags": []
          }
        }
      ]
    },
    {
      "metadata": {
        "id": "CNsPngttQRV7",
        "colab_type": "text"
      },
      "cell_type": "markdown",
      "source": [
        "We can see similar distribution of word counts, regardless of sentiment. The size difference of the  bars is likely due to the class imbalance we've observed. This could be verified by running the same plot on the trimmed data (DF3)."
      ]
    },
    {
      "metadata": {
        "id": "_o45e6H0RiP2",
        "colab_type": "code",
        "outputId": "b362948a-41cd-465c-c884-f4c9600728a5",
        "colab": {
          "base_uri": "https://localhost:8080/",
          "height": 406
        }
      },
      "cell_type": "code",
      "source": [
        "# Exploring Word Count.\n",
        "colors = color={-1: \"#e5ae38\",\n",
        "                1: '#fc4f30'}\n",
        "f, ax = plt.subplots(figsize=(8, 5))\n",
        "df3.groupby(['SA2', pd.cut(df3['word_count'], np.arange(0, 40, 5))])\\\n",
        "    .size()\\\n",
        "    .unstack(0)\\\n",
        "    .plot.bar(stacked=True, ax=ax, color=colors.values())\n",
        "#plt.subplots_adjust(top=.8)\n",
        "plt.suptitle('Sentiment and Tweet Word Count')\n",
        "plt.xlabel(\"\\nWord Count\")\n",
        "ax.legend(loc='best', frameon=True)\n",
        "plt.savefig(\"Sentiment and Word Count.png\", dpi=300)\n",
        "files.download(\"Sentiment and Word Count.png\")\n",
        "#plt.tight_layout()\n",
        "plt.show()"
      ],
      "execution_count": 15,
      "outputs": [
        {
          "output_type": "display_data",
          "data": {
            "image/png": "[encoded data removed]",
            "text/plain": [
              "<Figure size 576x360 with 1 Axes>"
            ]
          },
          "metadata": {
            "tags": []
          }
        }
      ]
    },
    {
      "metadata": {
        "id": "iqeJSdrWRxCq",
        "colab_type": "text"
      },
      "cell_type": "markdown",
      "source": [
        "Voilà! "
      ]
    },
    {
      "metadata": {
        "id": "LG2MOuMzZjSG",
        "colab_type": "code",
        "colab": {}
      },
      "cell_type": "code",
      "source": [
        "# Saving labeled and balanced DF\n",
        "df3.to_csv('clean_labeled_data.csv')\n",
        "files.download('clean_labeled_data.csv')"
      ],
      "execution_count": 0,
      "outputs": []
    }
  ]
}