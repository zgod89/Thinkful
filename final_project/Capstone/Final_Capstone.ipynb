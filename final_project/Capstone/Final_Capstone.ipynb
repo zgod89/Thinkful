{
  "nbformat": 4,
  "nbformat_minor": 0,
  "metadata": {
    "colab": {
      "name": "Final Capstone.ipynb",
      "version": "0.3.2",
      "provenance": [],
      "collapsed_sections": []
    },
    "kernelspec": {
      "name": "python3",
      "display_name": "Python 3"
    },
    "accelerator": "GPU"
  },
  "cells": [
    {
      "metadata": {
        "id": "DZfnbg7GvAUb",
        "colab_type": "text"
      },
      "cell_type": "markdown",
      "source": [
        "# **Project Goals**\n",
        "\n",
        "This project effectively aims to build a Sentiment Classifer using an LSTM Neural Network . Within that scope I have the following sub goals:\n",
        "\n",
        "\n",
        "1.   Evaluate the difference in error between an LSTM NN trained on a full tweet, and one trained on a preprocessed tweet.\n",
        "2.   Evaluate the impact of removing stop words during preprocessing.\n",
        "\n",
        "\n",
        "\n"
      ]
    },
    {
      "metadata": {
        "id": "JZMKRyWUNKhJ",
        "colab_type": "code",
        "colab": {}
      },
      "cell_type": "code",
      "source": [
        ""
      ],
      "execution_count": 0,
      "outputs": []
    },
    {
      "metadata": {
        "id": "5qWWgHIfYRFE",
        "colab_type": "text"
      },
      "cell_type": "markdown",
      "source": [
        "# **Imports**"
      ]
    },
    {
      "metadata": {
        "id": "LzhOzemg687s",
        "colab_type": "code",
        "outputId": "b277f40a-991b-4cea-857d-3ca3ccc5f9a6",
        "colab": {
          "base_uri": "https://localhost:8080/",
          "height": 339
        }
      },
      "cell_type": "code",
      "source": [
        "# sklearn analytics\n",
        "import seaborn as sns\n",
        "import matplotlib.pyplot as plt\n",
        "%matplotlib inline\n",
        "import matplotlib as mpl\n",
        "import matplotlib.cm as cm\n",
        "from sklearn import metrics\n",
        "from sklearn.metrics import classification_report\n",
        "from sklearn.metrics import roc_auc_score\n",
        "from sklearn.metrics import roc_curve\n",
        "from sklearn.metrics import precision_recall_curve\n",
        "from sklearn.metrics import f1_score\n",
        "from sklearn.metrics import precision_score, recall_score\n",
        "from sklearn.metrics import confusion_matrix\n",
        "from sklearn.model_selection import cross_val_predict\n",
        "from sklearn.model_selection import train_test_split\n",
        "from sklearn.model_selection import cross_val_score\n",
        "from sklearn.model_selection import GridSearchCV\n",
        "\n",
        "# Models\n",
        "from sklearn import cluster\n",
        "from sklearn.cluster import KMeans\n",
        "from sklearn.cluster import MiniBatchKMeans\n",
        "from sklearn.cluster import MeanShift, estimate_bandwidth\n",
        "from sklearn.cluster import SpectralClustering\n",
        "from sklearn.manifold import TSNE\n",
        "from sklearn.svm import LinearSVC\n",
        "from sklearn.naive_bayes import GaussianNB\n",
        "from sklearn.ensemble import RandomForestClassifier\n",
        "from sklearn.linear_model import LogisticRegression\n",
        "from sklearn.cluster import Birch\n",
        "\n",
        "# Text Preprocessing\n",
        "from sklearn.feature_extraction import text\n",
        "from sklearn.feature_extraction.text import TfidfVectorizer, CountVectorizer,\\\n",
        "    TfidfTransformer\n",
        "from sklearn.decomposition import TruncatedSVD\n",
        "from sklearn.preprocessing import Normalizer\n",
        "from sklearn.pipeline import make_pipeline\n",
        "\n",
        "\n",
        "# General\n",
        "import warnings\n",
        "import numpy as np\n",
        "import pandas as pd\n",
        "import nltk\n",
        "import random\n",
        "import os\n",
        "import re\n",
        "import string\n",
        "import statsmodels.api as sm\n",
        "from os import path\n",
        "from PIL import Image\n",
        "from time import time\n",
        "\n",
        "\n",
        "# NLP\n",
        "from nltk import sent_tokenize, word_tokenize\n",
        "from nltk.util import ngrams\n",
        "from nltk.stem import PorterStemmer\n",
        "from nltk.corpus import stopwords\n",
        "nltk.download('stopwords')\n",
        "nltk.download('wordnet')\n",
        "stopwords = stopwords.words('english')\n",
        "from nltk.tokenize import RegexpTokenizer\n",
        "from wordcloud import WordCloud, STOPWORDS\n",
        "from subprocess import check_output\n",
        "from collections import Counter\n",
        "import spacy\n",
        "nlp = spacy.load('en')\n",
        "\n",
        "# Set Plot Theme\n",
        "sns.set_palette([\n",
        "    \"#30a2da\",\n",
        "    \"#fc4f30\",\n",
        "    \"#e5ae38\",\n",
        "    \"#6d904f\",\n",
        "    \"#551A8B\",\n",
        "])\n",
        "\n",
        "# Warnings\n",
        "warnings.filterwarnings('ignore')\n",
        "\n",
        "from google.colab import drive, files\n",
        "drive.mount('/content/gdrive', force_remount=True)\n",
        "\n",
        "\n",
        "!pip install emoji\n",
        "import emoji\n",
        "\n",
        "from textblob import TextBlob\n",
        "\n",
        "!pip install tweet-preprocessor\n",
        "import preprocessor as p\n",
        "\n",
        "!pip install plotly\n",
        "import plotly\n",
        "\n",
        "#!pip install -q keras\n",
        "#import keras\n",
        "\n",
        "!pip install -U -q PyDrive\n",
        "from pydrive.auth import GoogleAuth\n",
        "from pydrive.drive import GoogleDrive\n",
        "from google.colab import auth\n",
        "from oauth2client.client import GoogleCredentials\n",
        "\n",
        "auth.authenticate_user()\n",
        "gauth = GoogleAuth()\n",
        "gauth.credentials = GoogleCredentials.get_application_default()\n",
        "drive = GoogleDrive(gauth)\n",
        "\n",
        "from os.path import exists\n",
        "from wheel.pep425tags import get_abbr_impl, get_impl_ver, get_abi_tag\n",
        "platform = '{}{}-{}'.format(get_abbr_impl(), get_impl_ver(), get_abi_tag())\n",
        "cuda_output = !ldconfig -p|grep cudart.so|sed -e 's/.*\\.\\([0-9]*\\)\\.\\([0-9]*\\)$/cu\\1\\2/'\n",
        "accelerator = cuda_output[0] if exists('/dev/nvidia0') else 'cpu'\n",
        "\n",
        "!pip install -q http://download.pytorch.org/whl/{accelerator}/torch-0.4.1-{platform}-linux_x86_64.whl torchvision\n",
        "import torch\n",
        "import torchvision\n",
        "\n",
        "\n",
        "# we will verify that GPU is enabled for this notebook\n",
        "# following should print: CUDA is available!  Training on GPU ...\n",
        "# \n",
        "# if it prints otherwise, then you need to enable GPU: \n",
        "# from Menu > Runtime > Change Runtime Type > Hardware Accelerator > GPU\n",
        "\n",
        "import numpy as np\n",
        "\n",
        "# check if CUDA is available\n",
        "train_on_gpu = torch.cuda.is_available()\n",
        "\n",
        "if not train_on_gpu:\n",
        "    print('CUDA is not available.  Training on CPU ...')\n",
        "else:\n",
        "    print('CUDA is available!  Training on GPU ...')"
      ],
      "execution_count": 1,
      "outputs": [
        {
          "output_type": "stream",
          "text": [
            "/usr/local/lib/python3.6/dist-packages/statsmodels/compat/pandas.py:56: FutureWarning: The pandas.core.datetools module is deprecated and will be removed in a future version. Please use the pandas.tseries module instead.\n",
            "  from pandas.core import datetools\n"
          ],
          "name": "stderr"
        },
        {
          "output_type": "stream",
          "text": [
            "[nltk_data] Downloading package stopwords to /root/nltk_data...\n",
            "[nltk_data]   Package stopwords is already up-to-date!\n",
            "[nltk_data] Downloading package wordnet to /root/nltk_data...\n",
            "[nltk_data]   Package wordnet is already up-to-date!\n",
            "Mounted at /content/gdrive\n",
            "Requirement already satisfied: emoji in /usr/local/lib/python3.6/dist-packages (0.5.1)\n",
            "Requirement already satisfied: tweet-preprocessor in /usr/local/lib/python3.6/dist-packages (0.5.0)\n",
            "Requirement already satisfied: plotly in /usr/local/lib/python3.6/dist-packages (1.12.12)\n",
            "Requirement already satisfied: requests in /usr/local/lib/python3.6/dist-packages (from plotly) (2.18.4)\n",
            "Requirement already satisfied: six in /usr/local/lib/python3.6/dist-packages (from plotly) (1.11.0)\n",
            "Requirement already satisfied: pytz in /usr/local/lib/python3.6/dist-packages (from plotly) (2018.9)\n",
            "Requirement already satisfied: chardet<3.1.0,>=3.0.2 in /usr/local/lib/python3.6/dist-packages (from requests->plotly) (3.0.4)\n",
            "Requirement already satisfied: urllib3<1.23,>=1.21.1 in /usr/local/lib/python3.6/dist-packages (from requests->plotly) (1.22)\n",
            "Requirement already satisfied: idna<2.7,>=2.5 in /usr/local/lib/python3.6/dist-packages (from requests->plotly) (2.6)\n",
            "Requirement already satisfied: certifi>=2017.4.17 in /usr/local/lib/python3.6/dist-packages (from requests->plotly) (2018.11.29)\n",
            "CUDA is available!  Training on GPU ...\n"
          ],
          "name": "stdout"
        }
      ]
    },
    {
      "metadata": {
        "id": "vn9TNLgW7GM_",
        "colab_type": "code",
        "outputId": "dc350c71-17f9-4cd0-83ee-2197c37330a6",
        "colab": {
          "base_uri": "https://localhost:8080/",
          "height": 50
        }
      },
      "cell_type": "code",
      "source": [
        "# Read and Peak at Data\n",
        "df = pd.read_csv('/content/gdrive/My Drive/Data Science/trump.csv', sep='\\t') \n",
        "\n",
        "# Extracting Missing Count and Unique Count by Column\n",
        "unique_count = []\n",
        "for x in df.columns:\n",
        "    unique_count.append([x, len(df[x].unique()), df[x].isnull().sum()])\n",
        "\n",
        "# Missing Values\n",
        "print(\"Missing Values: {}\".format(df.isnull().sum().sum()))\n",
        "\n",
        "# Data Dimensions\n",
        "print(\"Dataframe Dimension: {} Rows, {} Columns\".format(*df.shape))\n",
        "\n",
        "# Convert to tweet to string\n",
        "df['tweet'] = df['tweet'].astype(str)\n",
        "\n",
        "# Create New Variables:\n",
        "# Word Length\n",
        "df[\"word_count\"] = df['tweet'].str.split().apply(len)\n",
        "# Character Length\n",
        "df[\"character_count\"] = df['tweet'].apply(len)"
      ],
      "execution_count": 2,
      "outputs": [
        {
          "output_type": "stream",
          "text": [
            "Missing Values: 184956\n",
            "Dataframe Dimension: 430228 Rows, 5 Columns\n"
          ],
          "name": "stdout"
        }
      ]
    },
    {
      "metadata": {
        "id": "TCxrDwKIP3sh",
        "colab_type": "code",
        "outputId": "5ad8ef7d-8b0f-47a0-f518-0d813ed05628",
        "colab": {
          "base_uri": "https://localhost:8080/",
          "height": 450
        }
      },
      "cell_type": "code",
      "source": [
        "df.head()"
      ],
      "execution_count": 3,
      "outputs": [
        {
          "output_type": "execute_result",
          "data": {
            "text/html": [
              "<div>\n",
              "<style scoped>\n",
              "    .dataframe tbody tr th:only-of-type {\n",
              "        vertical-align: middle;\n",
              "    }\n",
              "\n",
              "    .dataframe tbody tr th {\n",
              "        vertical-align: top;\n",
              "    }\n",
              "\n",
              "    .dataframe thead th {\n",
              "        text-align: right;\n",
              "    }\n",
              "</style>\n",
              "<table border=\"1\" class=\"dataframe\">\n",
              "  <thead>\n",
              "    <tr style=\"text-align: right;\">\n",
              "      <th></th>\n",
              "      <th>time</th>\n",
              "      <th>tweet</th>\n",
              "      <th>id</th>\n",
              "      <th>username</th>\n",
              "      <th>location</th>\n",
              "      <th>word_count</th>\n",
              "      <th>character_count</th>\n",
              "    </tr>\n",
              "  </thead>\n",
              "  <tbody>\n",
              "    <tr>\n",
              "      <th>0</th>\n",
              "      <td>1547856694.7658603</td>\n",
              "      <td>'RT @SethAbramson: In case you missed it: what...</td>\n",
              "      <td>79549</td>\n",
              "      <td>SmithEckert13</td>\n",
              "      <td>Fort Wayne, IN</td>\n",
              "      <td>25</td>\n",
              "      <td>155</td>\n",
              "    </tr>\n",
              "    <tr>\n",
              "      <th>1</th>\n",
              "      <td>1547856694.7953787</td>\n",
              "      <td>'RT @RonWyden: Incredible. More luxury travel ...</td>\n",
              "      <td>79550</td>\n",
              "      <td>QueenTAG</td>\n",
              "      <td>Scotts Valley, CA</td>\n",
              "      <td>22</td>\n",
              "      <td>149</td>\n",
              "    </tr>\n",
              "    <tr>\n",
              "      <th>2</th>\n",
              "      <td>1547856694.8134415</td>\n",
              "      <td>'President Trump Directed Michael Cohen To Lie...</td>\n",
              "      <td>79551</td>\n",
              "      <td>vkrgz</td>\n",
              "      <td>Dünyanın içinden</td>\n",
              "      <td>16</td>\n",
              "      <td>125</td>\n",
              "    </tr>\n",
              "    <tr>\n",
              "      <th>3</th>\n",
              "      <td>1547856694.8526797</td>\n",
              "      <td>'RT @TeaPainUSA: Tea would wager that Trump in...</td>\n",
              "      <td>79552</td>\n",
              "      <td>ChazGohVan</td>\n",
              "      <td>Jupiter UNIVERSE</td>\n",
              "      <td>26</td>\n",
              "      <td>147</td>\n",
              "    </tr>\n",
              "    <tr>\n",
              "      <th>4</th>\n",
              "      <td>1547856694.904921</td>\n",
              "      <td>'RT @BruceBartlett: There is one person in Ame...</td>\n",
              "      <td>79553</td>\n",
              "      <td>JudyPrincz</td>\n",
              "      <td>Manhattan, NY</td>\n",
              "      <td>24</td>\n",
              "      <td>147</td>\n",
              "    </tr>\n",
              "  </tbody>\n",
              "</table>\n",
              "</div>"
            ],
            "text/plain": [
              "                 time                                              tweet  \\\n",
              "0  1547856694.7658603  'RT @SethAbramson: In case you missed it: what...   \n",
              "1  1547856694.7953787  'RT @RonWyden: Incredible. More luxury travel ...   \n",
              "2  1547856694.8134415  'President Trump Directed Michael Cohen To Lie...   \n",
              "3  1547856694.8526797  'RT @TeaPainUSA: Tea would wager that Trump in...   \n",
              "4   1547856694.904921  'RT @BruceBartlett: There is one person in Ame...   \n",
              "\n",
              "      id       username           location  word_count  character_count  \n",
              "0  79549  SmithEckert13     Fort Wayne, IN          25              155  \n",
              "1  79550       QueenTAG  Scotts Valley, CA          22              149  \n",
              "2  79551          vkrgz   Dünyanın içinden          16              125  \n",
              "3  79552     ChazGohVan   Jupiter UNIVERSE          26              147  \n",
              "4  79553     JudyPrincz      Manhattan, NY          24              147  "
            ]
          },
          "metadata": {
            "tags": []
          },
          "execution_count": 3
        }
      ]
    },
    {
      "metadata": {
        "id": "hkodBHkYA4Q2",
        "colab_type": "code",
        "outputId": "af383394-00dd-488d-c16c-a712106a3741",
        "colab": {
          "base_uri": "https://localhost:8080/",
          "height": 284
        }
      },
      "cell_type": "code",
      "source": [
        "df.describe()"
      ],
      "execution_count": 4,
      "outputs": [
        {
          "output_type": "execute_result",
          "data": {
            "text/html": [
              "<div>\n",
              "<style scoped>\n",
              "    .dataframe tbody tr th:only-of-type {\n",
              "        vertical-align: middle;\n",
              "    }\n",
              "\n",
              "    .dataframe tbody tr th {\n",
              "        vertical-align: top;\n",
              "    }\n",
              "\n",
              "    .dataframe thead th {\n",
              "        text-align: right;\n",
              "    }\n",
              "</style>\n",
              "<table border=\"1\" class=\"dataframe\">\n",
              "  <thead>\n",
              "    <tr style=\"text-align: right;\">\n",
              "      <th></th>\n",
              "      <th>word_count</th>\n",
              "      <th>character_count</th>\n",
              "    </tr>\n",
              "  </thead>\n",
              "  <tbody>\n",
              "    <tr>\n",
              "      <th>count</th>\n",
              "      <td>430228.000000</td>\n",
              "      <td>430228.000000</td>\n",
              "    </tr>\n",
              "    <tr>\n",
              "      <th>mean</th>\n",
              "      <td>18.674238</td>\n",
              "      <td>122.972138</td>\n",
              "    </tr>\n",
              "    <tr>\n",
              "      <th>std</th>\n",
              "      <td>6.134861</td>\n",
              "      <td>33.739280</td>\n",
              "    </tr>\n",
              "    <tr>\n",
              "      <th>min</th>\n",
              "      <td>1.000000</td>\n",
              "      <td>1.000000</td>\n",
              "    </tr>\n",
              "    <tr>\n",
              "      <th>25%</th>\n",
              "      <td>16.000000</td>\n",
              "      <td>122.000000</td>\n",
              "    </tr>\n",
              "    <tr>\n",
              "      <th>50%</th>\n",
              "      <td>20.000000</td>\n",
              "      <td>140.000000</td>\n",
              "    </tr>\n",
              "    <tr>\n",
              "      <th>75%</th>\n",
              "      <td>23.000000</td>\n",
              "      <td>140.000000</td>\n",
              "    </tr>\n",
              "    <tr>\n",
              "      <th>max</th>\n",
              "      <td>37.000000</td>\n",
              "      <td>258.000000</td>\n",
              "    </tr>\n",
              "  </tbody>\n",
              "</table>\n",
              "</div>"
            ],
            "text/plain": [
              "          word_count  character_count\n",
              "count  430228.000000    430228.000000\n",
              "mean       18.674238       122.972138\n",
              "std         6.134861        33.739280\n",
              "min         1.000000         1.000000\n",
              "25%        16.000000       122.000000\n",
              "50%        20.000000       140.000000\n",
              "75%        23.000000       140.000000\n",
              "max        37.000000       258.000000"
            ]
          },
          "metadata": {
            "tags": []
          },
          "execution_count": 4
        }
      ]
    },
    {
      "metadata": {
        "id": "-ApQWoqeUV0-",
        "colab_type": "code",
        "outputId": "095ecf3c-8079-4e22-b034-5ad4b17ec00a",
        "colab": {
          "base_uri": "https://localhost:8080/",
          "height": 54
        }
      },
      "cell_type": "code",
      "source": [
        "df.tweet[5000]"
      ],
      "execution_count": 5,
      "outputs": [
        {
          "output_type": "execute_result",
          "data": {
            "text/plain": [
              "'RT @Chef_Epsimos: @shannonrwatts Everyone should start tweeting trump #PresidentPelosi'"
            ]
          },
          "metadata": {
            "tags": []
          },
          "execution_count": 5
        }
      ]
    },
    {
      "metadata": {
        "id": "feteuzh0YGP-",
        "colab_type": "text"
      },
      "cell_type": "markdown",
      "source": [
        "# **Data Cleaning**"
      ]
    },
    {
      "metadata": {
        "id": "9ssbbPcxBqbj",
        "colab_type": "code",
        "outputId": "373f5463-8add-4937-c82d-79b5b42d85e2",
        "colab": {
          "base_uri": "https://localhost:8080/",
          "height": 363
        }
      },
      "cell_type": "code",
      "source": [
        "\n",
        "# Importing SKLearn's list of stopwords and \n",
        "# then appending with my own words\n",
        "stop = text.ENGLISH_STOP_WORDS\n",
        "      \n",
        "# Basic text cleaning function that also removes stopwords\n",
        "def remove_noise(text):\n",
        "\n",
        "    # Remove Mentions\n",
        "   # text = text.apply(lambda x: re.compile('\\#').sub('', re.compile(\n",
        "        #'RT @').sub('@', x, count=1).strip()))\n",
        "    \n",
        "    # Remove URLs\n",
        "    text = text.str.replace('https?://[A-Za-z0-9./]+','')\n",
        "    \n",
        "    # Keep Hashtag text\n",
        "    text = text.str.replace(\"[^a-zA-Z]\", \" \")\n",
        "    \n",
        "    # Make lowercase\n",
        "    text = text.apply(lambda x: \" \".join(x.lower() for x in x.split()))\n",
        "\n",
        "    # Remove whitespaces\n",
        "    text = text.apply(lambda x: \" \".join(x.strip() for x in x.split()))\n",
        "\n",
        "    # Remove special characters\n",
        "    text = text.apply(lambda x: \"\".join(\n",
        "        [\" \" if ord(i) < 32 or ord(i) > 126 else i for i in x]))\n",
        "\n",
        "    # Remove punctuation\n",
        "    text = text.str.replace('[^\\w\\s]', '')\n",
        "\n",
        "    # Remove numbers\n",
        "    text = text.str.replace('\\d+', '')\n",
        "\n",
        "    # Remove Stopwords\n",
        "    text = text.apply(lambda x: ' '.join(\n",
        "        [word for word in x.split() if word not in (stop)]))\n",
        "\n",
        "    # Convert to string\n",
        "    text = text.astype(str)\n",
        "\n",
        "    return text\n",
        "   \n",
        "# Function to remove RT @user\n",
        "def remove_pattern(input_txt, pattern):\n",
        "    r = re.findall(pattern, input_txt)\n",
        "    for i in r:\n",
        "        input_txt = re.sub(i, '', input_txt)\n",
        "        \n",
        "    return input_txt  \n",
        "  \n",
        "\n",
        "# remove  RT: @user\n",
        "df['filtered_tweet'] = np.vectorize(\n",
        "    remove_pattern)(df['tweet'], \"RT @[\\w]*\")\n",
        "\n",
        "# Apply cleaner function\n",
        "df['filtered_tweet'] = remove_noise(df['filtered_tweet'])\n",
        "\n",
        "df = df.drop(['time', 'id', 'username', 'location'], axis=1)\n",
        "df.head(5)"
      ],
      "execution_count": 6,
      "outputs": [
        {
          "output_type": "execute_result",
          "data": {
            "text/html": [
              "<div>\n",
              "<style scoped>\n",
              "    .dataframe tbody tr th:only-of-type {\n",
              "        vertical-align: middle;\n",
              "    }\n",
              "\n",
              "    .dataframe tbody tr th {\n",
              "        vertical-align: top;\n",
              "    }\n",
              "\n",
              "    .dataframe thead th {\n",
              "        text-align: right;\n",
              "    }\n",
              "</style>\n",
              "<table border=\"1\" class=\"dataframe\">\n",
              "  <thead>\n",
              "    <tr style=\"text-align: right;\">\n",
              "      <th></th>\n",
              "      <th>tweet</th>\n",
              "      <th>word_count</th>\n",
              "      <th>character_count</th>\n",
              "      <th>filtered_tweet</th>\n",
              "    </tr>\n",
              "  </thead>\n",
              "  <tbody>\n",
              "    <tr>\n",
              "      <th>0</th>\n",
              "      <td>'RT @SethAbramson: In case you missed it: what...</td>\n",
              "      <td>25</td>\n",
              "      <td>155</td>\n",
              "      <td>case missed fuss tonight retweet think followe...</td>\n",
              "    </tr>\n",
              "    <tr>\n",
              "      <th>1</th>\n",
              "      <td>'RT @RonWyden: Incredible. More luxury travel ...</td>\n",
              "      <td>22</td>\n",
              "      <td>149</td>\n",
              "      <td>incredible luxury travel trump administration ...</td>\n",
              "    </tr>\n",
              "    <tr>\n",
              "      <th>2</th>\n",
              "      <td>'President Trump Directed Michael Cohen To Lie...</td>\n",
              "      <td>16</td>\n",
              "      <td>125</td>\n",
              "      <td>president trump directed michael cohen lie con...</td>\n",
              "    </tr>\n",
              "    <tr>\n",
              "      <th>3</th>\n",
              "      <td>'RT @TeaPainUSA: Tea would wager that Trump in...</td>\n",
              "      <td>26</td>\n",
              "      <td>147</td>\n",
              "      <td>tea wager trump instructed folks lie congress ...</td>\n",
              "    </tr>\n",
              "    <tr>\n",
              "      <th>4</th>\n",
              "      <td>'RT @BruceBartlett: There is one person in Ame...</td>\n",
              "      <td>24</td>\n",
              "      <td>147</td>\n",
              "      <td>person america trump chose rupert murdoch medi...</td>\n",
              "    </tr>\n",
              "  </tbody>\n",
              "</table>\n",
              "</div>"
            ],
            "text/plain": [
              "                                               tweet  word_count  \\\n",
              "0  'RT @SethAbramson: In case you missed it: what...          25   \n",
              "1  'RT @RonWyden: Incredible. More luxury travel ...          22   \n",
              "2  'President Trump Directed Michael Cohen To Lie...          16   \n",
              "3  'RT @TeaPainUSA: Tea would wager that Trump in...          26   \n",
              "4  'RT @BruceBartlett: There is one person in Ame...          24   \n",
              "\n",
              "   character_count                                     filtered_tweet  \n",
              "0              155  case missed fuss tonight retweet think followe...  \n",
              "1              149  incredible luxury travel trump administration ...  \n",
              "2              125  president trump directed michael cohen lie con...  \n",
              "3              147  tea wager trump instructed folks lie congress ...  \n",
              "4              147  person america trump chose rupert murdoch medi...  "
            ]
          },
          "metadata": {
            "tags": []
          },
          "execution_count": 6
        }
      ]
    },
    {
      "metadata": {
        "id": "LqyQtNTFjAT8",
        "colab_type": "code",
        "colab": {}
      },
      "cell_type": "code",
      "source": [
        "#Second Cleaning Function that keeps stopwords\n",
        "def extract_text(text):\n",
        "    \n",
        "    # Convert to string\n",
        "    text = text.astype(str)\n",
        "    \n",
        "    # Remove URLs\n",
        "    text = text.str.replace('https?://[A-Za-z0-9./]+','')\n",
        "    \n",
        "    # Keep Hashtag text\n",
        "    text = text.str.replace(\"[^a-zA-Z]\", \" \")\n",
        "    \n",
        "    # Make lowercase\n",
        "    text = text.apply(lambda x: \" \".join(x.lower() for x in x.split()))\n",
        "\n",
        "    # Remove whitespaces\n",
        "    text = text.apply(lambda x: \" \".join(x.strip() for x in x.split()))\n",
        "\n",
        "    # Remove special characters\n",
        "    text = text.apply(lambda x: \"\".join(\n",
        "        [\" \" if ord(i) < 32 or ord(i) > 126 else i for i in x]))\n",
        "\n",
        "    # Remove punctuation\n",
        "    text = text.str.replace('[^\\w\\s]', '')\n",
        "\n",
        "    # Remove numbers\n",
        "    text = text.str.replace('\\d+', '')\n",
        "    \n",
        "    #Remove 1-2 letter clutter remnants\n",
        "    text = text.apply(lambda x: re.sub(r'\\b\\w{1,2}\\b', '', x))\n",
        "\n",
        "    return text\n",
        "\n",
        "# remove  RT: @user\n",
        "df['clean'] = np.vectorize(remove_pattern)(df['tweet'], \"RT @[\\w]*\")\n",
        "\n",
        "\n",
        "# Applying function to data\n",
        "df['clean'] = extract_text(df['clean'])\n"
      ],
      "execution_count": 0,
      "outputs": []
    },
    {
      "metadata": {
        "id": "Q6ta89cekQHI",
        "colab_type": "code",
        "outputId": "a07395c8-df08-4e4b-e380-9878a4a7cebf",
        "colab": {
          "base_uri": "https://localhost:8080/",
          "height": 70
        }
      },
      "cell_type": "code",
      "source": [
        "print(df.tweet[5])\n",
        "print(df.clean[5])"
      ],
      "execution_count": 8,
      "outputs": [
        {
          "output_type": "stream",
          "text": [
            "'RT @cher: trump\\u2019s A CROOK &amp; LIAR,IF HE WAS THE HEAD OF ANY COMPANY HE WOULD BE FIRED.THE IMMEDIATE CRISIS, \\n800,000.00 PPL ARE LOSING THE L\\u2026'\n",
            "trump    crook amp liar   was the head  any company  would  fired the immediate crisis  ppl are losing the  \n"
          ],
          "name": "stdout"
        }
      ]
    },
    {
      "metadata": {
        "id": "ia7EGocDtVOK",
        "colab_type": "text"
      },
      "cell_type": "markdown",
      "source": [
        "# Sentiment Labelling\n",
        "\n",
        "The sentiment property of Texblob returns a namedtuple of the form Sentiment(polarity, subjectivity). The polarity score is a float within the range [-1.0, 1.0]. We will use this to label tweets as positive, neutral, or negative. \n",
        "\n",
        "I will label anything with a polarity of exactly zero as neutral and remove the data rows with that label, leaving only polar data points. Then we can see if this method of labeling works for training a classifier."
      ]
    },
    {
      "metadata": {
        "id": "abs7wBFWOT91",
        "colab_type": "code",
        "outputId": "e3d0e838-0d95-4069-edd8-87b0e3e79ba9",
        "colab": {
          "base_uri": "https://localhost:8080/",
          "height": 313
        }
      },
      "cell_type": "code",
      "source": [
        "def analyze_sentiment(tweet):\n",
        "    '''\n",
        "    Utility function to classify the polarity of a tweet\n",
        "    using textblob.\n",
        "    '''\n",
        "    analysis = TextBlob(tweet)\n",
        "    if analysis.sentiment.polarity > 0:\n",
        "        return 1\n",
        "    elif analysis.sentiment.polarity == 0:\n",
        "        return 0\n",
        "    else:\n",
        "        return -1\n",
        "\n",
        "# Create a column with the result of the analysis:\n",
        "df['SA'] = np.array(\n",
        "    [analyze_sentiment(tweet) for tweet in df['filtered_tweet']])\n",
        "\n",
        "df['SA2'] = np.array(\n",
        "    [analyze_sentiment(tweet) for tweet in df['clean']])\n",
        "\n",
        "df.head()"
      ],
      "execution_count": 9,
      "outputs": [
        {
          "output_type": "execute_result",
          "data": {
            "text/html": [
              "<div>\n",
              "<style scoped>\n",
              "    .dataframe tbody tr th:only-of-type {\n",
              "        vertical-align: middle;\n",
              "    }\n",
              "\n",
              "    .dataframe tbody tr th {\n",
              "        vertical-align: top;\n",
              "    }\n",
              "\n",
              "    .dataframe thead th {\n",
              "        text-align: right;\n",
              "    }\n",
              "</style>\n",
              "<table border=\"1\" class=\"dataframe\">\n",
              "  <thead>\n",
              "    <tr style=\"text-align: right;\">\n",
              "      <th></th>\n",
              "      <th>tweet</th>\n",
              "      <th>word_count</th>\n",
              "      <th>character_count</th>\n",
              "      <th>filtered_tweet</th>\n",
              "      <th>clean</th>\n",
              "      <th>SA</th>\n",
              "      <th>SA2</th>\n",
              "    </tr>\n",
              "  </thead>\n",
              "  <tbody>\n",
              "    <tr>\n",
              "      <th>0</th>\n",
              "      <td>'RT @SethAbramson: In case you missed it: what...</td>\n",
              "      <td>25</td>\n",
              "      <td>155</td>\n",
              "      <td>case missed fuss tonight retweet think followe...</td>\n",
              "      <td>case you missed  what all the fuss  about ton...</td>\n",
              "      <td>0</td>\n",
              "      <td>0</td>\n",
              "    </tr>\n",
              "    <tr>\n",
              "      <th>1</th>\n",
              "      <td>'RT @RonWyden: Incredible. More luxury travel ...</td>\n",
              "      <td>22</td>\n",
              "      <td>149</td>\n",
              "      <td>incredible luxury travel trump administration ...</td>\n",
              "      <td>incredible more luxury travel from the trump a...</td>\n",
              "      <td>1</td>\n",
              "      <td>1</td>\n",
              "    </tr>\n",
              "    <tr>\n",
              "      <th>2</th>\n",
              "      <td>'President Trump Directed Michael Cohen To Lie...</td>\n",
              "      <td>16</td>\n",
              "      <td>125</td>\n",
              "      <td>president trump directed michael cohen lie con...</td>\n",
              "      <td>president trump directed michael cohen  lie  c...</td>\n",
              "      <td>0</td>\n",
              "      <td>0</td>\n",
              "    </tr>\n",
              "    <tr>\n",
              "      <th>3</th>\n",
              "      <td>'RT @TeaPainUSA: Tea would wager that Trump in...</td>\n",
              "      <td>26</td>\n",
              "      <td>147</td>\n",
              "      <td>tea wager trump instructed folks lie congress ...</td>\n",
              "      <td>tea would wager that trump instructed all his ...</td>\n",
              "      <td>0</td>\n",
              "      <td>-1</td>\n",
              "    </tr>\n",
              "    <tr>\n",
              "      <th>4</th>\n",
              "      <td>'RT @BruceBartlett: There is one person in Ame...</td>\n",
              "      <td>24</td>\n",
              "      <td>147</td>\n",
              "      <td>person america trump chose rupert murdoch medi...</td>\n",
              "      <td>there  one person  america who could  somethin...</td>\n",
              "      <td>0</td>\n",
              "      <td>0</td>\n",
              "    </tr>\n",
              "  </tbody>\n",
              "</table>\n",
              "</div>"
            ],
            "text/plain": [
              "                                               tweet  word_count  \\\n",
              "0  'RT @SethAbramson: In case you missed it: what...          25   \n",
              "1  'RT @RonWyden: Incredible. More luxury travel ...          22   \n",
              "2  'President Trump Directed Michael Cohen To Lie...          16   \n",
              "3  'RT @TeaPainUSA: Tea would wager that Trump in...          26   \n",
              "4  'RT @BruceBartlett: There is one person in Ame...          24   \n",
              "\n",
              "   character_count                                     filtered_tweet  \\\n",
              "0              155  case missed fuss tonight retweet think followe...   \n",
              "1              149  incredible luxury travel trump administration ...   \n",
              "2              125  president trump directed michael cohen lie con...   \n",
              "3              147  tea wager trump instructed folks lie congress ...   \n",
              "4              147  person america trump chose rupert murdoch medi...   \n",
              "\n",
              "                                               clean  SA  SA2  \n",
              "0   case you missed  what all the fuss  about ton...   0    0  \n",
              "1  incredible more luxury travel from the trump a...   1    1  \n",
              "2  president trump directed michael cohen  lie  c...   0    0  \n",
              "3  tea would wager that trump instructed all his ...   0   -1  \n",
              "4  there  one person  america who could  somethin...   0    0  "
            ]
          },
          "metadata": {
            "tags": []
          },
          "execution_count": 9
        }
      ]
    },
    {
      "metadata": {
        "id": "qzAHLSAsVMwi",
        "colab_type": "code",
        "outputId": "ad1fd354-e13c-467d-c354-1278583a4df7",
        "colab": {
          "base_uri": "https://localhost:8080/",
          "height": 54
        }
      },
      "cell_type": "code",
      "source": [
        "print(df.tweet[3])"
      ],
      "execution_count": 10,
      "outputs": [
        {
          "output_type": "stream",
          "text": [
            "'RT @TeaPainUSA: Tea would wager that Trump instructed all his folks to lie to Congress because he knew Nunes and his other GOP imps and dem\\u2026'\n"
          ],
          "name": "stdout"
        }
      ]
    },
    {
      "metadata": {
        "id": "N7K_0QmLwLum",
        "colab_type": "text"
      },
      "cell_type": "markdown",
      "source": [
        "Looking at the Tweet at index 3 we can see there is a polarity differnce between the filtered tweet and the clean tweet. This could mean that stop words impact the way Textblob assess polarity. \n",
        "\n",
        "Intuitively I would call this tweet negative as it is objectively critical. As such, I'll use the SA2 variable as my label.\n",
        "\n",
        "I'm going to drop all the neutral tweets since I'm interetsed in binary sentiment classification."
      ]
    },
    {
      "metadata": {
        "id": "tk7z-5m803IR",
        "colab_type": "code",
        "outputId": "cf032771-2a93-4e8f-a689-611fea4a2e10",
        "colab": {
          "base_uri": "https://localhost:8080/",
          "height": 118
        }
      },
      "cell_type": "code",
      "source": [
        "# Make a copy of the data frame for later, and dropping neutral tweets\n",
        "df2 = df[df.SA2 != 0]\n",
        "\n",
        "# Dropping neutral tweets\n",
        "df = df[df.SA != 0]\n",
        "\n",
        "print('DF has {} rows.'.format(len(df)))\n",
        "print('DF2 has {} rows.'.format(len(df2)))\n",
        "print('\\n')\n",
        "print('DF2 has {} negative comments.'.format(\n",
        "    (df2.SA2 != 0).sum()))\n",
        "print('DF2 has {} positive comments.'.format(\n",
        "    (df2.SA2 != 1).sum()))\n",
        "\n"
      ],
      "execution_count": 11,
      "outputs": [
        {
          "output_type": "stream",
          "text": [
            "DF has 238014 rows.\n",
            "DF2 has 257218 rows.\n",
            "\n",
            "\n",
            "DF2 has 257218 negative comments.\n",
            "DF2 has 93343 positive comments.\n"
          ],
          "name": "stdout"
        }
      ]
    },
    {
      "metadata": {
        "id": "XqcbrVTrNDO_",
        "colab_type": "text"
      },
      "cell_type": "markdown",
      "source": [
        "# **Supervised EDA**"
      ]
    },
    {
      "metadata": {
        "id": "E9ZfUNjLT2Y4",
        "colab_type": "text"
      },
      "cell_type": "markdown",
      "source": [
        "First I'm going to do some data organization and trimming to build data frame copies for later. EDA will mostly focus on the full, imbalanced data set."
      ]
    },
    {
      "metadata": {
        "id": "rI52do4WPbY8",
        "colab_type": "code",
        "outputId": "4fd2f27a-e668-4ae1-e4ee-4adba70ee746",
        "colab": {
          "base_uri": "https://localhost:8080/",
          "height": 1013
        }
      },
      "cell_type": "code",
      "source": [
        "# Removed data to give even batch sizes DF\n",
        "remove_n = len(df)%50\n",
        "drop_indices = np.random.choice(df.index, remove_n, replace=False)\n",
        "df = df.drop(drop_indices)\n",
        "\n",
        "# Plot the label classes\n",
        "fig = plt.figure(figsize=(8,5))\n",
        "ax = sns.barplot(x=df.SA.unique(),y=df.SA.value_counts());\n",
        "ax.set(xlabel='Labels')\n",
        "ax.set_title('DF Class Balance')\n",
        "\n",
        "# Removed data to give even batch sizes DF2\n",
        "remove_n = len(df2)%50\n",
        "drop_indices2 = np.random.choice(df2.index, remove_n, replace=False)\n",
        "df2 = df2.drop(drop_indices2)\n",
        "\n",
        "# Plot the label classes\n",
        "fig = plt.figure(figsize=(8,5))\n",
        "ax = sns.barplot(x=df2.SA2.unique(),y=df2.SA2.value_counts());\n",
        "ax.set(xlabel='Labels')\n",
        "ax.set_title('DF2 Class Balance')\n",
        "plt.savefig('Imbalanced.png')\n",
        "#files.download('Imbalanced.png')\n",
        "\n",
        "#Define DF Copy to Reduce and set len\n",
        "#for each class equal to len og minority class\n",
        "df3 = pd.concat(g.sample(87155) for idx, g in df2.groupby('SA2'))\n",
        "df3 = df3.sample(frac=1)\n",
        "\n",
        "# Removed data to give even batch sizes DF3\n",
        "remove_n = len(df3)%50\n",
        "drop_indices3 = np.random.choice(df3.index, remove_n, replace=False)\n",
        "df3 = df3.drop(drop_indices3)\n",
        "\n",
        "# Plot the label classes\n",
        "fig = plt.figure(figsize=(8,5))\n",
        "ax = sns.barplot(x=df3.SA2.unique(),y=df3.SA2.value_counts());\n",
        "ax.set(xlabel='Labels')\n",
        "ax.set_title('DF3 Class Balance')\n",
        "\n",
        "plt.savefig('Balanced.png')\n",
        "#files.download('Balancing.png')\n",
        "plt.show()"
      ],
      "execution_count": 12,
      "outputs": [
        {
          "output_type": "display_data",
          "data": {
            "image/png": "[encoded data removed]",
            "text/plain": [
              "<Figure size 576x360 with 1 Axes>"
            ]
          },
          "metadata": {
            "tags": []
          }
        },
        {
          "output_type": "display_data",
          "data": {
            "image/png": "[encoded data removed]",
            "text/plain": [
              "<Figure size 576x360 with 1 Axes>"
            ]
          },
          "metadata": {
            "tags": []
          }
        },
        {
          "output_type": "display_data",
          "data": {
            "image/png": "[encoded data removed]",
            "text/plain": [
              "<Figure size 576x360 with 1 Axes>"
            ]
          },
          "metadata": {
            "tags": []
          }
        }
      ]
    },
    {
      "metadata": {
        "id": "k4jevNDl4-jy",
        "colab_type": "code",
        "outputId": "14a6e496-f577-41b1-9998-bcb7db434634",
        "colab": {
          "base_uri": "https://localhost:8080/",
          "height": 374
        }
      },
      "cell_type": "code",
      "source": [
        "# Exploring tweet word count\n",
        "z = df3.groupby(by=['word_count'], as_index=False).count(\n",
        ").sort_values(by='SA2', ascending=False)\n",
        "\n",
        "plt.figure(figsize=(8, 5))\n",
        "sns.set_style(\"whitegrid\")\n",
        "ax = sns.barplot(x=z['word_count'], y=z['SA2'], data=z)\n",
        "plt.xlabel(\"\\nWord Count\")\n",
        "plt.ylabel(\"Count\")\n",
        "plt.title(\"Tweet Counts By Word Length\\n\")\n",
        "plt.savefig(\"Counts By Word Length.png\", dpi=300)\n",
        "#files.download(\"Counts By Word Length.png\")\n",
        "plt.show()"
      ],
      "execution_count": 13,
      "outputs": [
        {
          "output_type": "display_data",
          "data": {
            "image/png": "[encoded data removed]",
            "text/plain": [
              "<Figure size 576x360 with 1 Axes>"
            ]
          },
          "metadata": {
            "tags": []
          }
        }
      ]
    },
    {
      "metadata": {
        "id": "8KZnsCwCONl3",
        "colab_type": "code",
        "outputId": "ef7ca096-9220-4c99-94a2-b010c3ea2a60",
        "colab": {
          "base_uri": "https://localhost:8080/",
          "height": 406
        }
      },
      "cell_type": "code",
      "source": [
        "# Exploring Word Count.\n",
        "colors = color={-1: \"#e5ae38\",\n",
        "                0: '#30a2da',\n",
        "                1: '#fc4f30'}\n",
        "f, ax = plt.subplots(figsize=(8, 5))\n",
        "df.groupby(['SA2', pd.cut(df['word_count'], np.arange(0, 40, 5))])\\\n",
        "    .size()\\\n",
        "    .unstack(0)\\\n",
        "    .plot.bar(stacked=True, ax=ax, color=colors.values())\n",
        "#plt.subplots_adjust(top=.8)\n",
        "plt.suptitle('Sentiment and Tweet Word Count')\n",
        "plt.xlabel(\"\\nWord Count\")\n",
        "ax.legend(loc='best', frameon=True)\n",
        "#plt.savefig(\"Sentiment and Word Count.png\")\n",
        "#files.download(\"Sentiment and Word Count.png\")\n",
        "#plt.tight_layout()\n",
        "plt.show()"
      ],
      "execution_count": 14,
      "outputs": [
        {
          "output_type": "display_data",
          "data": {
            "image/png": "[encoded data removed]",
            "text/plain": [
              "<Figure size 576x360 with 1 Axes>"
            ]
          },
          "metadata": {
            "tags": []
          }
        }
      ]
    },
    {
      "metadata": {
        "id": "CNsPngttQRV7",
        "colab_type": "text"
      },
      "cell_type": "markdown",
      "source": [
        "We can see similar distribution of word counts, regardless of sentiment. The size difference of the  bars is likely due to the class imbalance we've observed. This could be verified by running the same plot on the trimmed data (DF3)."
      ]
    },
    {
      "metadata": {
        "id": "_o45e6H0RiP2",
        "colab_type": "code",
        "outputId": "6e4790f1-8232-4010-9ab2-6810a4984f19",
        "colab": {
          "base_uri": "https://localhost:8080/",
          "height": 406
        }
      },
      "cell_type": "code",
      "source": [
        "# Exploring Word Count.\n",
        "colors = color={-1: \"#e5ae38\",\n",
        "                1: '#fc4f30'}\n",
        "f, ax = plt.subplots(figsize=(8, 5))\n",
        "df3.groupby(['SA2', pd.cut(df3['word_count'], np.arange(0, 40, 5))])\\\n",
        "    .size()\\\n",
        "    .unstack(0)\\\n",
        "    .plot.bar(stacked=True, ax=ax, color=colors.values())\n",
        "#plt.subplots_adjust(top=.8)\n",
        "plt.suptitle('Sentiment and Tweet Word Count')\n",
        "plt.xlabel(\"\\nWord Count\")\n",
        "ax.legend(loc='best', frameon=True)\n",
        "plt.savefig(\"Sentiment and Word Count.png\", dpi=300)\n",
        "#files.download(\"Sentiment and Word Count.png\")\n",
        "#plt.tight_layout()\n",
        "plt.show()"
      ],
      "execution_count": 15,
      "outputs": [
        {
          "output_type": "display_data",
          "data": {
            "image/png": "[encoded data removed]",
            "text/plain": [
              "<Figure size 576x360 with 1 Axes>"
            ]
          },
          "metadata": {
            "tags": []
          }
        }
      ]
    },
    {
      "metadata": {
        "id": "iqeJSdrWRxCq",
        "colab_type": "text"
      },
      "cell_type": "markdown",
      "source": [
        "Voilà! "
      ]
    },
    {
      "metadata": {
        "id": "gi7HVw6_DpSU",
        "colab_type": "text"
      },
      "cell_type": "markdown",
      "source": [
        "# **Unsupervised EDA**\n",
        "\n",
        "## **TF-IDF**"
      ]
    },
    {
      "metadata": {
        "id": "Fk6hjpGETECa",
        "colab_type": "code",
        "outputId": "ff5e8100-d6c5-41a5-fdc4-5462b8627c76",
        "colab": {
          "base_uri": "https://localhost:8080/",
          "height": 34
        }
      },
      "cell_type": "code",
      "source": [
        "# convert column of sentiment to list of ints\n",
        "all_sent = df3.SA2.astype(int).values.tolist()\n",
        "\n",
        "# 1=positive, 0=negative label conversion\n",
        "#sent_split = sent_split('\\n')\n",
        "encoded_labels = np.array(\n",
        "    [1 if sent == 1 else 0 for sent in all_sent])\n",
        "\n",
        "\n",
        "encoded_labels[:10]"
      ],
      "execution_count": 16,
      "outputs": [
        {
          "output_type": "execute_result",
          "data": {
            "text/plain": [
              "array([0, 1, 0, 1, 0, 1, 1, 0, 0, 1])"
            ]
          },
          "metadata": {
            "tags": []
          },
          "execution_count": 16
        }
      ]
    },
    {
      "metadata": {
        "id": "8ao5FO9uMb_F",
        "colab_type": "code",
        "outputId": "c0acbd64-5ee0-40b1-9a68-ded987f4e090",
        "colab": {
          "base_uri": "https://localhost:8080/",
          "height": 67
        }
      },
      "cell_type": "code",
      "source": [
        "X = df3.loc[:, 'clean']\n",
        "y = encoded_labels\n",
        "X_train, X_test, Y_train, Y_test = train_test_split(\n",
        "    X, y, test_size=0.25, random_state=42)\n",
        "\n",
        "t0 = time()\n",
        "vectorizer = TfidfVectorizer(max_df=0.5,\n",
        "                             min_df=2, stop_words='english')\n",
        "\n",
        "X_train_tfidf = vectorizer.fit_transform(X_train)\n",
        "X_test_tfidf = vectorizer.fit_transform(X_test)\n",
        "print(\"done in %fs\" % (time() - t0))\n",
        "print(\"n_samples: %d, n_features: %d\" % X_train_tfidf.shape)\n",
        "print()"
      ],
      "execution_count": 17,
      "outputs": [
        {
          "output_type": "stream",
          "text": [
            "done in 4.261941s\n",
            "n_samples: 130725, n_features: 15485\n",
            "\n"
          ],
          "name": "stdout"
        }
      ]
    },
    {
      "metadata": {
        "id": "2OZqNhfHMbNa",
        "colab_type": "code",
        "outputId": "bac19061-6fdb-4a80-8112-6103625c724d",
        "colab": {
          "base_uri": "https://localhost:8080/",
          "height": 84
        }
      },
      "cell_type": "code",
      "source": [
        "print(\"Performing dimensionality reduction using LSA\")\n",
        "t0 = time()\n",
        "\n",
        "svd = TruncatedSVD(600)\n",
        "#normalizer = Normalizer(copy=False)\n",
        "lsa = make_pipeline(svd)#, normalizer)\n",
        "\n",
        "X_train_lsa = lsa.fit_transform(X_train_tfidf)\n",
        "X_test_lsa = lsa.fit_transform(X_test_tfidf)\n",
        "\n",
        "print(\"done in %fs\" % (time() - t0))\n",
        "\n",
        "explained_variance = svd.explained_variance_ratio_.sum()\n",
        "print(\"Explained variance of the SVD step: {}%\".format(\n",
        "    int(explained_variance * 100)))\n",
        "\n",
        "print()"
      ],
      "execution_count": 18,
      "outputs": [
        {
          "output_type": "stream",
          "text": [
            "Performing dimensionality reduction using LSA\n",
            "done in 125.128702s\n",
            "Explained variance of the SVD step: 71%\n",
            "\n"
          ],
          "name": "stdout"
        }
      ]
    },
    {
      "metadata": {
        "id": "ogjN7TNuWtTn",
        "colab_type": "text"
      },
      "cell_type": "markdown",
      "source": [
        "## **K-Means Clustering**"
      ]
    },
    {
      "metadata": {
        "id": "7H1zRj4vMbBD",
        "colab_type": "code",
        "outputId": "8a4a032b-3cb1-4888-bf5d-92ca66bca7b3",
        "colab": {
          "base_uri": "https://localhost:8080/",
          "height": 101
        }
      },
      "cell_type": "code",
      "source": [
        "# Since our target is boolean, we expect 2 clusters.\n",
        "km = KMeans(n_clusters=2, max_iter=100,\n",
        "            random_state=42)\n",
        "\n",
        "print(\"Clustering sparse data with %s\" % km)\n",
        "t0 = time()\n",
        "km.fit(X_train_lsa)\n",
        "print(\"done in %0.3fs\" % (time() - t0))\n",
        "print()"
      ],
      "execution_count": 19,
      "outputs": [
        {
          "output_type": "stream",
          "text": [
            "Clustering sparse data with KMeans(algorithm='auto', copy_x=True, init='k-means++', max_iter=100,\n",
            "    n_clusters=2, n_init=10, n_jobs=None, precompute_distances='auto',\n",
            "    random_state=42, tol=0.0001, verbose=0)\n",
            "done in 28.659s\n",
            "\n"
          ],
          "name": "stdout"
        }
      ]
    },
    {
      "metadata": {
        "id": "9wNFv0mgWrSP",
        "colab_type": "code",
        "outputId": "77e85167-5579-49aa-aaa5-0385e7b94db2",
        "colab": {
          "base_uri": "https://localhost:8080/",
          "height": 582
        }
      },
      "cell_type": "code",
      "source": [
        "#if 1==0:\n",
        "#-1\tTN\n",
        "#1\tTP\n",
        "#3\tFP\n",
        "#-3\tFN\n",
        "\n",
        "plt.figure(figsize=(7, 4))\n",
        "# Calculate predicted values.\n",
        "y_pred = km.fit_predict(X_train_lsa)\n",
        "\n",
        "# Calculate Error Type\n",
        "y_error = (y_pred*2)-Y_train\n",
        "\n",
        "#Define Error Colors\n",
        "LABEL_COLOR_MAP = {-1: '#FF752E',\n",
        "                   0:  '#ad00c8',\n",
        "                   1: '#4ae500', \n",
        "                   2: '#000dbf'\n",
        "                   }\n",
        "label_color = [LABEL_COLOR_MAP[i] for i in y_error]\n",
        "label_convert = {-1: 'FN',\n",
        "                 0: 'TN',\n",
        "                 1:'TP',\n",
        "                 2: 'FP'\n",
        "                 } \n",
        "# Plot the solution.\n",
        "plt.scatter(X_train_lsa[:, 0], X_train_lsa[:, 1],\n",
        "            marker='.', c=label_color) \n",
        "#Plot the error legend\n",
        "markers = [\n",
        "    plt.Line2D([0, 0], [0, 0], color=color,\n",
        "               marker='o', linestyle=''\n",
        "               ) for color in LABEL_COLOR_MAP.values()]\n",
        "plt.legend(markers, label_convert.values(), numpoints=1, frameon=True)\n",
        "plt.rcParams.update({'font.size': 12})\n",
        "plt.title('K-Means')\n",
        "#plt.savefig(\"K-Means.png\", dpi =300)\n",
        "#files.download(\"K-Means.png\")\n",
        "plt.show()\n",
        "\n",
        "# Check the solution against the data.\n",
        "cm = pd.crosstab(Y_train, y_pred, rownames=['True'], \n",
        "                 colnames=['Predicted'], margins=True)\n",
        "print(\"\\nConfusion Matrix:  \\n\", cm)\n",
        "print(\"\\n                    Classification Report \\n\",\n",
        "      classification_report(Y_train, y_pred))"
      ],
      "execution_count": 20,
      "outputs": [
        {
          "output_type": "display_data",
          "data": {
            "image/png": "[encoded data removed]",
            "text/plain": [
              "<Figure size 504x288 with 1 Axes>"
            ]
          },
          "metadata": {
            "tags": []
          }
        },
        {
          "output_type": "stream",
          "text": [
            "\n",
            "Confusion Matrix:  \n",
            " Predicted       0     1     All\n",
            "True                           \n",
            "0           63371  1955   65326\n",
            "1           65399     0   65399\n",
            "All        128770  1955  130725\n",
            "\n",
            "                    Classification Report \n",
            "               precision    recall  f1-score   support\n",
            "\n",
            "           0       0.49      0.97      0.65     65326\n",
            "           1       0.00      0.00      0.00     65399\n",
            "\n",
            "   micro avg       0.48      0.48      0.48    130725\n",
            "   macro avg       0.25      0.49      0.33    130725\n",
            "weighted avg       0.25      0.48      0.33    130725\n",
            "\n"
          ],
          "name": "stdout"
        }
      ]
    },
    {
      "metadata": {
        "id": "4ConIz7CoxRc",
        "colab_type": "text"
      },
      "cell_type": "markdown",
      "source": [
        "Unsupervised cluster analysis with K-Means reveals some grouping of the Positive and Negative sentiments, including those that are incorrectly classified."
      ]
    },
    {
      "metadata": {
        "id": "kRyW49oFF33_",
        "colab_type": "text"
      },
      "cell_type": "markdown",
      "source": [
        "## **Word2Vec**"
      ]
    },
    {
      "metadata": {
        "colab_type": "code",
        "id": "rNZE4Uuz1qxr",
        "colab": {}
      },
      "cell_type": "code",
      "source": [
        "from string import punctuation\n",
        "\n",
        "# convert column of tweets to list of words\n",
        "all_text = df3.clean.astype(str).values.tolist()\n",
        "string_text = '\\n'.join([word for word in all_text])\n",
        "tweet_split = string_text.split('\\n')\n",
        "string_text = ' '.join(tweet_split)\n",
        "\n",
        "# create a list of words\n",
        "words = string_text.split()"
      ],
      "execution_count": 0,
      "outputs": []
    },
    {
      "metadata": {
        "id": "2-pP3GFsKCRk",
        "colab_type": "code",
        "colab": {}
      },
      "cell_type": "code",
      "source": [
        "# store as list of lists of words\n",
        "sentences = []\n",
        "for sent_str in all_text:\n",
        "    tokens = re.sub(r\"[^a-z0-9]+\", \" \", sent_str.lower()).split()\n",
        "    sentences.append(tokens)"
      ],
      "execution_count": 0,
      "outputs": []
    },
    {
      "metadata": {
        "id": "8vARAsKQLTH9",
        "colab_type": "code",
        "outputId": "198be9b7-8931-4280-a598-30f0666a381a",
        "colab": {
          "base_uri": "https://localhost:8080/",
          "height": 302
        }
      },
      "cell_type": "code",
      "source": [
        "sentences[0]"
      ],
      "execution_count": 23,
      "outputs": [
        {
          "output_type": "execute_result",
          "data": {
            "text/plain": [
              "['with',\n",
              " 'today',\n",
              " 'senate',\n",
              " 'you',\n",
              " 'need',\n",
              " 'ever',\n",
              " 'democrat',\n",
              " 'and',\n",
              " 'republican',\n",
              " 'senators',\n",
              " 'remove',\n",
              " 'trump',\n",
              " 'are',\n",
              " 'long',\n",
              " 'long',\n",
              " 'way',\n",
              " 'from']"
            ]
          },
          "metadata": {
            "tags": []
          },
          "execution_count": 23
        }
      ]
    },
    {
      "metadata": {
        "id": "rByhq9xugi73",
        "colab_type": "code",
        "colab": {}
      },
      "cell_type": "code",
      "source": [
        "from gensim.models import Word2Vec\n",
        "\n",
        "w2v_model = Word2Vec(\n",
        "    sentences=sentences, size=300, window=5, min_count=5, workers=4, sg=0)\n"
      ],
      "execution_count": 0,
      "outputs": []
    },
    {
      "metadata": {
        "id": "1bA7w7RjN78i",
        "colab_type": "code",
        "outputId": "97e8114c-df1b-4d52-8e91-9a1a9b634312",
        "colab": {
          "base_uri": "https://localhost:8080/",
          "height": 185
        }
      },
      "cell_type": "code",
      "source": [
        "w2v_model.wv.most_similar('bad')"
      ],
      "execution_count": 25,
      "outputs": [
        {
          "output_type": "execute_result",
          "data": {
            "text/plain": [
              "[('funny', 0.472171813249588),\n",
              " ('good', 0.45769786834716797),\n",
              " ('irresponsible', 0.41943109035491943),\n",
              " ('busy', 0.4163421094417572),\n",
              " ('badly', 0.40409934520721436),\n",
              " ('dead', 0.39778125286102295),\n",
              " ('aware', 0.3827362060546875),\n",
              " ('disclosing', 0.37806540727615356),\n",
              " ('expensive', 0.3733299970626831),\n",
              " ('wondered', 0.36279475688934326)]"
            ]
          },
          "metadata": {
            "tags": []
          },
          "execution_count": 25
        }
      ]
    },
    {
      "metadata": {
        "id": "J23I4v8Up-zT",
        "colab_type": "text"
      },
      "cell_type": "markdown",
      "source": [
        "This model did not perform well."
      ]
    },
    {
      "metadata": {
        "id": "mSlR9w6XOc2j",
        "colab_type": "text"
      },
      "cell_type": "markdown",
      "source": [
        "## **Fast Text**"
      ]
    },
    {
      "metadata": {
        "id": "G-5QVieGOajT",
        "colab_type": "code",
        "colab": {}
      },
      "cell_type": "code",
      "source": [
        "from gensim.models import FastText\n",
        "fast_model = FastText(\n",
        "    sentences, size=300, window=5, min_count=5, workers=4,sg=0)"
      ],
      "execution_count": 0,
      "outputs": []
    },
    {
      "metadata": {
        "id": "JZ5lJ1QIOaW2",
        "colab_type": "code",
        "outputId": "ccfce7cb-6f4a-4b64-a290-a6d70811f007",
        "colab": {
          "base_uri": "https://localhost:8080/",
          "height": 185
        }
      },
      "cell_type": "code",
      "source": [
        "fast_model.wv.most_similar(\"bad\")"
      ],
      "execution_count": 27,
      "outputs": [
        {
          "output_type": "execute_result",
          "data": {
            "text/plain": [
              "[('badly', 0.6396602392196655),\n",
              " ('badass', 0.6290391087532043),\n",
              " ('load', 0.5894170999526978),\n",
              " ('dad', 0.537945568561554),\n",
              " ('glad', 0.5219255089759827),\n",
              " ('knead', 0.48100051283836365),\n",
              " ('road', 0.4780336618423462),\n",
              " ('wad', 0.46597418189048767),\n",
              " ('brad', 0.46413731575012207),\n",
              " ('abroad', 0.4603975713253021)]"
            ]
          },
          "metadata": {
            "tags": []
          },
          "execution_count": 27
        }
      ]
    },
    {
      "metadata": {
        "id": "VfWlJMyIqGZ4",
        "colab_type": "text"
      },
      "cell_type": "markdown",
      "source": [
        "FastText seems to work better for this corpus, but not as good as we'd like."
      ]
    },
    {
      "metadata": {
        "id": "vfbjwKXFRSnv",
        "colab_type": "text"
      },
      "cell_type": "markdown",
      "source": [
        "# **Doc2Vec**\n",
        "\n",
        "Doc2Vec is a small extension to the CBOW Word2Vec model. Instead of using just words to predict the next word, we also add another feature vector, which is document-unique."
      ]
    },
    {
      "metadata": {
        "id": "5qPloK-r9wwW",
        "colab_type": "code",
        "colab": {}
      },
      "cell_type": "code",
      "source": [
        "x_d2v = df3.clean\n",
        "y_d2v = df3.SA2\n",
        "\n",
        "x_train_d2v, x_validation_and_test_d2v, y_train_d2v, y_validation_and_test_d2v = train_test_split(\n",
        "    x_d2v, y_d2v, test_size=.02, random_state=42)\n",
        "\n",
        "x_validation_d2v, x_test_d2v, y_validation_d2v, y_test_d2v = train_test_split(\n",
        "    x_validation_and_test_d2v, y_validation_and_test_d2v, \n",
        "    test_size=.5, random_state=42)"
      ],
      "execution_count": 0,
      "outputs": []
    },
    {
      "metadata": {
        "id": "lVo9MIdxQNX1",
        "colab_type": "code",
        "colab": {}
      },
      "cell_type": "code",
      "source": [
        "from tqdm import tqdm\n",
        "tqdm.pandas(desc=\"progress-bar\")\n",
        "from gensim.models import Doc2Vec\n",
        "from gensim.models.doc2vec import LabeledSentence\n",
        "import multiprocessing\n",
        "from sklearn import utils"
      ],
      "execution_count": 0,
      "outputs": []
    },
    {
      "metadata": {
        "id": "qQf_jvyqQiUN",
        "colab_type": "code",
        "colab": {}
      },
      "cell_type": "code",
      "source": [
        "def labelize_tweets_ug(tweets,label):\n",
        "    result = []\n",
        "    prefix = label\n",
        "    for i, t in zip(tweets.index, tweets):\n",
        "        result.append(LabeledSentence(t.split(), [prefix + '_%s' % i]))\n",
        "    return result"
      ],
      "execution_count": 0,
      "outputs": []
    },
    {
      "metadata": {
        "id": "Qt0H5KmAUvPD",
        "colab_type": "text"
      },
      "cell_type": "markdown",
      "source": [
        "We'll train with the entire corpus."
      ]
    },
    {
      "metadata": {
        "id": "ZciELooEQyK8",
        "colab_type": "code",
        "colab": {}
      },
      "cell_type": "code",
      "source": [
        "all_x = pd.concat([x_train_d2v, x_validation_d2v, x_test_d2v])\n",
        "all_x_w2v = labelize_tweets_ug(all_x, 'all')"
      ],
      "execution_count": 0,
      "outputs": []
    },
    {
      "metadata": {
        "id": "tUyJcl-XQ0pJ",
        "colab_type": "code",
        "outputId": "cf2590b2-4d63-421c-a2bb-293095f7f219",
        "colab": {
          "base_uri": "https://localhost:8080/",
          "height": 34
        }
      },
      "cell_type": "code",
      "source": [
        "len(all_x_w2v)"
      ],
      "execution_count": 32,
      "outputs": [
        {
          "output_type": "execute_result",
          "data": {
            "text/plain": [
              "174300"
            ]
          },
          "metadata": {
            "tags": []
          },
          "execution_count": 32
        }
      ]
    },
    {
      "metadata": {
        "id": "oE1Jfoy6Q3mp",
        "colab_type": "code",
        "outputId": "0cb33290-12d3-4fe8-be4c-a43646643428",
        "colab": {
          "base_uri": "https://localhost:8080/",
          "height": 34
        }
      },
      "cell_type": "code",
      "source": [
        "doc2vec_model = Doc2Vec(vector_size=50, min_count=2, epochs=5)\n",
        "doc2vec_model.build_vocab([x for x in tqdm(all_x_w2v)])"
      ],
      "execution_count": 33,
      "outputs": [
        {
          "output_type": "stream",
          "text": [
            "100%|██████████| 174300/174300 [00:00<00:00, 1572904.61it/s]\n"
          ],
          "name": "stderr"
        }
      ]
    },
    {
      "metadata": {
        "id": "hArhkX7iRHNz",
        "colab_type": "code",
        "outputId": "01c390d0-28ca-4126-d1a3-9f0ef1226d97",
        "colab": {
          "base_uri": "https://localhost:8080/",
          "height": 34
        }
      },
      "cell_type": "code",
      "source": [
        "doc2vec_model.train(\n",
        "    utils.shuffle([x for x in tqdm(all_x_w2v)]),\n",
        "                        total_examples=len(all_x_w2v), \n",
        "    epochs=doc2vec_model.epochs)\n",
        "   "
      ],
      "execution_count": 34,
      "outputs": [
        {
          "output_type": "stream",
          "text": [
            "100%|██████████| 174300/174300 [00:00<00:00, 2802269.16it/s]\n"
          ],
          "name": "stderr"
        }
      ]
    },
    {
      "metadata": {
        "id": "SlqRPnFpq4hu",
        "colab_type": "code",
        "colab": {
          "base_uri": "https://localhost:8080/",
          "height": 185
        },
        "outputId": "bd373a40-b248-4f52-c585-36b328de54f2"
      },
      "cell_type": "code",
      "source": [
        "doc2vec_model.wv.most_similar(\"bad\")"
      ],
      "execution_count": 35,
      "outputs": [
        {
          "output_type": "execute_result",
          "data": {
            "text/plain": [
              "[('good', 0.5879141092300415),\n",
              " ('funny', 0.5856382846832275),\n",
              " ('dead', 0.5741413831710815),\n",
              " ('busy', 0.5343987345695496),\n",
              " ('sure', 0.527372419834137),\n",
              " ('lunatic', 0.5119671821594238),\n",
              " ('terrible', 0.4933556318283081),\n",
              " ('look', 0.48850956559181213),\n",
              " ('stupid', 0.4829905033111572),\n",
              " ('aware', 0.47816699743270874)]"
            ]
          },
          "metadata": {
            "tags": []
          },
          "execution_count": 35
        }
      ]
    },
    {
      "metadata": {
        "id": "ID0zYNrErBHQ",
        "colab_type": "text"
      },
      "cell_type": "markdown",
      "source": [
        "Still not great. Let's see how these vectors work for modeling."
      ]
    },
    {
      "metadata": {
        "id": "siex-gxcRZl_",
        "colab_type": "code",
        "colab": {}
      },
      "cell_type": "code",
      "source": [
        "def get_vectors(model, corpus, size):\n",
        "    vecs = np.zeros((len(corpus), size))\n",
        "    n = 0\n",
        "    for i in corpus.index:\n",
        "        prefix = 'all_' + str(i)\n",
        "        vecs[n] = model.docvecs[prefix]\n",
        "        n += 1\n",
        "    return vecs\n",
        "  \n",
        "train_vecs_d2v = get_vectors(doc2vec_model, x_train_d2v, 50)\n",
        "validation_vecs_d2v = get_vectors(doc2vec_model, x_validation_d2v, 50)  "
      ],
      "execution_count": 0,
      "outputs": []
    },
    {
      "metadata": {
        "id": "AwsA78IZY0-q",
        "colab_type": "code",
        "colab": {}
      },
      "cell_type": "code",
      "source": [
        "# Defining a function to fit and predict ML algorithms\n",
        "def auto_model(mod, model_name, X_train, X_test, y_train, y_test):\n",
        "    mod.fit(X_train, y_train)\n",
        "    print(model_name)\n",
        "    acc = cross_val_score(mod, X_train, y_train,\n",
        "                          scoring=\"accuracy\", cv=5)\n",
        "    predictions = cross_val_predict(mod, X_train, y_train, cv=5)\n",
        "    print(\"Accuracy:\", round(acc.mean(), 3))\n",
        "    cm = pd.crosstab(y_train, predictions, rownames=['True'], \n",
        "                 colnames=['Predicted'], margins=True)\n",
        "    print(\"\\nConfusion Matrix:  \\n\", cm)\n",
        "    print(\"\\n                    Classification Report \\n\",\n",
        "          classification_report(y_train, predictions))"
      ],
      "execution_count": 0,
      "outputs": []
    },
    {
      "metadata": {
        "id": "czaSkaw-gaZ6",
        "colab_type": "text"
      },
      "cell_type": "markdown",
      "source": [
        "## **Doc2Vec Classification Models**"
      ]
    },
    {
      "metadata": {
        "id": "y2JoJhdCYfbH",
        "colab_type": "code",
        "outputId": "d98f79aa-b9f9-4afb-ae59-a9c934a845ba",
        "colab": {
          "base_uri": "https://localhost:8080/",
          "height": 353
        }
      },
      "cell_type": "code",
      "source": [
        "# Random Forest Classifier\n",
        "rfc = RandomForestClassifier(n_estimators=100, n_jobs=-1)\n",
        "auto_model(rfc, \"Random Forest Classifier\",\n",
        "           train_vecs_d2v, validation_vecs_d2v, y_train_d2v, y_validation_d2v)"
      ],
      "execution_count": 38,
      "outputs": [
        {
          "output_type": "stream",
          "text": [
            "Random Forest Classifier\n",
            "Accuracy: 0.675\n",
            "\n",
            "Confusion Matrix:  \n",
            " Predicted     -1      1     All\n",
            "True                           \n",
            "-1         60005  25420   85425\n",
            "1          30292  55097   85389\n",
            "All        90297  80517  170814\n",
            "\n",
            "                    Classification Report \n",
            "               precision    recall  f1-score   support\n",
            "\n",
            "          -1       0.66      0.70      0.68     85425\n",
            "           1       0.68      0.65      0.66     85389\n",
            "\n",
            "   micro avg       0.67      0.67      0.67    170814\n",
            "   macro avg       0.67      0.67      0.67    170814\n",
            "weighted avg       0.67      0.67      0.67    170814\n",
            "\n"
          ],
          "name": "stdout"
        }
      ]
    },
    {
      "metadata": {
        "id": "DaRNptRdYfK_",
        "colab_type": "code",
        "outputId": "ead18072-89d0-4a57-8b40-2bbf869ea7e4",
        "colab": {
          "base_uri": "https://localhost:8080/",
          "height": 353
        }
      },
      "cell_type": "code",
      "source": [
        "# Gaussian Naive Bayes\n",
        "gnb = GaussianNB()\n",
        "auto_model(gnb, \"Gaussian Naive Bayes\", \n",
        "              train_vecs_d2v, validation_vecs_d2v, y_train_d2v, \n",
        "              y_validation_d2v)"
      ],
      "execution_count": 39,
      "outputs": [
        {
          "output_type": "stream",
          "text": [
            "Gaussian Naive Bayes\n",
            "Accuracy: 0.534\n",
            "\n",
            "Confusion Matrix:  \n",
            " Predicted     -1       1     All\n",
            "True                            \n",
            "-1         28730   56695   85425\n",
            "1          22977   62412   85389\n",
            "All        51707  119107  170814\n",
            "\n",
            "                    Classification Report \n",
            "               precision    recall  f1-score   support\n",
            "\n",
            "          -1       0.56      0.34      0.42     85425\n",
            "           1       0.52      0.73      0.61     85389\n",
            "\n",
            "   micro avg       0.53      0.53      0.53    170814\n",
            "   macro avg       0.54      0.53      0.51    170814\n",
            "weighted avg       0.54      0.53      0.51    170814\n",
            "\n"
          ],
          "name": "stdout"
        }
      ]
    },
    {
      "metadata": {
        "id": "ChfYB5SXfTfG",
        "colab_type": "code",
        "outputId": "f45029ef-8195-4823-830e-6a2344254148",
        "colab": {
          "base_uri": "https://localhost:8080/",
          "height": 353
        }
      },
      "cell_type": "code",
      "source": [
        "# Logistic Regression\n",
        "log = LogisticRegression(solver='lbfgs')\n",
        "auto_model(log, \"Logistic Regression\", train_vecs_d2v, validation_vecs_d2v, \n",
        "              y_train_d2v, y_validation_d2v)"
      ],
      "execution_count": 40,
      "outputs": [
        {
          "output_type": "stream",
          "text": [
            "Logistic Regression\n",
            "Accuracy: 0.584\n",
            "\n",
            "Confusion Matrix:  \n",
            " Predicted     -1      1     All\n",
            "True                           \n",
            "-1         49765  35660   85425\n",
            "1          35480  49909   85389\n",
            "All        85245  85569  170814\n",
            "\n",
            "                    Classification Report \n",
            "               precision    recall  f1-score   support\n",
            "\n",
            "          -1       0.58      0.58      0.58     85425\n",
            "           1       0.58      0.58      0.58     85389\n",
            "\n",
            "   micro avg       0.58      0.58      0.58    170814\n",
            "   macro avg       0.58      0.58      0.58    170814\n",
            "weighted avg       0.58      0.58      0.58    170814\n",
            "\n"
          ],
          "name": "stdout"
        }
      ]
    },
    {
      "metadata": {
        "id": "EYspkdVEfTTA",
        "colab_type": "code",
        "outputId": "ceed5d5f-c6f9-446a-a299-3a0c5787476f",
        "colab": {
          "base_uri": "https://localhost:8080/",
          "height": 353
        }
      },
      "cell_type": "code",
      "source": [
        "# Linear SVC\n",
        "svc = LinearSVC()\n",
        "auto_model(svc, \"Linear SVC\", train_vecs_d2v, validation_vecs_d2v, \n",
        "              y_train_d2v, y_validation_d2v)"
      ],
      "execution_count": 41,
      "outputs": [
        {
          "output_type": "stream",
          "text": [
            "Linear SVC\n",
            "Accuracy: 0.584\n",
            "\n",
            "Confusion Matrix:  \n",
            " Predicted     -1      1     All\n",
            "True                           \n",
            "-1         49772  35653   85425\n",
            "1          35431  49958   85389\n",
            "All        85203  85611  170814\n",
            "\n",
            "                    Classification Report \n",
            "               precision    recall  f1-score   support\n",
            "\n",
            "          -1       0.58      0.58      0.58     85425\n",
            "           1       0.58      0.59      0.58     85389\n",
            "\n",
            "   micro avg       0.58      0.58      0.58    170814\n",
            "   macro avg       0.58      0.58      0.58    170814\n",
            "weighted avg       0.58      0.58      0.58    170814\n",
            "\n"
          ],
          "name": "stdout"
        }
      ]
    },
    {
      "metadata": {
        "colab_type": "text",
        "id": "BIMrjnX51qx2"
      },
      "cell_type": "markdown",
      "source": [
        "# **Preparing Data for Pytorch**"
      ]
    },
    {
      "metadata": {
        "id": "aRQj7OnoRdWO",
        "colab_type": "code",
        "colab": {}
      },
      "cell_type": "code",
      "source": [
        "from collections import Counter\n",
        "\n",
        "\n",
        "## Build a dictionary that maps words to integers\n",
        "counts = Counter(words)\n",
        "vocab = sorted(counts, key=counts.get, reverse=True)\n",
        "vocab_to_int = {word: ii for ii, word in enumerate(vocab, 1)}\n",
        "  \n",
        "## use the dict to tokenize each tweet in tweet_split\n",
        "## store the tokenized tweet in tweet_ints\n",
        "tweet_ints = []\n",
        "for tweet in tweet_split:\n",
        "    tweet_ints.append([vocab_to_int[word] for word in tweet.split()])"
      ],
      "execution_count": 0,
      "outputs": []
    },
    {
      "metadata": {
        "id": "iqUMcVo_vANL",
        "colab_type": "code",
        "outputId": "747e7ac3-25a6-42b8-91d8-d68a9ae3fe35",
        "colab": {
          "base_uri": "https://localhost:8080/",
          "height": 50
        }
      },
      "cell_type": "code",
      "source": [
        "#vocab_to_int.keys()\n",
        "print(tweet_split[0])\n",
        "print(tweet_ints[0])"
      ],
      "execution_count": 43,
      "outputs": [
        {
          "output_type": "stream",
          "text": [
            "with today  senate you  need ever democrat and republican senators  remove trump  are  long long way from \n",
            "[19, 133, 382, 9, 258, 94, 598, 3, 486, 1665, 2273, 2, 12, 215, 215, 277, 27]\n"
          ],
          "name": "stdout"
        }
      ]
    },
    {
      "metadata": {
        "id": "zjsxQkK7kPRg",
        "colab_type": "code",
        "colab": {
          "base_uri": "https://localhost:8080/",
          "height": 50
        },
        "outputId": "f8c6c72e-2fa6-43aa-f278-e7843ddcc425"
      },
      "cell_type": "code",
      "source": [
        "\n",
        "# stats about vocabulary\n",
        "print('Unique words: ', len((vocab_to_int)))  \n",
        "print()"
      ],
      "execution_count": 44,
      "outputs": [
        {
          "output_type": "stream",
          "text": [
            "Unique words:  33690\n",
            "\n"
          ],
          "name": "stdout"
        }
      ]
    },
    {
      "metadata": {
        "id": "46ifj23cTGzG",
        "colab_type": "code",
        "colab": {
          "base_uri": "https://localhost:8080/",
          "height": 67
        },
        "outputId": "f43eee30-e17e-41dc-a6f9-f1dcb6919aea"
      },
      "cell_type": "code",
      "source": [
        "# outlier tweet stats\n",
        "tweet_lens = Counter([len(x) for x in tweet_ints])\n",
        "print(\"Zero-length tweets: {}\".format(tweet_lens[0]))\n",
        "print(\"Minimum tweet word count: {}\".format(min(tweet_lens)))\n",
        "print(\"Maximum tweet word count: {}\".format(max(tweet_lens)))"
      ],
      "execution_count": 45,
      "outputs": [
        {
          "output_type": "stream",
          "text": [
            "Zero-length tweets: 0\n",
            "Minimum tweet word count: 1\n",
            "Maximum tweet word count: 26\n"
          ],
          "name": "stdout"
        }
      ]
    },
    {
      "metadata": {
        "id": "POfLRIOZXB9W",
        "colab_type": "code",
        "colab": {}
      },
      "cell_type": "code",
      "source": [
        "def pad_features(tweet_ints, seq_length):\n",
        "    ''' Return features of tweet_ints, where each tweet is padded with 0's \n",
        "        or truncated to the input seq_length.\n",
        "    '''\n",
        "    \n",
        "    # getting the correct rows x cols shape\n",
        "    features = np.zeros((len(tweet_ints), seq_length), dtype=int)\n",
        "\n",
        "    # for each review, I grab that review and \n",
        "    for i, row in enumerate(tweet_ints):\n",
        "        features[i, -len(row):] = np.array(row)[:seq_length]\n",
        "    \n",
        "    return features"
      ],
      "execution_count": 0,
      "outputs": []
    },
    {
      "metadata": {
        "id": "kTsb9481Xlo9",
        "colab_type": "code",
        "colab": {}
      },
      "cell_type": "code",
      "source": [
        "# Test your implementation!\n",
        "\n",
        "seq_length = 26\n",
        "\n",
        "features = pad_features(tweet_ints, seq_length=seq_length)\n",
        "\n",
        "## test statements - do not change - ##\n",
        "assert len(features)==len(tweet_ints), \"Your features should have as many rows as reviews.\"\n",
        "assert len(features[0])==seq_length, \"Each feature row should contain seq_length values.\"\n"
      ],
      "execution_count": 0,
      "outputs": []
    },
    {
      "metadata": {
        "id": "2WY7J7KiXrLy",
        "colab_type": "code",
        "colab": {
          "base_uri": "https://localhost:8080/",
          "height": 84
        },
        "outputId": "c49a8e34-ce1e-425d-a04f-a9e9c63f08e4"
      },
      "cell_type": "code",
      "source": [
        "\n",
        "split_frac = 0.8\n",
        "\n",
        "## split data into training, validation, and test data (features and labels, x and y)\n",
        "\n",
        "split_idx = int(len(features)*split_frac)\n",
        "train_x, remaining_x = features[:split_idx], features[split_idx:]\n",
        "train_y, remaining_y = encoded_labels[:split_idx], encoded_labels[split_idx:]\n",
        "\n",
        "test_idx = int(len(remaining_x)*0.5)\n",
        "val_x, test_x = remaining_x[:test_idx], remaining_x[test_idx:]\n",
        "val_y, test_y = remaining_y[:test_idx], remaining_y[test_idx:]\n",
        "\n",
        "## print out the shapes of your resultant feature data\n",
        "print(\"\\t\\t\\tFeature Shapes:\")\n",
        "print(\"Train set: \\t\\t{}\".format(train_x.shape), \n",
        "      \"\\nValidation set: \\t{}\".format(val_x.shape),\n",
        "      \"\\nTest set: \\t\\t{}\".format(test_x.shape))"
      ],
      "execution_count": 48,
      "outputs": [
        {
          "output_type": "stream",
          "text": [
            "\t\t\tFeature Shapes:\n",
            "Train set: \t\t(139440, 26) \n",
            "Validation set: \t(17430, 26) \n",
            "Test set: \t\t(17430, 26)\n"
          ],
          "name": "stdout"
        }
      ]
    },
    {
      "metadata": {
        "id": "R-GEkIPLp9la",
        "colab_type": "text"
      },
      "cell_type": "markdown",
      "source": [
        "## **DataLoaders and Batching**\n",
        "After creating training, test, and validation data, we can create DataLoaders for this data by following two steps:\n",
        "\n",
        "1.   Create a known format for accessing our data, using TensorDataset which takes in an input set of data and a target set of data with the same first dimension, and creates a dataset.\n",
        "2.   Create DataLoaders and batch our training, validation, and test Tensor datasets\n",
        "\n",
        "\n",
        "train_data = TensorDataset(torch.from_numpy(train_x), torch.from_numpy(train_y))\n",
        "\n",
        "train_loader = DataLoader(train_data, batch_size=batch_size)\n",
        "\n",
        "This is an alternative to creating a generator function for batching our data into full batches."
      ]
    },
    {
      "metadata": {
        "id": "9v_sjGMgo-1d",
        "colab_type": "code",
        "colab": {}
      },
      "cell_type": "code",
      "source": [
        "import torch\n",
        "from torch.utils.data import TensorDataset, DataLoader\n",
        "\n",
        "# create Tensor datasets\n",
        "train_data = TensorDataset(torch.from_numpy(train_x), torch.from_numpy(train_y))\n",
        "valid_data = TensorDataset(torch.from_numpy(val_x), torch.from_numpy(val_y))\n",
        "test_data = TensorDataset(torch.from_numpy(test_x), torch.from_numpy(test_y))\n",
        "\n",
        "# dataloaders\n",
        "batch_size = 30\n",
        "\n",
        "# make sure the SHUFFLE your training data\n",
        "train_loader = DataLoader(train_data, shuffle=False, batch_size=batch_size)\n",
        "valid_loader = DataLoader(valid_data, shuffle=False, batch_size=batch_size)\n",
        "test_loader = DataLoader(test_data, shuffle=False, batch_size=batch_size)"
      ],
      "execution_count": 0,
      "outputs": []
    },
    {
      "metadata": {
        "id": "lWBEdtslqYj-",
        "colab_type": "code",
        "colab": {
          "base_uri": "https://localhost:8080/",
          "height": 1646
        },
        "outputId": "661090b7-5724-49ca-ca47-82fce081170c"
      },
      "cell_type": "code",
      "source": [
        "# obtain one batch of training data\n",
        "dataiter = iter(train_loader)\n",
        "sample_x, sample_y = dataiter.next()\n",
        "\n",
        "print('Sample input size: ', sample_x.size()) # batch_size, seq_length\n",
        "print('Sample input: \\n', sample_x)\n",
        "print()\n",
        "print('Sample label size: ', sample_y.size()) # batch_size\n",
        "print('Sample label: \\n', sample_y)"
      ],
      "execution_count": 50,
      "outputs": [
        {
          "output_type": "stream",
          "text": [
            "Sample input size:  torch.Size([30, 26])\n",
            "Sample input: \n",
            " tensor([[    0,     0,     0,     0,     0,     0,     0,     0,     0,    19,\n",
            "           133,   382,     9,   258,    94,   598,     3,   486,  1665,  2273,\n",
            "             2,    12,   215,   215,   277,    27],\n",
            "        [    0,     0,     0,     0,     0,     0,     0,     0,     0,    88,\n",
            "             1,    21,    26,   149,   421,    62,    58,   848,     1,    20,\n",
            "           522,     3,    55,   813,   804,   760],\n",
            "        [    0,     0,     0,     0,     0,     0,     0,     0,     0,     0,\n",
            "             0,     0,     0,     0,     0,     0,    12,   330,    19,     9,\n",
            "            40,     9,   305,   236,     2,   731],\n",
            "        [    0,     0,     0,     0,     0,     0,     0,     0,     0,     0,\n",
            "           829,     9,   305,   213,     1,   707,   340,  2234,  1634,  3590,\n",
            "          1387,     6,   644,   188,  3203,  3488],\n",
            "        [    0,     0,     0,     0,     0,     0,     0,     7,   181,     2,\n",
            "           116,    61,    16,   135,   899,    50,   395,  1496,    36,  1496,\n",
            "            36,  1496,     3,    40,     1, 13884],\n",
            "        [    0,     0,     0,     0,     0,     0,     0,     0,     0,     0,\n",
            "             0,     0,     0,     0,     0,     0,   101,   190,     5,     1,\n",
            "            21,    26,    45,     7,    10,    20],\n",
            "        [    0,     0,     0,     0,     0,     0,     0,    40,    12,    35,\n",
            "            78,   107,     1,    67,    46,    96,     1,    46,    88,     1,\n",
            "            85,    36,    71,   117,     3,   118],\n",
            "        [    0,     0,     0,     0,     0,   133,    23,   140,   140,   168,\n",
            "            92,     5,   303,   766,    31,   614,     3,  1058,     5,    54,\n",
            "           237,   334,     1,    31,    41,   648],\n",
            "        [    0,     0,     0,     0,     0,     0,     0,    73,   195,   139,\n",
            "            49,     2,  1008,   498,   414,  1137,  1226,    19,   261,   788,\n",
            "          3591,   307,   577,   997,  2250,  5140],\n",
            "        [    0,     0,     0,     0,     0,     0,     0,     0,     0,     0,\n",
            "             0,     0,     0,    89,   589,    48,   768,   550,   486,   423,\n",
            "           818,     4,    44,   125,   210,   767],\n",
            "        [    0,     0,     0,     0,     0,     0,     0,     0,     0,     0,\n",
            "           263,    39,  1507,   912,   623,     1,  1278,   272,     5,     2,\n",
            "           426,     1,  1532,     1,  1489,  1466],\n",
            "        [    0,     0,     0,     0,     0,     0,     0,     0,     0,     0,\n",
            "             0,     0,   548,     2,    29,   419,   615,   615,   535,   248,\n",
            "           450,  1589,  1020,   762,   861,   906],\n",
            "        [    0,     0,     0,     0,     0,     0,     0,     0,     0,     0,\n",
            "             0,     0,  2491,  2009,  1968,  2847,   133,     3,  1918,  2051,\n",
            "           192,  2051,  2380,   780,    36,  3204],\n",
            "        [    0,     0,     0,     0,     0,     0,     0,     0,     0,     0,\n",
            "             0, 18144,  1271,   415,     4,    50,    34,    23,   630,    91,\n",
            "             8,   236,   561,   819,     2,     6],\n",
            "        [    0,     0,     0,     0,     0,     0,     0,     0,     0,     0,\n",
            "            65,  1055,  4609,   151,   271,   579,     5,    86,     2,  3853,\n",
            "          1755,  2251,  3302,    24,   682,     6],\n",
            "        [    0,     0,     0,     0,     0,     0,     0,   342,     2,    29,\n",
            "           578,     1,   195,   139,     3,     6,   151,   410,   391,    65,\n",
            "            94,   326,     1,   316,    41,   530],\n",
            "        [    0,     0,     0,     0,     0,     0,     0,     0,     0,     0,\n",
            "             0,     0,     0,     0,     0,     0,     0,     0,  1961,   683,\n",
            "          1129,   326,     4,   253,  1937,   819],\n",
            "        [    0,     0,     0,     0,     0,     0,     0,     0,     0,     0,\n",
            "             1,     2,   176,   862,  1432,  1056,    42,   659,    27,    51,\n",
            "           673,     1,   670,   125,   130,    23],\n",
            "        [    0,     0,     0,     0,     0,     0,     0,     0,     0,     0,\n",
            "             0,   101,   688,     6,   282,     3,   250,   184,   785,     4,\n",
            "           231,    60,   856,     1,   432,    10],\n",
            "        [    0,     0,     0,     0,     0,     0,     0,     0,     0,     0,\n",
            "             0,     6,   332,   526,   410,    23,  1084,   692,   866,  1070,\n",
            "           538,     6,     3,  1025,   131,    11],\n",
            "        [    0,     0,     0,     0,     0,     0,     0,     0,     0,     0,\n",
            "           644,   379,   188,  1357,   863,    11,     2,  1362,     5,    16,\n",
            "            25,    68,   538,  3644,    19,  6896],\n",
            "        [    0,     0,     0,     0,     0,     0,     0,     0,     0,     0,\n",
            "           207,     1,   216,   456,   204,   575,    34,   734,  3146,  1734,\n",
            "          3078,     1,  1021,    28,    69,  3205],\n",
            "        [    0,     0,     0,     0,     0,     0,     0,     0,     0,     0,\n",
            "             0,     6,    20,     2,   668,    60,   243,   194,   148,     2,\n",
            "           368,   883,     3,   227,   182,  1190],\n",
            "        [    0,     0,     0,     0,     0,     0,     0,     0,     0,     0,\n",
            "             0,     0,    89,   830,   295,    48,     8,  1009,   169,     5,\n",
            "            13,   956,  1004,   218,   585,    57],\n",
            "        [    0,     0,     0,     0,     0,     0,     0,     0,     0,    40,\n",
            "           314,  2687,  6897,     2,    42,   130,    15,  2631,    51,   324,\n",
            "            64,    70,   197,  1394,    19,     4],\n",
            "        [    0,     0,     0,     0,     0,     0,     0,     0,     0,   375,\n",
            "             1,  8125,     1,  3206,   170,     1,    21,    26,    18,   202,\n",
            "          1092,     1,   432,    20,     9,  4124],\n",
            "        [    0,     0,     0,     0,     0,     0,   186,     2,   347,   358,\n",
            "            38,   317,     3,   249,   506,    15,   567,   104,   274,   485,\n",
            "           228,   248,   406,     3,   253,   735],\n",
            "        [    0,     0,     0,     0,     0,     0,     0,     0,     0,     0,\n",
            "             0,     0,     0,     0,     0,     8,   123,    13,   146,     7,\n",
            "            20,     4,     2,   116,    16,    25],\n",
            "        [    0,     0,     0,     0,     0,     0,     0,     0,     0,     0,\n",
            "             0,     0,     0,    23,   642,     7,   925,     2,   707,   172,\n",
            "           330,     2,  1401,  1402,     7,  1340],\n",
            "        [    0,     0,     0,     0,     0,     0,     0,     0,     0,     0,\n",
            "             0,     0,     0,     0,     0,     0,   327,   447,     8,   343,\n",
            "           288,   422,     1,   108,    59,    72]])\n",
            "\n",
            "Sample label size:  torch.Size([30])\n",
            "Sample label: \n",
            " tensor([0, 1, 0, 1, 0, 1, 1, 0, 0, 1, 0, 1, 0, 0, 1, 0, 0, 1, 0, 0, 1, 1, 0, 1,\n",
            "        1, 1, 1, 0, 0, 0])\n"
          ],
          "name": "stdout"
        }
      ]
    },
    {
      "metadata": {
        "id": "HzF8ZcV1qh9l",
        "colab_type": "text"
      },
      "cell_type": "markdown",
      "source": [
        "# Sentiment Network with PyTorch\n",
        "\n",
        "LSTM Neural Networks, which stand for Long Short-Term Memory, are a particular type of recurrent neural networks. LSTM networks manage to keep contextual information of inputs by integrating a loop that allows information to flow from one step to the next. \n",
        "\n",
        "Since tweets are  composed from a sequence of words, and the specific order of those words provide context to the sentiment of the tweet, it stands to reason this Neural Network should predict tweet sentiment well. \n",
        "\n",
        "<img src=\"https://github.com/udacity/deep-learning-v2-pytorch/blob/master/sentiment-rnn/assets/network_diagram.png?raw=1\" width=40%>\n",
        "\n",
        "The layers are as follows:\n",
        "1. An [embedding layer](https://pytorch.org/docs/stable/nn.html#embedding) that converts our word tokens (integers) into embeddings of a specific size.\n",
        "2. An [LSTM layer](https://pytorch.org/docs/stable/nn.html#lstm) defined by a hidden_state size and number of layers\n",
        "3. A fully-connected output layer that maps the LSTM layer outputs to a desired output_size\n",
        "4. A sigmoid activation layer which turns all outputs into a value 0-1; return **only the last sigmoid output** as the output of this network.\n",
        "\n",
        "### The Embedding Layer\n",
        "\n",
        "We need to add an [embedding layer](https://pytorch.org/docs/stable/nn.html#embedding) because there are tens of thousands of words in our vocabulary. It is massively inefficient to one-hot encode that many classes. So, instead of one-hot encoding, we can have an embedding layer and use that layer as a lookup table.** I could train an embedding layer using Word2Vec, then load it here. But, it's recommended to just make a new layer, using it for only dimensionality reduction, and let the network learn the weights.**\n",
        "\n",
        "\n",
        "### The LSTM Layer(s)\n",
        "\n",
        "We'll create an [LSTM](https://pytorch.org/docs/stable/nn.html#lstm) to use in our recurrent network, which takes in an input_size, a hidden_dim, a number of layers, a dropout probability (for dropout between multiple layers), and a batch_first parameter.\n",
        "\n",
        "\n",
        "\n"
      ]
    },
    {
      "metadata": {
        "id": "aJFmyyGyqcJb",
        "colab_type": "code",
        "colab": {
          "base_uri": "https://localhost:8080/",
          "height": 34
        },
        "outputId": "fc6d717b-8ca2-4fc1-d688-106f15c8000d"
      },
      "cell_type": "code",
      "source": [
        "# First checking if GPU is available\n",
        "train_on_gpu=torch.cuda.is_available()\n",
        "\n",
        "if(train_on_gpu):\n",
        "    print('Training on GPU.')\n",
        "else:\n",
        "    print('No GPU available, training on CPU.')"
      ],
      "execution_count": 51,
      "outputs": [
        {
          "output_type": "stream",
          "text": [
            "Training on GPU.\n"
          ],
          "name": "stdout"
        }
      ]
    },
    {
      "metadata": {
        "id": "k3vBnTpIr_7G",
        "colab_type": "code",
        "colab": {}
      },
      "cell_type": "code",
      "source": [
        "\n",
        "import torch.nn as nn\n",
        "\n",
        "class SentimentRNN(nn.Module):\n",
        "    \"\"\"\n",
        "    The RNN model that will be used to perform Sentiment analysis.\n",
        "    \"\"\"\n",
        "\n",
        "    def __init__(self, vocab_size, output_size, embedding_dim, hidden_dim, n_layers, drop_prob=0.5):\n",
        "        \"\"\"\n",
        "        Initialize the model by setting up the layers.\n",
        "        \"\"\"\n",
        "        super(SentimentRNN, self).__init__()\n",
        "\n",
        "        self.output_size = output_size\n",
        "        self.n_layers = n_layers\n",
        "        self.hidden_dim = hidden_dim\n",
        "        \n",
        "        # embedding and LSTM layers\n",
        "        self.embedding = nn.Embedding(vocab_size, embedding_dim)\n",
        "        self.lstm = nn.LSTM(embedding_dim, hidden_dim, n_layers, \n",
        "                            dropout=drop_prob, batch_first=True)\n",
        "        \n",
        "        # dropout layer\n",
        "        self.dropout = nn.Dropout(0.3)\n",
        "        \n",
        "        # linear and sigmoid layers\n",
        "        self.fc = nn.Linear(hidden_dim, output_size)\n",
        "        self.sig = nn.Sigmoid()\n",
        "        \n",
        "\n",
        "    def forward(self, x, hidden):\n",
        "        \"\"\"\n",
        "        Perform a forward pass of our model on some input and hidden state.\n",
        "        \"\"\"\n",
        "        batch_size = x.size(0)\n",
        "\n",
        "        # embeddings and lstm_out\n",
        "        embeds = self.embedding(x)\n",
        "        lstm_out, hidden = self.lstm(embeds, hidden)\n",
        "    \n",
        "        # stack up lstm outputs\n",
        "        lstm_out = lstm_out.contiguous().view(-1, self.hidden_dim)\n",
        "        \n",
        "        # dropout and fully-connected layer\n",
        "        out = self.dropout(lstm_out)\n",
        "        out = self.fc(out)\n",
        "        # sigmoid function\n",
        "        sig_out = self.sig(out)\n",
        "        \n",
        "        # reshape to be batch_size first\n",
        "        sig_out = sig_out.view(batch_size, -1)\n",
        "        sig_out = sig_out[:, -1] # get last batch of labels\n",
        "        \n",
        "        # return last sigmoid output and hidden state\n",
        "        return sig_out, hidden\n",
        "    \n",
        "    \n",
        "    def init_hidden(self, batch_size):\n",
        "        ''' Initializes hidden state '''\n",
        "        # Create two new tensors with sizes n_layers x batch_size x hidden_dim,\n",
        "        # initialized to zero, for hidden state and cell state of LSTM\n",
        "        weight = next(self.parameters()).data\n",
        "        \n",
        "        if (train_on_gpu):\n",
        "            hidden = (weight.new(self.n_layers, batch_size, self.hidden_dim\n",
        "                                ).zero_().cuda(),\n",
        "                  weight.new(self.n_layers, batch_size, self.hidden_dim\n",
        "                            ).zero_().cuda())\n",
        "        else:\n",
        "            hidden = (weight.new(self.n_layers, batch_size, self.hidden_dim\n",
        "                                ).zero_(),\n",
        "                      weight.new(self.n_layers, batch_size, self.hidden_dim\n",
        "                                ).zero_())\n",
        "        \n",
        "        return hidden"
      ],
      "execution_count": 0,
      "outputs": []
    },
    {
      "metadata": {
        "id": "Ti1Ko6gOsWYH",
        "colab_type": "text"
      },
      "cell_type": "markdown",
      "source": [
        "## Instantiate the network\n",
        "\n",
        "Here, we'll instantiate the network. First up, defining the hyperparameters.\n",
        "\n",
        "* `vocab_size`: Size of our vocabulary or the range of values for our input, word tokens.\n",
        "* `output_size`: Size of our desired output; the number of class scores we want to output (pos/neg).\n",
        "* `embedding_dim`: Number of columns in the embedding lookup table; size of our embeddings.\n",
        "* `hidden_dim`: Number of units in the hidden layers of our LSTM cells. Usually larger is better performance wise. Common values are 128, 256, 512, etc.\n",
        "* `n_layers`: Number of LSTM layers in the network. Typically between 1-3"
      ]
    },
    {
      "metadata": {
        "id": "ND80bDVKvVGR",
        "colab_type": "code",
        "colab": {
          "base_uri": "https://localhost:8080/",
          "height": 34
        },
        "outputId": "36425246-4697-4b0c-c1fd-d08f2c01d6c5"
      },
      "cell_type": "code",
      "source": [
        "len(vocab_to_int)"
      ],
      "execution_count": 53,
      "outputs": [
        {
          "output_type": "execute_result",
          "data": {
            "text/plain": [
              "33690"
            ]
          },
          "metadata": {
            "tags": []
          },
          "execution_count": 53
        }
      ]
    },
    {
      "metadata": {
        "id": "EebdJqW0sRX6",
        "colab_type": "code",
        "colab": {
          "base_uri": "https://localhost:8080/",
          "height": 134
        },
        "outputId": "903e03ef-c5a3-4132-b2e1-984ab6106ecf"
      },
      "cell_type": "code",
      "source": [
        "# Instantiate the model w/ hyperparams\n",
        "vocab_size = len(vocab_to_int)+1 # +1 for the 0 padding + our word tokens\n",
        "output_size = 1\n",
        "embedding_dim = 300\n",
        "hidden_dim = 256\n",
        "n_layers = 2\n",
        "\n",
        "net = SentimentRNN(vocab_size, output_size, embedding_dim, hidden_dim, n_layers)\n",
        "\n",
        "print(net)"
      ],
      "execution_count": 54,
      "outputs": [
        {
          "output_type": "stream",
          "text": [
            "SentimentRNN(\n",
            "  (embedding): Embedding(33691, 300)\n",
            "  (lstm): LSTM(300, 256, num_layers=2, batch_first=True, dropout=0.5)\n",
            "  (dropout): Dropout(p=0.3)\n",
            "  (fc): Linear(in_features=256, out_features=1, bias=True)\n",
            "  (sig): Sigmoid()\n",
            ")\n"
          ],
          "name": "stdout"
        }
      ]
    },
    {
      "metadata": {
        "id": "E3VScg1Ot4h0",
        "colab_type": "text"
      },
      "cell_type": "markdown",
      "source": [
        "## Training\n",
        "​\n",
        "Below is the typical training code. \n",
        "​\n",
        ">We'll also be using a new kind of cross entropy loss, which is designed to work with a single Sigmoid output. [BCELoss](https://pytorch.org/docs/stable/nn.html#bceloss), or **Binary Cross Entropy Loss**, applies cross entropy loss to a single value between 0 and 1.\n",
        "​\n",
        "We also have some data and training hyparameters:\n",
        "​\n",
        "* `lr`: Learning rate for our optimizer.\n",
        "* `epochs`: Number of times to iterate through the training dataset.\n",
        "* `clip`: The maximum gradient value to clip at (to prevent exploding gradients)."
      ]
    },
    {
      "metadata": {
        "id": "2RK968_4tvOI",
        "colab_type": "code",
        "colab": {}
      },
      "cell_type": "code",
      "source": [
        "# loss and optimization functions\n",
        "lr=0.001\n",
        "\n",
        "criterion = nn.BCELoss()\n",
        "optimizer = torch.optim.Adam(net.parameters(), lr=lr)"
      ],
      "execution_count": 0,
      "outputs": []
    },
    {
      "metadata": {
        "id": "CXtPMfXsuHJG",
        "colab_type": "code",
        "colab": {
          "base_uri": "https://localhost:8080/",
          "height": 790
        },
        "outputId": "d46f86b0-e7af-4649-9e11-86423f49392b"
      },
      "cell_type": "code",
      "source": [
        "\n",
        "# training params\n",
        "\n",
        "epochs = 1 # 3-4 is approx where I noticed the validation loss stop decreasing\n",
        "\n",
        "counter = 0\n",
        "print_every = 100\n",
        "clip=5 # gradient clipping\n",
        "\n",
        "train_loss = []\n",
        "val_loss1 = []\n",
        "\n",
        "# move model to GPU, if available\n",
        "if(train_on_gpu):\n",
        "    net.cuda()\n",
        "\n",
        "net.train()\n",
        "# train for some number of epochs\n",
        "for e in range(epochs):\n",
        "    # initialize hidden state\n",
        "    h = net.init_hidden(batch_size)\n",
        "\n",
        "    # batch loop\n",
        "    for inputs, labels in train_loader:\n",
        "        counter += 1\n",
        "\n",
        "        if(train_on_gpu):\n",
        "            inputs, labels = inputs.cuda(), labels.cuda()\n",
        "\n",
        "        # Creating new variables for the hidden state, otherwise\n",
        "        # we'd backprop through the entire training history\n",
        "        h = tuple([each.data for each in h])\n",
        "\n",
        "        # zero accumulated gradients\n",
        "        net.zero_grad()\n",
        "\n",
        "        # get the output from the model\n",
        "        output, h = net(inputs, h)\n",
        "\n",
        "        # calculate the loss and perform backprop\n",
        "        loss = criterion(output.squeeze(), labels.float())\n",
        "        loss.backward()\n",
        "        # `clip_grad_norm` helps prevent the exploding gradient problem in RNNs / LSTMs.\n",
        "        nn.utils.clip_grad_norm_(net.parameters(), clip)\n",
        "        optimizer.step()\n",
        "\n",
        "        # loss stats\n",
        "        if counter % print_every == 0:\n",
        "            # Get validation loss\n",
        "            val_h = net.init_hidden(batch_size)\n",
        "            val_losses = []\n",
        "            net.eval()\n",
        "            for inputs, labels in valid_loader:\n",
        "\n",
        "                # Creating new variables for the hidden state, otherwise\n",
        "                # we'd backprop through the entire training history\n",
        "                val_h = tuple([each.data for each in val_h])\n",
        "\n",
        "                if(train_on_gpu):\n",
        "                    inputs, labels = inputs.cuda(), labels.cuda()\n",
        "\n",
        "                output, val_h = net(inputs, val_h)\n",
        "                val_loss = criterion(output.squeeze(), labels.float())\n",
        "\n",
        "                val_losses.append(val_loss.item())\n",
        "\n",
        "            net.train()\n",
        "          \n",
        "            print(\"Epoch: {}/{}...\".format(e+1, epochs),\n",
        "                  \"Step: {}...\".format(counter),\n",
        "                  \"Loss: {:.6f}...\".format(loss.item()),\n",
        "                  \"Val Loss: {:.6f}\".format(np.mean(val_losses)))\n",
        "            train_loss.append(loss.item())\n",
        "            val_loss1.append(np.mean(val_losses))\n",
        "           "
      ],
      "execution_count": 56,
      "outputs": [
        {
          "output_type": "stream",
          "text": [
            "Epoch: 1/1... Step: 100... Loss: 0.472634... Val Loss: 0.379216\n",
            "Epoch: 1/1... Step: 200... Loss: 0.231517... Val Loss: 0.287716\n",
            "Epoch: 1/1... Step: 300... Loss: 0.206896... Val Loss: 0.238748\n",
            "Epoch: 1/1... Step: 400... Loss: 0.124709... Val Loss: 0.208389\n",
            "Epoch: 1/1... Step: 500... Loss: 0.128230... Val Loss: 0.211557\n",
            "Epoch: 1/1... Step: 600... Loss: 0.101588... Val Loss: 0.170217\n",
            "Epoch: 1/1... Step: 700... Loss: 0.134628... Val Loss: 0.167238\n",
            "Epoch: 1/1... Step: 800... Loss: 0.211792... Val Loss: 0.155846\n",
            "Epoch: 1/1... Step: 900... Loss: 0.342864... Val Loss: 0.137611\n",
            "Epoch: 1/1... Step: 1000... Loss: 0.027003... Val Loss: 0.129988\n",
            "Epoch: 1/1... Step: 1100... Loss: 0.182108... Val Loss: 0.132664\n",
            "Epoch: 1/1... Step: 1200... Loss: 0.046458... Val Loss: 0.124692\n",
            "Epoch: 1/1... Step: 1300... Loss: 0.083926... Val Loss: 0.112136\n",
            "Epoch: 1/1... Step: 1400... Loss: 0.284743... Val Loss: 0.116792\n",
            "Epoch: 1/1... Step: 1500... Loss: 0.022555... Val Loss: 0.103559\n",
            "Epoch: 1/1... Step: 1600... Loss: 0.061906... Val Loss: 0.100685\n",
            "Epoch: 1/1... Step: 1700... Loss: 0.154740... Val Loss: 0.095698\n",
            "Epoch: 1/1... Step: 1800... Loss: 0.069232... Val Loss: 0.092835\n",
            "Epoch: 1/1... Step: 1900... Loss: 0.075940... Val Loss: 0.091831\n",
            "Epoch: 1/1... Step: 2000... Loss: 0.077486... Val Loss: 0.085612\n",
            "Epoch: 1/1... Step: 2100... Loss: 0.037504... Val Loss: 0.085367\n",
            "Epoch: 1/1... Step: 2200... Loss: 0.033029... Val Loss: 0.082554\n",
            "Epoch: 1/1... Step: 2300... Loss: 0.068304... Val Loss: 0.077299\n",
            "Epoch: 1/1... Step: 2400... Loss: 0.016609... Val Loss: 0.075297\n",
            "Epoch: 1/1... Step: 2500... Loss: 0.105754... Val Loss: 0.072612\n",
            "Epoch: 1/1... Step: 2600... Loss: 0.093243... Val Loss: 0.070588\n",
            "Epoch: 1/1... Step: 2700... Loss: 0.330130... Val Loss: 0.066021\n",
            "Epoch: 1/1... Step: 2800... Loss: 0.039556... Val Loss: 0.070657\n",
            "Epoch: 1/1... Step: 2900... Loss: 0.016050... Val Loss: 0.067225\n",
            "Epoch: 1/1... Step: 3000... Loss: 0.193944... Val Loss: 0.061997\n",
            "Epoch: 1/1... Step: 3100... Loss: 0.194164... Val Loss: 0.065570\n",
            "Epoch: 1/1... Step: 3200... Loss: 0.004411... Val Loss: 0.059936\n",
            "Epoch: 1/1... Step: 3300... Loss: 0.030317... Val Loss: 0.055936\n",
            "Epoch: 1/1... Step: 3400... Loss: 0.004552... Val Loss: 0.064489\n",
            "Epoch: 1/1... Step: 3500... Loss: 0.065459... Val Loss: 0.058866\n",
            "Epoch: 1/1... Step: 3600... Loss: 0.043526... Val Loss: 0.053653\n",
            "Epoch: 1/1... Step: 3700... Loss: 0.014776... Val Loss: 0.057388\n",
            "Epoch: 1/1... Step: 3800... Loss: 0.036140... Val Loss: 0.055497\n",
            "Epoch: 1/1... Step: 3900... Loss: 0.002795... Val Loss: 0.054893\n",
            "Epoch: 1/1... Step: 4000... Loss: 0.100949... Val Loss: 0.049075\n",
            "Epoch: 1/1... Step: 4100... Loss: 0.217794... Val Loss: 0.058551\n",
            "Epoch: 1/1... Step: 4200... Loss: 0.004784... Val Loss: 0.048433\n",
            "Epoch: 1/1... Step: 4300... Loss: 0.010728... Val Loss: 0.049554\n",
            "Epoch: 1/1... Step: 4400... Loss: 0.014440... Val Loss: 0.047281\n",
            "Epoch: 1/1... Step: 4500... Loss: 0.003618... Val Loss: 0.046410\n",
            "Epoch: 1/1... Step: 4600... Loss: 0.044034... Val Loss: 0.044317\n"
          ],
          "name": "stdout"
        }
      ]
    },
    {
      "metadata": {
        "id": "HWLi4a6YEqMV",
        "colab_type": "text"
      },
      "cell_type": "markdown",
      "source": [
        "## **Testing the Network**"
      ]
    },
    {
      "metadata": {
        "id": "411pEhPiuUxD",
        "colab_type": "code",
        "colab": {
          "base_uri": "https://localhost:8080/",
          "height": 353
        },
        "outputId": "201824aa-0da4-49b7-a471-6c464798d8b9"
      },
      "cell_type": "code",
      "source": [
        "# Get test data loss and accuracy\n",
        "\n",
        "test_losses = [] # track loss\n",
        "num_correct = 0\n",
        "pred_tens = [] # Track preds\n",
        "\n",
        "# init hidden state\n",
        "h = net.init_hidden(batch_size)\n",
        "\n",
        "net.eval()\n",
        "# iterate over test data\n",
        "for inputs, labels in test_loader:\n",
        "\n",
        "    # Creating new variables for the hidden state, otherwise\n",
        "    # we'd backprop through the entire training history\n",
        "    h = tuple([each.data for each in h])\n",
        "\n",
        "    if(train_on_gpu):\n",
        "        inputs, labels = inputs.cuda(), labels.cuda()\n",
        "    \n",
        "    # get predicted outputs\n",
        "    output, h = net(inputs, h)\n",
        "    \n",
        "    # calculate loss\n",
        "    test_loss = criterion(output.squeeze(), labels.float())\n",
        "    test_losses.append(test_loss.item())\n",
        "    \n",
        "    # convert output probabilities to predicted class (0 or 1)\n",
        "    pred = torch.round(output.squeeze())  # rounds to the nearest integer\n",
        "    pred_tens.append(pred.cpu().detach().numpy())\n",
        "    \n",
        "    # compare predictions to true label\n",
        "    correct_tensor = pred.eq(labels.float().view_as(pred))\n",
        "    correct = np.squeeze(correct_tensor.numpy()) if not train_on_gpu else np.squeeze(correct_tensor.cpu().numpy())\n",
        "    num_correct += np.sum(correct)\n",
        "\n",
        "\n",
        "# -- stats! -- ##\n",
        "# avg test loss\n",
        "print(\"Test loss: {:.3f}\".format(np.mean(test_losses)))\n",
        "\n",
        "# accuracy over all test data\n",
        "test_acc = num_correct/len(test_loader.dataset)\n",
        "print(\"Test accuracy: {:.3f}\".format(test_acc))\n",
        "\n",
        "#Flatten list of lists containing predictions\n",
        "flat_list = [item.astype(int) for sublist in pred_tens for item in sublist]\n",
        "\n",
        "#Convert list to np array\n",
        "pred_array = np.asarray(flat_list)\n",
        "\n",
        "# Check the solution against the data.\n",
        "cm = pd.crosstab(pred_array, test_y, rownames=['True'], \n",
        "                 colnames=['Predicted'], margins=True)\n",
        "print(\"\\nConfusion Matrix:  \\n\", cm)\n",
        "print(\"\\n                    Classification Report \\n\",\n",
        "      classification_report(flat_list, test_y))"
      ],
      "execution_count": 57,
      "outputs": [
        {
          "output_type": "stream",
          "text": [
            "Test loss: 0.047\n",
            "Test accuracy: 0.984\n",
            "\n",
            "Confusion Matrix:  \n",
            " Predicted     0     1    All\n",
            "True                        \n",
            "0          8529   152   8681\n",
            "1           127  8622   8749\n",
            "All        8656  8774  17430\n",
            "\n",
            "                    Classification Report \n",
            "               precision    recall  f1-score   support\n",
            "\n",
            "           0       0.99      0.98      0.98      8681\n",
            "           1       0.98      0.99      0.98      8749\n",
            "\n",
            "   micro avg       0.98      0.98      0.98     17430\n",
            "   macro avg       0.98      0.98      0.98     17430\n",
            "weighted avg       0.98      0.98      0.98     17430\n",
            "\n"
          ],
          "name": "stdout"
        }
      ]
    },
    {
      "metadata": {
        "id": "PUxlOGPDanTu",
        "colab_type": "code",
        "colab": {
          "base_uri": "https://localhost:8080/",
          "height": 280
        },
        "outputId": "4d80aef9-b788-4664-e503-628934cbaebe"
      },
      "cell_type": "code",
      "source": [
        "fig=plt.figure()\n",
        "fig.show()\n",
        "ax=fig.add_subplot(111)\n",
        "ax.plot(train_loss, c='b', label='Training Loss')\n",
        "ax.plot(val_loss1, c='r', label='Validation Loss')\n",
        "plt.xlim(0,40)\n",
        "\n",
        "plt.legend(loc='upper right', frameon=True)\n",
        "plt.title('Training vs Validation Loss')\n",
        "#plt.savefig('trainvalloss.png', dpi=300)\n",
        "#files.download('trainvalloss.png')\n",
        "plt.show()"
      ],
      "execution_count": 58,
      "outputs": [
        {
          "output_type": "display_data",
          "data": {
            "image/png": "[encoded data removed]",
            "text/plain": [
              "<Figure size 432x288 with 1 Axes>"
            ]
          },
          "metadata": {
            "tags": []
          }
        }
      ]
    },
    {
      "metadata": {
        "id": "u8JT7RuI71Tl",
        "colab_type": "text"
      },
      "cell_type": "markdown",
      "source": [
        "## **Validating the Classifier**"
      ]
    },
    {
      "metadata": {
        "id": "XtpHAr3kcPWj",
        "colab_type": "code",
        "colab": {
          "base_uri": "https://localhost:8080/",
          "height": 509
        },
        "outputId": "13f3c21e-8325-4f3d-bfc3-ef19776bbc4e"
      },
      "cell_type": "code",
      "source": [
        "# Precison Recall Curve\n",
        "\n",
        "precision, recall, threshold = precision_recall_curve(test_y, pred_array)\n",
        "\n",
        "# Defining a new function to plot the precision-recall curve\n",
        "def plot_precision_and_recall(precision, recall, threshold):\n",
        "    plt.plot(threshold, precision[:-1], \"r-\", label=\"Precision\", linewidth=3)\n",
        "    plt.plot(threshold, recall[:-1], \"b\", label=\"Recall\", linewidth=3)\n",
        "    plt.xlabel(\"Threshold\", fontsize=19)\n",
        "    plt.legend(loc=\"lower right\", fontsize=19, frameon=True)\n",
        "\n",
        "plt.figure(figsize=(10, 7))\n",
        "plot_precision_and_recall(precision, recall, threshold)\n",
        "plt.tight_layout()\n",
        "#plt.savefig('Precision Recall.png', dpi=300)\n",
        "#files.download('Precision Recall.png')\n",
        "plt.show()"
      ],
      "execution_count": 59,
      "outputs": [
        {
          "output_type": "display_data",
          "data": {
            "image/png": "[encoded data removed]",
            "text/plain": [
              "<Figure size 720x504 with 1 Axes>"
            ]
          },
          "metadata": {
            "tags": []
          }
        }
      ]
    },
    {
      "metadata": {
        "id": "00kh85dmdfza",
        "colab_type": "code",
        "colab": {
          "base_uri": "https://localhost:8080/",
          "height": 581
        },
        "outputId": "672bd3ca-19eb-4184-941b-7a7b3b761e61"
      },
      "cell_type": "code",
      "source": [
        "# ROC Curve\n",
        "\n",
        "# Compute the true positive and false positive rate\n",
        "false_positive_rate, true_positive_rate, thresholds = roc_curve(\n",
        "    test_y, pred_array)\n",
        "\n",
        "# Plotting the true positive and false positive rate\n",
        "def plot_roc_curve(false_positive_rate, true_positive_rate, label=None):\n",
        "    roc_auc = metrics.auc(false_positive_rate, true_positive_rate)\n",
        "    plt.plot(false_positive_rate, true_positive_rate, 'b',\n",
        "             linewidth=3, label='ROC curve (area = {0:.2f})'.format(roc_auc))\n",
        "    plt.plot([0, 1], [0, 1], 'ro--', label='Naive Classifier',\n",
        "             linewidth=3)\n",
        "    plt.xlabel('False Positive Rate (FPR)', fontsize=16)\n",
        "    plt.ylabel('True Positive Rate (TPR)', fontsize=16)\n",
        "    plt.legend(loc=\"lower right\", fontsize=16)\n",
        "\n",
        "plt.figure(figsize=(10, 8))\n",
        "plot_roc_curve(false_positive_rate, true_positive_rate)\n",
        "plt.title('Receiver Operating Characteristic Curve', size = 20)\n",
        "plt.tight_layout()\n",
        "#plt.savefig('ROC Curve.png', dpi=300)\n",
        "#files.download('ROC Curve.png')\n",
        "plt.show()"
      ],
      "execution_count": 60,
      "outputs": [
        {
          "output_type": "display_data",
          "data": {
            "image/png": "[encoded data removed]",
            "text/plain": [
              "<Figure size 720x576 with 1 Axes>"
            ]
          },
          "metadata": {
            "tags": []
          }
        }
      ]
    },
    {
      "metadata": {
        "id": "b6DJJ-F3Xj5S",
        "colab_type": "code",
        "colab": {}
      },
      "cell_type": "code",
      "source": [
        "#torch.save(net.state_dict(), '/content/gdrive/My Drive/Data Science/net.pth')"
      ],
      "execution_count": 0,
      "outputs": []
    },
    {
      "metadata": {
        "id": "FBEeFE3RNuQn",
        "colab_type": "code",
        "colab": {}
      },
      "cell_type": "code",
      "source": [
        "#PATH = '/content/gdrive/My Drive/Data Science'\n",
        "#torch.save(\n",
        "#SentimentRNN, '/content/gdrive/My Drive/Data Science/SentimentRNN.pth')\n"
      ],
      "execution_count": 0,
      "outputs": []
    },
    {
      "metadata": {
        "id": "UcUFKLYnieB9",
        "colab_type": "text"
      },
      "cell_type": "markdown",
      "source": [
        "## Testing Brand New Tweets"
      ]
    },
    {
      "metadata": {
        "id": "RiT5srQzKrDQ",
        "colab_type": "code",
        "colab": {}
      },
      "cell_type": "code",
      "source": [
        "from string import punctuation\n",
        "\n",
        "def tokenize_comment(test_comment):\n",
        "    \n",
        "    # Remove URLs\n",
        "    test_comment = test_comment.replace('https?://[A-Za-z0-9./]+','')\n",
        "    \n",
        "    # Keep Hashtag text\n",
        "    test_comment = test_comment.replace(\"[^a-zA-Z]\", \" \")\n",
        "    \n",
        "    # Remove whitespace\n",
        "    #test_comment = test_comment.replace(' ', '')\n",
        "    \n",
        "    # Remove 1-2 letter words\n",
        "    test_comment = test_comment.replace(\"r'\\b\\w{1,2}\\b\", '')\n",
        "    \n",
        "    # Remove numbers\n",
        "    test_comment = test_comment.replace('\\d+', '')\n",
        "    \n",
        "    # Lowercase\n",
        "    test_comment = test_comment.lower() # lowercase\n",
        "    \n",
        "    # get rid of punctuation\n",
        "    test_text = ''.join([c for c in test_comment if c not in punctuation])\n",
        "    \n",
        "    # Remove Stopwords\n",
        "    #test_text = ''.join([word for word in test_text.split() if word not in (stop)])\n",
        "    \n",
        "    # splitting by spaces\n",
        "    test_words = [word for word in test_text.split() if word not in (stop)]\n",
        "\n",
        "    # tokens\n",
        "    test_ints = []\n",
        "    test_ints.append([vocab_to_int[word] for word in test_words if word in vocab])\n",
        "\n",
        "    return test_ints\n"
      ],
      "execution_count": 0,
      "outputs": []
    },
    {
      "metadata": {
        "id": "ktwD0x6ZKu-F",
        "colab_type": "code",
        "colab": {}
      },
      "cell_type": "code",
      "source": [
        "# test sequence padding\n",
        "#seq_length=26\n",
        "#neg_features = pad_features(test_ints_neg, seq_length)\n",
        "#pos_features = pad_features(test_ints_pos, seq_length)"
      ],
      "execution_count": 0,
      "outputs": []
    },
    {
      "metadata": {
        "id": "sghvRJ7ePl2g",
        "colab_type": "code",
        "colab": {}
      },
      "cell_type": "code",
      "source": [
        "# test conversion to tensor and pass into your model\n",
        "#neg_feature_tensor = torch.from_numpy(neg_features)\n",
        "#pos_feature_tensor = torch.from_numpy(pos_features)"
      ],
      "execution_count": 0,
      "outputs": []
    },
    {
      "metadata": {
        "id": "2F1guDJuPpWV",
        "colab_type": "code",
        "colab": {}
      },
      "cell_type": "code",
      "source": [
        "def predict(net, test_comment, sequence_length=43):\n",
        "    \n",
        "    net.eval()\n",
        "    \n",
        "    # tokenize review\n",
        "    test_ints = tokenize_comment(test_comment)\n",
        "    \n",
        "    # pad tokenized sequence\n",
        "    seq_length=sequence_length\n",
        "    features = pad_features(test_ints, seq_length)\n",
        "    \n",
        "    # convert to tensor to pass into your model\n",
        "    feature_tensor = torch.from_numpy(features)\n",
        "    \n",
        "    batch_size = feature_tensor.size(0)\n",
        "    \n",
        "    # initialize hidden state\n",
        "    h = net.init_hidden(batch_size)\n",
        "    \n",
        "    if(train_on_gpu):\n",
        "        feature_tensor = feature_tensor.cuda()\n",
        "    \n",
        "    # get the output from the model\n",
        "    output, h = net(feature_tensor, h)\n",
        "    \n",
        "    # convert output probabilities to predicted class (0 or 1)\n",
        "    pred = torch.round(output.squeeze()) \n",
        "    # printing output value, before rounding\n",
        "    print('Prediction value, pre-rounding: {:.6f}'.format(output.item()))\n",
        "    \n",
        "    # print custom response\n",
        "    if(pred.item()==1):\n",
        "        print(\"Positive comment detected!\")\n",
        "    else:\n",
        "        print(\"Negative comment detected.\")"
      ],
      "execution_count": 0,
      "outputs": []
    },
    {
      "metadata": {
        "id": "auhpBi-_KlOa",
        "colab_type": "code",
        "colab": {}
      },
      "cell_type": "code",
      "source": [
        "# negative test comment\n",
        "test_comment_neg = \"Ashamed of my country today. This ban in hurtful and completely unnecessary. @realDonaldTrump, for someone so seemingly obsessed with national security, why are you stripping the rights of people who just want to protect us?! #transmilitaryban\"\n",
        "test_comment_neg2 = \"This is bad!\"\n",
        "live_test_neg = \"\"\n",
        "\n",
        "# positive test comment\n",
        "test_comment_pos = \"Christopher Nolan is the kind of man who is given a release date for a film that has no title, probably just a draft of a script, and no cast. If that’s not POWER than I don’t know what is. #ChristopherNolan #King\"\n",
        "test_comment_pos2 = \"This is good.\"\n",
        "live_test_pos = \"\""
      ],
      "execution_count": 0,
      "outputs": []
    },
    {
      "metadata": {
        "id": "yDmnHEiIPt4A",
        "colab_type": "code",
        "colab": {
          "base_uri": "https://localhost:8080/",
          "height": 50
        },
        "outputId": "760f0444-6398-411b-b0a9-f16b8482c49f"
      },
      "cell_type": "code",
      "source": [
        "# Negative test 1\n",
        "seq_length=26 # good to use the length that was trained on\n",
        "\n",
        "predict(net, test_comment_neg, seq_length)"
      ],
      "execution_count": 67,
      "outputs": [
        {
          "output_type": "stream",
          "text": [
            "Prediction value, pre-rounding: 0.082063\n",
            "Negative comment detected.\n"
          ],
          "name": "stdout"
        }
      ]
    },
    {
      "metadata": {
        "id": "-VEqXttqSBhv",
        "colab_type": "code",
        "colab": {
          "base_uri": "https://localhost:8080/",
          "height": 50
        },
        "outputId": "27949299-e311-408d-e831-223d699a66e7"
      },
      "cell_type": "code",
      "source": [
        "# Negative test 2\n",
        "seq_length=26 \n",
        "predict(net, test_comment_neg2, seq_length)"
      ],
      "execution_count": 68,
      "outputs": [
        {
          "output_type": "stream",
          "text": [
            "Prediction value, pre-rounding: 0.000469\n",
            "Negative comment detected.\n"
          ],
          "name": "stdout"
        }
      ]
    },
    {
      "metadata": {
        "id": "4NvLXn11P0lO",
        "colab_type": "code",
        "colab": {
          "base_uri": "https://localhost:8080/",
          "height": 50
        },
        "outputId": "9f5f3884-179c-4b62-c4f8-ed687e57d974"
      },
      "cell_type": "code",
      "source": [
        "# Positive Test 1\n",
        "seq_length=26 \n",
        "\n",
        "predict(net, test_comment_pos, seq_length)"
      ],
      "execution_count": 69,
      "outputs": [
        {
          "output_type": "stream",
          "text": [
            "Prediction value, pre-rounding: 0.965575\n",
            "Positive comment detected!\n"
          ],
          "name": "stdout"
        }
      ]
    },
    {
      "metadata": {
        "id": "Az1VUUTAk1_H",
        "colab_type": "code",
        "colab": {
          "base_uri": "https://localhost:8080/",
          "height": 50
        },
        "outputId": "c8c609cc-f51e-4d6a-bef5-7e7dea3d36c7"
      },
      "cell_type": "code",
      "source": [
        "# Positive Test 2\n",
        "seq_length=26 \n",
        "predict(net, test_comment_pos2, seq_length)"
      ],
      "execution_count": 70,
      "outputs": [
        {
          "output_type": "stream",
          "text": [
            "Prediction value, pre-rounding: 0.996993\n",
            "Positive comment detected!\n"
          ],
          "name": "stdout"
        }
      ]
    },
    {
      "metadata": {
        "id": "CRZxJnBJY-vm",
        "colab_type": "code",
        "colab": {}
      },
      "cell_type": "code",
      "source": [
        "if 1==0:\n",
        "  # Live test \n",
        "  seq_length=26 \n",
        "  print(predict(net, live_test_pos, seq_length))\n",
        "  print('\\n')\n",
        "  print(predict(net, live_test_neg, seq_length))"
      ],
      "execution_count": 0,
      "outputs": []
    },
    {
      "metadata": {
        "id": "huSnfWX5n_FX",
        "colab_type": "code",
        "colab": {}
      },
      "cell_type": "code",
      "source": [
        ""
      ],
      "execution_count": 0,
      "outputs": []
    },
    {
      "metadata": {
        "id": "Q0lyh_6hrcrn",
        "colab_type": "text"
      },
      "cell_type": "markdown",
      "source": [
        "# **Conclusion**\n",
        "\n",
        "\n",
        "\n",
        "\n",
        "\n",
        "\n"
      ]
    },
    {
      "metadata": {
        "id": "yatHxHvVsvMB",
        "colab_type": "text"
      },
      "cell_type": "markdown",
      "source": [
        "\n",
        "1.  The LSTM RNN was better at classifiying tweets as positive or negative as compared to a Random Forest Classifier.\n",
        "2.  The presence of stop words does not seem to impair the RNN.\n",
        "3. The RNN does struggle with short and simple negative comments. This could be due to:\n",
        "\n",
        "    *   The limited vocabulary present in the corpus.\n",
        "    *   A lack of context.\n",
        " "
      ]
    },
    {
      "metadata": {
        "id": "EXlZWMwnsxQQ",
        "colab_type": "text"
      },
      "cell_type": "markdown",
      "source": [
        "# **Future Work**\n",
        "\n"
      ]
    },
    {
      "metadata": {
        "id": "uKT6ZFfwsxEs",
        "colab_type": "text"
      },
      "cell_type": "markdown",
      "source": [
        "\n",
        "*   The next investigative work I plan to do is to feed the RNN an embedding layer trained with Word2Vec or Sense2Vec weights. This could illuminate if the contextual issue is why the test string failed.\n",
        "* Additionally I will investigate using part of pseech tagging to improve the model.\n",
        "*   I would also like to add more data to my dataset, pulling tweets using filters based on product brands and entertainment. \n",
        "* Lastly I would like to develop a multi label classifier that predicts neutral sentiment as well.\n",
        "\n"
      ]
    },
    {
      "metadata": {
        "id": "tZvFoY_2srte",
        "colab_type": "code",
        "colab": {}
      },
      "cell_type": "code",
      "source": [
        ""
      ],
      "execution_count": 0,
      "outputs": []
    }
  ]
}