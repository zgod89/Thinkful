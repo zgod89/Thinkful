{
  "nbformat": 4,
  "nbformat_minor": 0,
  "metadata": {
    "colab": {
      "name": "Final Capstone.ipynb",
      "version": "0.3.2",
      "provenance": [],
      "collapsed_sections": [],
      "toc_visible": true
    },
    "kernelspec": {
      "name": "python3",
      "display_name": "Python 3"
    },
    "accelerator": "GPU"
  },
  "cells": [
    {
      "metadata": {
        "id": "DZfnbg7GvAUb",
        "colab_type": "text"
      },
      "cell_type": "markdown",
      "source": [
        "# **Project Goals**\n",
        "\n",
        "This project effectively aims to build a Sentiment Classifier using an LSTM Neural Network . Within that scope I have the following sub goals:\n",
        "\n",
        "\n",
        "1.   Evaluate the difference in error between an LSTM NN trained on a full tweet, and one trained on a preprocessed tweet.\n",
        "2.   Evaluate the impact of removing stop words during preprocessing.\n",
        "\n",
        "\n",
        "\n"
      ]
    },
    {
      "metadata": {
        "id": "5qWWgHIfYRFE",
        "colab_type": "text"
      },
      "cell_type": "markdown",
      "source": [
        "# **Imports**"
      ]
    },
    {
      "metadata": {
        "id": "LzhOzemg687s",
        "colab_type": "code",
        "outputId": "334de358-f555-497f-a38a-25d81f9bf0a7",
        "colab": {
          "base_uri": "https://localhost:8080/",
          "height": 151
        }
      },
      "cell_type": "code",
      "source": [
        "# General\n",
        "import warnings\n",
        "import numpy as np\n",
        "import pandas as pd\n",
        "import nltk\n",
        "import random\n",
        "import os\n",
        "import re\n",
        "import string\n",
        "import statsmodels.api as sm\n",
        "from os import path\n",
        "from PIL import Image\n",
        "from time import time\n",
        "from tqdm import tqdm\n",
        "tqdm.pandas(desc=\"progress-bar\")\n",
        "\n",
        "# sklearn analytics\n",
        "import seaborn as sns\n",
        "import matplotlib.pyplot as plt\n",
        "%matplotlib inline\n",
        "import matplotlib as mpl\n",
        "import matplotlib.cm as cm\n",
        "from sklearn import metrics\n",
        "from sklearn.metrics import classification_report\n",
        "from sklearn.metrics import f1_score, accuracy_score\n",
        "from sklearn.metrics import confusion_matrix\n",
        "from sklearn.model_selection import cross_val_predict\n",
        "from sklearn.model_selection import train_test_split\n",
        "from sklearn.model_selection import cross_val_score\n",
        "\n",
        "# Models\n",
        "from sklearn import cluster, utils\n",
        "from sklearn.cluster import KMeans\n",
        "from sklearn.svm import LinearSVC\n",
        "from sklearn.naive_bayes import GaussianNB\n",
        "from sklearn.ensemble import RandomForestClassifier\n",
        "from sklearn.linear_model import LogisticRegression\n",
        "from gensim.models import Doc2Vec\n",
        "from gensim.models.doc2vec import TaggedDocument\n",
        "\n",
        "# Text Preprocessing\n",
        "from sklearn.feature_extraction import text\n",
        "from sklearn.feature_extraction.text import TfidfVectorizer, TfidfTransformer\n",
        "from sklearn.decomposition import TruncatedSVD\n",
        "from sklearn.preprocessing import Normalizer\n",
        "from sklearn.pipeline import make_pipeline\n",
        "\n",
        "# NLP\n",
        "from nltk import sent_tokenize, word_tokenize\n",
        "from nltk.corpus import stopwords\n",
        "nltk.download('stopwords')\n",
        "nltk.download('wordnet')\n",
        "nltk.download('punkt')\n",
        "stopwords = stopwords.words('english')\n",
        "from collections import Counter\n",
        "\n",
        "# Set Plot Theme\n",
        "sns.set_palette([\n",
        "    \"#30a2da\",\n",
        "    \"#fc4f30\",\n",
        "    \"#e5ae38\",\n",
        "    \"#6d904f\",\n",
        "    \"#551A8B\",\n",
        "])\n",
        "\n",
        "# Warnings\n",
        "warnings.filterwarnings('ignore')\n",
        "\n",
        "#Other\n",
        "from google.colab import drive, files\n",
        "drive.mount('/content/gdrive', force_remount=True)\n",
        "\n",
        "\n",
        "from textblob import TextBlob\n",
        "\n",
        "\n",
        "from os.path import exists\n",
        "from wheel.pep425tags import get_abbr_impl, get_impl_ver, get_abi_tag\n",
        "platform = '{}{}-{}'.format(get_abbr_impl(), get_impl_ver(), get_abi_tag())\n",
        "cuda_output = !ldconfig -p|grep cudart.so|sed -e 's/.*\\.\\([0-9]*\\)\\.\\([0-9]*\\)$/cu\\1\\2/'\n",
        "accelerator = cuda_output[0] if exists('/dev/nvidia0') else 'cpu'\n",
        "\n",
        "!pip install -q http://download.pytorch.org/whl/{accelerator}/torch-0.4.1-{platform}-linux_x86_64.whl torchvision\n",
        "import torch\n",
        "import torchvision\n",
        "\n",
        "\n",
        "# we will verify that GPU is enabled for this notebook\n",
        "# following should print: CUDA is available!  Training on GPU ...\n",
        "# \n",
        "# if it prints otherwise, then you need to enable GPU: \n",
        "# from Menu > Runtime > Change Runtime Type > Hardware Accelerator > GPU\n",
        "\n",
        "# check if CUDA is available\n",
        "train_on_gpu = torch.cuda.is_available()\n",
        "\n",
        "if not train_on_gpu:\n",
        "    print('CUDA is not available.  Training on CPU ...')\n",
        "else:\n",
        "    print('CUDA is available!  Training on GPU ...')"
      ],
      "execution_count": 87,
      "outputs": [
        {
          "output_type": "stream",
          "text": [
            "[nltk_data] Downloading package stopwords to /root/nltk_data...\n",
            "[nltk_data]   Package stopwords is already up-to-date!\n",
            "[nltk_data] Downloading package wordnet to /root/nltk_data...\n",
            "[nltk_data]   Package wordnet is already up-to-date!\n",
            "[nltk_data] Downloading package punkt to /root/nltk_data...\n",
            "[nltk_data]   Package punkt is already up-to-date!\n",
            "Mounted at /content/gdrive\n",
            "CUDA is available!  Training on GPU ...\n"
          ],
          "name": "stdout"
        }
      ]
    },
    {
      "metadata": {
        "id": "vn9TNLgW7GM_",
        "colab_type": "code",
        "outputId": "9a3c0503-b42f-496e-94a4-dc12065c8702",
        "colab": {
          "base_uri": "https://localhost:8080/",
          "height": 50
        }
      },
      "cell_type": "code",
      "source": [
        "# Read and Peak at Data\n",
        "df = pd.read_csv('/content/gdrive/My Drive/Data Science/trump.csv', sep='\\t') \n",
        "\n",
        "# Extracting Missing Count and Unique Count by Column\n",
        "unique_count = []\n",
        "for x in df.columns:\n",
        "    unique_count.append([x, len(df[x].unique()), df[x].isnull().sum()])\n",
        "\n",
        "# Missing Values\n",
        "print(\"Missing Values: {}\".format(df.isnull().sum().sum()))\n",
        "\n",
        "# Data Dimensions\n",
        "print(\"Dataframe Dimension: {} Rows, {} Columns\".format(*df.shape))\n",
        "\n",
        "# Convert to tweet to string\n",
        "df['tweet'] = df['tweet'].astype(str)\n",
        "\n",
        "# Create New Variables:\n",
        "# Word Length\n",
        "df[\"word_count\"] = df['tweet'].str.split().apply(len)\n",
        "# Character Length\n",
        "df[\"character_count\"] = df['tweet'].apply(len)"
      ],
      "execution_count": 2,
      "outputs": [
        {
          "output_type": "stream",
          "text": [
            "Missing Values: 184956\n",
            "Dataframe Dimension: 430228 Rows, 5 Columns\n"
          ],
          "name": "stdout"
        }
      ]
    },
    {
      "metadata": {
        "id": "TCxrDwKIP3sh",
        "colab_type": "code",
        "colab": {
          "base_uri": "https://localhost:8080/",
          "height": 195
        },
        "outputId": "42213a6b-05ea-425e-d343-6eed53f24ea7"
      },
      "cell_type": "code",
      "source": [
        "df.head()"
      ],
      "execution_count": 3,
      "outputs": [
        {
          "output_type": "execute_result",
          "data": {
            "text/html": [
              "<div>\n",
              "<style scoped>\n",
              "    .dataframe tbody tr th:only-of-type {\n",
              "        vertical-align: middle;\n",
              "    }\n",
              "\n",
              "    .dataframe tbody tr th {\n",
              "        vertical-align: top;\n",
              "    }\n",
              "\n",
              "    .dataframe thead th {\n",
              "        text-align: right;\n",
              "    }\n",
              "</style>\n",
              "<table border=\"1\" class=\"dataframe\">\n",
              "  <thead>\n",
              "    <tr style=\"text-align: right;\">\n",
              "      <th></th>\n",
              "      <th>time</th>\n",
              "      <th>tweet</th>\n",
              "      <th>id</th>\n",
              "      <th>username</th>\n",
              "      <th>location</th>\n",
              "      <th>word_count</th>\n",
              "      <th>character_count</th>\n",
              "    </tr>\n",
              "  </thead>\n",
              "  <tbody>\n",
              "    <tr>\n",
              "      <th>0</th>\n",
              "      <td>1547856694.7658603</td>\n",
              "      <td>'RT @SethAbramson: In case you missed it: what...</td>\n",
              "      <td>79549</td>\n",
              "      <td>SmithEckert13</td>\n",
              "      <td>Fort Wayne, IN</td>\n",
              "      <td>25</td>\n",
              "      <td>155</td>\n",
              "    </tr>\n",
              "    <tr>\n",
              "      <th>1</th>\n",
              "      <td>1547856694.7953787</td>\n",
              "      <td>'RT @RonWyden: Incredible. More luxury travel ...</td>\n",
              "      <td>79550</td>\n",
              "      <td>QueenTAG</td>\n",
              "      <td>Scotts Valley, CA</td>\n",
              "      <td>22</td>\n",
              "      <td>149</td>\n",
              "    </tr>\n",
              "    <tr>\n",
              "      <th>2</th>\n",
              "      <td>1547856694.8134415</td>\n",
              "      <td>'President Trump Directed Michael Cohen To Lie...</td>\n",
              "      <td>79551</td>\n",
              "      <td>vkrgz</td>\n",
              "      <td>Dünyanın içinden</td>\n",
              "      <td>16</td>\n",
              "      <td>125</td>\n",
              "    </tr>\n",
              "    <tr>\n",
              "      <th>3</th>\n",
              "      <td>1547856694.8526797</td>\n",
              "      <td>'RT @TeaPainUSA: Tea would wager that Trump in...</td>\n",
              "      <td>79552</td>\n",
              "      <td>ChazGohVan</td>\n",
              "      <td>Jupiter UNIVERSE</td>\n",
              "      <td>26</td>\n",
              "      <td>147</td>\n",
              "    </tr>\n",
              "    <tr>\n",
              "      <th>4</th>\n",
              "      <td>1547856694.904921</td>\n",
              "      <td>'RT @BruceBartlett: There is one person in Ame...</td>\n",
              "      <td>79553</td>\n",
              "      <td>JudyPrincz</td>\n",
              "      <td>Manhattan, NY</td>\n",
              "      <td>24</td>\n",
              "      <td>147</td>\n",
              "    </tr>\n",
              "  </tbody>\n",
              "</table>\n",
              "</div>"
            ],
            "text/plain": [
              "                 time                                              tweet  \\\n",
              "0  1547856694.7658603  'RT @SethAbramson: In case you missed it: what...   \n",
              "1  1547856694.7953787  'RT @RonWyden: Incredible. More luxury travel ...   \n",
              "2  1547856694.8134415  'President Trump Directed Michael Cohen To Lie...   \n",
              "3  1547856694.8526797  'RT @TeaPainUSA: Tea would wager that Trump in...   \n",
              "4   1547856694.904921  'RT @BruceBartlett: There is one person in Ame...   \n",
              "\n",
              "      id       username           location  word_count  character_count  \n",
              "0  79549  SmithEckert13     Fort Wayne, IN          25              155  \n",
              "1  79550       QueenTAG  Scotts Valley, CA          22              149  \n",
              "2  79551          vkrgz   Dünyanın içinden          16              125  \n",
              "3  79552     ChazGohVan   Jupiter UNIVERSE          26              147  \n",
              "4  79553     JudyPrincz      Manhattan, NY          24              147  "
            ]
          },
          "metadata": {
            "tags": []
          },
          "execution_count": 3
        }
      ]
    },
    {
      "metadata": {
        "id": "hkodBHkYA4Q2",
        "colab_type": "code",
        "colab": {
          "base_uri": "https://localhost:8080/",
          "height": 284
        },
        "outputId": "e4841fa8-55ec-4f10-bc26-485904350206"
      },
      "cell_type": "code",
      "source": [
        "df.describe()"
      ],
      "execution_count": 4,
      "outputs": [
        {
          "output_type": "execute_result",
          "data": {
            "text/html": [
              "<div>\n",
              "<style scoped>\n",
              "    .dataframe tbody tr th:only-of-type {\n",
              "        vertical-align: middle;\n",
              "    }\n",
              "\n",
              "    .dataframe tbody tr th {\n",
              "        vertical-align: top;\n",
              "    }\n",
              "\n",
              "    .dataframe thead th {\n",
              "        text-align: right;\n",
              "    }\n",
              "</style>\n",
              "<table border=\"1\" class=\"dataframe\">\n",
              "  <thead>\n",
              "    <tr style=\"text-align: right;\">\n",
              "      <th></th>\n",
              "      <th>word_count</th>\n",
              "      <th>character_count</th>\n",
              "    </tr>\n",
              "  </thead>\n",
              "  <tbody>\n",
              "    <tr>\n",
              "      <th>count</th>\n",
              "      <td>430228.000000</td>\n",
              "      <td>430228.000000</td>\n",
              "    </tr>\n",
              "    <tr>\n",
              "      <th>mean</th>\n",
              "      <td>18.674238</td>\n",
              "      <td>122.972138</td>\n",
              "    </tr>\n",
              "    <tr>\n",
              "      <th>std</th>\n",
              "      <td>6.134861</td>\n",
              "      <td>33.739280</td>\n",
              "    </tr>\n",
              "    <tr>\n",
              "      <th>min</th>\n",
              "      <td>1.000000</td>\n",
              "      <td>1.000000</td>\n",
              "    </tr>\n",
              "    <tr>\n",
              "      <th>25%</th>\n",
              "      <td>16.000000</td>\n",
              "      <td>122.000000</td>\n",
              "    </tr>\n",
              "    <tr>\n",
              "      <th>50%</th>\n",
              "      <td>20.000000</td>\n",
              "      <td>140.000000</td>\n",
              "    </tr>\n",
              "    <tr>\n",
              "      <th>75%</th>\n",
              "      <td>23.000000</td>\n",
              "      <td>140.000000</td>\n",
              "    </tr>\n",
              "    <tr>\n",
              "      <th>max</th>\n",
              "      <td>37.000000</td>\n",
              "      <td>258.000000</td>\n",
              "    </tr>\n",
              "  </tbody>\n",
              "</table>\n",
              "</div>"
            ],
            "text/plain": [
              "          word_count  character_count\n",
              "count  430228.000000    430228.000000\n",
              "mean       18.674238       122.972138\n",
              "std         6.134861        33.739280\n",
              "min         1.000000         1.000000\n",
              "25%        16.000000       122.000000\n",
              "50%        20.000000       140.000000\n",
              "75%        23.000000       140.000000\n",
              "max        37.000000       258.000000"
            ]
          },
          "metadata": {
            "tags": []
          },
          "execution_count": 4
        }
      ]
    },
    {
      "metadata": {
        "id": "-ApQWoqeUV0-",
        "colab_type": "code",
        "colab": {
          "base_uri": "https://localhost:8080/",
          "height": 34
        },
        "outputId": "d163abb7-5750-4cac-9d99-e9756bfbd8e5"
      },
      "cell_type": "code",
      "source": [
        "df.tweet[5000]"
      ],
      "execution_count": 5,
      "outputs": [
        {
          "output_type": "execute_result",
          "data": {
            "text/plain": [
              "'RT @Chef_Epsimos: @shannonrwatts Everyone should start tweeting trump #PresidentPelosi'"
            ]
          },
          "metadata": {
            "tags": []
          },
          "execution_count": 5
        }
      ]
    },
    {
      "metadata": {
        "id": "feteuzh0YGP-",
        "colab_type": "text"
      },
      "cell_type": "markdown",
      "source": [
        "# **Data Cleaning**"
      ]
    },
    {
      "metadata": {
        "id": "9ssbbPcxBqbj",
        "colab_type": "code",
        "colab": {
          "base_uri": "https://localhost:8080/",
          "height": 195
        },
        "outputId": "c1dd0610-acc5-4f95-fa33-232d81913281"
      },
      "cell_type": "code",
      "source": [
        "\n",
        "# Importing SKLearn's list of stopwords and \n",
        "# then appending with my own words\n",
        "stop = text.ENGLISH_STOP_WORDS\n",
        "      \n",
        "# Basic text cleaning function that also removes stopwords\n",
        "def remove_noise(text):\n",
        "\n",
        "    # Remove Mentions\n",
        "   # text = text.apply(lambda x: re.compile('\\#').sub('', re.compile(\n",
        "        #'RT @').sub('@', x, count=1).strip()))\n",
        "    \n",
        "    # Remove URLs\n",
        "    text = text.str.replace('https?://[A-Za-z0-9./]+','')\n",
        "    \n",
        "    # Keep Hashtag text\n",
        "    text = text.str.replace(\"[^a-zA-Z]\", \" \")\n",
        "    \n",
        "    # Make lowercase\n",
        "    text = text.apply(lambda x: \" \".join(x.lower() for x in x.split()))\n",
        "\n",
        "    # Remove whitespaces\n",
        "    text = text.apply(lambda x: \" \".join(x.strip() for x in x.split()))\n",
        "\n",
        "    # Remove special characters\n",
        "    text = text.apply(lambda x: \"\".join(\n",
        "        [\" \" if ord(i) < 32 or ord(i) > 126 else i for i in x]))\n",
        "\n",
        "    # Remove punctuation\n",
        "    text = text.str.replace('[^\\w\\s]', '')\n",
        "\n",
        "    # Remove numbers\n",
        "    text = text.str.replace('\\d+', '')\n",
        "\n",
        "    # Remove Stopwords\n",
        "    text = text.apply(lambda x: ' '.join(\n",
        "        [word for word in x.split() if word not in (stop)]))\n",
        "    \n",
        "    #Remove 1-2 letter clutter remnants\n",
        "    text = text.apply(lambda x: re.sub(r'\\b\\w{1,2}\\b', '', x))\n",
        "\n",
        "    # Convert to string\n",
        "    text = text.astype(str)\n",
        "\n",
        "    return text\n",
        "   \n",
        "# Function to remove RT @user\n",
        "def remove_pattern(input_txt, pattern):\n",
        "    r = re.findall(pattern, input_txt)\n",
        "    for i in r:\n",
        "        input_txt = re.sub(i, '', input_txt)\n",
        "        \n",
        "    return input_txt  \n",
        "  \n",
        "\n",
        "# remove  RT: @user\n",
        "df['filtered_tweet'] = np.vectorize(\n",
        "    remove_pattern)(df['tweet'], \"RT @[\\w]*\")\n",
        "\n",
        "# Apply cleaner function\n",
        "df['filtered_tweet'] = remove_noise(df['filtered_tweet'])\n",
        "\n",
        "df = df.drop(['time', 'id', 'username', 'location'], axis=1)\n",
        "df.head(5)"
      ],
      "execution_count": 6,
      "outputs": [
        {
          "output_type": "execute_result",
          "data": {
            "text/html": [
              "<div>\n",
              "<style scoped>\n",
              "    .dataframe tbody tr th:only-of-type {\n",
              "        vertical-align: middle;\n",
              "    }\n",
              "\n",
              "    .dataframe tbody tr th {\n",
              "        vertical-align: top;\n",
              "    }\n",
              "\n",
              "    .dataframe thead th {\n",
              "        text-align: right;\n",
              "    }\n",
              "</style>\n",
              "<table border=\"1\" class=\"dataframe\">\n",
              "  <thead>\n",
              "    <tr style=\"text-align: right;\">\n",
              "      <th></th>\n",
              "      <th>tweet</th>\n",
              "      <th>word_count</th>\n",
              "      <th>character_count</th>\n",
              "      <th>filtered_tweet</th>\n",
              "    </tr>\n",
              "  </thead>\n",
              "  <tbody>\n",
              "    <tr>\n",
              "      <th>0</th>\n",
              "      <td>'RT @SethAbramson: In case you missed it: what...</td>\n",
              "      <td>25</td>\n",
              "      <td>155</td>\n",
              "      <td>case missed fuss tonight retweet think followe...</td>\n",
              "    </tr>\n",
              "    <tr>\n",
              "      <th>1</th>\n",
              "      <td>'RT @RonWyden: Incredible. More luxury travel ...</td>\n",
              "      <td>22</td>\n",
              "      <td>149</td>\n",
              "      <td>incredible luxury travel trump administration ...</td>\n",
              "    </tr>\n",
              "    <tr>\n",
              "      <th>2</th>\n",
              "      <td>'President Trump Directed Michael Cohen To Lie...</td>\n",
              "      <td>16</td>\n",
              "      <td>125</td>\n",
              "      <td>president trump directed michael cohen lie con...</td>\n",
              "    </tr>\n",
              "    <tr>\n",
              "      <th>3</th>\n",
              "      <td>'RT @TeaPainUSA: Tea would wager that Trump in...</td>\n",
              "      <td>26</td>\n",
              "      <td>147</td>\n",
              "      <td>tea wager trump instructed folks lie congress ...</td>\n",
              "    </tr>\n",
              "    <tr>\n",
              "      <th>4</th>\n",
              "      <td>'RT @BruceBartlett: There is one person in Ame...</td>\n",
              "      <td>24</td>\n",
              "      <td>147</td>\n",
              "      <td>person america trump chose rupert murdoch medi...</td>\n",
              "    </tr>\n",
              "  </tbody>\n",
              "</table>\n",
              "</div>"
            ],
            "text/plain": [
              "                                               tweet  word_count  \\\n",
              "0  'RT @SethAbramson: In case you missed it: what...          25   \n",
              "1  'RT @RonWyden: Incredible. More luxury travel ...          22   \n",
              "2  'President Trump Directed Michael Cohen To Lie...          16   \n",
              "3  'RT @TeaPainUSA: Tea would wager that Trump in...          26   \n",
              "4  'RT @BruceBartlett: There is one person in Ame...          24   \n",
              "\n",
              "   character_count                                     filtered_tweet  \n",
              "0              155  case missed fuss tonight retweet think followe...  \n",
              "1              149  incredible luxury travel trump administration ...  \n",
              "2              125  president trump directed michael cohen lie con...  \n",
              "3              147  tea wager trump instructed folks lie congress ...  \n",
              "4              147  person america trump chose rupert murdoch medi...  "
            ]
          },
          "metadata": {
            "tags": []
          },
          "execution_count": 6
        }
      ]
    },
    {
      "metadata": {
        "id": "LqyQtNTFjAT8",
        "colab_type": "code",
        "colab": {}
      },
      "cell_type": "code",
      "source": [
        "#Second Cleaning Function that keeps stopwords\n",
        "def extract_text(text):\n",
        "    \n",
        "    # Convert to string\n",
        "    text = text.astype(str)\n",
        "    \n",
        "    # Remove URLs\n",
        "    text = text.str.replace('https?://[A-Za-z0-9./]+','')\n",
        "    \n",
        "    # Keep Hashtag text\n",
        "    text = text.str.replace(\"[^a-zA-Z]\", \" \")\n",
        "    \n",
        "    # Make lowercase\n",
        "    text = text.apply(lambda x: \" \".join(x.lower() for x in x.split()))\n",
        "\n",
        "    # Remove whitespaces\n",
        "    text = text.apply(lambda x: \" \".join(x.strip() for x in x.split()))\n",
        "\n",
        "    # Remove special characters\n",
        "    text = text.apply(lambda x: \"\".join(\n",
        "        [\" \" if ord(i) < 32 or ord(i) > 126 else i for i in x]))\n",
        "\n",
        "    # Remove punctuation\n",
        "    text = text.str.replace('[^\\w\\s]', '')\n",
        "\n",
        "    # Remove numbers\n",
        "    text = text.str.replace('\\d+', '')\n",
        "    \n",
        "    #Remove 1-2 letter clutter remnants\n",
        "    text = text.apply(lambda x: re.sub(r'\\b\\w{1,2}\\b', '', x))\n",
        "\n",
        "    return text\n",
        "\n",
        "# remove  RT: @user\n",
        "df['clean'] = np.vectorize(remove_pattern)(df['tweet'], \"RT @[\\w]*\")\n",
        "\n",
        "\n",
        "# Applying function to data\n",
        "df['clean'] = extract_text(df['clean'])\n"
      ],
      "execution_count": 0,
      "outputs": []
    },
    {
      "metadata": {
        "id": "Q6ta89cekQHI",
        "colab_type": "code",
        "colab": {
          "base_uri": "https://localhost:8080/",
          "height": 87
        },
        "outputId": "bc30b8f9-c0bb-4cda-f834-527ac2cea7c1"
      },
      "cell_type": "code",
      "source": [
        "print(df.tweet[5])\n",
        "print(df.filtered_tweet[5])\n",
        "print(df.clean[5])"
      ],
      "execution_count": 8,
      "outputs": [
        {
          "output_type": "stream",
          "text": [
            "'RT @cher: trump\\u2019s A CROOK &amp; LIAR,IF HE WAS THE HEAD OF ANY COMPANY HE WOULD BE FIRED.THE IMMEDIATE CRISIS, \\n800,000.00 PPL ARE LOSING THE L\\u2026'\n",
            "trump   crook amp liar head company fired immediate crisis  ppl losing  \n",
            "trump    crook amp liar   was the head  any company  would  fired the immediate crisis  ppl are losing the  \n"
          ],
          "name": "stdout"
        }
      ]
    },
    {
      "metadata": {
        "id": "ia7EGocDtVOK",
        "colab_type": "text"
      },
      "cell_type": "markdown",
      "source": [
        "# Sentiment Labelling\n",
        "\n",
        "The sentiment property of TexBlob returns a namedtuple of the form Sentiment(polarity, subjectivity). The polarity score is a float within the range [-1.0, 1.0]. We will use this to label tweets as positive, neutral, or negative. \n",
        "\n",
        "I will label anything with a polarity of exactly zero as neutral and remove the data rows with that label, leaving only polar data points. Then we can see if this method of labeling works for training a classifier."
      ]
    },
    {
      "metadata": {
        "id": "abs7wBFWOT91",
        "colab_type": "code",
        "colab": {
          "base_uri": "https://localhost:8080/",
          "height": 279
        },
        "outputId": "2be623f4-a975-41b3-929b-25ab71140c05"
      },
      "cell_type": "code",
      "source": [
        "def analyze_sentiment(tweet):\n",
        "    '''\n",
        "    Utility function to classify the polarity of a tweet\n",
        "    using textblob.\n",
        "    '''\n",
        "    analysis = TextBlob(tweet)\n",
        "    if analysis.sentiment.polarity > 0:\n",
        "        return 1\n",
        "    elif analysis.sentiment.polarity == 0:\n",
        "        return 0\n",
        "    else:\n",
        "        return -1\n",
        "\n",
        "# Create a column with the result of the analysis:\n",
        "df['SA'] = np.array(\n",
        "    [analyze_sentiment(tweet) for tweet in df['filtered_tweet']])\n",
        "\n",
        "df['SA2'] = np.array(\n",
        "    [analyze_sentiment(tweet) for tweet in df['clean']])\n",
        "\n",
        "df.head()"
      ],
      "execution_count": 9,
      "outputs": [
        {
          "output_type": "execute_result",
          "data": {
            "text/html": [
              "<div>\n",
              "<style scoped>\n",
              "    .dataframe tbody tr th:only-of-type {\n",
              "        vertical-align: middle;\n",
              "    }\n",
              "\n",
              "    .dataframe tbody tr th {\n",
              "        vertical-align: top;\n",
              "    }\n",
              "\n",
              "    .dataframe thead th {\n",
              "        text-align: right;\n",
              "    }\n",
              "</style>\n",
              "<table border=\"1\" class=\"dataframe\">\n",
              "  <thead>\n",
              "    <tr style=\"text-align: right;\">\n",
              "      <th></th>\n",
              "      <th>tweet</th>\n",
              "      <th>word_count</th>\n",
              "      <th>character_count</th>\n",
              "      <th>filtered_tweet</th>\n",
              "      <th>clean</th>\n",
              "      <th>SA</th>\n",
              "      <th>SA2</th>\n",
              "    </tr>\n",
              "  </thead>\n",
              "  <tbody>\n",
              "    <tr>\n",
              "      <th>0</th>\n",
              "      <td>'RT @SethAbramson: In case you missed it: what...</td>\n",
              "      <td>25</td>\n",
              "      <td>155</td>\n",
              "      <td>case missed fuss tonight retweet think followe...</td>\n",
              "      <td>case you missed  what all the fuss  about ton...</td>\n",
              "      <td>0</td>\n",
              "      <td>0</td>\n",
              "    </tr>\n",
              "    <tr>\n",
              "      <th>1</th>\n",
              "      <td>'RT @RonWyden: Incredible. More luxury travel ...</td>\n",
              "      <td>22</td>\n",
              "      <td>149</td>\n",
              "      <td>incredible luxury travel trump administration ...</td>\n",
              "      <td>incredible more luxury travel from the trump a...</td>\n",
              "      <td>1</td>\n",
              "      <td>1</td>\n",
              "    </tr>\n",
              "    <tr>\n",
              "      <th>2</th>\n",
              "      <td>'President Trump Directed Michael Cohen To Lie...</td>\n",
              "      <td>16</td>\n",
              "      <td>125</td>\n",
              "      <td>president trump directed michael cohen lie con...</td>\n",
              "      <td>president trump directed michael cohen  lie  c...</td>\n",
              "      <td>0</td>\n",
              "      <td>0</td>\n",
              "    </tr>\n",
              "    <tr>\n",
              "      <th>3</th>\n",
              "      <td>'RT @TeaPainUSA: Tea would wager that Trump in...</td>\n",
              "      <td>26</td>\n",
              "      <td>147</td>\n",
              "      <td>tea wager trump instructed folks lie congress ...</td>\n",
              "      <td>tea would wager that trump instructed all his ...</td>\n",
              "      <td>0</td>\n",
              "      <td>-1</td>\n",
              "    </tr>\n",
              "    <tr>\n",
              "      <th>4</th>\n",
              "      <td>'RT @BruceBartlett: There is one person in Ame...</td>\n",
              "      <td>24</td>\n",
              "      <td>147</td>\n",
              "      <td>person america trump chose rupert murdoch medi...</td>\n",
              "      <td>there  one person  america who could  somethin...</td>\n",
              "      <td>0</td>\n",
              "      <td>0</td>\n",
              "    </tr>\n",
              "  </tbody>\n",
              "</table>\n",
              "</div>"
            ],
            "text/plain": [
              "                                               tweet  word_count  \\\n",
              "0  'RT @SethAbramson: In case you missed it: what...          25   \n",
              "1  'RT @RonWyden: Incredible. More luxury travel ...          22   \n",
              "2  'President Trump Directed Michael Cohen To Lie...          16   \n",
              "3  'RT @TeaPainUSA: Tea would wager that Trump in...          26   \n",
              "4  'RT @BruceBartlett: There is one person in Ame...          24   \n",
              "\n",
              "   character_count                                     filtered_tweet  \\\n",
              "0              155  case missed fuss tonight retweet think followe...   \n",
              "1              149  incredible luxury travel trump administration ...   \n",
              "2              125  president trump directed michael cohen lie con...   \n",
              "3              147  tea wager trump instructed folks lie congress ...   \n",
              "4              147  person america trump chose rupert murdoch medi...   \n",
              "\n",
              "                                               clean  SA  SA2  \n",
              "0   case you missed  what all the fuss  about ton...   0    0  \n",
              "1  incredible more luxury travel from the trump a...   1    1  \n",
              "2  president trump directed michael cohen  lie  c...   0    0  \n",
              "3  tea would wager that trump instructed all his ...   0   -1  \n",
              "4  there  one person  america who could  somethin...   0    0  "
            ]
          },
          "metadata": {
            "tags": []
          },
          "execution_count": 9
        }
      ]
    },
    {
      "metadata": {
        "id": "qzAHLSAsVMwi",
        "colab_type": "code",
        "colab": {
          "base_uri": "https://localhost:8080/",
          "height": 54
        },
        "outputId": "b3b76061-bea6-4799-cfdf-58111edb3f0f"
      },
      "cell_type": "code",
      "source": [
        "print(df.tweet[3])"
      ],
      "execution_count": 10,
      "outputs": [
        {
          "output_type": "stream",
          "text": [
            "'RT @TeaPainUSA: Tea would wager that Trump instructed all his folks to lie to Congress because he knew Nunes and his other GOP imps and dem\\u2026'\n"
          ],
          "name": "stdout"
        }
      ]
    },
    {
      "metadata": {
        "id": "N7K_0QmLwLum",
        "colab_type": "text"
      },
      "cell_type": "markdown",
      "source": [
        "Looking at the Tweet at index 3 we can see there is a polarity difference between the filtered tweet and the clean tweet. This could mean that stop words impact the way Textblob assess polarity. \n",
        "\n",
        "Intuitively I would call this tweet negative as it is objectively critical. As such, I'll use the SA2 variable as my label.\n",
        "\n",
        "I'm going to drop all the neutral tweets since I'm interested  in binary sentiment classification."
      ]
    },
    {
      "metadata": {
        "id": "tk7z-5m803IR",
        "colab_type": "code",
        "colab": {
          "base_uri": "https://localhost:8080/",
          "height": 118
        },
        "outputId": "dac00a3a-a008-47d9-ae14-e561438dd953"
      },
      "cell_type": "code",
      "source": [
        "# Make a copy of the data frame for later, and dropping neutral tweets\n",
        "df2 = df[df.SA2 != 0]\n",
        "\n",
        "# Dropping neutral tweets\n",
        "df = df[df.SA != 0]\n",
        "\n",
        "print('DF has {} rows.'.format(len(df)))\n",
        "print('DF2 has {} rows.'.format(len(df2)))\n",
        "print('\\n')\n",
        "print('DF2 has {} negative comments.'.format(\n",
        "    (df2.SA2 != 0).sum()))\n",
        "print('DF2 has {} positive comments.'.format(\n",
        "    (df2.SA2 != 1).sum()))\n",
        "\n"
      ],
      "execution_count": 11,
      "outputs": [
        {
          "output_type": "stream",
          "text": [
            "DF has 237099 rows.\n",
            "DF2 has 257218 rows.\n",
            "\n",
            "\n",
            "DF2 has 257218 negative comments.\n",
            "DF2 has 93343 positive comments.\n"
          ],
          "name": "stdout"
        }
      ]
    },
    {
      "metadata": {
        "id": "XqcbrVTrNDO_",
        "colab_type": "text"
      },
      "cell_type": "markdown",
      "source": [
        "# **Supervised EDA**"
      ]
    },
    {
      "metadata": {
        "id": "E9ZfUNjLT2Y4",
        "colab_type": "text"
      },
      "cell_type": "markdown",
      "source": [
        "First I'm going to do some data organization and trimming to build data frame copies for later. EDA will mostly focus on the full, imbalanced data set."
      ]
    },
    {
      "metadata": {
        "id": "rI52do4WPbY8",
        "colab_type": "code",
        "colab": {
          "base_uri": "https://localhost:8080/",
          "height": 1013
        },
        "outputId": "fb9cd4d8-cae6-4b07-8d9a-f116c73a7140"
      },
      "cell_type": "code",
      "source": [
        "# Removed data to give even batch sizes DF\n",
        "remove_n = len(df)%50\n",
        "drop_indices = np.random.choice(df.index, remove_n, replace=False)\n",
        "df = df.drop(drop_indices)\n",
        "\n",
        "# Plot the label classes\n",
        "fig = plt.figure(figsize=(8,5))\n",
        "ax = sns.barplot(x=df.SA.unique(),y=df.SA.value_counts());\n",
        "ax.set(xlabel='Labels')\n",
        "ax.set_title('DF Class Balance')\n",
        "\n",
        "# Removed data to give even batch sizes DF2\n",
        "remove_n = len(df2)%50\n",
        "drop_indices2 = np.random.choice(df2.index, remove_n, replace=False)\n",
        "df2 = df2.drop(drop_indices2)\n",
        "\n",
        "# Plot the label classes\n",
        "fig = plt.figure(figsize=(8,5))\n",
        "ax = sns.barplot(x=df2.SA2.unique(),y=df2.SA2.value_counts());\n",
        "ax.set(xlabel='Labels')\n",
        "ax.set_title('DF2 Class Balance')\n",
        "plt.savefig('Imbalanced.png')\n",
        "#files.download('Imbalanced.png')\n",
        "\n",
        "#Define DF Copy to Reduce and set len\n",
        "#for each class equal to len og minority class\n",
        "df3 = pd.concat(g.sample(87155) for idx, g in df2.groupby('SA2'))\n",
        "df3 = df3.sample(frac=1)\n",
        "\n",
        "# Removed data to give even batch sizes DF3\n",
        "remove_n = len(df3)%50\n",
        "drop_indices3 = np.random.choice(df3.index, remove_n, replace=False)\n",
        "df3 = df3.drop(drop_indices3)\n",
        "\n",
        "# Plot the label classes\n",
        "fig = plt.figure(figsize=(8,5))\n",
        "ax = sns.barplot(x=df3.SA2.unique(),y=df3.SA2.value_counts());\n",
        "ax.set(xlabel='Labels')\n",
        "ax.set_title('DF3 Class Balance')\n",
        "\n",
        "plt.savefig('Balanced.png')\n",
        "#files.download('Balancing.png')\n",
        "plt.show()"
      ],
      "execution_count": 12,
      "outputs": [
        {
          "output_type": "display_data",
          "data": {
            "image/png": "[encoded data removed]",
            "text/plain": [
              "<Figure size 576x360 with 1 Axes>"
            ]
          },
          "metadata": {
            "tags": []
          }
        },
        {
          "output_type": "display_data",
          "data": {
            "image/png": "[encoded data removed]",
            "text/plain": [
              "<Figure size 576x360 with 1 Axes>"
            ]
          },
          "metadata": {
            "tags": []
          }
        },
        {
          "output_type": "display_data",
          "data": {
            "image/png": "[encoded data removed]",
            "text/plain": [
              "<Figure size 576x360 with 1 Axes>"
            ]
          },
          "metadata": {
            "tags": []
          }
        }
      ]
    },
    {
      "metadata": {
        "id": "k4jevNDl4-jy",
        "colab_type": "code",
        "colab": {
          "base_uri": "https://localhost:8080/",
          "height": 374
        },
        "outputId": "eadb987d-474c-41c0-b217-0662af29425b"
      },
      "cell_type": "code",
      "source": [
        "# Exploring tweet word count\n",
        "z = df3.groupby(by=['word_count'], as_index=False).count(\n",
        ").sort_values(by='SA2', ascending=False)\n",
        "\n",
        "plt.figure(figsize=(8, 5))\n",
        "sns.set_style(\"whitegrid\")\n",
        "ax = sns.barplot(x=z['word_count'], y=z['SA2'], data=z)\n",
        "plt.xlabel(\"\\nWord Count\")\n",
        "plt.ylabel(\"Count\")\n",
        "plt.title(\"Tweet Counts By Word Length\\n\")\n",
        "plt.savefig(\"Counts By Word Length.png\", dpi=300)\n",
        "#files.download(\"Counts By Word Length.png\")\n",
        "plt.show()"
      ],
      "execution_count": 13,
      "outputs": [
        {
          "output_type": "display_data",
          "data": {
            "image/png": "[encoded data removed]",
            "text/plain": [
              "<Figure size 576x360 with 1 Axes>"
            ]
          },
          "metadata": {
            "tags": []
          }
        }
      ]
    },
    {
      "metadata": {
        "id": "8KZnsCwCONl3",
        "colab_type": "code",
        "colab": {
          "base_uri": "https://localhost:8080/",
          "height": 406
        },
        "outputId": "cfb541d5-59cf-43fa-952b-4067b9dddf4a"
      },
      "cell_type": "code",
      "source": [
        "# Exploring Word Count.\n",
        "colors = color={-1: \"#e5ae38\",\n",
        "                0: '#30a2da',\n",
        "                1: '#fc4f30'}\n",
        "f, ax = plt.subplots(figsize=(8, 5))\n",
        "df.groupby(['SA2', pd.cut(df['word_count'], np.arange(0, 40, 5))])\\\n",
        "    .size()\\\n",
        "    .unstack(0)\\\n",
        "    .plot.bar(stacked=True, ax=ax, color=colors.values())\n",
        "#plt.subplots_adjust(top=.8)\n",
        "plt.suptitle('Sentiment and Tweet Word Count')\n",
        "plt.xlabel(\"\\nWord Count\")\n",
        "ax.legend(loc='best', frameon=True)\n",
        "#plt.savefig(\"Sentiment and Word Count.png\")\n",
        "#files.download(\"Sentiment and Word Count.png\")\n",
        "#plt.tight_layout()\n",
        "plt.show()"
      ],
      "execution_count": 14,
      "outputs": [
        {
          "output_type": "display_data",
          "data": {
            "image/png": "[encoded data removed]",
            "text/plain": [
              "<Figure size 576x360 with 1 Axes>"
            ]
          },
          "metadata": {
            "tags": []
          }
        }
      ]
    },
    {
      "metadata": {
        "id": "CNsPngttQRV7",
        "colab_type": "text"
      },
      "cell_type": "markdown",
      "source": [
        "We can see similar distribution of word counts, regardless of sentiment. The size difference of the  bars is likely due to the class imbalance we've observed. This could be verified by running the same plot on the trimmed data (DF3)."
      ]
    },
    {
      "metadata": {
        "id": "_o45e6H0RiP2",
        "colab_type": "code",
        "colab": {
          "base_uri": "https://localhost:8080/",
          "height": 406
        },
        "outputId": "37bfca2f-9915-4cce-d85b-a89336da68fd"
      },
      "cell_type": "code",
      "source": [
        "# Exploring Word Count.\n",
        "colors = color={-1: \"#e5ae38\",\n",
        "                1: '#fc4f30'}\n",
        "f, ax = plt.subplots(figsize=(8, 5))\n",
        "df3.groupby(['SA2', pd.cut(df3['word_count'], np.arange(0, 40, 5))])\\\n",
        "    .size()\\\n",
        "    .unstack(0)\\\n",
        "    .plot.bar(stacked=True, ax=ax, color=colors.values())\n",
        "#plt.subplots_adjust(top=.8)\n",
        "plt.suptitle('Sentiment and Tweet Word Count')\n",
        "plt.xlabel(\"\\nWord Count\")\n",
        "ax.legend(loc='best', frameon=True)\n",
        "plt.savefig(\"Sentiment and Word Count.png\", dpi=300)\n",
        "#files.download(\"Sentiment and Word Count.png\")\n",
        "#plt.tight_layout()\n",
        "plt.show()"
      ],
      "execution_count": 15,
      "outputs": [
        {
          "output_type": "display_data",
          "data": {
            "image/png": "[encoded data removed]",
            "text/plain": [
              "<Figure size 576x360 with 1 Axes>"
            ]
          },
          "metadata": {
            "tags": []
          }
        }
      ]
    },
    {
      "metadata": {
        "id": "iqeJSdrWRxCq",
        "colab_type": "text"
      },
      "cell_type": "markdown",
      "source": [
        "Voilà! "
      ]
    },
    {
      "metadata": {
        "id": "gi7HVw6_DpSU",
        "colab_type": "text"
      },
      "cell_type": "markdown",
      "source": [
        "# **Unsupervised EDA**\n"
      ]
    },
    {
      "metadata": {
        "colab_type": "text",
        "id": "veKN8PPsr_dd"
      },
      "cell_type": "markdown",
      "source": [
        "## **TF-IDF**\n",
        "First, I'll vectorize the text and perform Latent semantic analysis (LSA); a technique in natural language processing of analyzing relationships between a set of documents and the terms they contain by producing a set of concepts related to the documents and terms. We’ll feed this into K-Means and see if we get some clearly defined clusters. "
      ]
    },
    {
      "metadata": {
        "id": "Fk6hjpGETECa",
        "colab_type": "code",
        "outputId": "5132b34a-5d9f-42f0-df41-8d52a44f6c83",
        "colab": {
          "base_uri": "https://localhost:8080/",
          "height": 34
        }
      },
      "cell_type": "code",
      "source": [
        "# convert column of sentiment to list of ints\n",
        "all_sent = df3.SA2.astype(int).values.tolist()\n",
        "\n",
        "# 1=positive, 0=negative label conversion\n",
        "#sent_split = sent_split('\\n')\n",
        "encoded_labels = np.array(\n",
        "    [1 if sent == 1 else 0 for sent in all_sent])\n",
        "\n",
        "\n",
        "encoded_labels[:10]"
      ],
      "execution_count": 58,
      "outputs": [
        {
          "output_type": "execute_result",
          "data": {
            "text/plain": [
              "array([1, 1, 1, 1, 0, 0, 0, 0, 1, 0])"
            ]
          },
          "metadata": {
            "tags": []
          },
          "execution_count": 58
        }
      ]
    },
    {
      "metadata": {
        "id": "8ao5FO9uMb_F",
        "colab_type": "code",
        "outputId": "43088cf8-76cd-4614-9000-2795f307c5a2",
        "colab": {
          "base_uri": "https://localhost:8080/",
          "height": 67
        }
      },
      "cell_type": "code",
      "source": [
        "X = df3.loc[:, 'clean']\n",
        "y = encoded_labels\n",
        "X_train, X_test, Y_train, Y_test = train_test_split(\n",
        "    X, y, test_size=0.25, random_state=42)\n",
        "\n",
        "t0 = time()\n",
        "vectorizer = TfidfVectorizer(max_df=0.5,\n",
        "                             min_df=2, stop_words='english')\n",
        "\n",
        "X_train_tfidf = vectorizer.fit_transform(X_train)\n",
        "X_test_tfidf = vectorizer.fit_transform(X_test)\n",
        "print(\"done in %fs\" % (time() - t0))\n",
        "print(\"n_samples: %d, n_features: %d\" % X_train_tfidf.shape)\n",
        "print()"
      ],
      "execution_count": 59,
      "outputs": [
        {
          "output_type": "stream",
          "text": [
            "done in 2.607927s\n",
            "n_samples: 130725, n_features: 15415\n",
            "\n"
          ],
          "name": "stdout"
        }
      ]
    },
    {
      "metadata": {
        "id": "2OZqNhfHMbNa",
        "colab_type": "code",
        "outputId": "025845cf-3cf1-4957-a843-4b80681deed8",
        "colab": {
          "base_uri": "https://localhost:8080/",
          "height": 84
        }
      },
      "cell_type": "code",
      "source": [
        "print(\"Performing dimensionality reduction using LSA\")\n",
        "t0 = time()\n",
        "\n",
        "svd = TruncatedSVD(600)\n",
        "#normalizer = Normalizer(copy=False)\n",
        "lsa = make_pipeline(svd)#, normalizer)\n",
        "\n",
        "X_train_lsa = lsa.fit_transform(X_train_tfidf)\n",
        "X_test_lsa = lsa.fit_transform(X_test_tfidf)\n",
        "\n",
        "print(\"done in %fs\" % (time() - t0))\n",
        "\n",
        "explained_variance = svd.explained_variance_ratio_.sum()\n",
        "print(\"Explained variance of the SVD step: {}%\".format(\n",
        "    int(explained_variance * 100)))\n",
        "\n",
        "print()"
      ],
      "execution_count": 60,
      "outputs": [
        {
          "output_type": "stream",
          "text": [
            "Performing dimensionality reduction using LSA\n",
            "done in 84.476938s\n",
            "Explained variance of the SVD step: 71%\n",
            "\n"
          ],
          "name": "stdout"
        }
      ]
    },
    {
      "metadata": {
        "id": "ogjN7TNuWtTn",
        "colab_type": "text"
      },
      "cell_type": "markdown",
      "source": [
        "## **K-Means Clustering**"
      ]
    },
    {
      "metadata": {
        "id": "7H1zRj4vMbBD",
        "colab_type": "code",
        "outputId": "dfb592ea-7b6e-4537-cc34-a4ae3cefd73c",
        "colab": {
          "base_uri": "https://localhost:8080/",
          "height": 101
        }
      },
      "cell_type": "code",
      "source": [
        "# Since our target is boolean, we expect 2 clusters.\n",
        "km = KMeans(n_clusters=2, max_iter=100,\n",
        "            random_state=42)\n",
        "\n",
        "print(\"Clustering sparse data with %s\" % km)\n",
        "t0 = time()\n",
        "km.fit(X_train_lsa)\n",
        "print(\"done in %0.3fs\" % (time() - t0))\n",
        "print()"
      ],
      "execution_count": 61,
      "outputs": [
        {
          "output_type": "stream",
          "text": [
            "Clustering sparse data with KMeans(algorithm='auto', copy_x=True, init='k-means++', max_iter=100,\n",
            "    n_clusters=2, n_init=10, n_jobs=None, precompute_distances='auto',\n",
            "    random_state=42, tol=0.0001, verbose=0)\n",
            "done in 19.015s\n",
            "\n"
          ],
          "name": "stdout"
        }
      ]
    },
    {
      "metadata": {
        "id": "9wNFv0mgWrSP",
        "colab_type": "code",
        "outputId": "897a1665-96db-46a0-ecf5-e7adcbc6d36a",
        "colab": {
          "base_uri": "https://localhost:8080/",
          "height": 582
        }
      },
      "cell_type": "code",
      "source": [
        "plt.figure(figsize=(7, 4))\n",
        "# Calculate predicted values.\n",
        "y_pred = km.fit_predict(X_train_lsa)\n",
        "\n",
        "# Calculate Error Type\n",
        "y_error = (y_pred*2)-Y_train\n",
        "\n",
        "#Define Error Colors\n",
        "LABEL_COLOR_MAP = {-1: '#FF752E',\n",
        "                   0:  '#ad00c8',\n",
        "                   1: '#4ae500', \n",
        "                   2: '#000dbf'\n",
        "                   }\n",
        "label_color = [LABEL_COLOR_MAP[i] for i in y_error]\n",
        "label_convert = {-1: 'FN',\n",
        "                 0: 'TN',\n",
        "                 1:'TP',\n",
        "                 2: 'FP'\n",
        "                 } \n",
        "# Plot the solution.\n",
        "plt.scatter(X_train_lsa[:, 0], X_train_lsa[:, 1],\n",
        "            marker='.', c=label_color) \n",
        "#Plot the error legend\n",
        "markers = [\n",
        "    plt.Line2D([0, 0], [0, 0], color=color,\n",
        "               marker='o', linestyle=''\n",
        "               ) for color in LABEL_COLOR_MAP.values()]\n",
        "plt.legend(markers, label_convert.values(), numpoints=1, frameon=True)\n",
        "plt.rcParams.update({'font.size': 12})\n",
        "plt.title('K-Means')\n",
        "plt.savefig(\"K-Means.png\", dpi =300)\n",
        "files.download(\"K-Means.png\")\n",
        "plt.show()\n",
        "\n",
        "# Check the solution against the data.\n",
        "cm = pd.crosstab(Y_train, y_pred, rownames=['True'], \n",
        "                 colnames=['Predicted'], margins=True)\n",
        "print(\"\\nConfusion Matrix:  \\n\", cm)\n",
        "print(\"\\n                    Classification Report \\n\",\n",
        "      classification_report(Y_train, y_pred))"
      ],
      "execution_count": 63,
      "outputs": [
        {
          "output_type": "display_data",
          "data": {
            "image/png": "[encoded data removed]",
            "text/plain": [
              "<Figure size 504x288 with 1 Axes>"
            ]
          },
          "metadata": {
            "tags": []
          }
        },
        {
          "output_type": "stream",
          "text": [
            "\n",
            "Confusion Matrix:  \n",
            " Predicted       0     1     All\n",
            "True                           \n",
            "0           64375   947   65322\n",
            "1           59469  5934   65403\n",
            "All        123844  6881  130725\n",
            "\n",
            "                    Classification Report \n",
            "               precision    recall  f1-score   support\n",
            "\n",
            "           0       0.52      0.99      0.68     65322\n",
            "           1       0.86      0.09      0.16     65403\n",
            "\n",
            "   micro avg       0.54      0.54      0.54    130725\n",
            "   macro avg       0.69      0.54      0.42    130725\n",
            "weighted avg       0.69      0.54      0.42    130725\n",
            "\n"
          ],
          "name": "stdout"
        }
      ]
    },
    {
      "metadata": {
        "id": "bydyRbWNa4W4",
        "colab_type": "text"
      },
      "cell_type": "markdown",
      "source": [
        "We see some clustering of our positives and negatives (including the mislabeled data points), but I don’t think this is clear enough to be useful. The classification report also indicates a high rate of error. "
      ]
    },
    {
      "metadata": {
        "id": "kRyW49oFF33_",
        "colab_type": "text"
      },
      "cell_type": "markdown",
      "source": [
        "## **Word2Vec**\n",
        "The next unsupervised approach we will investigate is the use of the Word2Vec family of algorithms. Word2vec is a two-layer neural network that processes text."
      ]
    },
    {
      "metadata": {
        "colab_type": "code",
        "id": "rNZE4Uuz1qxr",
        "colab": {}
      },
      "cell_type": "code",
      "source": [
        "from string import punctuation\n",
        "\n",
        "# convert column of tweets to list of words\n",
        "all_text = df3.clean.astype(str).values.tolist()\n",
        "string_text = '\\n'.join([word for word in all_text])\n",
        "tweet_split = string_text.split('\\n')\n",
        "string_text = ' '.join(tweet_split)\n",
        "\n",
        "# create a list of words\n",
        "words = string_text.split()"
      ],
      "execution_count": 0,
      "outputs": []
    },
    {
      "metadata": {
        "id": "dv_t-woczltV",
        "colab_type": "code",
        "outputId": "6c3802cf-4fc3-47d0-df02-a1625ad70a75",
        "colab": {
          "base_uri": "https://localhost:8080/",
          "height": 34
        }
      },
      "cell_type": "code",
      "source": [
        "len(words)"
      ],
      "execution_count": 65,
      "outputs": [
        {
          "output_type": "execute_result",
          "data": {
            "text/plain": [
              "2566679"
            ]
          },
          "metadata": {
            "tags": []
          },
          "execution_count": 65
        }
      ]
    },
    {
      "metadata": {
        "id": "2-pP3GFsKCRk",
        "colab_type": "code",
        "colab": {}
      },
      "cell_type": "code",
      "source": [
        "all_text2 = df3.filtered_tweet.astype(str).values.tolist()\n",
        "\n",
        "# store as list of lists of words\n",
        "sentences = []\n",
        "for sent_str in all_text:\n",
        "    tokens = re.sub(r\"[^a-z0-9]+\", \" \", sent_str.lower()).split()\n",
        "    sentences.append(tokens)\n",
        "    \n",
        "# store as list of lists of words\n",
        "sentences2 = []\n",
        "for sent_str in all_text2:\n",
        "    tokens2 = re.sub(r\"[^a-z0-9]+\", \" \", sent_str.lower()).split()\n",
        "    sentences2.append(tokens2)"
      ],
      "execution_count": 0,
      "outputs": []
    },
    {
      "metadata": {
        "id": "ypVH4wTJbSjW",
        "colab_type": "text"
      },
      "cell_type": "markdown",
      "source": [
        "Through several iterations I found that Word2Vec performs better without stop words. \n",
        "\n",
        "The algorithm takes in data in the shape of a list or lists, where the inner list is comprised of the tokens for a given tweet. The outer list is a list of all the tweets broken down in that fashion.\n",
        "\n",
        "**Examples below:**\n"
      ]
    },
    {
      "metadata": {
        "id": "8vARAsKQLTH9",
        "colab_type": "code",
        "outputId": "597b34fc-ab73-4eec-f5bf-e9bd30fb0584",
        "colab": {
          "base_uri": "https://localhost:8080/",
          "height": 70
        }
      },
      "cell_type": "code",
      "source": [
        "print(sentences[0:2])\n",
        "print(sentences2[0:2])\n"
      ],
      "execution_count": 67,
      "outputs": [
        {
          "output_type": "stream",
          "text": [
            "[['more', 'baker', 'transcripts', 'not', 'leaked', 'the', 'nyt', 'this', 'time', 'they', 'can', 'spin', 'epoch', 'has', 'got', 'them'], ['incredible', 'see', 'the', 'media', 'coverup', 'marchforlife', 'when', 'handful', 'leftist', 'protest', 'anything', 'especially', 'trump']]\n",
            "[['baker', 'transcripts', 'leaked', 'nyt', 'time', 'spin', 'epoch', 'got'], ['incredible', 'media', 'coverup', 'marchforlife', 'handful', 'leftist', 'protest', 'especially', 'trump']]\n"
          ],
          "name": "stdout"
        }
      ]
    },
    {
      "metadata": {
        "id": "WrRRXqOHFKyV",
        "colab_type": "code",
        "colab": {}
      },
      "cell_type": "code",
      "source": [
        "# Instatntiate the model\n",
        "from gensim.models import Word2Vec\n",
        "\n",
        "model = Word2Vec(min_count=1)\n",
        "# Build Vocab\n",
        "model.build_vocab(sentences2)\n",
        "# Train the model\n",
        "#model.train(sentences2, total_examples=model.corpus_count, compute_loss=True,\n",
        " #           epochs=model.iter)"
      ],
      "execution_count": 0,
      "outputs": []
    },
    {
      "metadata": {
        "id": "-drvqZC9H6H-",
        "colab_type": "code",
        "outputId": "616e7651-4720-47e5-f2d5-354f1d9ec855",
        "colab": {
          "base_uri": "https://localhost:8080/",
          "height": 890
        }
      },
      "cell_type": "code",
      "source": [
        "#We can iteratively train the model\n",
        "%%time\n",
        "w2v_train_loss = []\n",
        "\n",
        "for epoch in range(50):\n",
        "  model.train([x for x in tqdm(sentences2)], total_examples=model.corpus_count, \n",
        "              compute_loss=True, epochs=1)\n",
        "  \n",
        "  w2v_train_loss.append(model.get_latest_training_loss())"
      ],
      "execution_count": 71,
      "outputs": [
        {
          "output_type": "stream",
          "text": [
            "100%|██████████| 174300/174300 [00:00<00:00, 1958348.57it/s]\n",
            "100%|██████████| 174300/174300 [00:00<00:00, 2306678.62it/s]\n",
            "100%|██████████| 174300/174300 [00:00<00:00, 2308674.54it/s]\n",
            "100%|██████████| 174300/174300 [00:00<00:00, 2559033.28it/s]\n",
            "100%|██████████| 174300/174300 [00:00<00:00, 2363763.66it/s]\n",
            "100%|██████████| 174300/174300 [00:00<00:00, 2590773.96it/s]\n",
            "100%|██████████| 174300/174300 [00:00<00:00, 2573038.68it/s]\n",
            "100%|██████████| 174300/174300 [00:00<00:00, 2451386.49it/s]\n",
            "100%|██████████| 174300/174300 [00:00<00:00, 2391054.12it/s]\n",
            "100%|██████████| 174300/174300 [00:00<00:00, 2421345.59it/s]\n",
            "100%|██████████| 174300/174300 [00:00<00:00, 2501119.37it/s]\n",
            "100%|██████████| 174300/174300 [00:00<00:00, 2363534.39it/s]\n",
            "100%|██████████| 174300/174300 [00:00<00:00, 2465689.88it/s]\n",
            "100%|██████████| 174300/174300 [00:00<00:00, 2267493.73it/s]\n",
            "100%|██████████| 174300/174300 [00:00<00:00, 2287279.66it/s]\n",
            "100%|██████████| 174300/174300 [00:00<00:00, 2370608.41it/s]\n",
            "100%|██████████| 174300/174300 [00:00<00:00, 2391046.30it/s]\n",
            "100%|██████████| 174300/174300 [00:00<00:00, 2305812.85it/s]\n",
            "100%|██████████| 174300/174300 [00:00<00:00, 2277099.00it/s]\n",
            "100%|██████████| 174300/174300 [00:00<00:00, 2531834.41it/s]\n",
            "100%|██████████| 174300/174300 [00:00<00:00, 2628981.54it/s]\n",
            "100%|██████████| 174300/174300 [00:00<00:00, 2533009.91it/s]\n",
            "100%|██████████| 174300/174300 [00:00<00:00, 2426883.77it/s]\n",
            "100%|██████████| 174300/174300 [00:00<00:00, 2338030.88it/s]\n",
            "100%|██████████| 174300/174300 [00:00<00:00, 2384184.26it/s]\n",
            "100%|██████████| 174300/174300 [00:00<00:00, 2539565.25it/s]\n",
            "100%|██████████| 174300/174300 [00:00<00:00, 2493637.50it/s]\n",
            "100%|██████████| 174300/174300 [00:00<00:00, 2697455.87it/s]\n",
            "100%|██████████| 174300/174300 [00:00<00:00, 2493203.79it/s]\n",
            "100%|██████████| 174300/174300 [00:00<00:00, 2486453.94it/s]\n",
            "100%|██████████| 174300/174300 [00:00<00:00, 2480615.61it/s]\n",
            "100%|██████████| 174300/174300 [00:00<00:00, 2507415.87it/s]\n",
            "100%|██████████| 174300/174300 [00:00<00:00, 2576793.32it/s]\n",
            "100%|██████████| 174300/174300 [00:00<00:00, 2433532.35it/s]\n",
            "100%|██████████| 174300/174300 [00:00<00:00, 2604211.19it/s]\n",
            "100%|██████████| 174300/174300 [00:00<00:00, 2649667.78it/s]\n",
            "100%|██████████| 174300/174300 [00:00<00:00, 2588994.02it/s]\n",
            "100%|██████████| 174300/174300 [00:00<00:00, 2464875.17it/s]\n",
            "100%|██████████| 174300/174300 [00:00<00:00, 2603543.44it/s]\n",
            "100%|██████████| 174300/174300 [00:00<00:00, 2481853.54it/s]\n",
            "100%|██████████| 174300/174300 [00:00<00:00, 2438890.51it/s]\n",
            "100%|██████████| 174300/174300 [00:00<00:00, 2561032.40it/s]\n",
            "100%|██████████| 174300/174300 [00:00<00:00, 2481356.53it/s]\n",
            "100%|██████████| 174300/174300 [00:00<00:00, 2494284.10it/s]\n",
            "100%|██████████| 174300/174300 [00:00<00:00, 2661891.43it/s]\n",
            "100%|██████████| 174300/174300 [00:00<00:00, 2284135.27it/s]\n",
            "100%|██████████| 174300/174300 [00:00<00:00, 2619814.83it/s]\n",
            "100%|██████████| 174300/174300 [00:00<00:00, 2603385.83it/s]\n",
            "100%|██████████| 174300/174300 [00:00<00:00, 2557627.70it/s]\n",
            "100%|██████████| 174300/174300 [00:00<00:00, 2189486.00it/s]\n"
          ],
          "name": "stderr"
        },
        {
          "output_type": "stream",
          "text": [
            "CPU times: user 3min 41s, sys: 1.19 s, total: 3min 42s\n",
            "Wall time: 1min 57s\n"
          ],
          "name": "stdout"
        }
      ]
    },
    {
      "metadata": {
        "id": "8ySqcdsxgeNL",
        "colab_type": "code",
        "outputId": "331a8ead-19d4-4b94-c00b-21519fe1cde0",
        "colab": {
          "base_uri": "https://localhost:8080/",
          "height": 280
        }
      },
      "cell_type": "code",
      "source": [
        "fig=plt.figure()\n",
        "fig.show()\n",
        "ax=fig.add_subplot(111)\n",
        "ax.plot(w2v_train_loss, c='b', label='Training Loss')\n",
        "plt.xlim(0,50)\n",
        "\n",
        "plt.legend(loc='upper right', frameon=True)\n",
        "plt.title('Word2Vec Training Loss')\n",
        "plt.savefig('trainvalloss.png', dpi=300)\n",
        "#files.download('trainvalloss.png')\n",
        "plt.show()"
      ],
      "execution_count": 72,
      "outputs": [
        {
          "output_type": "display_data",
          "data": {
            "image/png": "[encoded data removed]",
            "text/plain": [
              "<Figure size 432x288 with 1 Axes>"
            ]
          },
          "metadata": {
            "tags": []
          }
        }
      ]
    },
    {
      "metadata": {
        "id": "z1nf1lpCGmfp",
        "colab_type": "code",
        "outputId": "9fdefeb4-9a38-4bc6-c3e7-ede7fb5566a8",
        "colab": {
          "base_uri": "https://localhost:8080/",
          "height": 101
        }
      },
      "cell_type": "code",
      "source": [
        "model.wv.most_similar('good', topn=5)"
      ],
      "execution_count": 73,
      "outputs": [
        {
          "output_type": "execute_result",
          "data": {
            "text/plain": [
              "[('great', 0.4566856324672699),\n",
              " ('best', 0.41801688075065613),\n",
              " ('frac', 0.39857640862464905),\n",
              " ('bad', 0.3981844186782837),\n",
              " ('terrible', 0.3784672021865845)]"
            ]
          },
          "metadata": {
            "tags": []
          },
          "execution_count": 73
        }
      ]
    },
    {
      "metadata": {
        "id": "bizaKkCMIyPq",
        "colab_type": "code",
        "outputId": "4924a01d-028c-456f-c0ff-dec0836d77b0",
        "colab": {
          "base_uri": "https://localhost:8080/",
          "height": 34
        }
      },
      "cell_type": "code",
      "source": [
        "model.similarity('bad', 'good')"
      ],
      "execution_count": 74,
      "outputs": [
        {
          "output_type": "execute_result",
          "data": {
            "text/plain": [
              "0.39818445"
            ]
          },
          "metadata": {
            "tags": []
          },
          "execution_count": 74
        }
      ]
    },
    {
      "metadata": {
        "id": "gpwVL6np6XMR",
        "colab_type": "code",
        "outputId": "77451b01-01f9-43b1-f4ac-8ae2d20557de",
        "colab": {
          "base_uri": "https://localhost:8080/",
          "height": 34
        }
      },
      "cell_type": "code",
      "source": [
        "len(model.wv.vocab)"
      ],
      "execution_count": 75,
      "outputs": [
        {
          "output_type": "execute_result",
          "data": {
            "text/plain": [
              "33317"
            ]
          },
          "metadata": {
            "tags": []
          },
          "execution_count": 75
        }
      ]
    },
    {
      "metadata": {
        "id": "CgrSlwmlm7dQ",
        "colab_type": "text"
      },
      "cell_type": "markdown",
      "source": [
        "The results of the Word2Vec model are not as good as we’d like, as such we will not use this to build a classifier. There may be limitations in play that are specific to the corpus. Through several experiments I have found that the model is sensitive to hyperparameter changes. We’ll try as couple of variations on Word2Vec to see if performance can be improved.  "
      ]
    },
    {
      "metadata": {
        "id": "mSlR9w6XOc2j",
        "colab_type": "text"
      },
      "cell_type": "markdown",
      "source": [
        "## **Fast Text**\n",
        "FastText is an extension to Word2Vec proposed by Facebook in 2016. \n",
        "\n",
        "Instead of feeding individual words into the Neural Network, FastText breaks words into several n-grams (sub-words)."
      ]
    },
    {
      "metadata": {
        "id": "G-5QVieGOajT",
        "colab_type": "code",
        "colab": {}
      },
      "cell_type": "code",
      "source": [
        "from gensim.models import FastText\n",
        "fast_model = FastText(\n",
        "    sentences2, size=300, window=4, min_count=2, workers=4,sg=0)"
      ],
      "execution_count": 0,
      "outputs": []
    },
    {
      "metadata": {
        "id": "JZ5lJ1QIOaW2",
        "colab_type": "code",
        "outputId": "0fd84694-a49e-44b5-8889-7f8e2f3a801f",
        "colab": {
          "base_uri": "https://localhost:8080/",
          "height": 185
        }
      },
      "cell_type": "code",
      "source": [
        "fast_model.wv.most_similar(\"bad\")"
      ],
      "execution_count": 77,
      "outputs": [
        {
          "output_type": "execute_result",
          "data": {
            "text/plain": [
              "[('bada', 0.9032613635063171),\n",
              " ('badass', 0.7159971594810486),\n",
              " ('ipad', 0.7051912546157837),\n",
              " ('badluck', 0.7041375637054443),\n",
              " ('bai', 0.6797642707824707),\n",
              " ('vlad', 0.6648203134536743),\n",
              " ('bac', 0.6367800235748291),\n",
              " ('usad', 0.6108507513999939),\n",
              " ('load', 0.6073914766311646),\n",
              " ('bat', 0.5995541214942932)]"
            ]
          },
          "metadata": {
            "tags": []
          },
          "execution_count": 77
        }
      ]
    },
    {
      "metadata": {
        "id": "Lf4i3NXNoUap",
        "colab_type": "text"
      },
      "cell_type": "markdown",
      "source": [
        "A quick model using some default settings does not indicate it would be much better than the previous model, so we’ll move on."
      ]
    },
    {
      "metadata": {
        "id": "vfbjwKXFRSnv",
        "colab_type": "text"
      },
      "cell_type": "markdown",
      "source": [
        "## **Doc2Vec**\n",
        "Doc2Vec is a small extension to the CBOW Word2Vec model. \n",
        "\n",
        "Instead of using just words to predict the next word, we also add another feature vector, which is document-unique. Each tweet is considered a separate  document."
      ]
    },
    {
      "metadata": {
        "id": "vnW_otEfHWAZ",
        "colab_type": "code",
        "outputId": "e23b0d27-f64a-4e0e-a855-d1e165f48046",
        "colab": {
          "base_uri": "https://localhost:8080/",
          "height": 195
        }
      },
      "cell_type": "code",
      "source": [
        "df4 = df3[['clean', 'SA2']].copy()\n",
        "\n",
        "df4.head()"
      ],
      "execution_count": 78,
      "outputs": [
        {
          "output_type": "execute_result",
          "data": {
            "text/html": [
              "<div>\n",
              "<style scoped>\n",
              "    .dataframe tbody tr th:only-of-type {\n",
              "        vertical-align: middle;\n",
              "    }\n",
              "\n",
              "    .dataframe tbody tr th {\n",
              "        vertical-align: top;\n",
              "    }\n",
              "\n",
              "    .dataframe thead th {\n",
              "        text-align: right;\n",
              "    }\n",
              "</style>\n",
              "<table border=\"1\" class=\"dataframe\">\n",
              "  <thead>\n",
              "    <tr style=\"text-align: right;\">\n",
              "      <th></th>\n",
              "      <th>clean</th>\n",
              "      <th>SA2</th>\n",
              "    </tr>\n",
              "  </thead>\n",
              "  <tbody>\n",
              "    <tr>\n",
              "      <th>220359</th>\n",
              "      <td>more baker transcripts not leaked  the nyt  th...</td>\n",
              "      <td>1</td>\n",
              "    </tr>\n",
              "    <tr>\n",
              "      <th>55919</th>\n",
              "      <td>incredible  see the media coverup  marchforlif...</td>\n",
              "      <td>1</td>\n",
              "    </tr>\n",
              "    <tr>\n",
              "      <th>351974</th>\n",
              "      <td>democrats travel   minus resort seaside  lakes...</td>\n",
              "      <td>1</td>\n",
              "    </tr>\n",
              "    <tr>\n",
              "      <th>77360</th>\n",
              "      <td>unprecedented move special counsel  office d...</td>\n",
              "      <td>1</td>\n",
              "    </tr>\n",
              "    <tr>\n",
              "      <th>304003</th>\n",
              "      <td>active duty members  the coast guard are worki...</td>\n",
              "      <td>-1</td>\n",
              "    </tr>\n",
              "  </tbody>\n",
              "</table>\n",
              "</div>"
            ],
            "text/plain": [
              "                                                    clean  SA2\n",
              "220359  more baker transcripts not leaked  the nyt  th...    1\n",
              "55919   incredible  see the media coverup  marchforlif...    1\n",
              "351974  democrats travel   minus resort seaside  lakes...    1\n",
              "77360     unprecedented move special counsel  office d...    1\n",
              "304003  active duty members  the coast guard are worki...   -1"
            ]
          },
          "metadata": {
            "tags": []
          },
          "execution_count": 78
        }
      ]
    },
    {
      "metadata": {
        "id": "WHRzKvhVo9Mb",
        "colab_type": "text"
      },
      "cell_type": "markdown",
      "source": [
        "Doc2Vec takes in “TaggedDocuments” rather than a list of lists. Essentially these are a list of tokens that are paired with a tag, in our case the SA2 label."
      ]
    },
    {
      "metadata": {
        "id": "J8t2md82aMO1",
        "colab_type": "code",
        "outputId": "8832cef0-550b-4f53-b2f3-6d599f9c80d6",
        "colab": {
          "base_uri": "https://localhost:8080/",
          "height": 50
        }
      },
      "cell_type": "code",
      "source": [
        "from gensim.models import Doc2Vec\n",
        "from gensim.models.doc2vec import TaggedDocument\n",
        "import multiprocessing\n",
        "from sklearn import utils\n",
        "nltk.download('punkt')\n",
        "\n",
        "train, test = train_test_split(df4, test_size=0.3, random_state=42)\n",
        "\n",
        "def tokenize_text(text):\n",
        "    tokens = []\n",
        "    for sent in sent_tokenize(text):\n",
        "        for word in word_tokenize(sent):\n",
        "            if len(word) < 2:\n",
        "                continue\n",
        "            tokens.append(word.lower())\n",
        "    return tokens\n",
        "train_tagged = train.apply(\n",
        "    lambda r: TaggedDocument(words=tokenize_text(r['clean']), tags=[r.SA2]), \n",
        "    axis=1)\n",
        "\n",
        "test_tagged = test.apply(\n",
        "    lambda r: TaggedDocument(words=tokenize_text(r['clean']), tags=[r.SA2]), \n",
        "    axis=1)"
      ],
      "execution_count": 79,
      "outputs": [
        {
          "output_type": "stream",
          "text": [
            "[nltk_data] Downloading package punkt to /root/nltk_data...\n",
            "[nltk_data]   Package punkt is already up-to-date!\n"
          ],
          "name": "stdout"
        }
      ]
    },
    {
      "metadata": {
        "id": "HUeVXRSvWaSQ",
        "colab_type": "code",
        "outputId": "d00a5602-9326-4b64-d470-9753bf067933",
        "colab": {
          "base_uri": "https://localhost:8080/",
          "height": 34
        }
      },
      "cell_type": "code",
      "source": [
        "train_tagged.values[30]"
      ],
      "execution_count": 80,
      "outputs": [
        {
          "output_type": "execute_result",
          "data": {
            "text/plain": [
              "TaggedDocument(words=['not', 'even', 'gone', 'hold', 'you', 'fucking', 'hate', 'trump', 'omm'], tags=[-1])"
            ]
          },
          "metadata": {
            "tags": []
          },
          "execution_count": 80
        }
      ]
    },
    {
      "metadata": {
        "id": "noL9zENqWaA7",
        "colab_type": "code",
        "outputId": "1c01054d-eebe-4b46-c6b9-d9f1c57dd90b",
        "colab": {
          "base_uri": "https://localhost:8080/",
          "height": 34
        }
      },
      "cell_type": "code",
      "source": [
        "# Instantiate the model and build vocab\n",
        "model_dbow = Doc2Vec(dm=0, vector_size=300, negative=5, hs=0, min_count=2, sample = 0, workers=-1)\n",
        "model_dbow.build_vocab([x for x in tqdm(train_tagged.values)])"
      ],
      "execution_count": 81,
      "outputs": [
        {
          "output_type": "stream",
          "text": [
            "100%|██████████| 122010/122010 [00:00<00:00, 2123246.65it/s]\n"
          ],
          "name": "stderr"
        }
      ]
    },
    {
      "metadata": {
        "id": "7AEqE4lEWxyy",
        "colab_type": "code",
        "outputId": "819446ea-3235-4998-bdf0-273ccc08be52",
        "colab": {
          "base_uri": "https://localhost:8080/",
          "height": 554
        }
      },
      "cell_type": "code",
      "source": [
        "# Train the model\n",
        "%%time\n",
        "for epoch in range(30):\n",
        "    model_dbow.train(utils.shuffle([x for x in tqdm(train_tagged.values)]), \n",
        "                     total_examples=len(train_tagged.values), epochs=1)\n",
        "    model_dbow.alpha -= 0.002\n",
        "    model_dbow.min_alpha = model_dbow.alpha"
      ],
      "execution_count": 82,
      "outputs": [
        {
          "output_type": "stream",
          "text": [
            "100%|██████████| 122010/122010 [00:00<00:00, 2105348.38it/s]\n",
            "100%|██████████| 122010/122010 [00:00<00:00, 1130190.86it/s]\n",
            "100%|██████████| 122010/122010 [00:00<00:00, 1080038.39it/s]\n",
            "100%|██████████| 122010/122010 [00:00<00:00, 1194130.54it/s]\n",
            "100%|██████████| 122010/122010 [00:00<00:00, 1253489.29it/s]\n",
            "100%|██████████| 122010/122010 [00:00<00:00, 1060631.00it/s]\n",
            "100%|██████████| 122010/122010 [00:00<00:00, 1035669.39it/s]\n",
            "100%|██████████| 122010/122010 [00:00<00:00, 1079892.53it/s]\n",
            "100%|██████████| 122010/122010 [00:00<00:00, 1115918.93it/s]\n",
            "100%|██████████| 122010/122010 [00:00<00:00, 1271345.39it/s]\n",
            "100%|██████████| 122010/122010 [00:00<00:00, 1105223.10it/s]\n",
            "100%|██████████| 122010/122010 [00:00<00:00, 1347738.34it/s]\n",
            "100%|██████████| 122010/122010 [00:00<00:00, 813911.78it/s] \n",
            "100%|██████████| 122010/122010 [00:00<00:00, 1204258.01it/s]\n",
            "100%|██████████| 122010/122010 [00:00<00:00, 1108466.92it/s]\n",
            "100%|██████████| 122010/122010 [00:00<00:00, 997713.15it/s]\n",
            "100%|██████████| 122010/122010 [00:00<00:00, 869509.20it/s] \n",
            "100%|██████████| 122010/122010 [00:00<00:00, 1418989.00it/s]\n",
            "100%|██████████| 122010/122010 [00:00<00:00, 1170114.03it/s]\n",
            "100%|██████████| 122010/122010 [00:00<00:00, 1149360.53it/s]\n",
            "100%|██████████| 122010/122010 [00:00<00:00, 942693.88it/s]\n",
            "100%|██████████| 122010/122010 [00:00<00:00, 1168169.52it/s]\n",
            "100%|██████████| 122010/122010 [00:00<00:00, 1251937.62it/s]\n",
            "100%|██████████| 122010/122010 [00:00<00:00, 967985.88it/s]\n",
            "100%|██████████| 122010/122010 [00:00<00:00, 1252050.96it/s]\n",
            "100%|██████████| 122010/122010 [00:00<00:00, 1204326.02it/s]\n",
            "100%|██████████| 122010/122010 [00:00<00:00, 1113389.10it/s]\n",
            "100%|██████████| 122010/122010 [00:00<00:00, 976651.88it/s]\n",
            "100%|██████████| 122010/122010 [00:00<00:00, 905803.07it/s] \n",
            "100%|██████████| 122010/122010 [00:00<00:00, 1112786.26it/s]\n"
          ],
          "name": "stderr"
        },
        {
          "output_type": "stream",
          "text": [
            "CPU times: user 7.09 s, sys: 102 ms, total: 7.2 s\n",
            "Wall time: 7.25 s\n"
          ],
          "name": "stdout"
        }
      ]
    },
    {
      "metadata": {
        "id": "JWwNu9lzWw9D",
        "colab_type": "code",
        "colab": {}
      },
      "cell_type": "code",
      "source": [
        "def vec_for_learning(model, tagged_docs):\n",
        "    sents = tagged_docs.values\n",
        "    targets, regressors = zip(*[(doc.tags[0], model.infer_vector(doc.words, steps=20)) for doc in sents])\n",
        "    return targets, regressors"
      ],
      "execution_count": 0,
      "outputs": []
    },
    {
      "metadata": {
        "id": "ojUAceP5XbaA",
        "colab_type": "code",
        "colab": {}
      },
      "cell_type": "code",
      "source": [
        "# Defining ML variables\n",
        "y_train, X_train = vec_for_learning(model_dbow, train_tagged)\n",
        "\n",
        "y_test, X_test = vec_for_learning(model_dbow, test_tagged)\n"
      ],
      "execution_count": 0,
      "outputs": []
    },
    {
      "metadata": {
        "id": "AwsA78IZY0-q",
        "colab_type": "code",
        "colab": {}
      },
      "cell_type": "code",
      "source": [
        "# Defining a function to fit and predict ML algorithms\n",
        "def auto_model(mod, model_name, X_train, X_test, y_train, y_test):\n",
        "    t0 = time()\n",
        "    mod.fit(X_train, y_train)\n",
        "    print(model_name)\n",
        "    print(\"done in %0.3fs\" % (time() - t0))\n",
        "    y_pred = mod.predict(X_test)\n",
        "    print('Testing accuracy {:0.2f}' .format(accuracy_score(y_test, y_pred)))\n",
        "    print('Testing F1 score: {:0.2f}'.format(\n",
        "    f1_score(y_test, y_pred, average='weighted')))"
      ],
      "execution_count": 0,
      "outputs": []
    },
    {
      "metadata": {
        "id": "czaSkaw-gaZ6",
        "colab_type": "text"
      },
      "cell_type": "markdown",
      "source": [
        "## **Doc2Vec Classification Models**"
      ]
    },
    {
      "metadata": {
        "id": "y2JoJhdCYfbH",
        "colab_type": "code",
        "colab": {
          "base_uri": "https://localhost:8080/",
          "height": 84
        },
        "outputId": "d20d1f17-cbd3-40e7-b0ba-0b1b556c0cb3"
      },
      "cell_type": "code",
      "source": [
        "# Random Forest Classifier\n",
        "rfc = RandomForestClassifier(n_estimators=100, n_jobs=-1)\n",
        "auto_model(rfc, \"Random Forest Classifier\",\n",
        "            X_train, X_test, y_train, y_test)"
      ],
      "execution_count": 89,
      "outputs": [
        {
          "output_type": "stream",
          "text": [
            "Random Forest Classifier\n",
            "done in 162.025s\n",
            "Testing accuracy 0.89\n",
            "Testing F1 score: 0.89\n"
          ],
          "name": "stdout"
        }
      ]
    },
    {
      "metadata": {
        "id": "DaRNptRdYfK_",
        "colab_type": "code",
        "outputId": "0ec62491-4d26-405b-f4df-296893379716",
        "colab": {
          "base_uri": "https://localhost:8080/",
          "height": 84
        }
      },
      "cell_type": "code",
      "source": [
        "# Gaussian Naive Bayes\n",
        "gnb = GaussianNB()\n",
        "auto_model(gnb, \"Gaussian Naive Bayes\", \n",
        "              X_train, X_test, y_train, y_test)"
      ],
      "execution_count": 90,
      "outputs": [
        {
          "output_type": "stream",
          "text": [
            "Gaussian Naive Bayes\n",
            "done in 0.554s\n",
            "Testing accuracy 0.67\n",
            "Testing F1 score: 0.67\n"
          ],
          "name": "stdout"
        }
      ]
    },
    {
      "metadata": {
        "id": "ChfYB5SXfTfG",
        "colab_type": "code",
        "outputId": "abdcec8e-35b8-44f2-8c3f-c10172fc8e06",
        "colab": {
          "base_uri": "https://localhost:8080/",
          "height": 84
        }
      },
      "cell_type": "code",
      "source": [
        "# Logistic Regression\n",
        "log = LogisticRegression(solver='lbfgs')\n",
        "auto_model(log, \"Logistic Regression\", X_train, X_test, y_train, y_test)"
      ],
      "execution_count": 91,
      "outputs": [
        {
          "output_type": "stream",
          "text": [
            "Logistic Regression\n",
            "done in 2.736s\n",
            "Testing accuracy 0.67\n",
            "Testing F1 score: 0.67\n"
          ],
          "name": "stdout"
        }
      ]
    },
    {
      "metadata": {
        "id": "EYspkdVEfTTA",
        "colab_type": "code",
        "outputId": "22ee172d-b647-4b0c-e2b6-b48eaa40153d",
        "colab": {
          "base_uri": "https://localhost:8080/",
          "height": 84
        }
      },
      "cell_type": "code",
      "source": [
        "# Linear SVC\n",
        "svc = LinearSVC()\n",
        "auto_model(svc, \"Linear SVC\", X_train, X_test, y_train, y_test)"
      ],
      "execution_count": 92,
      "outputs": [
        {
          "output_type": "stream",
          "text": [
            "Linear SVC\n",
            "done in 10.575s\n",
            "Testing accuracy 0.69\n",
            "Testing F1 score: 0.69\n"
          ],
          "name": "stdout"
        }
      ]
    },
    {
      "metadata": {
        "id": "dltywMXUBosy",
        "colab_type": "text"
      },
      "cell_type": "markdown",
      "source": [
        "The Random Forest Classifier achieved the best performance, although it is far from what we want. As the focus of the project is to develop a Neural Network I won't investigate improving this models performance. "
      ]
    },
    {
      "metadata": {
        "colab_type": "text",
        "id": "BIMrjnX51qx2"
      },
      "cell_type": "markdown",
      "source": [
        "# **Preparing Data for Pytorch**"
      ]
    },
    {
      "metadata": {
        "id": "aRQj7OnoRdWO",
        "colab_type": "code",
        "colab": {}
      },
      "cell_type": "code",
      "source": [
        "from collections import Counter\n",
        "\n",
        "\n",
        "## Build a dictionary that maps words to integers\n",
        "counts = Counter(words)\n",
        "vocab = sorted(counts, key=counts.get, reverse=True)\n",
        "vocab_to_int = {word: ii for ii, word in enumerate(vocab, 1)}\n",
        "  \n",
        "## use the dict to tokenize each tweet in tweet_split\n",
        "## store the tokenized tweet in tweet_ints\n",
        "tweet_ints = []\n",
        "for tweet in tweet_split:\n",
        "    tweet_ints.append([vocab_to_int[word] for word in tweet.split()])"
      ],
      "execution_count": 0,
      "outputs": []
    },
    {
      "metadata": {
        "id": "iqUMcVo_vANL",
        "colab_type": "code",
        "colab": {
          "base_uri": "https://localhost:8080/",
          "height": 50
        },
        "outputId": "1abe8a1f-b3db-4d7d-a6f1-b6f6a594be27"
      },
      "cell_type": "code",
      "source": [
        "#vocab_to_int.keys()\n",
        "print(tweet_split[0])\n",
        "print(tweet_ints[0])"
      ],
      "execution_count": 94,
      "outputs": [
        {
          "output_type": "stream",
          "text": [
            "more baker transcripts not leaked  the nyt  this time  they can spin  epoch has got them\n",
            "[42, 340, 387, 9, 255, 1, 740, 6, 37, 15, 39, 913, 1034, 29, 118, 169]\n"
          ],
          "name": "stdout"
        }
      ]
    },
    {
      "metadata": {
        "id": "zjsxQkK7kPRg",
        "colab_type": "code",
        "colab": {
          "base_uri": "https://localhost:8080/",
          "height": 50
        },
        "outputId": "ce07deb4-ce3f-49a4-aa18-25357e8e2ff1"
      },
      "cell_type": "code",
      "source": [
        "\n",
        "# stats about vocabulary\n",
        "print('Unique words: ', len((vocab_to_int)))  \n",
        "print()"
      ],
      "execution_count": 95,
      "outputs": [
        {
          "output_type": "stream",
          "text": [
            "Unique words:  33585\n",
            "\n"
          ],
          "name": "stdout"
        }
      ]
    },
    {
      "metadata": {
        "id": "46ifj23cTGzG",
        "colab_type": "code",
        "colab": {
          "base_uri": "https://localhost:8080/",
          "height": 67
        },
        "outputId": "e8b946f5-7234-48d8-e12d-b355a057fb3f"
      },
      "cell_type": "code",
      "source": [
        "# outlier tweet stats\n",
        "tweet_lens = Counter([len(x) for x in tweet_ints])\n",
        "print(\"Zero-length tweets: {}\".format(tweet_lens[0]))\n",
        "print(\"Minimum tweet word count: {}\".format(min(tweet_lens)))\n",
        "print(\"Maximum tweet word count: {}\".format(max(tweet_lens)))"
      ],
      "execution_count": 96,
      "outputs": [
        {
          "output_type": "stream",
          "text": [
            "Zero-length tweets: 0\n",
            "Minimum tweet word count: 1\n",
            "Maximum tweet word count: 24\n"
          ],
          "name": "stdout"
        }
      ]
    },
    {
      "metadata": {
        "id": "POfLRIOZXB9W",
        "colab_type": "code",
        "colab": {}
      },
      "cell_type": "code",
      "source": [
        "def pad_features(tweet_ints, seq_length):\n",
        "    ''' Return features of tweet_ints, where each tweet is padded with 0's \n",
        "        or truncated to the input seq_length.\n",
        "    '''\n",
        "    \n",
        "    # getting the correct rows x cols shape\n",
        "    features = np.zeros((len(tweet_ints), seq_length), dtype=int)\n",
        "\n",
        "    # for each review, I grab that review and \n",
        "    for i, row in enumerate(tweet_ints):\n",
        "        features[i, -len(row):] = np.array(row)[:seq_length]\n",
        "    \n",
        "    return features"
      ],
      "execution_count": 0,
      "outputs": []
    },
    {
      "metadata": {
        "id": "kTsb9481Xlo9",
        "colab_type": "code",
        "colab": {}
      },
      "cell_type": "code",
      "source": [
        "# Test your implementation!\n",
        "\n",
        "seq_length = 26\n",
        "\n",
        "features = pad_features(tweet_ints, seq_length=seq_length)\n",
        "\n",
        "## test statements - do not change - ##\n",
        "assert len(features)==len(tweet_ints), \"Your features should have as many rows as reviews.\"\n",
        "assert len(features[0])==seq_length, \"Each feature row should contain seq_length values.\"\n"
      ],
      "execution_count": 0,
      "outputs": []
    },
    {
      "metadata": {
        "id": "2WY7J7KiXrLy",
        "colab_type": "code",
        "colab": {
          "base_uri": "https://localhost:8080/",
          "height": 84
        },
        "outputId": "0931b765-c620-425c-e4d7-c26abec3a2fb"
      },
      "cell_type": "code",
      "source": [
        "\n",
        "split_frac = 0.8\n",
        "\n",
        "## split data into training, validation, and test data (features and labels, x and y)\n",
        "\n",
        "split_idx = int(len(features)*split_frac)\n",
        "train_x, remaining_x = features[:split_idx], features[split_idx:]\n",
        "train_y, remaining_y = encoded_labels[:split_idx], encoded_labels[split_idx:]\n",
        "\n",
        "test_idx = int(len(remaining_x)*0.5)\n",
        "val_x, test_x = remaining_x[:test_idx], remaining_x[test_idx:]\n",
        "val_y, test_y = remaining_y[:test_idx], remaining_y[test_idx:]\n",
        "\n",
        "## print out the shapes of your resultant feature data\n",
        "print(\"\\t\\t\\tFeature Shapes:\")\n",
        "print(\"Train set: \\t\\t{}\".format(train_x.shape), \n",
        "      \"\\nValidation set: \\t{}\".format(val_x.shape),\n",
        "      \"\\nTest set: \\t\\t{}\".format(test_x.shape))"
      ],
      "execution_count": 99,
      "outputs": [
        {
          "output_type": "stream",
          "text": [
            "\t\t\tFeature Shapes:\n",
            "Train set: \t\t(139440, 26) \n",
            "Validation set: \t(17430, 26) \n",
            "Test set: \t\t(17430, 26)\n"
          ],
          "name": "stdout"
        }
      ]
    },
    {
      "metadata": {
        "id": "R-GEkIPLp9la",
        "colab_type": "text"
      },
      "cell_type": "markdown",
      "source": [
        "## **DataLoaders and Batching**\n",
        "After creating training, test, and validation data, we can create DataLoaders for this data by following two steps:\n",
        "\n",
        "1.   Create a known format for accessing our data, using TensorDataset which takes in an input set of data and a target set of data with the same first dimension, and creates a dataset.\n",
        "2.   Create DataLoaders and batch our training, validation, and test Tensor datasets\n",
        "\n",
        "\n",
        "train_data = TensorDataset(torch.from_numpy(train_x), torch.from_numpy(train_y))\n",
        "\n",
        "train_loader = DataLoader(train_data, batch_size=batch_size)\n",
        "\n",
        "This is an alternative to creating a generator function for batching our data into full batches."
      ]
    },
    {
      "metadata": {
        "id": "9v_sjGMgo-1d",
        "colab_type": "code",
        "colab": {}
      },
      "cell_type": "code",
      "source": [
        "import torch\n",
        "from torch.utils.data import TensorDataset, DataLoader\n",
        "\n",
        "# create Tensor datasets\n",
        "train_data = TensorDataset(torch.from_numpy(train_x), torch.from_numpy(train_y))\n",
        "valid_data = TensorDataset(torch.from_numpy(val_x), torch.from_numpy(val_y))\n",
        "test_data = TensorDataset(torch.from_numpy(test_x), torch.from_numpy(test_y))\n",
        "\n",
        "# dataloaders\n",
        "batch_size = 30\n",
        "\n",
        "train_loader = DataLoader(train_data, shuffle=False, batch_size=batch_size)\n",
        "valid_loader = DataLoader(valid_data, shuffle=False, batch_size=batch_size)\n",
        "test_loader = DataLoader(test_data, shuffle=False, batch_size=batch_size)"
      ],
      "execution_count": 0,
      "outputs": []
    },
    {
      "metadata": {
        "id": "lWBEdtslqYj-",
        "colab_type": "code",
        "colab": {
          "base_uri": "https://localhost:8080/",
          "height": 1646
        },
        "outputId": "7a0c09c8-7897-4ed4-d0a3-627c58ad81ae"
      },
      "cell_type": "code",
      "source": [
        "# obtain one batch of training data\n",
        "dataiter = iter(train_loader)\n",
        "sample_x, sample_y = dataiter.next()\n",
        "\n",
        "print('Sample input size: ', sample_x.size()) # batch_size, seq_length\n",
        "print('Sample input: \\n', sample_x)\n",
        "print()\n",
        "print('Sample label size: ', sample_y.size()) # batch_size\n",
        "print('Sample label: \\n', sample_y)"
      ],
      "execution_count": 101,
      "outputs": [
        {
          "output_type": "stream",
          "text": [
            "Sample input size:  torch.Size([30, 26])\n",
            "Sample input: \n",
            " tensor([[    0,     0,     0,     0,     0,     0,     0,     0,     0,     0,\n",
            "            42,   340,   387,     9,   255,     1,   740,     6,    37,    15,\n",
            "            39,   913,  1034,    29,   118,   169],\n",
            "        [    0,     0,     0,     0,     0,     0,     0,     0,     0,     0,\n",
            "             0,     0,     0,   567,   209,     1,    31,  1129,   924,    40,\n",
            "          1137,   641,  1070,   180,   687,     2],\n",
            "        [    0,     0,     0,     0,     0,     0,     0,     0,     0,     0,\n",
            "             0,     0,     0,   142,   626,  3758,  2684,  3956,  3957,    51,\n",
            "          2300,  3811,  2548,  1190,  1228,  3958],\n",
            "        [    0,     0,     0,     0,     0,     0,     0,     0,     0,     0,\n",
            "             0,     0,     0,     0,   445,   282,    21,    26,    18,   146,\n",
            "            10,    20,   184,     2,   120,    16],\n",
            "        [    0,     0,     0,     0,     0,     0,     0,     0,     0,     0,\n",
            "             0,     0,     0,  1283,  1312,   698,     1,  1912,  1985,    11,\n",
            "           691,   721,   447,    84,     2,    58],\n",
            "        [    0,     0,     0,     0,     0,     0,     0,     0,     6,  1062,\n",
            "           297,     1,   319,   412,  6593,    29,  3568,   220,  6331,  1922,\n",
            "          6878,  4927,    87,  4081,     3,  2253],\n",
            "        [    0,     0,     0,     0,     0,     0,     0,     0,     0,    18,\n",
            "           464,   407,    20,     6,   313,     4,     2,   234,   466,     1,\n",
            "           473,    28,   396,   459,     9,   488],\n",
            "        [    0,     0,     0,     0,     0,     0,     0,     0,     0,     0,\n",
            "         11681, 11682, 18065,  3599,    30,  2914,  7239,  1199,     2,   186,\n",
            "             9,  4024,  2178,   709,  2178,   684],\n",
            "        [    0,     0,     0,     0,     0,     0,     0,     0,     0,     0,\n",
            "             0,     0,  1268,   263,    21,    26,   158,    13,   821,     4,\n",
            "            14,     2,   524,    33,   212,  1229],\n",
            "        [    0,     0,     0,     0,     0,     0,     0,     0,     0,     0,\n",
            "             0,     0,     0,    13,     7,    20,   184,     2,   120,    61,\n",
            "            16,   241,     9,   128,   181,  2853],\n",
            "        [    0,     0,     0,     0,     0,     0,     0,     0,     0,     0,\n",
            "             6,   565,   683,  1102,    96,     8,    63,    83,     6,  1633,\n",
            "            68,  2179,    43,  1878,  1797,  2271],\n",
            "        [    0,     0,     0,     0,     0,     0,     0,     0,     0,     0,\n",
            "             7,   118,     2,  1411,    32,   116,  1471,    94,   170,     8,\n",
            "            28,    79,    28,     8,   605,     7],\n",
            "        [    0,     0,     0,     0,     0,     0,     0,   222,   186,    96,\n",
            "          3812,   122,  4590,     8,    35,    28,  1506,   623,     5,     6,\n",
            "            30,  2914,     8,  1469,     6,   917],\n",
            "        [    0,     0,     0,     0,     0,     0,     0,     0,     0,     0,\n",
            "             0,    73,  1023,     6,   139,   167,    91,     5,    92,    15,\n",
            "            28,    70,   312,     5,     2,   218],\n",
            "        [    0,     0,     0,     0,     0,     0,     0,     0,     0,    38,\n",
            "           411,   822,    25,    66,     2,   243,    93,   239,   839,   559,\n",
            "            15,    89,   692,   469,     6,   376],\n",
            "        [    0,     0,     0,     0,     0,     0,     0,     0,     0,     0,\n",
            "             0,     0,    87,   826,   298,    48,     9,  1031,   170,     5,\n",
            "            13,   974,  1027,   218,   593,    57],\n",
            "        [    0,     0,     0,     0,     0,     0,     0,     0,     0,     0,\n",
            "             0,    97,    17,    10,   278,   324,    14,     2,   250,     5,\n",
            "           317,    42,    17,    10,   103,    47],\n",
            "        [    0,     0,     0,     0,     0,     0,     0,     0,     0,   325,\n",
            "          1108,  1325,    34,     4,     8,   165,    12,     9,   883,     2,\n",
            "          2029,    62,   914,   192,  1160,  2623],\n",
            "        [    0,     0,     0,     0,     0,     0,     0,     0,     0,     0,\n",
            "             0,     0,     0,     2,  1551,    16,   314,  2915,  2140,     5,\n",
            "           130,   590,   226,    16,   800,   548],\n",
            "        [    0,     0,     0,     0,     0,     0,     0,     0,     0,     0,\n",
            "             0,     0,     0,     0,   810,     6,   139,  1954,     7,   187,\n",
            "          1745,    45,    35,   384,  1090,   484],\n",
            "        [    0,     0,     0,     0,     0,     0,     0,     0,     0,     0,\n",
            "             0,     0,     0, 18066,     1,     2,  1246,  1487,    80,     1,\n",
            "           171,   767, 10304,  8658,     3,  2854],\n",
            "        [    0,     0,     0,     0,     0,     0,     0,     0,     0,     0,\n",
            "             0,     0,     0,     0,     0,     0,     0,     0,     0,     0,\n",
            "             0,   964,    34,   201,    35,   174],\n",
            "        [    0,     0,     0,     0,     0,     0,     0,     0,     0,     0,\n",
            "             0,    74,    10,    21,    26,    13,    49,     7,    20,   764,\n",
            "            14,     2,   120,    16,    25,    69],\n",
            "        [    0,     0,     0,     0,     0,     0,     0,     0,     0,     0,\n",
            "             0,     0,     0,     0,     8,  1295,     2,   411,    38,   274,\n",
            "           586,   537,   108,    58,  2508,  1699],\n",
            "        [    0,     0,     0,     0,     0,     0,     0,     0,     0,     0,\n",
            "             0,     0,     0,   178,  2610,     3,  2549,     5,   304,    41,\n",
            "            11,  1094,  3519,     2,    58,   737],\n",
            "        [    0,     0,     0,     0,     0,     0,     0,     0,     0,     0,\n",
            "             0,    30,    53,   114,    28,     1,    31,    70,  1618,   318,\n",
            "           297,     2,    23,  1272,   975,  2347],\n",
            "        [    0,     0,     0,     0,     0,     0,     0,     0,     0,     0,\n",
            "             0,     0,     0,    74,  1169,    14,     2,    49,   491,   141,\n",
            "           117,   693,     1,   533,   211,     1],\n",
            "        [    0,     0,     0,     0,     0,     0,     0,     0,     0,     0,\n",
            "             0,  4139,     3,    41,  4928,     5,   192,   723,     1,   779,\n",
            "          5936,  1136,     5,     2,   402,   741],\n",
            "        [    0,     0,     0,     0,     0,     0,     0,     0,     2,  2801,\n",
            "           874,   932,   335,    24,   792,   260,   151,   335,   357,     1,\n",
            "          2967,   997,   523,     3,   127,  4591],\n",
            "        [    0,     0,     0,     0,     0,     0,    51,  3959,  2090,   261,\n",
            "          7626,    41,   196,     6,   684,   282,   166,    28,   162,    93,\n",
            "             3,   149,  6879,    93,     5,  5742]])\n",
            "\n",
            "Sample label size:  torch.Size([30])\n",
            "Sample label: \n",
            " tensor([1, 1, 1, 1, 0, 0, 0, 0, 1, 0, 1, 1, 0, 0, 0, 1, 0, 0, 0, 1, 0, 1, 1, 1,\n",
            "        0, 1, 1, 1, 0, 0])\n"
          ],
          "name": "stdout"
        }
      ]
    },
    {
      "metadata": {
        "id": "HzF8ZcV1qh9l",
        "colab_type": "text"
      },
      "cell_type": "markdown",
      "source": [
        "# Sentiment Network with PyTorch\n",
        "\n",
        "LSTM Neural Networks, which stand for Long Short-Term Memory, are a particular type of recurrent neural networks. LSTM networks manage to keep contextual information of inputs by integrating a loop that allows information to flow from one step to the next. \n",
        "\n",
        "Since tweets are  composed from a sequence of words, and the specific order of those words provide context to the sentiment of the tweet, it stands to reason this Neural Network should predict tweet sentiment well. \n",
        "\n",
        "<img src=\"https://github.com/udacity/deep-learning-v2-pytorch/blob/master/sentiment-rnn/assets/network_diagram.png?raw=1\" width=40%>\n",
        "\n",
        "The layers are as follows:\n",
        "1. An [embedding layer](https://pytorch.org/docs/stable/nn.html#embedding) that converts our word tokens (integers) into embeddings of a specific size.\n",
        "2. An [LSTM layer](https://pytorch.org/docs/stable/nn.html#lstm) defined by a hidden_state size and number of layers\n",
        "3. A fully-connected output layer that maps the LSTM layer outputs to a desired output_size\n",
        "4. A sigmoid activation layer which turns all outputs into a value 0-1; return **only the last sigmoid output** as the output of this network.\n",
        "\n",
        "### The Embedding Layer\n",
        "\n",
        "We need to add an [embedding layer](https://pytorch.org/docs/stable/nn.html#embedding) because there are tens of thousands of words in our vocabulary. It is massively inefficient to one-hot encode that many classes. So, instead of one-hot encoding, we can have an embedding layer and use that layer as a lookup table.** I could train an embedding layer using Word2Vec, then load it here. But, it's recommended to just make a new layer, using it for only dimensionality reduction, and let the network learn the weights.**\n",
        "\n",
        "\n",
        "### The LSTM Layer(s)\n",
        "\n",
        "We'll create an [LSTM](https://pytorch.org/docs/stable/nn.html#lstm) to use in our recurrent network, which takes in an input_size, a hidden_dim, a number of layers, a dropout probability (for dropout between multiple layers), and a batch_first parameter.\n",
        "\n",
        "\n",
        "\n"
      ]
    },
    {
      "metadata": {
        "id": "aJFmyyGyqcJb",
        "colab_type": "code",
        "colab": {
          "base_uri": "https://localhost:8080/",
          "height": 34
        },
        "outputId": "b5617e88-c480-4b10-89f1-302d81e3afd1"
      },
      "cell_type": "code",
      "source": [
        "# First checking if GPU is available\n",
        "train_on_gpu=torch.cuda.is_available()\n",
        "\n",
        "if(train_on_gpu):\n",
        "    print('Training on GPU.')\n",
        "else:\n",
        "    print('No GPU available, training on CPU.')"
      ],
      "execution_count": 102,
      "outputs": [
        {
          "output_type": "stream",
          "text": [
            "Training on GPU.\n"
          ],
          "name": "stdout"
        }
      ]
    },
    {
      "metadata": {
        "id": "k3vBnTpIr_7G",
        "colab_type": "code",
        "colab": {}
      },
      "cell_type": "code",
      "source": [
        "\n",
        "import torch.nn as nn\n",
        "\n",
        "class SentimentRNN(nn.Module):\n",
        "    \"\"\"\n",
        "    The RNN model that will be used to perform Sentiment analysis.\n",
        "    \"\"\"\n",
        "\n",
        "    def __init__(self, vocab_size, output_size, embedding_dim, hidden_dim, n_layers, drop_prob=0.5):\n",
        "        \"\"\"\n",
        "        Initialize the model by setting up the layers.\n",
        "        \"\"\"\n",
        "        super(SentimentRNN, self).__init__()\n",
        "\n",
        "        self.output_size = output_size\n",
        "        self.n_layers = n_layers\n",
        "        self.hidden_dim = hidden_dim\n",
        "        \n",
        "        # embedding and LSTM layers\n",
        "        self.embedding = nn.Embedding(vocab_size, embedding_dim)\n",
        "        self.lstm = nn.LSTM(embedding_dim, hidden_dim, n_layers, \n",
        "                            dropout=drop_prob, batch_first=True)\n",
        "        \n",
        "        # dropout layer\n",
        "        self.dropout = nn.Dropout(0.3)\n",
        "        \n",
        "        # linear and sigmoid layers\n",
        "        self.fc = nn.Linear(hidden_dim, output_size)\n",
        "        self.sig = nn.Sigmoid()\n",
        "        \n",
        "\n",
        "    def forward(self, x, hidden):\n",
        "        \"\"\"\n",
        "        Perform a forward pass of our model on some input and hidden state.\n",
        "        \"\"\"\n",
        "        batch_size = x.size(0)\n",
        "\n",
        "        # embeddings and lstm_out\n",
        "        embeds = self.embedding(x)\n",
        "        lstm_out, hidden = self.lstm(embeds, hidden)\n",
        "    \n",
        "        # stack up lstm outputs\n",
        "        lstm_out = lstm_out.contiguous().view(-1, self.hidden_dim)\n",
        "        \n",
        "        # dropout and fully-connected layer\n",
        "        out = self.dropout(lstm_out)\n",
        "        out = self.fc(out)\n",
        "        # sigmoid function\n",
        "        sig_out = self.sig(out)\n",
        "        \n",
        "        # reshape to be batch_size first\n",
        "        sig_out = sig_out.view(batch_size, -1)\n",
        "        sig_out = sig_out[:, -1] # get last batch of labels\n",
        "        \n",
        "        # return last sigmoid output and hidden state\n",
        "        return sig_out, hidden\n",
        "    \n",
        "    \n",
        "    def init_hidden(self, batch_size):\n",
        "        ''' Initializes hidden state '''\n",
        "        # Create two new tensors with sizes n_layers x batch_size x hidden_dim,\n",
        "        # initialized to zero, for hidden state and cell state of LSTM\n",
        "        weight = next(self.parameters()).data\n",
        "        \n",
        "        if (train_on_gpu):\n",
        "            hidden = (weight.new(self.n_layers, batch_size, self.hidden_dim\n",
        "                                ).zero_().cuda(),\n",
        "                  weight.new(self.n_layers, batch_size, self.hidden_dim\n",
        "                            ).zero_().cuda())\n",
        "        else:\n",
        "            hidden = (weight.new(self.n_layers, batch_size, self.hidden_dim\n",
        "                                ).zero_(),\n",
        "                      weight.new(self.n_layers, batch_size, self.hidden_dim\n",
        "                                ).zero_())\n",
        "        \n",
        "        return hidden"
      ],
      "execution_count": 0,
      "outputs": []
    },
    {
      "metadata": {
        "id": "Ti1Ko6gOsWYH",
        "colab_type": "text"
      },
      "cell_type": "markdown",
      "source": [
        "## Instantiate the network\n",
        "\n",
        "Here, we'll instantiate the network. First up, defining the hyperparameters.\n",
        "\n",
        "* `vocab_size`: Size of our vocabulary or the range of values for our input, word tokens.\n",
        "* `output_size`: Size of our desired output; the number of class scores we want to output (pos/neg).\n",
        "* `embedding_dim`: Number of columns in the embedding lookup table; size of our embeddings.\n",
        "* `hidden_dim`: Number of units in the hidden layers of our LSTM cells. Usually larger is better performance wise. Common values are 128, 256, 512, etc.\n",
        "* `n_layers`: Number of LSTM layers in the network. Typically between 1-3"
      ]
    },
    {
      "metadata": {
        "id": "ND80bDVKvVGR",
        "colab_type": "code",
        "colab": {
          "base_uri": "https://localhost:8080/",
          "height": 34
        },
        "outputId": "0c3f7831-4782-46b2-ca0b-4366018fb69e"
      },
      "cell_type": "code",
      "source": [
        "len(vocab_to_int)"
      ],
      "execution_count": 104,
      "outputs": [
        {
          "output_type": "execute_result",
          "data": {
            "text/plain": [
              "33585"
            ]
          },
          "metadata": {
            "tags": []
          },
          "execution_count": 104
        }
      ]
    },
    {
      "metadata": {
        "id": "EebdJqW0sRX6",
        "colab_type": "code",
        "colab": {
          "base_uri": "https://localhost:8080/",
          "height": 134
        },
        "outputId": "cd710e86-255a-4c90-bd1d-b145717cdc83"
      },
      "cell_type": "code",
      "source": [
        "# Instantiate the model w/ hyperparams\n",
        "vocab_size = len(vocab_to_int)+1 # +1 for the 0 padding + our word tokens\n",
        "output_size = 1\n",
        "embedding_dim = 300\n",
        "hidden_dim = 256\n",
        "n_layers = 2\n",
        "\n",
        "net = SentimentRNN(vocab_size, output_size, embedding_dim, hidden_dim, n_layers)\n",
        "\n",
        "print(net)"
      ],
      "execution_count": 105,
      "outputs": [
        {
          "output_type": "stream",
          "text": [
            "SentimentRNN(\n",
            "  (embedding): Embedding(33586, 300)\n",
            "  (lstm): LSTM(300, 256, num_layers=2, batch_first=True, dropout=0.5)\n",
            "  (dropout): Dropout(p=0.3)\n",
            "  (fc): Linear(in_features=256, out_features=1, bias=True)\n",
            "  (sig): Sigmoid()\n",
            ")\n"
          ],
          "name": "stdout"
        }
      ]
    },
    {
      "metadata": {
        "id": "E3VScg1Ot4h0",
        "colab_type": "text"
      },
      "cell_type": "markdown",
      "source": [
        "## Training\n",
        "​\n",
        "Below is the typical training code. \n",
        "​\n",
        ">We'll also be using a new kind of cross entropy loss, which is designed to work with a single Sigmoid output. [BCELoss](https://pytorch.org/docs/stable/nn.html#bceloss), or **Binary Cross Entropy Loss**, applies cross entropy loss to a single value between 0 and 1.\n",
        "​\n",
        "We also have some data and training hyparameters:\n",
        "​\n",
        "* `lr`: Learning rate for our optimizer.\n",
        "* `epochs`: Number of times to iterate through the training dataset.\n",
        "* `clip`: The maximum gradient value to clip at (to prevent exploding gradients)."
      ]
    },
    {
      "metadata": {
        "id": "2RK968_4tvOI",
        "colab_type": "code",
        "colab": {}
      },
      "cell_type": "code",
      "source": [
        "# loss and optimization functions\n",
        "lr=0.001\n",
        "\n",
        "criterion = nn.BCELoss()\n",
        "optimizer = torch.optim.Adam(net.parameters(), lr=lr)"
      ],
      "execution_count": 0,
      "outputs": []
    },
    {
      "metadata": {
        "id": "CXtPMfXsuHJG",
        "colab_type": "code",
        "colab": {
          "base_uri": "https://localhost:8080/",
          "height": 790
        },
        "outputId": "7f1af818-3297-4882-fa93-0c60cbe479d5"
      },
      "cell_type": "code",
      "source": [
        "\n",
        "# training params\n",
        "\n",
        "epochs = 1 # 3-4 is approx where I noticed the validation loss stop decreasing\n",
        "\n",
        "counter = 0\n",
        "print_every = 100\n",
        "clip=5 # gradient clipping\n",
        "\n",
        "train_loss = []\n",
        "val_loss1 = []\n",
        "\n",
        "# move model to GPU, if available\n",
        "if(train_on_gpu):\n",
        "    net.cuda()\n",
        "\n",
        "net.train()\n",
        "# train for some number of epochs\n",
        "for e in range(epochs):\n",
        "    # initialize hidden state\n",
        "    h = net.init_hidden(batch_size)\n",
        "\n",
        "    # batch loop\n",
        "    for inputs, labels in train_loader:\n",
        "        counter += 1\n",
        "\n",
        "        if(train_on_gpu):\n",
        "            inputs, labels = inputs.cuda(), labels.cuda()\n",
        "\n",
        "        # Creating new variables for the hidden state, otherwise\n",
        "        # we'd backprop through the entire training history\n",
        "        h = tuple([each.data for each in h])\n",
        "\n",
        "        # zero accumulated gradients\n",
        "        net.zero_grad()\n",
        "\n",
        "        # get the output from the model\n",
        "        output, h = net(inputs, h)\n",
        "\n",
        "        # calculate the loss and perform backprop\n",
        "        loss = criterion(output.squeeze(), labels.float())\n",
        "        loss.backward()\n",
        "        # `clip_grad_norm` helps prevent the exploding gradient problem in RNNs / LSTMs.\n",
        "        nn.utils.clip_grad_norm_(net.parameters(), clip)\n",
        "        optimizer.step()\n",
        "\n",
        "        # loss stats\n",
        "        if counter % print_every == 0:\n",
        "            # Get validation loss\n",
        "            val_h = net.init_hidden(batch_size)\n",
        "            val_losses = []\n",
        "            net.eval()\n",
        "            for inputs, labels in valid_loader:\n",
        "\n",
        "                # Creating new variables for the hidden state, otherwise\n",
        "                # we'd backprop through the entire training history\n",
        "                val_h = tuple([each.data for each in val_h])\n",
        "\n",
        "                if(train_on_gpu):\n",
        "                    inputs, labels = inputs.cuda(), labels.cuda()\n",
        "\n",
        "                output, val_h = net(inputs, val_h)\n",
        "                val_loss = criterion(output.squeeze(), labels.float())\n",
        "\n",
        "                val_losses.append(val_loss.item())\n",
        "\n",
        "            net.train()\n",
        "          \n",
        "            print(\"Epoch: {}/{}...\".format(e+1, epochs),\n",
        "                  \"Step: {}...\".format(counter),\n",
        "                  \"Loss: {:.6f}...\".format(loss.item()),\n",
        "                  \"Val Loss: {:.6f}\".format(np.mean(val_losses)))\n",
        "            train_loss.append(loss.item())\n",
        "            val_loss1.append(np.mean(val_losses))\n",
        "           "
      ],
      "execution_count": 107,
      "outputs": [
        {
          "output_type": "stream",
          "text": [
            "Epoch: 1/1... Step: 100... Loss: 0.310905... Val Loss: 0.380225\n",
            "Epoch: 1/1... Step: 200... Loss: 0.148802... Val Loss: 0.298961\n",
            "Epoch: 1/1... Step: 300... Loss: 0.158908... Val Loss: 0.254336\n",
            "Epoch: 1/1... Step: 400... Loss: 0.194628... Val Loss: 0.216628\n",
            "Epoch: 1/1... Step: 500... Loss: 0.202043... Val Loss: 0.200281\n",
            "Epoch: 1/1... Step: 600... Loss: 0.130571... Val Loss: 0.172984\n",
            "Epoch: 1/1... Step: 700... Loss: 0.158043... Val Loss: 0.161999\n",
            "Epoch: 1/1... Step: 800... Loss: 0.211854... Val Loss: 0.164240\n",
            "Epoch: 1/1... Step: 900... Loss: 0.311433... Val Loss: 0.144542\n",
            "Epoch: 1/1... Step: 1000... Loss: 0.139544... Val Loss: 0.159287\n",
            "Epoch: 1/1... Step: 1100... Loss: 0.102803... Val Loss: 0.133186\n",
            "Epoch: 1/1... Step: 1200... Loss: 0.027556... Val Loss: 0.129935\n",
            "Epoch: 1/1... Step: 1300... Loss: 0.159299... Val Loss: 0.122718\n",
            "Epoch: 1/1... Step: 1400... Loss: 0.106025... Val Loss: 0.110826\n",
            "Epoch: 1/1... Step: 1500... Loss: 0.060349... Val Loss: 0.105119\n",
            "Epoch: 1/1... Step: 1600... Loss: 0.043582... Val Loss: 0.105381\n",
            "Epoch: 1/1... Step: 1700... Loss: 0.186286... Val Loss: 0.102131\n",
            "Epoch: 1/1... Step: 1800... Loss: 0.188954... Val Loss: 0.089501\n",
            "Epoch: 1/1... Step: 1900... Loss: 0.060227... Val Loss: 0.090906\n",
            "Epoch: 1/1... Step: 2000... Loss: 0.031401... Val Loss: 0.089633\n",
            "Epoch: 1/1... Step: 2100... Loss: 0.252636... Val Loss: 0.091244\n",
            "Epoch: 1/1... Step: 2200... Loss: 0.049369... Val Loss: 0.084520\n",
            "Epoch: 1/1... Step: 2300... Loss: 0.032482... Val Loss: 0.081457\n",
            "Epoch: 1/1... Step: 2400... Loss: 0.215603... Val Loss: 0.075575\n",
            "Epoch: 1/1... Step: 2500... Loss: 0.078388... Val Loss: 0.081250\n",
            "Epoch: 1/1... Step: 2600... Loss: 0.165841... Val Loss: 0.088965\n",
            "Epoch: 1/1... Step: 2700... Loss: 0.037769... Val Loss: 0.074687\n",
            "Epoch: 1/1... Step: 2800... Loss: 0.078463... Val Loss: 0.076218\n",
            "Epoch: 1/1... Step: 2900... Loss: 0.011650... Val Loss: 0.070930\n",
            "Epoch: 1/1... Step: 3000... Loss: 0.055662... Val Loss: 0.068887\n",
            "Epoch: 1/1... Step: 3100... Loss: 0.048317... Val Loss: 0.067736\n",
            "Epoch: 1/1... Step: 3200... Loss: 0.015788... Val Loss: 0.067719\n",
            "Epoch: 1/1... Step: 3300... Loss: 0.215949... Val Loss: 0.061766\n",
            "Epoch: 1/1... Step: 3400... Loss: 0.023315... Val Loss: 0.059591\n",
            "Epoch: 1/1... Step: 3500... Loss: 0.070502... Val Loss: 0.058163\n",
            "Epoch: 1/1... Step: 3600... Loss: 0.026423... Val Loss: 0.056041\n",
            "Epoch: 1/1... Step: 3700... Loss: 0.073133... Val Loss: 0.057364\n",
            "Epoch: 1/1... Step: 3800... Loss: 0.014148... Val Loss: 0.061386\n",
            "Epoch: 1/1... Step: 3900... Loss: 0.018168... Val Loss: 0.055947\n",
            "Epoch: 1/1... Step: 4000... Loss: 0.011624... Val Loss: 0.055189\n",
            "Epoch: 1/1... Step: 4100... Loss: 0.008813... Val Loss: 0.053900\n",
            "Epoch: 1/1... Step: 4200... Loss: 0.031366... Val Loss: 0.052206\n",
            "Epoch: 1/1... Step: 4300... Loss: 0.088828... Val Loss: 0.048164\n",
            "Epoch: 1/1... Step: 4400... Loss: 0.028252... Val Loss: 0.044975\n",
            "Epoch: 1/1... Step: 4500... Loss: 0.022065... Val Loss: 0.047285\n",
            "Epoch: 1/1... Step: 4600... Loss: 0.009724... Val Loss: 0.049495\n"
          ],
          "name": "stdout"
        }
      ]
    },
    {
      "metadata": {
        "id": "HWLi4a6YEqMV",
        "colab_type": "text"
      },
      "cell_type": "markdown",
      "source": [
        "## **Testing the Network**"
      ]
    },
    {
      "metadata": {
        "id": "411pEhPiuUxD",
        "colab_type": "code",
        "colab": {
          "base_uri": "https://localhost:8080/",
          "height": 353
        },
        "outputId": "5b04cb72-bcb8-40ab-839c-eedd7c7c766b"
      },
      "cell_type": "code",
      "source": [
        "# Get test data loss and accuracy\n",
        "\n",
        "test_losses = [] # track loss\n",
        "num_correct = 0\n",
        "pred_tens = [] # Track preds\n",
        "\n",
        "# init hidden state\n",
        "h = net.init_hidden(batch_size)\n",
        "\n",
        "net.eval()\n",
        "# iterate over test data\n",
        "for inputs, labels in test_loader:\n",
        "\n",
        "    # Creating new variables for the hidden state, otherwise\n",
        "    # we'd backprop through the entire training history\n",
        "    h = tuple([each.data for each in h])\n",
        "\n",
        "    if(train_on_gpu):\n",
        "        inputs, labels = inputs.cuda(), labels.cuda()\n",
        "    \n",
        "    # get predicted outputs\n",
        "    output, h = net(inputs, h)\n",
        "    \n",
        "    # calculate loss\n",
        "    test_loss = criterion(output.squeeze(), labels.float())\n",
        "    test_losses.append(test_loss.item())\n",
        "    \n",
        "    # convert output probabilities to predicted class (0 or 1)\n",
        "    pred = torch.round(output.squeeze())  # rounds to the nearest integer\n",
        "    pred_tens.append(pred.cpu().detach().numpy())\n",
        "    \n",
        "    # compare predictions to true label\n",
        "    correct_tensor = pred.eq(labels.float().view_as(pred))\n",
        "    correct = np.squeeze(\n",
        "        correct_tensor.numpy()) if not train_on_gpu else np.squeeze(\n",
        "        correct_tensor.cpu().numpy())\n",
        "    num_correct += np.sum(correct)\n",
        "\n",
        "\n",
        "# -- stats! -- ##\n",
        "# avg test loss\n",
        "print(\"Test loss: {:.3f}\".format(np.mean(test_losses)))\n",
        "\n",
        "# accuracy over all test data\n",
        "test_acc = num_correct/len(test_loader.dataset)\n",
        "print(\"Test accuracy: {:.3f}\".format(test_acc))\n",
        "\n",
        "#Flatten list of lists containing predictions\n",
        "flat_list = [item.astype(int) for sublist in pred_tens for item in sublist]\n",
        "\n",
        "#Convert list to np array\n",
        "pred_array = np.asarray(flat_list)\n",
        "\n",
        "# Check the solution against the data.\n",
        "cm = pd.crosstab(pred_array, test_y, rownames=['True'], \n",
        "                 colnames=['Predicted'], margins=True)\n",
        "print(\"\\nConfusion Matrix:  \\n\", cm)\n",
        "print(\"\\n                    Classification Report \\n\",\n",
        "      classification_report(flat_list, test_y))"
      ],
      "execution_count": 108,
      "outputs": [
        {
          "output_type": "stream",
          "text": [
            "Test loss: 0.050\n",
            "Test accuracy: 0.983\n",
            "\n",
            "Confusion Matrix:  \n",
            " Predicted     0     1    All\n",
            "True                        \n",
            "0          8578   151   8729\n",
            "1           145  8556   8701\n",
            "All        8723  8707  17430\n",
            "\n",
            "                    Classification Report \n",
            "               precision    recall  f1-score   support\n",
            "\n",
            "           0       0.98      0.98      0.98      8729\n",
            "           1       0.98      0.98      0.98      8701\n",
            "\n",
            "   micro avg       0.98      0.98      0.98     17430\n",
            "   macro avg       0.98      0.98      0.98     17430\n",
            "weighted avg       0.98      0.98      0.98     17430\n",
            "\n"
          ],
          "name": "stdout"
        }
      ]
    },
    {
      "metadata": {
        "id": "PUxlOGPDanTu",
        "colab_type": "code",
        "colab": {
          "base_uri": "https://localhost:8080/",
          "height": 280
        },
        "outputId": "b55d69b1-c3fb-47bb-bd2c-3d7325a7c17a"
      },
      "cell_type": "code",
      "source": [
        "fig=plt.figure()\n",
        "fig.show()\n",
        "ax=fig.add_subplot(111)\n",
        "ax.plot(train_loss, c='b', label='Training Loss')\n",
        "ax.plot(val_loss1, c='r', label='Validation Loss')\n",
        "plt.xlim(0,40)\n",
        "\n",
        "plt.legend(loc='upper right', frameon=True)\n",
        "plt.title('Training vs Validation Loss')\n",
        "#plt.savefig('trainvalloss.png', dpi=300)\n",
        "#files.download('trainvalloss.png')\n",
        "plt.show()"
      ],
      "execution_count": 109,
      "outputs": [
        {
          "output_type": "display_data",
          "data": {
            "image/png": "[encoded data removed]",
            "text/plain": [
              "<Figure size 432x288 with 1 Axes>"
            ]
          },
          "metadata": {
            "tags": []
          }
        }
      ]
    },
    {
      "metadata": {
        "id": "b6DJJ-F3Xj5S",
        "colab_type": "code",
        "colab": {}
      },
      "cell_type": "code",
      "source": [
        "#torch.save(net.state_dict(), '/content/gdrive/My Drive/Data Science/net.pth')"
      ],
      "execution_count": 0,
      "outputs": []
    },
    {
      "metadata": {
        "id": "FBEeFE3RNuQn",
        "colab_type": "code",
        "colab": {}
      },
      "cell_type": "code",
      "source": [
        "#PATH = '/content/gdrive/My Drive/Data Science'\n",
        "#torch.save(\n",
        "#SentimentRNN, '/content/gdrive/My Drive/Data Science/SentimentRNN.pth')\n"
      ],
      "execution_count": 0,
      "outputs": []
    },
    {
      "metadata": {
        "id": "UcUFKLYnieB9",
        "colab_type": "text"
      },
      "cell_type": "markdown",
      "source": [
        "## Testing Brand New Tweets"
      ]
    },
    {
      "metadata": {
        "id": "RiT5srQzKrDQ",
        "colab_type": "code",
        "colab": {}
      },
      "cell_type": "code",
      "source": [
        "from string import punctuation\n",
        "\n",
        "def tokenize_comment(test_comment):\n",
        "    \n",
        "    # Remove URLs\n",
        "    test_comment = test_comment.replace('https?://[A-Za-z0-9./]+','')\n",
        "    \n",
        "    # Keep Hashtag text\n",
        "    test_comment = test_comment.replace(\"[^a-zA-Z]\", \" \")\n",
        "    \n",
        "    # Remove whitespace\n",
        "    #test_comment = test_comment.replace(' ', '')\n",
        "    \n",
        "    # Remove 1-2 letter words\n",
        "    test_comment = test_comment.replace(\"r'\\b\\w{1,2}\\b\", '')\n",
        "    \n",
        "    # Remove numbers\n",
        "    test_comment = test_comment.replace('\\d+', '')\n",
        "    \n",
        "    # Lowercase\n",
        "    test_comment = test_comment.lower() # lowercase\n",
        "    \n",
        "    # get rid of punctuation\n",
        "    test_text = ''.join([c for c in test_comment if c not in punctuation])\n",
        "    \n",
        "    # Remove Stopwords\n",
        "    #test_text = ''.join([word for word in test_text.split() if word not in (stop)])\n",
        "    \n",
        "    # splitting by spaces\n",
        "    test_words = [word for word in test_text.split() if word not in (stop)]\n",
        "\n",
        "    # tokens\n",
        "    test_ints = []\n",
        "    test_ints.append([vocab_to_int[word] for word in test_words if word in vocab])\n",
        "\n",
        "    return test_ints\n"
      ],
      "execution_count": 0,
      "outputs": []
    },
    {
      "metadata": {
        "colab_type": "code",
        "id": "TEA8azZHk6nV",
        "colab": {}
      },
      "cell_type": "code",
      "source": [
        "# test sequence padding\n",
        "#seq_length=26\n",
        "#neg_features = pad_features(test_ints_neg, seq_length)\n",
        "#pos_features = pad_features(test_ints_pos, seq_length)"
      ],
      "execution_count": 0,
      "outputs": []
    },
    {
      "metadata": {
        "id": "sghvRJ7ePl2g",
        "colab_type": "code",
        "colab": {}
      },
      "cell_type": "code",
      "source": [
        "# test conversion to tensor and pass into your model\n",
        "#neg_feature_tensor = torch.from_numpy(neg_features)\n",
        "#pos_feature_tensor = torch.from_numpy(pos_features)"
      ],
      "execution_count": 0,
      "outputs": []
    },
    {
      "metadata": {
        "id": "2F1guDJuPpWV",
        "colab_type": "code",
        "colab": {}
      },
      "cell_type": "code",
      "source": [
        "def predict(net, test_comment, sequence_length=43):\n",
        "    \n",
        "    net.eval()\n",
        "    \n",
        "    # tokenize review\n",
        "    test_ints = tokenize_comment(test_comment)\n",
        "    \n",
        "    # pad tokenized sequence\n",
        "    seq_length=sequence_length\n",
        "    features = pad_features(test_ints, seq_length)\n",
        "    \n",
        "    # convert to tensor to pass into your model\n",
        "    feature_tensor = torch.from_numpy(features)\n",
        "    \n",
        "    batch_size = feature_tensor.size(0)\n",
        "    \n",
        "    # initialize hidden state\n",
        "    h = net.init_hidden(batch_size)\n",
        "    \n",
        "    if(train_on_gpu):\n",
        "        feature_tensor = feature_tensor.cuda()\n",
        "    \n",
        "    # get the output from the model\n",
        "    output, h = net(feature_tensor, h)\n",
        "    \n",
        "    # convert output probabilities to predicted class (0 or 1)\n",
        "    pred = torch.round(output.squeeze()) \n",
        "    # printing output value, before rounding\n",
        "    print('Prediction value, pre-rounding: {:.6f}'.format(output.item()))\n",
        "    \n",
        "    # print custom response\n",
        "    if(pred.item()==1):\n",
        "        print(\"Positive comment detected!\")\n",
        "    else:\n",
        "        print(\"Negative comment detected.\")"
      ],
      "execution_count": 0,
      "outputs": []
    },
    {
      "metadata": {
        "id": "auhpBi-_KlOa",
        "colab_type": "code",
        "colab": {}
      },
      "cell_type": "code",
      "source": [
        "# negative test comment\n",
        "test_comment_neg = \"Ashamed of my country today. This ban in hurtful and completely unnecessary. @realDonaldTrump, for someone so seemingly obsessed with national security, why are you stripping the rights of people who just want to protect us?! #transmilitaryban\"\n",
        "test_comment_neg2 = \"This is bad!\"\n",
        "live_test_neg = \"\"\n",
        "\n",
        "# positive test comment\n",
        "test_comment_pos = \"Christopher Nolan is the kind of man who is given a release date for a film that has no title, probably just a draft of a script, and no cast. If that’s not POWER than I don’t know what is. #ChristopherNolan #King\"\n",
        "test_comment_pos2 = \"This is good.\"\n",
        "live_test_pos = \"\""
      ],
      "execution_count": 0,
      "outputs": []
    },
    {
      "metadata": {
        "id": "yDmnHEiIPt4A",
        "colab_type": "code",
        "colab": {
          "base_uri": "https://localhost:8080/",
          "height": 50
        },
        "outputId": "ebfef3f0-0c6a-4aca-b937-0e0d5815fa38"
      },
      "cell_type": "code",
      "source": [
        "# Negative test 1\n",
        "seq_length=26 # good to use the length that was trained on\n",
        "\n",
        "predict(net, test_comment_neg, seq_length)"
      ],
      "execution_count": 116,
      "outputs": [
        {
          "output_type": "stream",
          "text": [
            "Prediction value, pre-rounding: 0.644565\n",
            "Positive comment detected!\n"
          ],
          "name": "stdout"
        }
      ]
    },
    {
      "metadata": {
        "id": "-VEqXttqSBhv",
        "colab_type": "code",
        "colab": {
          "base_uri": "https://localhost:8080/",
          "height": 50
        },
        "outputId": "5c279fe7-9c60-49ba-ee1a-ae65c69a32e8"
      },
      "cell_type": "code",
      "source": [
        "# Negative test 2\n",
        "seq_length=26 \n",
        "predict(net, test_comment_neg2, seq_length)"
      ],
      "execution_count": 117,
      "outputs": [
        {
          "output_type": "stream",
          "text": [
            "Prediction value, pre-rounding: 0.000512\n",
            "Negative comment detected.\n"
          ],
          "name": "stdout"
        }
      ]
    },
    {
      "metadata": {
        "id": "4NvLXn11P0lO",
        "colab_type": "code",
        "colab": {
          "base_uri": "https://localhost:8080/",
          "height": 50
        },
        "outputId": "44731f59-b46a-468e-deed-ecb1eb74d548"
      },
      "cell_type": "code",
      "source": [
        "# Positive Test 1\n",
        "seq_length=26 \n",
        "\n",
        "predict(net, test_comment_pos, seq_length)"
      ],
      "execution_count": 118,
      "outputs": [
        {
          "output_type": "stream",
          "text": [
            "Prediction value, pre-rounding: 0.998572\n",
            "Positive comment detected!\n"
          ],
          "name": "stdout"
        }
      ]
    },
    {
      "metadata": {
        "id": "Az1VUUTAk1_H",
        "colab_type": "code",
        "colab": {
          "base_uri": "https://localhost:8080/",
          "height": 50
        },
        "outputId": "15a73c8a-8343-4095-8683-4e79ca2f9054"
      },
      "cell_type": "code",
      "source": [
        "# Positive Test 2\n",
        "seq_length=26 \n",
        "predict(net, test_comment_pos2, seq_length)"
      ],
      "execution_count": 119,
      "outputs": [
        {
          "output_type": "stream",
          "text": [
            "Prediction value, pre-rounding: 0.999140\n",
            "Positive comment detected!\n"
          ],
          "name": "stdout"
        }
      ]
    },
    {
      "metadata": {
        "id": "CRZxJnBJY-vm",
        "colab_type": "code",
        "colab": {}
      },
      "cell_type": "code",
      "source": [
        "if 1==0:\n",
        "  # Live test \n",
        "  seq_length=26 \n",
        "  print(predict(net, live_test_pos, seq_length))\n",
        "  print('\\n')\n",
        "  print(predict(net, live_test_neg, seq_length))"
      ],
      "execution_count": 0,
      "outputs": []
    },
    {
      "metadata": {
        "id": "huSnfWX5n_FX",
        "colab_type": "code",
        "colab": {}
      },
      "cell_type": "code",
      "source": [
        ""
      ],
      "execution_count": 0,
      "outputs": []
    },
    {
      "metadata": {
        "id": "Q0lyh_6hrcrn",
        "colab_type": "text"
      },
      "cell_type": "markdown",
      "source": [
        "# **Conclusion**\n",
        "\n",
        "\n",
        "\n",
        "\n",
        "\n",
        "\n"
      ]
    },
    {
      "metadata": {
        "id": "yatHxHvVsvMB",
        "colab_type": "text"
      },
      "cell_type": "markdown",
      "source": [
        "\n",
        "1.  The LSTM RNN was better at classifying  tweets as positive or negative as compared to a Random Forest Classifier.\n",
        "2.  The presence of stop words does not seem to impair the RNN.\n",
        "3. The RNN does struggle with short and simple negative comments. This could be due to:\n",
        "\n",
        "    *   The limited vocabulary present in the corpus.\n",
        "    *   A lack of context.\n",
        " "
      ]
    },
    {
      "metadata": {
        "id": "EXlZWMwnsxQQ",
        "colab_type": "text"
      },
      "cell_type": "markdown",
      "source": [
        "# **Future Work**\n",
        "\n"
      ]
    },
    {
      "metadata": {
        "id": "uKT6ZFfwsxEs",
        "colab_type": "text"
      },
      "cell_type": "markdown",
      "source": [
        "\n",
        "*   The next investigative work I plan to do is to feed the RNN an embedding layer trained with Word2Vec or Sense2Vec weights. This could illuminate if the contextual issue is why the test string failed.\n",
        "* Additionally I will investigate using part of speech tagging to improve the model.\n",
        "*   I would also like to add more data to my dataset, pulling tweets using filters based on product brands and entertainment. \n",
        "* Lastly I would like to develop a multi label classifier that predicts neutral sentiment as well.\n",
        "\n"
      ]
    },
    {
      "metadata": {
        "id": "tZvFoY_2srte",
        "colab_type": "code",
        "colab": {}
      },
      "cell_type": "code",
      "source": [
        ""
      ],
      "execution_count": 0,
      "outputs": []
    }
  ]
}