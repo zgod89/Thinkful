{
  "nbformat": 4,
  "nbformat_minor": 0,
  "metadata": {
    "colab": {
      "name": "Twitter_Sentiment_Engine.ipynb",
      "version": "0.3.2",
      "provenance": [],
      "collapsed_sections": []
    },
    "kernelspec": {
      "name": "python3",
      "display_name": "Python 3"
    },
    "accelerator": "GPU"
  },
  "cells": [
    {
      "metadata": {
        "id": "DZfnbg7GvAUb",
        "colab_type": "text"
      },
      "cell_type": "markdown",
      "source": [
        "# **Project Goals**\n",
        "\n",
        "This project effectively aims to build a Sentiment Classifier using an LSTM Neural Network . Within that scope I have the following sub goals:\n",
        "\n",
        "\n",
        "1.   Evaluate the difference in error between an LSTM NN trained on a full tweet, and one trained on a preprocessed tweet.\n",
        "2.   Evaluate the impact of removing stop words during preprocessing.\n",
        "\n",
        "\n",
        "\n"
      ]
    },
    {
      "metadata": {
        "id": "5qWWgHIfYRFE",
        "colab_type": "text"
      },
      "cell_type": "markdown",
      "source": [
        "# **Imports**"
      ]
    },
    {
      "metadata": {
        "id": "LzhOzemg687s",
        "colab_type": "code",
        "outputId": "967e4b8f-5f5c-487c-e290-2d0d599fbe34",
        "colab": {
          "base_uri": "https://localhost:8080/",
          "height": 171
        }
      },
      "cell_type": "code",
      "source": [
        "# General\n",
        "import warnings\n",
        "import numpy as np\n",
        "import pandas as pd\n",
        "import nltk\n",
        "import random\n",
        "import os\n",
        "import re\n",
        "import string\n",
        "import statsmodels.api as sm\n",
        "from os import path\n",
        "from PIL import Image\n",
        "from time import time\n",
        "\n",
        "# sklearn analytics\n",
        "import seaborn as sns\n",
        "import matplotlib.pyplot as plt\n",
        "%matplotlib inline\n",
        "import matplotlib as mpl\n",
        "import matplotlib.cm as cm\n",
        "from sklearn import metrics\n",
        "from sklearn.metrics import classification_report\n",
        "from sklearn.metrics import f1_score\n",
        "from sklearn.metrics import confusion_matrix\n",
        "from sklearn.model_selection import cross_val_predict\n",
        "from sklearn.model_selection import train_test_split\n",
        "from sklearn.model_selection import cross_val_score\n",
        "\n",
        "# Models\n",
        "from sklearn import cluster\n",
        "from sklearn.cluster import KMeans\n",
        "from sklearn.svm import LinearSVC\n",
        "from sklearn.naive_bayes import GaussianNB\n",
        "from sklearn.ensemble import RandomForestClassifier\n",
        "from sklearn.linear_model import LogisticRegression\n",
        "\n",
        "# Text Preprocessing\n",
        "from sklearn.feature_extraction import text\n",
        "from sklearn.feature_extraction.text import TfidfVectorizer, TfidfTransformer\n",
        "from sklearn.decomposition import TruncatedSVD\n",
        "from sklearn.preprocessing import Normalizer\n",
        "from sklearn.pipeline import make_pipeline\n",
        "\n",
        "# NLP\n",
        "from nltk import sent_tokenize, word_tokenize\n",
        "from nltk.corpus import stopwords\n",
        "nltk.download('stopwords')\n",
        "nltk.download('wordnet')\n",
        "stopwords = stopwords.words('english')\n",
        "from collections import Counter\n",
        "\n",
        "# Set Plot Theme\n",
        "sns.set_palette([\n",
        "    \"#30a2da\",\n",
        "    \"#fc4f30\",\n",
        "    \"#e5ae38\",\n",
        "    \"#6d904f\",\n",
        "    \"#551A8B\",\n",
        "])\n",
        "\n",
        "# Warnings\n",
        "warnings.filterwarnings('ignore')\n",
        "\n",
        "#Other\n",
        "from google.colab import drive, files\n",
        "drive.mount('/content/gdrive', force_remount=True)\n",
        "\n",
        "\n",
        "from textblob import TextBlob\n",
        "\n",
        "\n",
        "from os.path import exists\n",
        "from wheel.pep425tags import get_abbr_impl, get_impl_ver, get_abi_tag\n",
        "platform = '{}{}-{}'.format(get_abbr_impl(), get_impl_ver(), get_abi_tag())\n",
        "cuda_output = !ldconfig -p|grep cudart.so|sed -e 's/.*\\.\\([0-9]*\\)\\.\\([0-9]*\\)$/cu\\1\\2/'\n",
        "accelerator = cuda_output[0] if exists('/dev/nvidia0') else 'cpu'\n",
        "\n",
        "!pip install -q http://download.pytorch.org/whl/{accelerator}/torch-0.4.1-{platform}-linux_x86_64.whl torchvision\n",
        "import torch\n",
        "import torchvision\n",
        "\n",
        "\n",
        "# we will verify that GPU is enabled for this notebook\n",
        "# following should print: CUDA is available!  Training on GPU ...\n",
        "# \n",
        "# if it prints otherwise, then you need to enable GPU: \n",
        "# from Menu > Runtime > Change Runtime Type > Hardware Accelerator > GPU\n",
        "\n",
        "# check if CUDA is available\n",
        "train_on_gpu = torch.cuda.is_available()\n",
        "\n",
        "if not train_on_gpu:\n",
        "    print('CUDA is not available.  Training on CPU ...')\n",
        "else:\n",
        "    print('CUDA is available!  Training on GPU ...')"
      ],
      "execution_count": 1,
      "outputs": [
        {
          "output_type": "stream",
          "text": [
            "/usr/local/lib/python3.6/dist-packages/statsmodels/compat/pandas.py:56: FutureWarning: The pandas.core.datetools module is deprecated and will be removed in a future version. Please use the pandas.tseries module instead.\n",
            "  from pandas.core import datetools\n"
          ],
          "name": "stderr"
        },
        {
          "output_type": "stream",
          "text": [
            "[nltk_data] Downloading package stopwords to /root/nltk_data...\n",
            "[nltk_data]   Package stopwords is already up-to-date!\n",
            "[nltk_data] Downloading package wordnet to /root/nltk_data...\n",
            "[nltk_data]   Package wordnet is already up-to-date!\n",
            "Mounted at /content/gdrive\n",
            "CUDA is available!  Training on GPU ...\n"
          ],
          "name": "stdout"
        }
      ]
    },
    {
      "metadata": {
        "id": "vn9TNLgW7GM_",
        "colab_type": "code",
        "outputId": "2ba0a5a4-0594-44d8-fc2c-7342684e7e18",
        "colab": {
          "base_uri": "https://localhost:8080/",
          "height": 50
        }
      },
      "cell_type": "code",
      "source": [
        "# Read and Peak at Data\n",
        "df = pd.read_csv('/content/gdrive/My Drive/Data Science/trump.csv', sep='\\t') \n",
        "\n",
        "# Extracting Missing Count and Unique Count by Column\n",
        "unique_count = []\n",
        "for x in df.columns:\n",
        "    unique_count.append([x, len(df[x].unique()), df[x].isnull().sum()])\n",
        "\n",
        "# Missing Values\n",
        "print(\"Missing Values: {}\".format(df.isnull().sum().sum()))\n",
        "\n",
        "# Data Dimensions\n",
        "print(\"Dataframe Dimension: {} Rows, {} Columns\".format(*df.shape))\n",
        "\n",
        "# Convert to tweet to string\n",
        "df['tweet'] = df['tweet'].astype(str)\n",
        "\n",
        "# Create New Variables:\n",
        "# Word Length\n",
        "df[\"word_count\"] = df['tweet'].str.split().apply(len)\n",
        "# Character Length\n",
        "df[\"character_count\"] = df['tweet'].apply(len)"
      ],
      "execution_count": 2,
      "outputs": [
        {
          "output_type": "stream",
          "text": [
            "Missing Values: 184956\n",
            "Dataframe Dimension: 430228 Rows, 5 Columns\n"
          ],
          "name": "stdout"
        }
      ]
    },
    {
      "metadata": {
        "id": "TCxrDwKIP3sh",
        "colab_type": "code",
        "outputId": "81809fa7-fc0d-4913-f72e-04e4f1d054ea",
        "colab": {
          "base_uri": "https://localhost:8080/",
          "height": 279
        }
      },
      "cell_type": "code",
      "source": [
        "df.head()"
      ],
      "execution_count": 3,
      "outputs": [
        {
          "output_type": "execute_result",
          "data": {
            "text/html": [
              "<div>\n",
              "<style scoped>\n",
              "    .dataframe tbody tr th:only-of-type {\n",
              "        vertical-align: middle;\n",
              "    }\n",
              "\n",
              "    .dataframe tbody tr th {\n",
              "        vertical-align: top;\n",
              "    }\n",
              "\n",
              "    .dataframe thead th {\n",
              "        text-align: right;\n",
              "    }\n",
              "</style>\n",
              "<table border=\"1\" class=\"dataframe\">\n",
              "  <thead>\n",
              "    <tr style=\"text-align: right;\">\n",
              "      <th></th>\n",
              "      <th>time</th>\n",
              "      <th>tweet</th>\n",
              "      <th>id</th>\n",
              "      <th>username</th>\n",
              "      <th>location</th>\n",
              "      <th>word_count</th>\n",
              "      <th>character_count</th>\n",
              "    </tr>\n",
              "  </thead>\n",
              "  <tbody>\n",
              "    <tr>\n",
              "      <th>0</th>\n",
              "      <td>1547856694.7658603</td>\n",
              "      <td>'RT @SethAbramson: In case you missed it: what...</td>\n",
              "      <td>79549</td>\n",
              "      <td>SmithEckert13</td>\n",
              "      <td>Fort Wayne, IN</td>\n",
              "      <td>25</td>\n",
              "      <td>155</td>\n",
              "    </tr>\n",
              "    <tr>\n",
              "      <th>1</th>\n",
              "      <td>1547856694.7953787</td>\n",
              "      <td>'RT @RonWyden: Incredible. More luxury travel ...</td>\n",
              "      <td>79550</td>\n",
              "      <td>QueenTAG</td>\n",
              "      <td>Scotts Valley, CA</td>\n",
              "      <td>22</td>\n",
              "      <td>149</td>\n",
              "    </tr>\n",
              "    <tr>\n",
              "      <th>2</th>\n",
              "      <td>1547856694.8134415</td>\n",
              "      <td>'President Trump Directed Michael Cohen To Lie...</td>\n",
              "      <td>79551</td>\n",
              "      <td>vkrgz</td>\n",
              "      <td>Dünyanın içinden</td>\n",
              "      <td>16</td>\n",
              "      <td>125</td>\n",
              "    </tr>\n",
              "    <tr>\n",
              "      <th>3</th>\n",
              "      <td>1547856694.8526797</td>\n",
              "      <td>'RT @TeaPainUSA: Tea would wager that Trump in...</td>\n",
              "      <td>79552</td>\n",
              "      <td>ChazGohVan</td>\n",
              "      <td>Jupiter UNIVERSE</td>\n",
              "      <td>26</td>\n",
              "      <td>147</td>\n",
              "    </tr>\n",
              "    <tr>\n",
              "      <th>4</th>\n",
              "      <td>1547856694.904921</td>\n",
              "      <td>'RT @BruceBartlett: There is one person in Ame...</td>\n",
              "      <td>79553</td>\n",
              "      <td>JudyPrincz</td>\n",
              "      <td>Manhattan, NY</td>\n",
              "      <td>24</td>\n",
              "      <td>147</td>\n",
              "    </tr>\n",
              "  </tbody>\n",
              "</table>\n",
              "</div>"
            ],
            "text/plain": [
              "                 time                                              tweet  \\\n",
              "0  1547856694.7658603  'RT @SethAbramson: In case you missed it: what...   \n",
              "1  1547856694.7953787  'RT @RonWyden: Incredible. More luxury travel ...   \n",
              "2  1547856694.8134415  'President Trump Directed Michael Cohen To Lie...   \n",
              "3  1547856694.8526797  'RT @TeaPainUSA: Tea would wager that Trump in...   \n",
              "4   1547856694.904921  'RT @BruceBartlett: There is one person in Ame...   \n",
              "\n",
              "      id       username           location  word_count  character_count  \n",
              "0  79549  SmithEckert13     Fort Wayne, IN          25              155  \n",
              "1  79550       QueenTAG  Scotts Valley, CA          22              149  \n",
              "2  79551          vkrgz   Dünyanın içinden          16              125  \n",
              "3  79552     ChazGohVan   Jupiter UNIVERSE          26              147  \n",
              "4  79553     JudyPrincz      Manhattan, NY          24              147  "
            ]
          },
          "metadata": {
            "tags": []
          },
          "execution_count": 3
        }
      ]
    },
    {
      "metadata": {
        "id": "hkodBHkYA4Q2",
        "colab_type": "code",
        "outputId": "0ca0e42e-3790-4253-ec06-a14bdfdf5239",
        "colab": {
          "base_uri": "https://localhost:8080/",
          "height": 284
        }
      },
      "cell_type": "code",
      "source": [
        "df.describe()"
      ],
      "execution_count": 4,
      "outputs": [
        {
          "output_type": "execute_result",
          "data": {
            "text/html": [
              "<div>\n",
              "<style scoped>\n",
              "    .dataframe tbody tr th:only-of-type {\n",
              "        vertical-align: middle;\n",
              "    }\n",
              "\n",
              "    .dataframe tbody tr th {\n",
              "        vertical-align: top;\n",
              "    }\n",
              "\n",
              "    .dataframe thead th {\n",
              "        text-align: right;\n",
              "    }\n",
              "</style>\n",
              "<table border=\"1\" class=\"dataframe\">\n",
              "  <thead>\n",
              "    <tr style=\"text-align: right;\">\n",
              "      <th></th>\n",
              "      <th>word_count</th>\n",
              "      <th>character_count</th>\n",
              "    </tr>\n",
              "  </thead>\n",
              "  <tbody>\n",
              "    <tr>\n",
              "      <th>count</th>\n",
              "      <td>430228.000000</td>\n",
              "      <td>430228.000000</td>\n",
              "    </tr>\n",
              "    <tr>\n",
              "      <th>mean</th>\n",
              "      <td>18.674238</td>\n",
              "      <td>122.972138</td>\n",
              "    </tr>\n",
              "    <tr>\n",
              "      <th>std</th>\n",
              "      <td>6.134861</td>\n",
              "      <td>33.739280</td>\n",
              "    </tr>\n",
              "    <tr>\n",
              "      <th>min</th>\n",
              "      <td>1.000000</td>\n",
              "      <td>1.000000</td>\n",
              "    </tr>\n",
              "    <tr>\n",
              "      <th>25%</th>\n",
              "      <td>16.000000</td>\n",
              "      <td>122.000000</td>\n",
              "    </tr>\n",
              "    <tr>\n",
              "      <th>50%</th>\n",
              "      <td>20.000000</td>\n",
              "      <td>140.000000</td>\n",
              "    </tr>\n",
              "    <tr>\n",
              "      <th>75%</th>\n",
              "      <td>23.000000</td>\n",
              "      <td>140.000000</td>\n",
              "    </tr>\n",
              "    <tr>\n",
              "      <th>max</th>\n",
              "      <td>37.000000</td>\n",
              "      <td>258.000000</td>\n",
              "    </tr>\n",
              "  </tbody>\n",
              "</table>\n",
              "</div>"
            ],
            "text/plain": [
              "          word_count  character_count\n",
              "count  430228.000000    430228.000000\n",
              "mean       18.674238       122.972138\n",
              "std         6.134861        33.739280\n",
              "min         1.000000         1.000000\n",
              "25%        16.000000       122.000000\n",
              "50%        20.000000       140.000000\n",
              "75%        23.000000       140.000000\n",
              "max        37.000000       258.000000"
            ]
          },
          "metadata": {
            "tags": []
          },
          "execution_count": 4
        }
      ]
    },
    {
      "metadata": {
        "id": "-ApQWoqeUV0-",
        "colab_type": "code",
        "outputId": "195ca1a0-95db-45e2-98c7-4a41bb8edfd2",
        "colab": {
          "base_uri": "https://localhost:8080/",
          "height": 34
        }
      },
      "cell_type": "code",
      "source": [
        "df.tweet[5000]"
      ],
      "execution_count": 5,
      "outputs": [
        {
          "output_type": "execute_result",
          "data": {
            "text/plain": [
              "'RT @Chef_Epsimos: @shannonrwatts Everyone should start tweeting trump #PresidentPelosi'"
            ]
          },
          "metadata": {
            "tags": []
          },
          "execution_count": 5
        }
      ]
    },
    {
      "metadata": {
        "id": "feteuzh0YGP-",
        "colab_type": "text"
      },
      "cell_type": "markdown",
      "source": [
        "# **Data Cleaning**"
      ]
    },
    {
      "metadata": {
        "id": "9ssbbPcxBqbj",
        "colab_type": "code",
        "outputId": "ffae3b49-5c57-4697-8992-9e910ff3d234",
        "colab": {
          "base_uri": "https://localhost:8080/",
          "height": 279
        }
      },
      "cell_type": "code",
      "source": [
        "\n",
        "# Importing SKLearn's list of stopwords and \n",
        "# then appending with my own words\n",
        "stop = text.ENGLISH_STOP_WORDS\n",
        "      \n",
        "# Basic text cleaning function that also removes stopwords\n",
        "def remove_noise(text):\n",
        "\n",
        "    # Remove Mentions\n",
        "   # text = text.apply(lambda x: re.compile('\\#').sub('', re.compile(\n",
        "        #'RT @').sub('@', x, count=1).strip()))\n",
        "    \n",
        "    # Remove URLs\n",
        "    text = text.str.replace('https?://[A-Za-z0-9./]+','')\n",
        "    \n",
        "    # Keep Hashtag text\n",
        "    text = text.str.replace(\"[^a-zA-Z]\", \" \")\n",
        "    \n",
        "    # Make lowercase\n",
        "    text = text.apply(lambda x: \" \".join(x.lower() for x in x.split()))\n",
        "\n",
        "    # Remove whitespaces\n",
        "    text = text.apply(lambda x: \" \".join(x.strip() for x in x.split()))\n",
        "\n",
        "    # Remove special characters\n",
        "    text = text.apply(lambda x: \"\".join(\n",
        "        [\" \" if ord(i) < 32 or ord(i) > 126 else i for i in x]))\n",
        "\n",
        "    # Remove punctuation\n",
        "    text = text.str.replace('[^\\w\\s]', '')\n",
        "\n",
        "    # Remove numbers\n",
        "    text = text.str.replace('\\d+', '')\n",
        "\n",
        "    # Remove Stopwords\n",
        "    text = text.apply(lambda x: ' '.join(\n",
        "        [word for word in x.split() if word not in (stop)]))\n",
        "\n",
        "    # Convert to string\n",
        "    text = text.astype(str)\n",
        "\n",
        "    return text\n",
        "   \n",
        "# Function to remove RT @user\n",
        "def remove_pattern(input_txt, pattern):\n",
        "    r = re.findall(pattern, input_txt)\n",
        "    for i in r:\n",
        "        input_txt = re.sub(i, '', input_txt)\n",
        "        \n",
        "    return input_txt  \n",
        "  \n",
        "\n",
        "# remove  RT: @user\n",
        "df['filtered_tweet'] = np.vectorize(\n",
        "    remove_pattern)(df['tweet'], \"RT @[\\w]*\")\n",
        "\n",
        "# Apply cleaner function\n",
        "df['filtered_tweet'] = remove_noise(df['filtered_tweet'])\n",
        "\n",
        "df = df.drop(['time', 'id', 'username', 'location'], axis=1)\n",
        "df.head(5)"
      ],
      "execution_count": 6,
      "outputs": [
        {
          "output_type": "execute_result",
          "data": {
            "text/html": [
              "<div>\n",
              "<style scoped>\n",
              "    .dataframe tbody tr th:only-of-type {\n",
              "        vertical-align: middle;\n",
              "    }\n",
              "\n",
              "    .dataframe tbody tr th {\n",
              "        vertical-align: top;\n",
              "    }\n",
              "\n",
              "    .dataframe thead th {\n",
              "        text-align: right;\n",
              "    }\n",
              "</style>\n",
              "<table border=\"1\" class=\"dataframe\">\n",
              "  <thead>\n",
              "    <tr style=\"text-align: right;\">\n",
              "      <th></th>\n",
              "      <th>tweet</th>\n",
              "      <th>word_count</th>\n",
              "      <th>character_count</th>\n",
              "      <th>filtered_tweet</th>\n",
              "    </tr>\n",
              "  </thead>\n",
              "  <tbody>\n",
              "    <tr>\n",
              "      <th>0</th>\n",
              "      <td>'RT @SethAbramson: In case you missed it: what...</td>\n",
              "      <td>25</td>\n",
              "      <td>155</td>\n",
              "      <td>case missed fuss tonight retweet think followe...</td>\n",
              "    </tr>\n",
              "    <tr>\n",
              "      <th>1</th>\n",
              "      <td>'RT @RonWyden: Incredible. More luxury travel ...</td>\n",
              "      <td>22</td>\n",
              "      <td>149</td>\n",
              "      <td>incredible luxury travel trump administration ...</td>\n",
              "    </tr>\n",
              "    <tr>\n",
              "      <th>2</th>\n",
              "      <td>'President Trump Directed Michael Cohen To Lie...</td>\n",
              "      <td>16</td>\n",
              "      <td>125</td>\n",
              "      <td>president trump directed michael cohen lie con...</td>\n",
              "    </tr>\n",
              "    <tr>\n",
              "      <th>3</th>\n",
              "      <td>'RT @TeaPainUSA: Tea would wager that Trump in...</td>\n",
              "      <td>26</td>\n",
              "      <td>147</td>\n",
              "      <td>tea wager trump instructed folks lie congress ...</td>\n",
              "    </tr>\n",
              "    <tr>\n",
              "      <th>4</th>\n",
              "      <td>'RT @BruceBartlett: There is one person in Ame...</td>\n",
              "      <td>24</td>\n",
              "      <td>147</td>\n",
              "      <td>person america trump chose rupert murdoch medi...</td>\n",
              "    </tr>\n",
              "  </tbody>\n",
              "</table>\n",
              "</div>"
            ],
            "text/plain": [
              "                                               tweet  word_count  \\\n",
              "0  'RT @SethAbramson: In case you missed it: what...          25   \n",
              "1  'RT @RonWyden: Incredible. More luxury travel ...          22   \n",
              "2  'President Trump Directed Michael Cohen To Lie...          16   \n",
              "3  'RT @TeaPainUSA: Tea would wager that Trump in...          26   \n",
              "4  'RT @BruceBartlett: There is one person in Ame...          24   \n",
              "\n",
              "   character_count                                     filtered_tweet  \n",
              "0              155  case missed fuss tonight retweet think followe...  \n",
              "1              149  incredible luxury travel trump administration ...  \n",
              "2              125  president trump directed michael cohen lie con...  \n",
              "3              147  tea wager trump instructed folks lie congress ...  \n",
              "4              147  person america trump chose rupert murdoch medi...  "
            ]
          },
          "metadata": {
            "tags": []
          },
          "execution_count": 6
        }
      ]
    },
    {
      "metadata": {
        "id": "LqyQtNTFjAT8",
        "colab_type": "code",
        "colab": {}
      },
      "cell_type": "code",
      "source": [
        "#Second Cleaning Function that keeps stopwords\n",
        "def extract_text(text):\n",
        "    \n",
        "    # Convert to string\n",
        "    text = text.astype(str)\n",
        "    \n",
        "    # Remove URLs\n",
        "    text = text.str.replace('https?://[A-Za-z0-9./]+','')\n",
        "    \n",
        "    # Keep Hashtag text\n",
        "    text = text.str.replace(\"[^a-zA-Z]\", \" \")\n",
        "    \n",
        "    # Make lowercase\n",
        "    text = text.apply(lambda x: \" \".join(x.lower() for x in x.split()))\n",
        "\n",
        "    # Remove whitespaces\n",
        "    text = text.apply(lambda x: \" \".join(x.strip() for x in x.split()))\n",
        "\n",
        "    # Remove special characters\n",
        "    text = text.apply(lambda x: \"\".join(\n",
        "        [\" \" if ord(i) < 32 or ord(i) > 126 else i for i in x]))\n",
        "\n",
        "    # Remove punctuation\n",
        "    text = text.str.replace('[^\\w\\s]', '')\n",
        "\n",
        "    # Remove numbers\n",
        "    text = text.str.replace('\\d+', '')\n",
        "    \n",
        "    #Remove 1-2 letter clutter remnants\n",
        "    text = text.apply(lambda x: re.sub(r'\\b\\w{1,2}\\b', '', x))\n",
        "\n",
        "    return text\n",
        "\n",
        "# remove  RT: @user\n",
        "df['clean'] = np.vectorize(remove_pattern)(df['tweet'], \"RT @[\\w]*\")\n",
        "\n",
        "\n",
        "# Applying function to data\n",
        "df['clean'] = extract_text(df['clean'])\n"
      ],
      "execution_count": 0,
      "outputs": []
    },
    {
      "metadata": {
        "id": "Q6ta89cekQHI",
        "colab_type": "code",
        "outputId": "7aee4ebd-42c6-4dd1-f6aa-8f242a220106",
        "colab": {
          "base_uri": "https://localhost:8080/",
          "height": 70
        }
      },
      "cell_type": "code",
      "source": [
        "print(df.tweet[5])\n",
        "print(df.clean[5])"
      ],
      "execution_count": 8,
      "outputs": [
        {
          "output_type": "stream",
          "text": [
            "'RT @cher: trump\\u2019s A CROOK &amp; LIAR,IF HE WAS THE HEAD OF ANY COMPANY HE WOULD BE FIRED.THE IMMEDIATE CRISIS, \\n800,000.00 PPL ARE LOSING THE L\\u2026'\n",
            "trump    crook amp liar   was the head  any company  would  fired the immediate crisis  ppl are losing the  \n"
          ],
          "name": "stdout"
        }
      ]
    },
    {
      "metadata": {
        "id": "ia7EGocDtVOK",
        "colab_type": "text"
      },
      "cell_type": "markdown",
      "source": [
        "# Sentiment Labelling\n",
        "\n",
        "The sentiment property of TexBlob returns a namedtuple of the form Sentiment(polarity, subjectivity). The polarity score is a float within the range [-1.0, 1.0]. We will use this to label tweets as positive, neutral, or negative. \n",
        "\n",
        "I will label anything with a polarity of exactly zero as neutral and remove the data rows with that label, leaving only polar data points. Then we can see if this method of labeling works for training a classifier."
      ]
    },
    {
      "metadata": {
        "id": "abs7wBFWOT91",
        "colab_type": "code",
        "outputId": "4cf5b3fe-4173-45d0-abd4-b6fc40c145ba",
        "colab": {
          "base_uri": "https://localhost:8080/",
          "height": 313
        }
      },
      "cell_type": "code",
      "source": [
        "def analyze_sentiment(tweet):\n",
        "    '''\n",
        "    Utility function to classify the polarity of a tweet\n",
        "    using textblob.\n",
        "    '''\n",
        "    analysis = TextBlob(tweet)\n",
        "    if analysis.sentiment.polarity > 0:\n",
        "        return 1\n",
        "    elif analysis.sentiment.polarity == 0:\n",
        "        return 0\n",
        "    else:\n",
        "        return -1\n",
        "\n",
        "# Create a column with the result of the analysis:\n",
        "df['SA'] = np.array(\n",
        "    [analyze_sentiment(tweet) for tweet in df['filtered_tweet']])\n",
        "\n",
        "df['SA2'] = np.array(\n",
        "    [analyze_sentiment(tweet) for tweet in df['clean']])\n",
        "\n",
        "df.head()"
      ],
      "execution_count": 9,
      "outputs": [
        {
          "output_type": "execute_result",
          "data": {
            "text/html": [
              "<div>\n",
              "<style scoped>\n",
              "    .dataframe tbody tr th:only-of-type {\n",
              "        vertical-align: middle;\n",
              "    }\n",
              "\n",
              "    .dataframe tbody tr th {\n",
              "        vertical-align: top;\n",
              "    }\n",
              "\n",
              "    .dataframe thead th {\n",
              "        text-align: right;\n",
              "    }\n",
              "</style>\n",
              "<table border=\"1\" class=\"dataframe\">\n",
              "  <thead>\n",
              "    <tr style=\"text-align: right;\">\n",
              "      <th></th>\n",
              "      <th>tweet</th>\n",
              "      <th>word_count</th>\n",
              "      <th>character_count</th>\n",
              "      <th>filtered_tweet</th>\n",
              "      <th>clean</th>\n",
              "      <th>SA</th>\n",
              "      <th>SA2</th>\n",
              "    </tr>\n",
              "  </thead>\n",
              "  <tbody>\n",
              "    <tr>\n",
              "      <th>0</th>\n",
              "      <td>'RT @SethAbramson: In case you missed it: what...</td>\n",
              "      <td>25</td>\n",
              "      <td>155</td>\n",
              "      <td>case missed fuss tonight retweet think followe...</td>\n",
              "      <td>case you missed  what all the fuss  about ton...</td>\n",
              "      <td>0</td>\n",
              "      <td>0</td>\n",
              "    </tr>\n",
              "    <tr>\n",
              "      <th>1</th>\n",
              "      <td>'RT @RonWyden: Incredible. More luxury travel ...</td>\n",
              "      <td>22</td>\n",
              "      <td>149</td>\n",
              "      <td>incredible luxury travel trump administration ...</td>\n",
              "      <td>incredible more luxury travel from the trump a...</td>\n",
              "      <td>1</td>\n",
              "      <td>1</td>\n",
              "    </tr>\n",
              "    <tr>\n",
              "      <th>2</th>\n",
              "      <td>'President Trump Directed Michael Cohen To Lie...</td>\n",
              "      <td>16</td>\n",
              "      <td>125</td>\n",
              "      <td>president trump directed michael cohen lie con...</td>\n",
              "      <td>president trump directed michael cohen  lie  c...</td>\n",
              "      <td>0</td>\n",
              "      <td>0</td>\n",
              "    </tr>\n",
              "    <tr>\n",
              "      <th>3</th>\n",
              "      <td>'RT @TeaPainUSA: Tea would wager that Trump in...</td>\n",
              "      <td>26</td>\n",
              "      <td>147</td>\n",
              "      <td>tea wager trump instructed folks lie congress ...</td>\n",
              "      <td>tea would wager that trump instructed all his ...</td>\n",
              "      <td>0</td>\n",
              "      <td>-1</td>\n",
              "    </tr>\n",
              "    <tr>\n",
              "      <th>4</th>\n",
              "      <td>'RT @BruceBartlett: There is one person in Ame...</td>\n",
              "      <td>24</td>\n",
              "      <td>147</td>\n",
              "      <td>person america trump chose rupert murdoch medi...</td>\n",
              "      <td>there  one person  america who could  somethin...</td>\n",
              "      <td>0</td>\n",
              "      <td>0</td>\n",
              "    </tr>\n",
              "  </tbody>\n",
              "</table>\n",
              "</div>"
            ],
            "text/plain": [
              "                                               tweet  word_count  \\\n",
              "0  'RT @SethAbramson: In case you missed it: what...          25   \n",
              "1  'RT @RonWyden: Incredible. More luxury travel ...          22   \n",
              "2  'President Trump Directed Michael Cohen To Lie...          16   \n",
              "3  'RT @TeaPainUSA: Tea would wager that Trump in...          26   \n",
              "4  'RT @BruceBartlett: There is one person in Ame...          24   \n",
              "\n",
              "   character_count                                     filtered_tweet  \\\n",
              "0              155  case missed fuss tonight retweet think followe...   \n",
              "1              149  incredible luxury travel trump administration ...   \n",
              "2              125  president trump directed michael cohen lie con...   \n",
              "3              147  tea wager trump instructed folks lie congress ...   \n",
              "4              147  person america trump chose rupert murdoch medi...   \n",
              "\n",
              "                                               clean  SA  SA2  \n",
              "0   case you missed  what all the fuss  about ton...   0    0  \n",
              "1  incredible more luxury travel from the trump a...   1    1  \n",
              "2  president trump directed michael cohen  lie  c...   0    0  \n",
              "3  tea would wager that trump instructed all his ...   0   -1  \n",
              "4  there  one person  america who could  somethin...   0    0  "
            ]
          },
          "metadata": {
            "tags": []
          },
          "execution_count": 9
        }
      ]
    },
    {
      "metadata": {
        "id": "qzAHLSAsVMwi",
        "colab_type": "code",
        "outputId": "e07f70bb-1425-4a54-9392-14e44ff701d9",
        "colab": {
          "base_uri": "https://localhost:8080/",
          "height": 54
        }
      },
      "cell_type": "code",
      "source": [
        "print(df.tweet[3])"
      ],
      "execution_count": 10,
      "outputs": [
        {
          "output_type": "stream",
          "text": [
            "'RT @TeaPainUSA: Tea would wager that Trump instructed all his folks to lie to Congress because he knew Nunes and his other GOP imps and dem\\u2026'\n"
          ],
          "name": "stdout"
        }
      ]
    },
    {
      "metadata": {
        "id": "N7K_0QmLwLum",
        "colab_type": "text"
      },
      "cell_type": "markdown",
      "source": [
        "Looking at the Tweet at index 3 we can see there is a polarity difference between the filtered tweet and the clean tweet. This could mean that stop words impact the way Textblob assess polarity. \n",
        "\n",
        "Intuitively I would call this tweet negative as it is objectively critical. As such, I'll use the SA2 variable as my label.\n",
        "\n",
        "I'm going to drop all the neutral tweets since I'm interested  in binary sentiment classification."
      ]
    },
    {
      "metadata": {
        "id": "tk7z-5m803IR",
        "colab_type": "code",
        "outputId": "c2290b02-9c47-4715-9816-fdd2b4b15338",
        "colab": {
          "base_uri": "https://localhost:8080/",
          "height": 118
        }
      },
      "cell_type": "code",
      "source": [
        "# Make a copy of the data frame for later, and dropping neutral tweets\n",
        "df2 = df[df.SA2 != 0]\n",
        "\n",
        "# Dropping neutral tweets\n",
        "df = df[df.SA != 0]\n",
        "\n",
        "print('DF has {} rows.'.format(len(df)))\n",
        "print('DF2 has {} rows.'.format(len(df2)))\n",
        "print('\\n')\n",
        "print('DF2 has {} negative comments.'.format(\n",
        "    (df2.SA2 != 0).sum()))\n",
        "print('DF2 has {} positive comments.'.format(\n",
        "    (df2.SA2 != 1).sum()))\n",
        "\n"
      ],
      "execution_count": 11,
      "outputs": [
        {
          "output_type": "stream",
          "text": [
            "DF has 238014 rows.\n",
            "DF2 has 257218 rows.\n",
            "\n",
            "\n",
            "DF2 has 257218 negative comments.\n",
            "DF2 has 93343 positive comments.\n"
          ],
          "name": "stdout"
        }
      ]
    },
    {
      "metadata": {
        "id": "XqcbrVTrNDO_",
        "colab_type": "text"
      },
      "cell_type": "markdown",
      "source": [
        "# **Supervised EDA**"
      ]
    },
    {
      "metadata": {
        "id": "E9ZfUNjLT2Y4",
        "colab_type": "text"
      },
      "cell_type": "markdown",
      "source": [
        "First I'm going to do some data organization and trimming to build data frame copies for later. EDA will mostly focus on the full, imbalanced data set."
      ]
    },
    {
      "metadata": {
        "id": "rI52do4WPbY8",
        "colab_type": "code",
        "outputId": "351b0426-525a-4d2a-9819-5bd5fcdbbf97",
        "colab": {
          "base_uri": "https://localhost:8080/",
          "height": 1013
        }
      },
      "cell_type": "code",
      "source": [
        "# Removed data to give even batch sizes DF\n",
        "remove_n = len(df)%50\n",
        "drop_indices = np.random.choice(df.index, remove_n, replace=False)\n",
        "df = df.drop(drop_indices)\n",
        "\n",
        "# Plot the label classes\n",
        "fig = plt.figure(figsize=(8,5))\n",
        "ax = sns.barplot(x=df.SA.unique(),y=df.SA.value_counts());\n",
        "ax.set(xlabel='Labels')\n",
        "ax.set_title('DF Class Balance')\n",
        "\n",
        "# Removed data to give even batch sizes DF2\n",
        "remove_n = len(df2)%50\n",
        "drop_indices2 = np.random.choice(df2.index, remove_n, replace=False)\n",
        "df2 = df2.drop(drop_indices2)\n",
        "\n",
        "# Plot the label classes\n",
        "fig = plt.figure(figsize=(8,5))\n",
        "ax = sns.barplot(x=df2.SA2.unique(),y=df2.SA2.value_counts());\n",
        "ax.set(xlabel='Labels')\n",
        "ax.set_title('DF2 Class Balance')\n",
        "plt.savefig('Imbalanced.png')\n",
        "#files.download('Imbalanced.png')\n",
        "\n",
        "#Define DF Copy to Reduce and set len\n",
        "#for each class equal to len og minority class\n",
        "df3 = pd.concat(g.sample(87155) for idx, g in df2.groupby('SA2'))\n",
        "df3 = df3.sample(frac=1)\n",
        "\n",
        "# Removed data to give even batch sizes DF3\n",
        "remove_n = len(df3)%50\n",
        "drop_indices3 = np.random.choice(df3.index, remove_n, replace=False)\n",
        "df3 = df3.drop(drop_indices3)\n",
        "\n",
        "# Plot the label classes\n",
        "fig = plt.figure(figsize=(8,5))\n",
        "ax = sns.barplot(x=df3.SA2.unique(),y=df3.SA2.value_counts());\n",
        "ax.set(xlabel='Labels')\n",
        "ax.set_title('DF3 Class Balance')\n",
        "\n",
        "plt.savefig('Balanced.png')\n",
        "#files.download('Balancing.png')\n",
        "plt.show()"
      ],
      "execution_count": 12,
      "outputs": [
        {
          "output_type": "display_data",
          "data": {
            "image/png": "[encoded data removed]",
            "text/plain": [
              "<Figure size 576x360 with 1 Axes>"
            ]
          },
          "metadata": {
            "tags": []
          }
        },
        {
          "output_type": "display_data",
          "data": {
            "image/png": "[encoded data removed]",
            "text/plain": [
              "<Figure size 576x360 with 1 Axes>"
            ]
          },
          "metadata": {
            "tags": []
          }
        },
        {
          "output_type": "display_data",
          "data": {
            "image/png": "[encoded data removed]",
            "text/plain": [
              "<Figure size 576x360 with 1 Axes>"
            ]
          },
          "metadata": {
            "tags": []
          }
        }
      ]
    },
    {
      "metadata": {
        "id": "k4jevNDl4-jy",
        "colab_type": "code",
        "outputId": "ce30c26c-8c5a-4e37-adbc-2f736d64b0b3",
        "colab": {
          "base_uri": "https://localhost:8080/",
          "height": 374
        }
      },
      "cell_type": "code",
      "source": [
        "# Exploring tweet word count\n",
        "z = df3.groupby(by=['word_count'], as_index=False).count(\n",
        ").sort_values(by='SA2', ascending=False)\n",
        "\n",
        "plt.figure(figsize=(8, 5))\n",
        "sns.set_style(\"whitegrid\")\n",
        "ax = sns.barplot(x=z['word_count'], y=z['SA2'], data=z)\n",
        "plt.xlabel(\"\\nWord Count\")\n",
        "plt.ylabel(\"Count\")\n",
        "plt.title(\"Tweet Counts By Word Length\\n\")\n",
        "plt.savefig(\"Counts By Word Length.png\", dpi=300)\n",
        "#files.download(\"Counts By Word Length.png\")\n",
        "plt.show()"
      ],
      "execution_count": 13,
      "outputs": [
        {
          "output_type": "display_data",
          "data": {
            "image/png": "[encoded data removed]",
            "text/plain": [
              "<Figure size 576x360 with 1 Axes>"
            ]
          },
          "metadata": {
            "tags": []
          }
        }
      ]
    },
    {
      "metadata": {
        "id": "8KZnsCwCONl3",
        "colab_type": "code",
        "outputId": "1ebdbdc0-59f2-4b8e-9b3d-06963ca66de2",
        "colab": {
          "base_uri": "https://localhost:8080/",
          "height": 406
        }
      },
      "cell_type": "code",
      "source": [
        "# Exploring Word Count.\n",
        "colors = color={-1: \"#e5ae38\",\n",
        "                0: '#30a2da',\n",
        "                1: '#fc4f30'}\n",
        "f, ax = plt.subplots(figsize=(8, 5))\n",
        "df.groupby(['SA2', pd.cut(df['word_count'], np.arange(0, 40, 5))])\\\n",
        "    .size()\\\n",
        "    .unstack(0)\\\n",
        "    .plot.bar(stacked=True, ax=ax, color=colors.values())\n",
        "#plt.subplots_adjust(top=.8)\n",
        "plt.suptitle('Sentiment and Tweet Word Count')\n",
        "plt.xlabel(\"\\nWord Count\")\n",
        "ax.legend(loc='best', frameon=True)\n",
        "#plt.savefig(\"Sentiment and Word Count.png\")\n",
        "#files.download(\"Sentiment and Word Count.png\")\n",
        "#plt.tight_layout()\n",
        "plt.show()"
      ],
      "execution_count": 14,
      "outputs": [
        {
          "output_type": "display_data",
          "data": {
            "image/png": "[encoded data removed]",
            "text/plain": [
              "<Figure size 576x360 with 1 Axes>"
            ]
          },
          "metadata": {
            "tags": []
          }
        }
      ]
    },
    {
      "metadata": {
        "id": "CNsPngttQRV7",
        "colab_type": "text"
      },
      "cell_type": "markdown",
      "source": [
        "We can see similar distribution of word counts, regardless of sentiment. The size difference of the  bars is likely due to the class imbalance we've observed. This could be verified by running the same plot on the trimmed data (DF3)."
      ]
    },
    {
      "metadata": {
        "id": "_o45e6H0RiP2",
        "colab_type": "code",
        "outputId": "e277667e-7392-4efa-fb67-77f07f97ec7c",
        "colab": {
          "base_uri": "https://localhost:8080/",
          "height": 406
        }
      },
      "cell_type": "code",
      "source": [
        "# Exploring Word Count.\n",
        "colors = color={-1: \"#e5ae38\",\n",
        "                1: '#fc4f30'}\n",
        "f, ax = plt.subplots(figsize=(8, 5))\n",
        "df3.groupby(['SA2', pd.cut(df3['word_count'], np.arange(0, 40, 5))])\\\n",
        "    .size()\\\n",
        "    .unstack(0)\\\n",
        "    .plot.bar(stacked=True, ax=ax, color=colors.values())\n",
        "#plt.subplots_adjust(top=.8)\n",
        "plt.suptitle('Sentiment and Tweet Word Count')\n",
        "plt.xlabel(\"\\nWord Count\")\n",
        "ax.legend(loc='best', frameon=True)\n",
        "plt.savefig(\"Sentiment and Word Count.png\", dpi=300)\n",
        "#files.download(\"Sentiment and Word Count.png\")\n",
        "#plt.tight_layout()\n",
        "plt.show()"
      ],
      "execution_count": 15,
      "outputs": [
        {
          "output_type": "display_data",
          "data": {
            "image/png": "[encoded data removed]",
            "text/plain": [
              "<Figure size 576x360 with 1 Axes>"
            ]
          },
          "metadata": {
            "tags": []
          }
        }
      ]
    },
    {
      "metadata": {
        "id": "iqeJSdrWRxCq",
        "colab_type": "text"
      },
      "cell_type": "markdown",
      "source": [
        "Voilà! "
      ]
    },
    {
      "metadata": {
        "id": "gi7HVw6_DpSU",
        "colab_type": "text"
      },
      "cell_type": "markdown",
      "source": [
        "# **Unsupervised EDA**\n",
        "\n",
        "## **TF-IDF**"
      ]
    },
    {
      "metadata": {
        "id": "Fk6hjpGETECa",
        "colab_type": "code",
        "outputId": "ca374718-f8fc-4a35-ba34-082f80949ff1",
        "colab": {
          "base_uri": "https://localhost:8080/",
          "height": 34
        }
      },
      "cell_type": "code",
      "source": [
        "# convert column of sentiment to list of ints\n",
        "all_sent = df3.SA2.astype(int).values.tolist()\n",
        "\n",
        "# 1=positive, 0=negative label conversion\n",
        "#sent_split = sent_split('\\n')\n",
        "encoded_labels = np.array(\n",
        "    [1 if sent == 1 else 0 for sent in all_sent])\n",
        "\n",
        "\n",
        "encoded_labels[:10]"
      ],
      "execution_count": 16,
      "outputs": [
        {
          "output_type": "execute_result",
          "data": {
            "text/plain": [
              "array([1, 0, 1, 1, 0, 1, 1, 0, 1, 1])"
            ]
          },
          "metadata": {
            "tags": []
          },
          "execution_count": 16
        }
      ]
    },
    {
      "metadata": {
        "id": "8ao5FO9uMb_F",
        "colab_type": "code",
        "outputId": "67f58ec0-5c0e-4afe-f462-f8d6bf03880d",
        "colab": {
          "base_uri": "https://localhost:8080/",
          "height": 67
        }
      },
      "cell_type": "code",
      "source": [
        "X = df3.loc[:, 'clean']\n",
        "y = encoded_labels\n",
        "X_train, X_test, Y_train, Y_test = train_test_split(\n",
        "    X, y, test_size=0.25, random_state=42)\n",
        "\n",
        "t0 = time()\n",
        "vectorizer = TfidfVectorizer(max_df=0.5,\n",
        "                             min_df=2, stop_words='english')\n",
        "\n",
        "X_train_tfidf = vectorizer.fit_transform(X_train)\n",
        "X_test_tfidf = vectorizer.fit_transform(X_test)\n",
        "print(\"done in %fs\" % (time() - t0))\n",
        "print(\"n_samples: %d, n_features: %d\" % X_train_tfidf.shape)\n",
        "print()"
      ],
      "execution_count": 17,
      "outputs": [
        {
          "output_type": "stream",
          "text": [
            "done in 2.732580s\n",
            "n_samples: 130725, n_features: 15541\n",
            "\n"
          ],
          "name": "stdout"
        }
      ]
    },
    {
      "metadata": {
        "id": "2OZqNhfHMbNa",
        "colab_type": "code",
        "outputId": "59bef80c-87ff-4271-9043-6837bb381c77",
        "colab": {
          "base_uri": "https://localhost:8080/",
          "height": 84
        }
      },
      "cell_type": "code",
      "source": [
        "print(\"Performing dimensionality reduction using LSA\")\n",
        "t0 = time()\n",
        "\n",
        "svd = TruncatedSVD(600)\n",
        "#normalizer = Normalizer(copy=False)\n",
        "lsa = make_pipeline(svd)#, normalizer)\n",
        "\n",
        "X_train_lsa = lsa.fit_transform(X_train_tfidf)\n",
        "X_test_lsa = lsa.fit_transform(X_test_tfidf)\n",
        "\n",
        "print(\"done in %fs\" % (time() - t0))\n",
        "\n",
        "explained_variance = svd.explained_variance_ratio_.sum()\n",
        "print(\"Explained variance of the SVD step: {}%\".format(\n",
        "    int(explained_variance * 100)))\n",
        "\n",
        "print()"
      ],
      "execution_count": 71,
      "outputs": [
        {
          "output_type": "stream",
          "text": [
            "Performing dimensionality reduction using LSA\n",
            "done in 87.052961s\n",
            "Explained variance of the SVD step: 71%\n",
            "\n"
          ],
          "name": "stdout"
        }
      ]
    },
    {
      "metadata": {
        "id": "ogjN7TNuWtTn",
        "colab_type": "text"
      },
      "cell_type": "markdown",
      "source": [
        "## **K-Means Clustering**"
      ]
    },
    {
      "metadata": {
        "id": "7H1zRj4vMbBD",
        "colab_type": "code",
        "outputId": "0235cac4-d712-4f0a-ace8-b8a20d5299f4",
        "colab": {
          "base_uri": "https://localhost:8080/",
          "height": 101
        }
      },
      "cell_type": "code",
      "source": [
        "# Since our target is boolean, we expect 2 clusters.\n",
        "km = KMeans(n_clusters=2, max_iter=100,\n",
        "            random_state=42)\n",
        "\n",
        "print(\"Clustering sparse data with %s\" % km)\n",
        "t0 = time()\n",
        "km.fit(X_train_lsa)\n",
        "print(\"done in %0.3fs\" % (time() - t0))\n",
        "print()"
      ],
      "execution_count": 72,
      "outputs": [
        {
          "output_type": "stream",
          "text": [
            "Clustering sparse data with KMeans(algorithm='auto', copy_x=True, init='k-means++', max_iter=100,\n",
            "    n_clusters=2, n_init=10, n_jobs=None, precompute_distances='auto',\n",
            "    random_state=42, tol=0.0001, verbose=0)\n",
            "done in 26.404s\n",
            "\n"
          ],
          "name": "stdout"
        }
      ]
    },
    {
      "metadata": {
        "id": "9wNFv0mgWrSP",
        "colab_type": "code",
        "outputId": "3c113c67-01c3-4f96-adbf-4a8461c3c16a",
        "colab": {
          "base_uri": "https://localhost:8080/",
          "height": 582
        }
      },
      "cell_type": "code",
      "source": [
        "plt.figure(figsize=(7, 4))\n",
        "# Calculate predicted values.\n",
        "y_pred = km.fit_predict(X_train_lsa)\n",
        "\n",
        "# Calculate Error Type\n",
        "y_error = (y_pred*2)-Y_train\n",
        "\n",
        "#Define Error Colors\n",
        "LABEL_COLOR_MAP = {-1: '#FF752E',\n",
        "                   0:  '#ad00c8',\n",
        "                   1: '#4ae500', \n",
        "                   2: '#000dbf'\n",
        "                   }\n",
        "label_color = [LABEL_COLOR_MAP[i] for i in y_error]\n",
        "label_convert = {-1: 'FN',\n",
        "                 0: 'TN',\n",
        "                 1:'TP',\n",
        "                 2: 'FP'\n",
        "                 } \n",
        "# Plot the solution.\n",
        "plt.scatter(X_train_lsa[:, 0], X_train_lsa[:, 1],\n",
        "            marker='.', c=label_color) \n",
        "#Plot the error legend\n",
        "markers = [\n",
        "    plt.Line2D([0, 0], [0, 0], color=color,\n",
        "               marker='o', linestyle=''\n",
        "               ) for color in LABEL_COLOR_MAP.values()]\n",
        "plt.legend(markers, label_convert.values(), numpoints=1, frameon=True)\n",
        "plt.rcParams.update({'font.size': 12})\n",
        "plt.title('K-Means')\n",
        "#plt.savefig(\"K-Means.png\", dpi =300)\n",
        "#files.download(\"K-Means.png\")\n",
        "plt.show()\n",
        "\n",
        "# Check the solution against the data.\n",
        "cm = pd.crosstab(Y_train, y_pred, rownames=['True'], \n",
        "                 colnames=['Predicted'], margins=True)\n",
        "print(\"\\nConfusion Matrix:  \\n\", cm)\n",
        "print(\"\\n                    Classification Report \\n\",\n",
        "      classification_report(Y_train, y_pred))"
      ],
      "execution_count": 73,
      "outputs": [
        {
          "output_type": "display_data",
          "data": {
            "image/png": "[encoded data removed]",
            "text/plain": [
              "<Figure size 504x288 with 1 Axes>"
            ]
          },
          "metadata": {
            "tags": []
          }
        },
        {
          "output_type": "stream",
          "text": [
            "\n",
            "Confusion Matrix:  \n",
            " Predicted      0       1     All\n",
            "True                            \n",
            "0           4618   60591   65209\n",
            "1           8090   57426   65516\n",
            "All        12708  118017  130725\n",
            "\n",
            "                    Classification Report \n",
            "               precision    recall  f1-score   support\n",
            "\n",
            "           0       0.36      0.07      0.12     65209\n",
            "           1       0.49      0.88      0.63     65516\n",
            "\n",
            "   micro avg       0.47      0.47      0.47    130725\n",
            "   macro avg       0.42      0.47      0.37    130725\n",
            "weighted avg       0.43      0.47      0.37    130725\n",
            "\n"
          ],
          "name": "stdout"
        }
      ]
    },
    {
      "metadata": {
        "id": "4ConIz7CoxRc",
        "colab_type": "text"
      },
      "cell_type": "markdown",
      "source": [
        "Unsupervised cluster analysis with K-Means reveals some grouping of the Positive and Negative sentiments, including those that are incorrectly classified."
      ]
    },
    {
      "metadata": {
        "id": "kRyW49oFF33_",
        "colab_type": "text"
      },
      "cell_type": "markdown",
      "source": [
        "## **Word2Vec**"
      ]
    },
    {
      "metadata": {
        "colab_type": "code",
        "id": "rNZE4Uuz1qxr",
        "colab": {}
      },
      "cell_type": "code",
      "source": [
        "from string import punctuation\n",
        "\n",
        "# convert column of tweets to list of words\n",
        "all_text = df3.clean.astype(str).values.tolist()\n",
        "string_text = '\\n'.join([word for word in all_text])\n",
        "tweet_split = string_text.split('\\n')\n",
        "string_text = ' '.join(tweet_split)\n",
        "\n",
        "# create a list of words\n",
        "words = string_text.split()"
      ],
      "execution_count": 0,
      "outputs": []
    },
    {
      "metadata": {
        "id": "2-pP3GFsKCRk",
        "colab_type": "code",
        "colab": {}
      },
      "cell_type": "code",
      "source": [
        "# store as list of lists of words\n",
        "sentences = []\n",
        "for sent_str in all_text:\n",
        "    tokens = re.sub(r\"[^a-z0-9]+\", \" \", sent_str.lower()).split()\n",
        "    sentences.append(tokens)"
      ],
      "execution_count": 0,
      "outputs": []
    },
    {
      "metadata": {
        "id": "8vARAsKQLTH9",
        "colab_type": "code",
        "outputId": "f97f194b-2fbe-4c2f-eb1e-bb4ca48636fe",
        "colab": {
          "base_uri": "https://localhost:8080/",
          "height": 302
        }
      },
      "cell_type": "code",
      "source": [
        "sentences[0]"
      ],
      "execution_count": 23,
      "outputs": [
        {
          "output_type": "execute_result",
          "data": {
            "text/plain": [
              "['gracie',\n",
              " 'possibly',\n",
              " 'but',\n",
              " 'trump',\n",
              " 'made',\n",
              " 'perfectly',\n",
              " 'clear',\n",
              " 'the',\n",
              " 'dems',\n",
              " 'who',\n",
              " 'charge',\n",
              " 'good',\n",
              " 'him',\n",
              " 'pelosi',\n",
              " 'bully',\n",
              " 'who',\n",
              " 'likes']"
            ]
          },
          "metadata": {
            "tags": []
          },
          "execution_count": 23
        }
      ]
    },
    {
      "metadata": {
        "id": "rByhq9xugi73",
        "colab_type": "code",
        "colab": {}
      },
      "cell_type": "code",
      "source": [
        "from gensim.models import Word2Vec\n",
        "\n",
        "w2v_model = Word2Vec(\n",
        "    sentences=sentences, size=300, window=5, min_count=5, workers=4, sg=0)\n"
      ],
      "execution_count": 0,
      "outputs": []
    },
    {
      "metadata": {
        "id": "1bA7w7RjN78i",
        "colab_type": "code",
        "outputId": "202ea74d-68d5-4424-8afd-dcd62910217d",
        "colab": {
          "base_uri": "https://localhost:8080/",
          "height": 185
        }
      },
      "cell_type": "code",
      "source": [
        "w2v_model.wv.most_similar('bad')"
      ],
      "execution_count": 25,
      "outputs": [
        {
          "output_type": "execute_result",
          "data": {
            "text/plain": [
              "[('funny', 0.44721516966819763),\n",
              " ('busy', 0.4397850036621094),\n",
              " ('irresponsible', 0.4143359065055847),\n",
              " ('good', 0.40915659070014954),\n",
              " ('perfect', 0.37272799015045166),\n",
              " ('terrible', 0.3585202693939209),\n",
              " ('stupid', 0.35177555680274963),\n",
              " ('aware', 0.35127776861190796),\n",
              " ('harsh', 0.34268587827682495),\n",
              " ('least', 0.3383479714393616)]"
            ]
          },
          "metadata": {
            "tags": []
          },
          "execution_count": 25
        }
      ]
    },
    {
      "metadata": {
        "id": "J23I4v8Up-zT",
        "colab_type": "text"
      },
      "cell_type": "markdown",
      "source": [
        "This model did not perform well."
      ]
    },
    {
      "metadata": {
        "id": "mSlR9w6XOc2j",
        "colab_type": "text"
      },
      "cell_type": "markdown",
      "source": [
        "## **Fast Text**"
      ]
    },
    {
      "metadata": {
        "id": "G-5QVieGOajT",
        "colab_type": "code",
        "colab": {}
      },
      "cell_type": "code",
      "source": [
        "from gensim.models import FastText\n",
        "fast_model = FastText(\n",
        "    sentences, size=300, window=5, min_count=5, workers=4,sg=0)"
      ],
      "execution_count": 0,
      "outputs": []
    },
    {
      "metadata": {
        "id": "JZ5lJ1QIOaW2",
        "colab_type": "code",
        "outputId": "a33180ed-cab5-4ddd-b997-7bfc4ca8ba9a",
        "colab": {
          "base_uri": "https://localhost:8080/",
          "height": 185
        }
      },
      "cell_type": "code",
      "source": [
        "fast_model.wv.most_similar(\"bad\")"
      ],
      "execution_count": 27,
      "outputs": [
        {
          "output_type": "execute_result",
          "data": {
            "text/plain": [
              "[('badly', 0.6838020086288452),\n",
              " ('badass', 0.6458185911178589),\n",
              " ('load', 0.6068425178527832),\n",
              " ('dad', 0.5288748145103455),\n",
              " ('glad', 0.5140538215637207),\n",
              " ('abroad', 0.46838629245758057),\n",
              " ('knead', 0.4654386043548584),\n",
              " ('road', 0.45840984582901),\n",
              " ('funny', 0.4568937420845032),\n",
              " ('farhad', 0.4492751359939575)]"
            ]
          },
          "metadata": {
            "tags": []
          },
          "execution_count": 27
        }
      ]
    },
    {
      "metadata": {
        "id": "VfWlJMyIqGZ4",
        "colab_type": "text"
      },
      "cell_type": "markdown",
      "source": [
        "FastText seems to work better for this corpus, but not as good as we'd like."
      ]
    },
    {
      "metadata": {
        "id": "vfbjwKXFRSnv",
        "colab_type": "text"
      },
      "cell_type": "markdown",
      "source": [
        "# **Doc2Vec**\n",
        "\n",
        "Doc2Vec is a small extension to the CBOW Word2Vec model. Instead of using just words to predict the next word, we also add another feature vector, which is document-unique."
      ]
    },
    {
      "metadata": {
        "id": "5qPloK-r9wwW",
        "colab_type": "code",
        "colab": {}
      },
      "cell_type": "code",
      "source": [
        "x_d2v = df3.clean\n",
        "y_d2v = df3.SA2\n",
        "\n",
        "x_train_d2v, x_validation_and_test_d2v, y_train_d2v, y_validation_and_test_d2v = train_test_split(\n",
        "    x_d2v, y_d2v, test_size=.02, random_state=42)\n",
        "\n",
        "x_validation_d2v, x_test_d2v, y_validation_d2v, y_test_d2v = train_test_split(\n",
        "    x_validation_and_test_d2v, y_validation_and_test_d2v, \n",
        "    test_size=.5, random_state=42)"
      ],
      "execution_count": 0,
      "outputs": []
    },
    {
      "metadata": {
        "id": "lVo9MIdxQNX1",
        "colab_type": "code",
        "colab": {}
      },
      "cell_type": "code",
      "source": [
        "from tqdm import tqdm\n",
        "tqdm.pandas(desc=\"progress-bar\")\n",
        "from gensim.models import Doc2Vec\n",
        "from gensim.models.doc2vec import LabeledSentence\n",
        "import multiprocessing\n",
        "from sklearn import utils"
      ],
      "execution_count": 0,
      "outputs": []
    },
    {
      "metadata": {
        "id": "qQf_jvyqQiUN",
        "colab_type": "code",
        "colab": {}
      },
      "cell_type": "code",
      "source": [
        "def labelize_tweets_ug(tweets,label):\n",
        "    result = []\n",
        "    prefix = label\n",
        "    for i, t in zip(tweets.index, tweets):\n",
        "        result.append(LabeledSentence(t.split(), [prefix + '_%s' % i]))\n",
        "    return result"
      ],
      "execution_count": 0,
      "outputs": []
    },
    {
      "metadata": {
        "id": "Qt0H5KmAUvPD",
        "colab_type": "text"
      },
      "cell_type": "markdown",
      "source": [
        "We'll train with the entire corpus."
      ]
    },
    {
      "metadata": {
        "id": "ZciELooEQyK8",
        "colab_type": "code",
        "colab": {}
      },
      "cell_type": "code",
      "source": [
        "all_x = pd.concat([x_train_d2v, x_validation_d2v, x_test_d2v])\n",
        "all_x_w2v = labelize_tweets_ug(all_x, 'all')"
      ],
      "execution_count": 0,
      "outputs": []
    },
    {
      "metadata": {
        "id": "tUyJcl-XQ0pJ",
        "colab_type": "code",
        "outputId": "d721cf4d-fe9f-4bc6-e1f0-449dff009351",
        "colab": {
          "base_uri": "https://localhost:8080/",
          "height": 34
        }
      },
      "cell_type": "code",
      "source": [
        "len(all_x_w2v)"
      ],
      "execution_count": 32,
      "outputs": [
        {
          "output_type": "execute_result",
          "data": {
            "text/plain": [
              "174300"
            ]
          },
          "metadata": {
            "tags": []
          },
          "execution_count": 32
        }
      ]
    },
    {
      "metadata": {
        "id": "oE1Jfoy6Q3mp",
        "colab_type": "code",
        "outputId": "47157816-fc1c-4719-f7e9-ab53512bb86d",
        "colab": {
          "base_uri": "https://localhost:8080/",
          "height": 34
        }
      },
      "cell_type": "code",
      "source": [
        "doc2vec_model = Doc2Vec(vector_size=50, min_count=2, epochs=5)\n",
        "doc2vec_model.build_vocab([x for x in tqdm(all_x_w2v)])"
      ],
      "execution_count": 33,
      "outputs": [
        {
          "output_type": "stream",
          "text": [
            "100%|██████████| 174300/174300 [00:00<00:00, 2322529.28it/s]\n"
          ],
          "name": "stderr"
        }
      ]
    },
    {
      "metadata": {
        "id": "hArhkX7iRHNz",
        "colab_type": "code",
        "outputId": "a88f91b9-f9a4-4469-9ca3-9c69717e5942",
        "colab": {
          "base_uri": "https://localhost:8080/",
          "height": 34
        }
      },
      "cell_type": "code",
      "source": [
        "doc2vec_model.train(\n",
        "    utils.shuffle([x for x in tqdm(all_x_w2v)]),\n",
        "                        total_examples=len(all_x_w2v), \n",
        "    epochs=doc2vec_model.epochs)\n",
        "   "
      ],
      "execution_count": 34,
      "outputs": [
        {
          "output_type": "stream",
          "text": [
            "100%|██████████| 174300/174300 [00:00<00:00, 2606318.72it/s]\n"
          ],
          "name": "stderr"
        }
      ]
    },
    {
      "metadata": {
        "id": "SlqRPnFpq4hu",
        "colab_type": "code",
        "outputId": "64844c90-ac75-45ba-ff2d-6ff9deb532ec",
        "colab": {
          "base_uri": "https://localhost:8080/",
          "height": 185
        }
      },
      "cell_type": "code",
      "source": [
        "doc2vec_model.wv.most_similar(\"bad\")"
      ],
      "execution_count": 35,
      "outputs": [
        {
          "output_type": "execute_result",
          "data": {
            "text/plain": [
              "[('all', 0.5452978610992432),\n",
              " ('harsh', 0.5345381498336792),\n",
              " ('busy', 0.5276270508766174),\n",
              " ('here', 0.516607403755188),\n",
              " ('funny', 0.5085316896438599),\n",
              " ('dead', 0.4971652030944824),\n",
              " ('fake', 0.4736326336860657),\n",
              " ('like', 0.470723956823349),\n",
              " ('perfect', 0.4615775942802429),\n",
              " ('outed', 0.4606556296348572)]"
            ]
          },
          "metadata": {
            "tags": []
          },
          "execution_count": 35
        }
      ]
    },
    {
      "metadata": {
        "id": "ID0zYNrErBHQ",
        "colab_type": "text"
      },
      "cell_type": "markdown",
      "source": [
        "Still not great. Let's see how these vectors work for modeling."
      ]
    },
    {
      "metadata": {
        "id": "siex-gxcRZl_",
        "colab_type": "code",
        "colab": {}
      },
      "cell_type": "code",
      "source": [
        "def get_vectors(model, corpus, size):\n",
        "    vecs = np.zeros((len(corpus), size))\n",
        "    n = 0\n",
        "    for i in corpus.index:\n",
        "        prefix = 'all_' + str(i)\n",
        "        vecs[n] = model.docvecs[prefix]\n",
        "        n += 1\n",
        "    return vecs\n",
        "  \n",
        "train_vecs_d2v = get_vectors(doc2vec_model, x_train_d2v, 50)\n",
        "validation_vecs_d2v = get_vectors(doc2vec_model, x_validation_d2v, 50)  "
      ],
      "execution_count": 0,
      "outputs": []
    },
    {
      "metadata": {
        "id": "AwsA78IZY0-q",
        "colab_type": "code",
        "colab": {}
      },
      "cell_type": "code",
      "source": [
        "# Defining a function to fit and predict ML algorithms\n",
        "def auto_model(mod, model_name, X_train, X_test, y_train, y_test):\n",
        "    mod.fit(X_train, y_train)\n",
        "    print(model_name)\n",
        "    acc = cross_val_score(mod, X_train, y_train,\n",
        "                          scoring=\"accuracy\", cv=5)\n",
        "    predictions = cross_val_predict(mod, X_train, y_train, cv=5)\n",
        "    print(\"Accuracy:\", round(acc.mean(), 3))\n",
        "    cm = pd.crosstab(y_train, predictions, rownames=['True'], \n",
        "                 colnames=['Predicted'], margins=True)\n",
        "    print(\"\\nConfusion Matrix:  \\n\", cm)\n",
        "    print(\"\\n                    Classification Report \\n\",\n",
        "          classification_report(y_train, predictions))"
      ],
      "execution_count": 0,
      "outputs": []
    },
    {
      "metadata": {
        "id": "czaSkaw-gaZ6",
        "colab_type": "text"
      },
      "cell_type": "markdown",
      "source": [
        "## **Doc2Vec Classification Models**"
      ]
    },
    {
      "metadata": {
        "id": "y2JoJhdCYfbH",
        "colab_type": "code",
        "outputId": "294273d6-efc7-4295-a9d2-b41014690559",
        "colab": {
          "base_uri": "https://localhost:8080/",
          "height": 353
        }
      },
      "cell_type": "code",
      "source": [
        "# Random Forest Classifier\n",
        "rfc = RandomForestClassifier(n_estimators=100, n_jobs=-1)\n",
        "auto_model(rfc, \"Random Forest Classifier\",\n",
        "           train_vecs_d2v, validation_vecs_d2v, y_train_d2v, y_validation_d2v)"
      ],
      "execution_count": 38,
      "outputs": [
        {
          "output_type": "stream",
          "text": [
            "Random Forest Classifier\n",
            "Accuracy: 0.675\n",
            "\n",
            "Confusion Matrix:  \n",
            " Predicted     -1      1     All\n",
            "True                           \n",
            "-1         59993  25372   85365\n",
            "1          29847  55602   85449\n",
            "All        89840  80974  170814\n",
            "\n",
            "                    Classification Report \n",
            "               precision    recall  f1-score   support\n",
            "\n",
            "          -1       0.67      0.70      0.68     85365\n",
            "           1       0.69      0.65      0.67     85449\n",
            "\n",
            "   micro avg       0.68      0.68      0.68    170814\n",
            "   macro avg       0.68      0.68      0.68    170814\n",
            "weighted avg       0.68      0.68      0.68    170814\n",
            "\n"
          ],
          "name": "stdout"
        }
      ]
    },
    {
      "metadata": {
        "id": "DaRNptRdYfK_",
        "colab_type": "code",
        "outputId": "6b723fd6-ea9e-4add-9d26-7dea677985a5",
        "colab": {
          "base_uri": "https://localhost:8080/",
          "height": 353
        }
      },
      "cell_type": "code",
      "source": [
        "# Gaussian Naive Bayes\n",
        "gnb = GaussianNB()\n",
        "auto_model(gnb, \"Gaussian Naive Bayes\", \n",
        "              train_vecs_d2v, validation_vecs_d2v, y_train_d2v, \n",
        "              y_validation_d2v)"
      ],
      "execution_count": 39,
      "outputs": [
        {
          "output_type": "stream",
          "text": [
            "Gaussian Naive Bayes\n",
            "Accuracy: 0.533\n",
            "\n",
            "Confusion Matrix:  \n",
            " Predicted     -1       1     All\n",
            "True                            \n",
            "-1         28468   56897   85365\n",
            "1          22898   62551   85449\n",
            "All        51366  119448  170814\n",
            "\n",
            "                    Classification Report \n",
            "               precision    recall  f1-score   support\n",
            "\n",
            "          -1       0.55      0.33      0.42     85365\n",
            "           1       0.52      0.73      0.61     85449\n",
            "\n",
            "   micro avg       0.53      0.53      0.53    170814\n",
            "   macro avg       0.54      0.53      0.51    170814\n",
            "weighted avg       0.54      0.53      0.51    170814\n",
            "\n"
          ],
          "name": "stdout"
        }
      ]
    },
    {
      "metadata": {
        "id": "ChfYB5SXfTfG",
        "colab_type": "code",
        "outputId": "7c8d3df2-7507-4a6f-9225-3201f45813ad",
        "colab": {
          "base_uri": "https://localhost:8080/",
          "height": 353
        }
      },
      "cell_type": "code",
      "source": [
        "# Logistic Regression\n",
        "log = LogisticRegression(solver='lbfgs')\n",
        "auto_model(log, \"Logistic Regression\", train_vecs_d2v, validation_vecs_d2v, \n",
        "              y_train_d2v, y_validation_d2v)"
      ],
      "execution_count": 40,
      "outputs": [
        {
          "output_type": "stream",
          "text": [
            "Logistic Regression\n",
            "Accuracy: 0.584\n",
            "\n",
            "Confusion Matrix:  \n",
            " Predicted     -1      1     All\n",
            "True                           \n",
            "-1         49629  35736   85365\n",
            "1          35276  50173   85449\n",
            "All        84905  85909  170814\n",
            "\n",
            "                    Classification Report \n",
            "               precision    recall  f1-score   support\n",
            "\n",
            "          -1       0.58      0.58      0.58     85365\n",
            "           1       0.58      0.59      0.59     85449\n",
            "\n",
            "   micro avg       0.58      0.58      0.58    170814\n",
            "   macro avg       0.58      0.58      0.58    170814\n",
            "weighted avg       0.58      0.58      0.58    170814\n",
            "\n"
          ],
          "name": "stdout"
        }
      ]
    },
    {
      "metadata": {
        "id": "EYspkdVEfTTA",
        "colab_type": "code",
        "outputId": "dbcf080e-5baa-4c73-dc5a-55a999dc342c",
        "colab": {
          "base_uri": "https://localhost:8080/",
          "height": 353
        }
      },
      "cell_type": "code",
      "source": [
        "# Linear SVC\n",
        "svc = LinearSVC()\n",
        "auto_model(svc, \"Linear SVC\", train_vecs_d2v, validation_vecs_d2v, \n",
        "              y_train_d2v, y_validation_d2v)"
      ],
      "execution_count": 41,
      "outputs": [
        {
          "output_type": "stream",
          "text": [
            "Linear SVC\n",
            "Accuracy: 0.584\n",
            "\n",
            "Confusion Matrix:  \n",
            " Predicted     -1      1     All\n",
            "True                           \n",
            "-1         49604  35761   85365\n",
            "1          35246  50203   85449\n",
            "All        84850  85964  170814\n",
            "\n",
            "                    Classification Report \n",
            "               precision    recall  f1-score   support\n",
            "\n",
            "          -1       0.58      0.58      0.58     85365\n",
            "           1       0.58      0.59      0.59     85449\n",
            "\n",
            "   micro avg       0.58      0.58      0.58    170814\n",
            "   macro avg       0.58      0.58      0.58    170814\n",
            "weighted avg       0.58      0.58      0.58    170814\n",
            "\n"
          ],
          "name": "stdout"
        }
      ]
    },
    {
      "metadata": {
        "id": "dltywMXUBosy",
        "colab_type": "text"
      },
      "cell_type": "markdown",
      "source": [
        "The Random Forest Classifier achieved the best performance, although it is far from what we want. As the focus of the project is to develop a Neural Network I won't investigate improving this models performance. "
      ]
    },
    {
      "metadata": {
        "colab_type": "text",
        "id": "BIMrjnX51qx2"
      },
      "cell_type": "markdown",
      "source": [
        "# **Preparing Data for Pytorch**"
      ]
    },
    {
      "metadata": {
        "id": "aRQj7OnoRdWO",
        "colab_type": "code",
        "colab": {}
      },
      "cell_type": "code",
      "source": [
        "from collections import Counter\n",
        "\n",
        "\n",
        "## Build a dictionary that maps words to integers\n",
        "counts = Counter(words)\n",
        "vocab = sorted(counts, key=counts.get, reverse=True)\n",
        "vocab_to_int = {word: ii for ii, word in enumerate(vocab, 1)}\n",
        "  \n",
        "## use the dict to tokenize each tweet in tweet_split\n",
        "## store the tokenized tweet in tweet_ints\n",
        "tweet_ints = []\n",
        "for tweet in tweet_split:\n",
        "    tweet_ints.append([vocab_to_int[word] for word in tweet.split()])"
      ],
      "execution_count": 0,
      "outputs": []
    },
    {
      "metadata": {
        "id": "iqUMcVo_vANL",
        "colab_type": "code",
        "outputId": "0223592d-13a1-4dcd-edb1-befb798d6b66",
        "colab": {
          "base_uri": "https://localhost:8080/",
          "height": 50
        }
      },
      "cell_type": "code",
      "source": [
        "#vocab_to_int.keys()\n",
        "print(tweet_split[0])\n",
        "print(tweet_ints[0])"
      ],
      "execution_count": 43,
      "outputs": [
        {
          "output_type": "stream",
          "text": [
            "gracie possibly but trump made  perfectly clear  the dems who   charge good  him pelosi   bully who likes\n",
            "[11759, 2714, 24, 2, 216, 2003, 106, 1, 296, 41, 2358, 269, 47, 38, 3586, 41, 2959]\n"
          ],
          "name": "stdout"
        }
      ]
    },
    {
      "metadata": {
        "id": "zjsxQkK7kPRg",
        "colab_type": "code",
        "outputId": "b9ab2878-90da-4522-fb7f-9d2f7b566abf",
        "colab": {
          "base_uri": "https://localhost:8080/",
          "height": 50
        }
      },
      "cell_type": "code",
      "source": [
        "\n",
        "# stats about vocabulary\n",
        "print('Unique words: ', len((vocab_to_int)))  \n",
        "print()"
      ],
      "execution_count": 44,
      "outputs": [
        {
          "output_type": "stream",
          "text": [
            "Unique words:  33713\n",
            "\n"
          ],
          "name": "stdout"
        }
      ]
    },
    {
      "metadata": {
        "id": "46ifj23cTGzG",
        "colab_type": "code",
        "outputId": "8f04b515-ffa0-47ff-a6c9-8df1ad4d5e64",
        "colab": {
          "base_uri": "https://localhost:8080/",
          "height": 67
        }
      },
      "cell_type": "code",
      "source": [
        "# outlier tweet stats\n",
        "tweet_lens = Counter([len(x) for x in tweet_ints])\n",
        "print(\"Zero-length tweets: {}\".format(tweet_lens[0]))\n",
        "print(\"Minimum tweet word count: {}\".format(min(tweet_lens)))\n",
        "print(\"Maximum tweet word count: {}\".format(max(tweet_lens)))"
      ],
      "execution_count": 45,
      "outputs": [
        {
          "output_type": "stream",
          "text": [
            "Zero-length tweets: 0\n",
            "Minimum tweet word count: 1\n",
            "Maximum tweet word count: 25\n"
          ],
          "name": "stdout"
        }
      ]
    },
    {
      "metadata": {
        "id": "POfLRIOZXB9W",
        "colab_type": "code",
        "colab": {}
      },
      "cell_type": "code",
      "source": [
        "def pad_features(tweet_ints, seq_length):\n",
        "    ''' Return features of tweet_ints, where each tweet is padded with 0's \n",
        "        or truncated to the input seq_length.\n",
        "    '''\n",
        "    \n",
        "    # getting the correct rows x cols shape\n",
        "    features = np.zeros((len(tweet_ints), seq_length), dtype=int)\n",
        "\n",
        "    # for each review, I grab that review and \n",
        "    for i, row in enumerate(tweet_ints):\n",
        "        features[i, -len(row):] = np.array(row)[:seq_length]\n",
        "    \n",
        "    return features"
      ],
      "execution_count": 0,
      "outputs": []
    },
    {
      "metadata": {
        "id": "kTsb9481Xlo9",
        "colab_type": "code",
        "colab": {}
      },
      "cell_type": "code",
      "source": [
        "# Test your implementation!\n",
        "\n",
        "seq_length = 26\n",
        "\n",
        "features = pad_features(tweet_ints, seq_length=seq_length)\n",
        "\n",
        "## test statements - do not change - ##\n",
        "assert len(features)==len(tweet_ints), \"Your features should have as many rows as reviews.\"\n",
        "assert len(features[0])==seq_length, \"Each feature row should contain seq_length values.\"\n"
      ],
      "execution_count": 0,
      "outputs": []
    },
    {
      "metadata": {
        "id": "2WY7J7KiXrLy",
        "colab_type": "code",
        "outputId": "0165b3f1-51d5-46c5-eaa4-4fffb25b3e1c",
        "colab": {
          "base_uri": "https://localhost:8080/",
          "height": 84
        }
      },
      "cell_type": "code",
      "source": [
        "\n",
        "split_frac = 0.8\n",
        "\n",
        "## split data into training, validation, and test data (features and labels, x and y)\n",
        "\n",
        "split_idx = int(len(features)*split_frac)\n",
        "train_x, remaining_x = features[:split_idx], features[split_idx:]\n",
        "train_y, remaining_y = encoded_labels[:split_idx], encoded_labels[split_idx:]\n",
        "\n",
        "test_idx = int(len(remaining_x)*0.5)\n",
        "val_x, test_x = remaining_x[:test_idx], remaining_x[test_idx:]\n",
        "val_y, test_y = remaining_y[:test_idx], remaining_y[test_idx:]\n",
        "\n",
        "## print out the shapes of your resultant feature data\n",
        "print(\"\\t\\t\\tFeature Shapes:\")\n",
        "print(\"Train set: \\t\\t{}\".format(train_x.shape), \n",
        "      \"\\nValidation set: \\t{}\".format(val_x.shape),\n",
        "      \"\\nTest set: \\t\\t{}\".format(test_x.shape))"
      ],
      "execution_count": 48,
      "outputs": [
        {
          "output_type": "stream",
          "text": [
            "\t\t\tFeature Shapes:\n",
            "Train set: \t\t(139440, 26) \n",
            "Validation set: \t(17430, 26) \n",
            "Test set: \t\t(17430, 26)\n"
          ],
          "name": "stdout"
        }
      ]
    },
    {
      "metadata": {
        "id": "R-GEkIPLp9la",
        "colab_type": "text"
      },
      "cell_type": "markdown",
      "source": [
        "## **DataLoaders and Batching**\n",
        "After creating training, test, and validation data, we can create DataLoaders for this data by following two steps:\n",
        "\n",
        "1.   Create a known format for accessing our data, using TensorDataset which takes in an input set of data and a target set of data with the same first dimension, and creates a dataset.\n",
        "2.   Create DataLoaders and batch our training, validation, and test Tensor datasets\n",
        "\n",
        "\n",
        "train_data = TensorDataset(torch.from_numpy(train_x), torch.from_numpy(train_y))\n",
        "\n",
        "train_loader = DataLoader(train_data, batch_size=batch_size)\n",
        "\n",
        "This is an alternative to creating a generator function for batching our data into full batches."
      ]
    },
    {
      "metadata": {
        "id": "9v_sjGMgo-1d",
        "colab_type": "code",
        "colab": {}
      },
      "cell_type": "code",
      "source": [
        "import torch\n",
        "from torch.utils.data import TensorDataset, DataLoader\n",
        "\n",
        "# create Tensor datasets\n",
        "train_data = TensorDataset(torch.from_numpy(train_x), torch.from_numpy(train_y))\n",
        "valid_data = TensorDataset(torch.from_numpy(val_x), torch.from_numpy(val_y))\n",
        "test_data = TensorDataset(torch.from_numpy(test_x), torch.from_numpy(test_y))\n",
        "\n",
        "# dataloaders\n",
        "batch_size = 30\n",
        "\n",
        "train_loader = DataLoader(train_data, shuffle=False, batch_size=batch_size)\n",
        "valid_loader = DataLoader(valid_data, shuffle=False, batch_size=batch_size)\n",
        "test_loader = DataLoader(test_data, shuffle=False, batch_size=batch_size)"
      ],
      "execution_count": 0,
      "outputs": []
    },
    {
      "metadata": {
        "id": "lWBEdtslqYj-",
        "colab_type": "code",
        "outputId": "2ca145cb-6d64-42b8-9722-682d0de1bb18",
        "colab": {
          "base_uri": "https://localhost:8080/",
          "height": 1646
        }
      },
      "cell_type": "code",
      "source": [
        "# obtain one batch of training data\n",
        "dataiter = iter(train_loader)\n",
        "sample_x, sample_y = dataiter.next()\n",
        "\n",
        "print('Sample input size: ', sample_x.size()) # batch_size, seq_length\n",
        "print('Sample input: \\n', sample_x)\n",
        "print()\n",
        "print('Sample label size: ', sample_y.size()) # batch_size\n",
        "print('Sample label: \\n', sample_y)"
      ],
      "execution_count": 50,
      "outputs": [
        {
          "output_type": "stream",
          "text": [
            "Sample input size:  torch.Size([30, 26])\n",
            "Sample input: \n",
            " tensor([[    0,     0,     0,     0,     0,     0,     0,     0,     0, 11759,\n",
            "          2714,    24,     2,   216,  2003,   106,     1,   296,    41,  2358,\n",
            "           269,    47,    38,  3586,    41,  2959],\n",
            "        [    0,     0,     0,     0,     0,     0,     0,     0,     0,     0,\n",
            "            14,     2,   893,   986,    33,  1251,     4,    68,  1124,     1,\n",
            "           121,  1201,     1,   583,   920,   878],\n",
            "        [    0,     0,     0,     0,     0,     0,     0,     0,     0,     0,\n",
            "             0,     0,     7,    57,  2673, 10376,     3,  1674,   777,    34,\n",
            "         18117,    75,  2038,    15,  1492,     2],\n",
            "        [    0,     0,     0,     0,     0,     0,     0,     0,     0,     0,\n",
            "          1027,  3545,    38,  6622,     2,   962,   752,    72,    38,  2027,\n",
            "          1362,    80,    92,  1235,   301,   575],\n",
            "        [    0,     0,     0,     0,     0,     0,     0,     0,     0,     0,\n",
            "             2,   831,   373,   778,   431,   551,   791,     3,   196,   525,\n",
            "            24,   255,   172,     5,    13,  1809],\n",
            "        [    0,     0,     0,     0,     0,     0,     0,     0,     0,     0,\n",
            "             0,     0,     0,    90,   600,    48,   790,   584,   496,   421,\n",
            "           847,     4,    44,   129,   218,   781],\n",
            "        [    0,     0,     0,     0,     0,     0,     0,     0,     0,   514,\n",
            "           384,   101,   615,    12,    32,     6,   360,    23,   599,   324,\n",
            "           208,   254,   252,   406,   497,   339],\n",
            "        [    0,     0,     0,     0,     0,     0,     0,     0,     0,     0,\n",
            "            30,    53,   114,    11,   119,     2,   157,    35,    52,   150,\n",
            "           161,   160,   112,   132,    31,   159],\n",
            "        [    0,     0,     0,     0,     0,     0,     0,     0,     0,     0,\n",
            "             0,     0,     0,     0,   529,   155,     9,   434,     5,     1,\n",
            "            21,   291,    17,   740,   541,    22],\n",
            "        [    0,     0,     0,     0,     0,     0,     0,     0,     0,     0,\n",
            "             0,     0,    73,   155,   276,    21,    26,   144,   292,    20,\n",
            "             4,     2,    57,    16,    25,    68],\n",
            "        [    0,     0,     0,     0,     0,     0,     0,     0,     0,     0,\n",
            "             0,    74,  1031,     6,   138,   167,    93,     5,    91,    15,\n",
            "            28,    69,   309,     5,     2,   219],\n",
            "        [    0,     0,     0,     0,     0,     0,     0,     0,     0,     0,\n",
            "             0,     0,  1076,    74,  1519,   783,   463,     3,  1649,   849,\n",
            "            99,   190,     5,     1,    21,  7592],\n",
            "        [    0,     0,     0,     0,     0,     0,     0,     0,     0,  4495,\n",
            "          6146,    41,    11,   633,   419,     1,   121,   310,     1,    58,\n",
            "           189,   888,    18,   267,  4899,  6147],\n",
            "        [    0,     0,     0,     0,     0,     0,     0,     0,     0,     0,\n",
            "             0,     0,     2,  1315,    90,  2156,   593,   623,    80,    93,\n",
            "            91,  2579,    38,   315,  1144,   135],\n",
            "        [    0,     0,     0,     0,     0,     0,     0,     0,     0,     0,\n",
            "           106,    13,     9,    46,     4,    16,    50,     2,    57,    47,\n",
            "            25,    46,     1,   195,    12,   225],\n",
            "        [    0,     0,     0,     0,     0,     0,     0,     0,     0,     0,\n",
            "             0,  1064,  1134,     7,    49,   448,     1,    76,   242,   164,\n",
            "            21,    26,   439,  1536,    51,  6148],\n",
            "        [    0,     0,     0,     0,     0,     0,     0,     0,     0,     0,\n",
            "             9,    35,   210,    81,  1606,    27,     6,   177,   280,  1233,\n",
            "           780,   563,     9,   448,    51,   295],\n",
            "        [    0,     0,     0,     0,     0,     0,     0,     0,     0,  3546,\n",
            "           253,   189,  3863,  5007,    19,  4900,  3587,  3588,   611,     5,\n",
            "          1394,   171,     2,   189,  2928,  4901],\n",
            "        [    0,     0,     0,     0,     0,     0,     0,     0,     6,    58,\n",
            "           467,     3,    48,   235,    82,     2,   349,  1493,    84,    66,\n",
            "          1600,     5,   228,   273,    23,  4265],\n",
            "        [    0,     0,     0,     0,     0,     0,     0,     0,     0,     0,\n",
            "             0,     0, 18118,   425,     7,   382,    39,     8, 11760,  3547,\n",
            "           125,     2,  4587,     6,     1,  6373],\n",
            "        [    0,     0,     0,     0,     0,     0,     0,     0,     0,     0,\n",
            "             0,  2157,   142,  6896,    82, 13907,   471,  1895,     3,  1593,\n",
            "             4,    80,    48,  3457,   171,  2490],\n",
            "        [    0,     0,     0,     0,     0,     0,     0,     0,     0,     0,\n",
            "             0,  2009,    30,   876,    40,  1485,   215,   158,  1444,    24,\n",
            "             6,   979,    49,  3213,     2,  5940],\n",
            "        [    0,     0,     0,     0,     0,     0,     0,     0,     0,     0,\n",
            "             0,     0,    73,     1,   602,    29,   193,     4,   603,   450,\n",
            "           152,   279,   223,   760,   785,     2],\n",
            "        [    0,     0,     0,     0,     0,     0,     0,     0,     0,     0,\n",
            "             0,     0,     0,     0,     0,     0,   413,   257,  3240,     2,\n",
            "           130,   321,   590,   121,  4127,  4902],\n",
            "        [    0,     0,     0,     0,     0,     0,     0,     0,  5008,   185,\n",
            "            23,     1,  2536,   552,     5,    32,    33,     2,   436,    67,\n",
            "          1575, 13908,   104,     1,    80, 11761],\n",
            "        [    0,     0,     0,     0,     0,     0,     0,     0,     0,   514,\n",
            "           384,   101,   615,    12,    32,     6,   360,    23,   599,   324,\n",
            "           208,   254,   252,   406,   497,   339],\n",
            "        [    0,     0,     0,     0,     0,     0,     0,     0,     0,     0,\n",
            "           673,    18,    53,   685,    28,   871,   804,   172,   501,    93,\n",
            "           228,   233,   104,   668,    12,   824],\n",
            "        [    0,     0,     0,     0,     0,     0,     0,     0,     0,   710,\n",
            "           856,   850,   410,     8,   841,   392,    43,   682,   460,     3,\n",
            "           149,   842,    41,     8,    11,   423],\n",
            "        [    0,     0,     0,     0,     0,     0,     0,    39,    11,    35,\n",
            "            78,   108,     1,    67,    45,    95,     1,    45,    88,     1,\n",
            "            85,    36,    70,   115,     3,   116],\n",
            "        [    0,     0,     0,     0,     0,     0,     0,     0,     0,     0,\n",
            "             0,     0,     0,    73,    13,   475,    50,     7,    20,    12,\n",
            "             2,   862,   551,   791,     9,   124]])\n",
            "\n",
            "Sample label size:  torch.Size([30])\n",
            "Sample label: \n",
            " tensor([1, 0, 1, 1, 0, 1, 1, 0, 1, 1, 0, 1, 1, 1, 1, 1, 0, 0, 0, 1, 0, 0, 0, 1,\n",
            "        1, 1, 1, 0, 1, 0])\n"
          ],
          "name": "stdout"
        }
      ]
    },
    {
      "metadata": {
        "id": "HzF8ZcV1qh9l",
        "colab_type": "text"
      },
      "cell_type": "markdown",
      "source": [
        "# Sentiment Network with PyTorch\n",
        "\n",
        "LSTM Neural Networks, which stand for Long Short-Term Memory, are a particular type of recurrent neural networks. LSTM networks manage to keep contextual information of inputs by integrating a loop that allows information to flow from one step to the next. \n",
        "\n",
        "Since tweets are  composed from a sequence of words, and the specific order of those words provide context to the sentiment of the tweet, it stands to reason this Neural Network should predict tweet sentiment well. \n",
        "\n",
        "<img src=\"https://github.com/udacity/deep-learning-v2-pytorch/blob/master/sentiment-rnn/assets/network_diagram.png?raw=1\" width=40%>\n",
        "\n",
        "The layers are as follows:\n",
        "1. An [embedding layer](https://pytorch.org/docs/stable/nn.html#embedding) that converts our word tokens (integers) into embeddings of a specific size.\n",
        "2. An [LSTM layer](https://pytorch.org/docs/stable/nn.html#lstm) defined by a hidden_state size and number of layers\n",
        "3. A fully-connected output layer that maps the LSTM layer outputs to a desired output_size\n",
        "4. A sigmoid activation layer which turns all outputs into a value 0-1; return **only the last sigmoid output** as the output of this network.\n",
        "\n",
        "### The Embedding Layer\n",
        "\n",
        "We need to add an [embedding layer](https://pytorch.org/docs/stable/nn.html#embedding) because there are tens of thousands of words in our vocabulary. It is massively inefficient to one-hot encode that many classes. So, instead of one-hot encoding, we can have an embedding layer and use that layer as a lookup table.** I could train an embedding layer using Word2Vec, then load it here. But, it's recommended to just make a new layer, using it for only dimensionality reduction, and let the network learn the weights.**\n",
        "\n",
        "\n",
        "### The LSTM Layer(s)\n",
        "\n",
        "We'll create an [LSTM](https://pytorch.org/docs/stable/nn.html#lstm) to use in our recurrent network, which takes in an input_size, a hidden_dim, a number of layers, a dropout probability (for dropout between multiple layers), and a batch_first parameter.\n",
        "\n",
        "\n",
        "\n"
      ]
    },
    {
      "metadata": {
        "id": "aJFmyyGyqcJb",
        "colab_type": "code",
        "outputId": "e2fc5733-0630-41d5-f5fb-8288fd74e832",
        "colab": {
          "base_uri": "https://localhost:8080/",
          "height": 34
        }
      },
      "cell_type": "code",
      "source": [
        "# First checking if GPU is available\n",
        "train_on_gpu=torch.cuda.is_available()\n",
        "\n",
        "if(train_on_gpu):\n",
        "    print('Training on GPU.')\n",
        "else:\n",
        "    print('No GPU available, training on CPU.')"
      ],
      "execution_count": 51,
      "outputs": [
        {
          "output_type": "stream",
          "text": [
            "Training on GPU.\n"
          ],
          "name": "stdout"
        }
      ]
    },
    {
      "metadata": {
        "id": "k3vBnTpIr_7G",
        "colab_type": "code",
        "colab": {}
      },
      "cell_type": "code",
      "source": [
        "\n",
        "import torch.nn as nn\n",
        "\n",
        "class SentimentRNN(nn.Module):\n",
        "    \"\"\"\n",
        "    The RNN model that will be used to perform Sentiment analysis.\n",
        "    \"\"\"\n",
        "\n",
        "    def __init__(self, vocab_size, output_size, embedding_dim, hidden_dim, n_layers, drop_prob=0.5):\n",
        "        \"\"\"\n",
        "        Initialize the model by setting up the layers.\n",
        "        \"\"\"\n",
        "        super(SentimentRNN, self).__init__()\n",
        "\n",
        "        self.output_size = output_size\n",
        "        self.n_layers = n_layers\n",
        "        self.hidden_dim = hidden_dim\n",
        "        \n",
        "        # embedding and LSTM layers\n",
        "        self.embedding = nn.Embedding(vocab_size, embedding_dim)\n",
        "        self.lstm = nn.LSTM(embedding_dim, hidden_dim, n_layers, \n",
        "                            dropout=drop_prob, batch_first=True)\n",
        "        \n",
        "        # dropout layer\n",
        "        self.dropout = nn.Dropout(0.3)\n",
        "        \n",
        "        # linear and sigmoid layers\n",
        "        self.fc = nn.Linear(hidden_dim, output_size)\n",
        "        self.sig = nn.Sigmoid()\n",
        "        \n",
        "\n",
        "    def forward(self, x, hidden):\n",
        "        \"\"\"\n",
        "        Perform a forward pass of our model on some input and hidden state.\n",
        "        \"\"\"\n",
        "        batch_size = x.size(0)\n",
        "\n",
        "        # embeddings and lstm_out\n",
        "        embeds = self.embedding(x)\n",
        "        lstm_out, hidden = self.lstm(embeds, hidden)\n",
        "    \n",
        "        # stack up lstm outputs\n",
        "        lstm_out = lstm_out.contiguous().view(-1, self.hidden_dim)\n",
        "        \n",
        "        # dropout and fully-connected layer\n",
        "        out = self.dropout(lstm_out)\n",
        "        out = self.fc(out)\n",
        "        # sigmoid function\n",
        "        sig_out = self.sig(out)\n",
        "        \n",
        "        # reshape to be batch_size first\n",
        "        sig_out = sig_out.view(batch_size, -1)\n",
        "        sig_out = sig_out[:, -1] # get last batch of labels\n",
        "        \n",
        "        # return last sigmoid output and hidden state\n",
        "        return sig_out, hidden\n",
        "    \n",
        "    \n",
        "    def init_hidden(self, batch_size):\n",
        "        ''' Initializes hidden state '''\n",
        "        # Create two new tensors with sizes n_layers x batch_size x hidden_dim,\n",
        "        # initialized to zero, for hidden state and cell state of LSTM\n",
        "        weight = next(self.parameters()).data\n",
        "        \n",
        "        if (train_on_gpu):\n",
        "            hidden = (weight.new(self.n_layers, batch_size, self.hidden_dim\n",
        "                                ).zero_().cuda(),\n",
        "                  weight.new(self.n_layers, batch_size, self.hidden_dim\n",
        "                            ).zero_().cuda())\n",
        "        else:\n",
        "            hidden = (weight.new(self.n_layers, batch_size, self.hidden_dim\n",
        "                                ).zero_(),\n",
        "                      weight.new(self.n_layers, batch_size, self.hidden_dim\n",
        "                                ).zero_())\n",
        "        \n",
        "        return hidden"
      ],
      "execution_count": 0,
      "outputs": []
    },
    {
      "metadata": {
        "id": "Ti1Ko6gOsWYH",
        "colab_type": "text"
      },
      "cell_type": "markdown",
      "source": [
        "## Instantiate the network\n",
        "\n",
        "Here, we'll instantiate the network. First up, defining the hyperparameters.\n",
        "\n",
        "* `vocab_size`: Size of our vocabulary or the range of values for our input, word tokens.\n",
        "* `output_size`: Size of our desired output; the number of class scores we want to output (pos/neg).\n",
        "* `embedding_dim`: Number of columns in the embedding lookup table; size of our embeddings.\n",
        "* `hidden_dim`: Number of units in the hidden layers of our LSTM cells. Usually larger is better performance wise. Common values are 128, 256, 512, etc.\n",
        "* `n_layers`: Number of LSTM layers in the network. Typically between 1-3"
      ]
    },
    {
      "metadata": {
        "id": "ND80bDVKvVGR",
        "colab_type": "code",
        "outputId": "b8ddb036-668f-43cd-b828-0f9aca8bab9e",
        "colab": {
          "base_uri": "https://localhost:8080/",
          "height": 34
        }
      },
      "cell_type": "code",
      "source": [
        "len(vocab_to_int)"
      ],
      "execution_count": 53,
      "outputs": [
        {
          "output_type": "execute_result",
          "data": {
            "text/plain": [
              "33713"
            ]
          },
          "metadata": {
            "tags": []
          },
          "execution_count": 53
        }
      ]
    },
    {
      "metadata": {
        "id": "EebdJqW0sRX6",
        "colab_type": "code",
        "outputId": "c4e1628c-29d6-4145-fc3f-06f2b542bb2f",
        "colab": {
          "base_uri": "https://localhost:8080/",
          "height": 134
        }
      },
      "cell_type": "code",
      "source": [
        "# Instantiate the model w/ hyperparams\n",
        "vocab_size = len(vocab_to_int)+1 # +1 for the 0 padding + our word tokens\n",
        "output_size = 1\n",
        "embedding_dim = 300\n",
        "hidden_dim = 256\n",
        "n_layers = 2\n",
        "\n",
        "net = SentimentRNN(vocab_size, output_size, embedding_dim, hidden_dim, n_layers)\n",
        "\n",
        "print(net)"
      ],
      "execution_count": 54,
      "outputs": [
        {
          "output_type": "stream",
          "text": [
            "SentimentRNN(\n",
            "  (embedding): Embedding(33714, 300)\n",
            "  (lstm): LSTM(300, 256, num_layers=2, batch_first=True, dropout=0.5)\n",
            "  (dropout): Dropout(p=0.3)\n",
            "  (fc): Linear(in_features=256, out_features=1, bias=True)\n",
            "  (sig): Sigmoid()\n",
            ")\n"
          ],
          "name": "stdout"
        }
      ]
    },
    {
      "metadata": {
        "id": "E3VScg1Ot4h0",
        "colab_type": "text"
      },
      "cell_type": "markdown",
      "source": [
        "## Training\n",
        "​\n",
        "Below is the typical training code. \n",
        "​\n",
        ">We'll also be using a new kind of cross entropy loss, which is designed to work with a single Sigmoid output. [BCELoss](https://pytorch.org/docs/stable/nn.html#bceloss), or **Binary Cross Entropy Loss**, applies cross entropy loss to a single value between 0 and 1.\n",
        "​\n",
        "We also have some data and training hyparameters:\n",
        "​\n",
        "* `lr`: Learning rate for our optimizer.\n",
        "* `epochs`: Number of times to iterate through the training dataset.\n",
        "* `clip`: The maximum gradient value to clip at (to prevent exploding gradients)."
      ]
    },
    {
      "metadata": {
        "id": "2RK968_4tvOI",
        "colab_type": "code",
        "colab": {}
      },
      "cell_type": "code",
      "source": [
        "# loss and optimization functions\n",
        "lr=0.001\n",
        "\n",
        "criterion = nn.BCELoss()\n",
        "optimizer = torch.optim.Adam(net.parameters(), lr=lr)"
      ],
      "execution_count": 0,
      "outputs": []
    },
    {
      "metadata": {
        "id": "CXtPMfXsuHJG",
        "colab_type": "code",
        "outputId": "40d975ac-0827-45a2-db84-29b1f19d4c2b",
        "colab": {
          "base_uri": "https://localhost:8080/",
          "height": 790
        }
      },
      "cell_type": "code",
      "source": [
        "\n",
        "# training params\n",
        "\n",
        "epochs = 1 # 3-4 is approx where I noticed the validation loss stop decreasing\n",
        "\n",
        "counter = 0\n",
        "print_every = 100\n",
        "clip=5 # gradient clipping\n",
        "\n",
        "train_loss = []\n",
        "val_loss1 = []\n",
        "\n",
        "# move model to GPU, if available\n",
        "if(train_on_gpu):\n",
        "    net.cuda()\n",
        "\n",
        "net.train()\n",
        "# train for some number of epochs\n",
        "for e in range(epochs):\n",
        "    # initialize hidden state\n",
        "    h = net.init_hidden(batch_size)\n",
        "\n",
        "    # batch loop\n",
        "    for inputs, labels in train_loader:\n",
        "        counter += 1\n",
        "\n",
        "        if(train_on_gpu):\n",
        "            inputs, labels = inputs.cuda(), labels.cuda()\n",
        "\n",
        "        # Creating new variables for the hidden state, otherwise\n",
        "        # we'd backprop through the entire training history\n",
        "        h = tuple([each.data for each in h])\n",
        "\n",
        "        # zero accumulated gradients\n",
        "        net.zero_grad()\n",
        "\n",
        "        # get the output from the model\n",
        "        output, h = net(inputs, h)\n",
        "\n",
        "        # calculate the loss and perform backprop\n",
        "        loss = criterion(output.squeeze(), labels.float())\n",
        "        loss.backward()\n",
        "        # `clip_grad_norm` helps prevent the exploding gradient problem in RNNs / LSTMs.\n",
        "        nn.utils.clip_grad_norm_(net.parameters(), clip)\n",
        "        optimizer.step()\n",
        "\n",
        "        # loss stats\n",
        "        if counter % print_every == 0:\n",
        "            # Get validation loss\n",
        "            val_h = net.init_hidden(batch_size)\n",
        "            val_losses = []\n",
        "            net.eval()\n",
        "            for inputs, labels in valid_loader:\n",
        "\n",
        "                # Creating new variables for the hidden state, otherwise\n",
        "                # we'd backprop through the entire training history\n",
        "                val_h = tuple([each.data for each in val_h])\n",
        "\n",
        "                if(train_on_gpu):\n",
        "                    inputs, labels = inputs.cuda(), labels.cuda()\n",
        "\n",
        "                output, val_h = net(inputs, val_h)\n",
        "                val_loss = criterion(output.squeeze(), labels.float())\n",
        "\n",
        "                val_losses.append(val_loss.item())\n",
        "\n",
        "            net.train()\n",
        "          \n",
        "            print(\"Epoch: {}/{}...\".format(e+1, epochs),\n",
        "                  \"Step: {}...\".format(counter),\n",
        "                  \"Loss: {:.6f}...\".format(loss.item()),\n",
        "                  \"Val Loss: {:.6f}\".format(np.mean(val_losses)))\n",
        "            train_loss.append(loss.item())\n",
        "            val_loss1.append(np.mean(val_losses))\n",
        "           "
      ],
      "execution_count": 56,
      "outputs": [
        {
          "output_type": "stream",
          "text": [
            "Epoch: 1/1... Step: 100... Loss: 0.323059... Val Loss: 0.364369\n",
            "Epoch: 1/1... Step: 200... Loss: 0.269980... Val Loss: 0.298992\n",
            "Epoch: 1/1... Step: 300... Loss: 0.249020... Val Loss: 0.237209\n",
            "Epoch: 1/1... Step: 400... Loss: 0.149400... Val Loss: 0.202495\n",
            "Epoch: 1/1... Step: 500... Loss: 0.205625... Val Loss: 0.188372\n",
            "Epoch: 1/1... Step: 600... Loss: 0.201832... Val Loss: 0.188459\n",
            "Epoch: 1/1... Step: 700... Loss: 0.246311... Val Loss: 0.167863\n",
            "Epoch: 1/1... Step: 800... Loss: 0.087650... Val Loss: 0.143799\n",
            "Epoch: 1/1... Step: 900... Loss: 0.037708... Val Loss: 0.144603\n",
            "Epoch: 1/1... Step: 1000... Loss: 0.180536... Val Loss: 0.143090\n",
            "Epoch: 1/1... Step: 1100... Loss: 0.226562... Val Loss: 0.144009\n",
            "Epoch: 1/1... Step: 1200... Loss: 0.023429... Val Loss: 0.120013\n",
            "Epoch: 1/1... Step: 1300... Loss: 0.105791... Val Loss: 0.120037\n",
            "Epoch: 1/1... Step: 1400... Loss: 0.146911... Val Loss: 0.120001\n",
            "Epoch: 1/1... Step: 1500... Loss: 0.038745... Val Loss: 0.110600\n",
            "Epoch: 1/1... Step: 1600... Loss: 0.121604... Val Loss: 0.109854\n",
            "Epoch: 1/1... Step: 1700... Loss: 0.028368... Val Loss: 0.098243\n",
            "Epoch: 1/1... Step: 1800... Loss: 0.038018... Val Loss: 0.101613\n",
            "Epoch: 1/1... Step: 1900... Loss: 0.016694... Val Loss: 0.088568\n",
            "Epoch: 1/1... Step: 2000... Loss: 0.030978... Val Loss: 0.092406\n",
            "Epoch: 1/1... Step: 2100... Loss: 0.301035... Val Loss: 0.085087\n",
            "Epoch: 1/1... Step: 2200... Loss: 0.027268... Val Loss: 0.082200\n",
            "Epoch: 1/1... Step: 2300... Loss: 0.008546... Val Loss: 0.082096\n",
            "Epoch: 1/1... Step: 2400... Loss: 0.034305... Val Loss: 0.074843\n",
            "Epoch: 1/1... Step: 2500... Loss: 0.089142... Val Loss: 0.076679\n",
            "Epoch: 1/1... Step: 2600... Loss: 0.030580... Val Loss: 0.073620\n",
            "Epoch: 1/1... Step: 2700... Loss: 0.032888... Val Loss: 0.071515\n",
            "Epoch: 1/1... Step: 2800... Loss: 0.049031... Val Loss: 0.072721\n",
            "Epoch: 1/1... Step: 2900... Loss: 0.035652... Val Loss: 0.071236\n",
            "Epoch: 1/1... Step: 3000... Loss: 0.011111... Val Loss: 0.068612\n",
            "Epoch: 1/1... Step: 3100... Loss: 0.032823... Val Loss: 0.066103\n",
            "Epoch: 1/1... Step: 3200... Loss: 0.022291... Val Loss: 0.070844\n",
            "Epoch: 1/1... Step: 3300... Loss: 0.063657... Val Loss: 0.062409\n",
            "Epoch: 1/1... Step: 3400... Loss: 0.068471... Val Loss: 0.060457\n",
            "Epoch: 1/1... Step: 3500... Loss: 0.069799... Val Loss: 0.058954\n",
            "Epoch: 1/1... Step: 3600... Loss: 0.017862... Val Loss: 0.062173\n",
            "Epoch: 1/1... Step: 3700... Loss: 0.023057... Val Loss: 0.060545\n",
            "Epoch: 1/1... Step: 3800... Loss: 0.148520... Val Loss: 0.057600\n",
            "Epoch: 1/1... Step: 3900... Loss: 0.254300... Val Loss: 0.055003\n",
            "Epoch: 1/1... Step: 4000... Loss: 0.080872... Val Loss: 0.052874\n",
            "Epoch: 1/1... Step: 4100... Loss: 0.013605... Val Loss: 0.053298\n",
            "Epoch: 1/1... Step: 4200... Loss: 0.004959... Val Loss: 0.054712\n",
            "Epoch: 1/1... Step: 4300... Loss: 0.218470... Val Loss: 0.053011\n",
            "Epoch: 1/1... Step: 4400... Loss: 0.038750... Val Loss: 0.052398\n",
            "Epoch: 1/1... Step: 4500... Loss: 0.165937... Val Loss: 0.053030\n",
            "Epoch: 1/1... Step: 4600... Loss: 0.340279... Val Loss: 0.051329\n"
          ],
          "name": "stdout"
        }
      ]
    },
    {
      "metadata": {
        "id": "HWLi4a6YEqMV",
        "colab_type": "text"
      },
      "cell_type": "markdown",
      "source": [
        "## **Testing the Network**"
      ]
    },
    {
      "metadata": {
        "id": "411pEhPiuUxD",
        "colab_type": "code",
        "outputId": "e41c5e5e-160b-4b03-deac-b8bee54295fe",
        "colab": {
          "base_uri": "https://localhost:8080/",
          "height": 353
        }
      },
      "cell_type": "code",
      "source": [
        "# Get test data loss and accuracy\n",
        "\n",
        "test_losses = [] # track loss\n",
        "num_correct = 0\n",
        "pred_tens = [] # Track preds\n",
        "\n",
        "# init hidden state\n",
        "h = net.init_hidden(batch_size)\n",
        "\n",
        "net.eval()\n",
        "# iterate over test data\n",
        "for inputs, labels in test_loader:\n",
        "\n",
        "    # Creating new variables for the hidden state, otherwise\n",
        "    # we'd backprop through the entire training history\n",
        "    h = tuple([each.data for each in h])\n",
        "\n",
        "    if(train_on_gpu):\n",
        "        inputs, labels = inputs.cuda(), labels.cuda()\n",
        "    \n",
        "    # get predicted outputs\n",
        "    output, h = net(inputs, h)\n",
        "    \n",
        "    # calculate loss\n",
        "    test_loss = criterion(output.squeeze(), labels.float())\n",
        "    test_losses.append(test_loss.item())\n",
        "    \n",
        "    # convert output probabilities to predicted class (0 or 1)\n",
        "    pred = torch.round(output.squeeze())  # rounds to the nearest integer\n",
        "    pred_tens.append(pred.cpu().detach().numpy())\n",
        "    \n",
        "    # compare predictions to true label\n",
        "    correct_tensor = pred.eq(labels.float().view_as(pred))\n",
        "    correct = np.squeeze(\n",
        "        correct_tensor.numpy()) if not train_on_gpu else np.squeeze(\n",
        "        correct_tensor.cpu().numpy())\n",
        "    num_correct += np.sum(correct)\n",
        "\n",
        "\n",
        "# -- stats! -- ##\n",
        "# avg test loss\n",
        "print(\"Test loss: {:.3f}\".format(np.mean(test_losses)))\n",
        "\n",
        "# accuracy over all test data\n",
        "test_acc = num_correct/len(test_loader.dataset)\n",
        "print(\"Test accuracy: {:.3f}\".format(test_acc))\n",
        "\n",
        "#Flatten list of lists containing predictions\n",
        "flat_list = [item.astype(int) for sublist in pred_tens for item in sublist]\n",
        "\n",
        "#Convert list to np array\n",
        "pred_array = np.asarray(flat_list)\n",
        "\n",
        "# Check the solution against the data.\n",
        "cm = pd.crosstab(pred_array, test_y, rownames=['True'], \n",
        "                 colnames=['Predicted'], margins=True)\n",
        "print(\"\\nConfusion Matrix:  \\n\", cm)\n",
        "print(\"\\n                    Classification Report \\n\",\n",
        "      classification_report(flat_list, test_y))"
      ],
      "execution_count": 57,
      "outputs": [
        {
          "output_type": "stream",
          "text": [
            "Test loss: 0.049\n",
            "Test accuracy: 0.982\n",
            "\n",
            "Confusion Matrix:  \n",
            " Predicted     0     1    All\n",
            "True                        \n",
            "0          8510   133   8643\n",
            "1           189  8598   8787\n",
            "All        8699  8731  17430\n",
            "\n",
            "                    Classification Report \n",
            "               precision    recall  f1-score   support\n",
            "\n",
            "           0       0.98      0.98      0.98      8643\n",
            "           1       0.98      0.98      0.98      8787\n",
            "\n",
            "   micro avg       0.98      0.98      0.98     17430\n",
            "   macro avg       0.98      0.98      0.98     17430\n",
            "weighted avg       0.98      0.98      0.98     17430\n",
            "\n"
          ],
          "name": "stdout"
        }
      ]
    },
    {
      "metadata": {
        "id": "PUxlOGPDanTu",
        "colab_type": "code",
        "outputId": "305e0907-cfe7-406c-ca81-686ebb1ec330",
        "colab": {
          "base_uri": "https://localhost:8080/",
          "height": 280
        }
      },
      "cell_type": "code",
      "source": [
        "fig=plt.figure()\n",
        "fig.show()\n",
        "ax=fig.add_subplot(111)\n",
        "ax.plot(train_loss, c='b', label='Training Loss')\n",
        "ax.plot(val_loss1, c='r', label='Validation Loss')\n",
        "plt.xlim(0,40)\n",
        "\n",
        "plt.legend(loc='upper right', frameon=True)\n",
        "plt.title('Training vs Validation Loss')\n",
        "#plt.savefig('trainvalloss.png', dpi=300)\n",
        "#files.download('trainvalloss.png')\n",
        "plt.show()"
      ],
      "execution_count": 58,
      "outputs": [
        {
          "output_type": "display_data",
          "data": {
            "image/png": "[encoded data removed]",
            "text/plain": [
              "<Figure size 432x288 with 1 Axes>"
            ]
          },
          "metadata": {
            "tags": []
          }
        }
      ]
    },
    {
      "metadata": {
        "id": "b6DJJ-F3Xj5S",
        "colab_type": "code",
        "colab": {}
      },
      "cell_type": "code",
      "source": [
        "#torch.save(net.state_dict(), '/content/gdrive/My Drive/Data Science/net.pth')"
      ],
      "execution_count": 0,
      "outputs": []
    },
    {
      "metadata": {
        "id": "FBEeFE3RNuQn",
        "colab_type": "code",
        "colab": {}
      },
      "cell_type": "code",
      "source": [
        "#PATH = '/content/gdrive/My Drive/Data Science'\n",
        "#torch.save(\n",
        "#SentimentRNN, '/content/gdrive/My Drive/Data Science/SentimentRNN.pth')\n"
      ],
      "execution_count": 0,
      "outputs": []
    },
    {
      "metadata": {
        "id": "UcUFKLYnieB9",
        "colab_type": "text"
      },
      "cell_type": "markdown",
      "source": [
        "## Testing Brand New Tweets"
      ]
    },
    {
      "metadata": {
        "id": "RiT5srQzKrDQ",
        "colab_type": "code",
        "colab": {}
      },
      "cell_type": "code",
      "source": [
        "from string import punctuation\n",
        "\n",
        "def tokenize_comment(test_comment):\n",
        "    \n",
        "    # Remove URLs\n",
        "    test_comment = test_comment.replace('https?://[A-Za-z0-9./]+','')\n",
        "    \n",
        "    # Keep Hashtag text\n",
        "    test_comment = test_comment.replace(\"[^a-zA-Z]\", \" \")\n",
        "    \n",
        "    # Remove whitespace\n",
        "    #test_comment = test_comment.replace(' ', '')\n",
        "    \n",
        "    # Remove 1-2 letter words\n",
        "    test_comment = test_comment.replace(\"r'\\b\\w{1,2}\\b\", '')\n",
        "    \n",
        "    # Remove numbers\n",
        "    test_comment = test_comment.replace('\\d+', '')\n",
        "    \n",
        "    # Lowercase\n",
        "    test_comment = test_comment.lower() # lowercase\n",
        "    \n",
        "    # get rid of punctuation\n",
        "    test_text = ''.join([c for c in test_comment if c not in punctuation])\n",
        "    \n",
        "    # Remove Stopwords\n",
        "    #test_text = ''.join([word for word in test_text.split() if word not in (stop)])\n",
        "    \n",
        "    # splitting by spaces\n",
        "    test_words = [word for word in test_text.split() if word not in (stop)]\n",
        "\n",
        "    # tokens\n",
        "    test_ints = []\n",
        "    test_ints.append([vocab_to_int[word] for word in test_words if word in vocab])\n",
        "\n",
        "    return test_ints\n"
      ],
      "execution_count": 0,
      "outputs": []
    },
    {
      "metadata": {
        "colab_type": "code",
        "id": "TEA8azZHk6nV",
        "colab": {}
      },
      "cell_type": "code",
      "source": [
        "# test sequence padding\n",
        "#seq_length=26\n",
        "#neg_features = pad_features(test_ints_neg, seq_length)\n",
        "#pos_features = pad_features(test_ints_pos, seq_length)"
      ],
      "execution_count": 0,
      "outputs": []
    },
    {
      "metadata": {
        "id": "sghvRJ7ePl2g",
        "colab_type": "code",
        "colab": {}
      },
      "cell_type": "code",
      "source": [
        "# test conversion to tensor and pass into your model\n",
        "#neg_feature_tensor = torch.from_numpy(neg_features)\n",
        "#pos_feature_tensor = torch.from_numpy(pos_features)"
      ],
      "execution_count": 0,
      "outputs": []
    },
    {
      "metadata": {
        "id": "2F1guDJuPpWV",
        "colab_type": "code",
        "colab": {}
      },
      "cell_type": "code",
      "source": [
        "def predict(net, test_comment, sequence_length=43):\n",
        "    \n",
        "    net.eval()\n",
        "    \n",
        "    # tokenize review\n",
        "    test_ints = tokenize_comment(test_comment)\n",
        "    \n",
        "    # pad tokenized sequence\n",
        "    seq_length=sequence_length\n",
        "    features = pad_features(test_ints, seq_length)\n",
        "    \n",
        "    # convert to tensor to pass into your model\n",
        "    feature_tensor = torch.from_numpy(features)\n",
        "    \n",
        "    batch_size = feature_tensor.size(0)\n",
        "    \n",
        "    # initialize hidden state\n",
        "    h = net.init_hidden(batch_size)\n",
        "    \n",
        "    if(train_on_gpu):\n",
        "        feature_tensor = feature_tensor.cuda()\n",
        "    \n",
        "    # get the output from the model\n",
        "    output, h = net(feature_tensor, h)\n",
        "    \n",
        "    # convert output probabilities to predicted class (0 or 1)\n",
        "    pred = torch.round(output.squeeze()) \n",
        "    # printing output value, before rounding\n",
        "    print('Prediction value, pre-rounding: {:.6f}'.format(output.item()))\n",
        "    \n",
        "    # print custom response\n",
        "    if(pred.item()==1):\n",
        "        print(\"Positive comment detected!\")\n",
        "    else:\n",
        "        print(\"Negative comment detected.\")"
      ],
      "execution_count": 0,
      "outputs": []
    },
    {
      "metadata": {
        "id": "auhpBi-_KlOa",
        "colab_type": "code",
        "colab": {}
      },
      "cell_type": "code",
      "source": [
        "# negative test comment\n",
        "test_comment_neg = \"Ashamed of my country today. This ban in hurtful and completely unnecessary. @realDonaldTrump, for someone so seemingly obsessed with national security, why are you stripping the rights of people who just want to protect us?! #transmilitaryban\"\n",
        "test_comment_neg2 = \"This is bad!\"\n",
        "live_test_neg = \"\"\n",
        "\n",
        "# positive test comment\n",
        "test_comment_pos = \"Christopher Nolan is the kind of man who is given a release date for a film that has no title, probably just a draft of a script, and no cast. If that’s not POWER than I don’t know what is. #ChristopherNolan #King\"\n",
        "test_comment_pos2 = \"This is good.\"\n",
        "live_test_pos = \"\""
      ],
      "execution_count": 0,
      "outputs": []
    },
    {
      "metadata": {
        "id": "yDmnHEiIPt4A",
        "colab_type": "code",
        "outputId": "6afc54d3-1fb0-4772-b950-2a8943c3cb54",
        "colab": {
          "base_uri": "https://localhost:8080/",
          "height": 50
        }
      },
      "cell_type": "code",
      "source": [
        "# Negative test 1\n",
        "seq_length=26 # good to use the length that was trained on\n",
        "\n",
        "predict(net, test_comment_neg, seq_length)"
      ],
      "execution_count": 65,
      "outputs": [
        {
          "output_type": "stream",
          "text": [
            "Prediction value, pre-rounding: 0.024800\n",
            "Negative comment detected.\n"
          ],
          "name": "stdout"
        }
      ]
    },
    {
      "metadata": {
        "id": "-VEqXttqSBhv",
        "colab_type": "code",
        "outputId": "dd8099b6-d1f6-45d6-a0bf-43c5f4417cc3",
        "colab": {
          "base_uri": "https://localhost:8080/",
          "height": 50
        }
      },
      "cell_type": "code",
      "source": [
        "# Negative test 2\n",
        "seq_length=26 \n",
        "predict(net, test_comment_neg2, seq_length)"
      ],
      "execution_count": 66,
      "outputs": [
        {
          "output_type": "stream",
          "text": [
            "Prediction value, pre-rounding: 0.000426\n",
            "Negative comment detected.\n"
          ],
          "name": "stdout"
        }
      ]
    },
    {
      "metadata": {
        "id": "4NvLXn11P0lO",
        "colab_type": "code",
        "outputId": "aff6635f-1beb-4dea-8017-ea906fd45d98",
        "colab": {
          "base_uri": "https://localhost:8080/",
          "height": 50
        }
      },
      "cell_type": "code",
      "source": [
        "# Positive Test 1\n",
        "seq_length=26 \n",
        "\n",
        "predict(net, test_comment_pos, seq_length)"
      ],
      "execution_count": 67,
      "outputs": [
        {
          "output_type": "stream",
          "text": [
            "Prediction value, pre-rounding: 0.999353\n",
            "Positive comment detected!\n"
          ],
          "name": "stdout"
        }
      ]
    },
    {
      "metadata": {
        "id": "Az1VUUTAk1_H",
        "colab_type": "code",
        "outputId": "ed7546bf-7da7-4ecc-8c20-f5c871a8e8c7",
        "colab": {
          "base_uri": "https://localhost:8080/",
          "height": 50
        }
      },
      "cell_type": "code",
      "source": [
        "# Positive Test 2\n",
        "seq_length=26 \n",
        "predict(net, test_comment_pos2, seq_length)"
      ],
      "execution_count": 68,
      "outputs": [
        {
          "output_type": "stream",
          "text": [
            "Prediction value, pre-rounding: 0.998858\n",
            "Positive comment detected!\n"
          ],
          "name": "stdout"
        }
      ]
    },
    {
      "metadata": {
        "id": "CRZxJnBJY-vm",
        "colab_type": "code",
        "colab": {}
      },
      "cell_type": "code",
      "source": [
        "if 1==0:\n",
        "  # Live test \n",
        "  seq_length=26 \n",
        "  print(predict(net, live_test_pos, seq_length))\n",
        "  print('\\n')\n",
        "  print(predict(net, live_test_neg, seq_length))"
      ],
      "execution_count": 0,
      "outputs": []
    },
    {
      "metadata": {
        "id": "huSnfWX5n_FX",
        "colab_type": "code",
        "colab": {}
      },
      "cell_type": "code",
      "source": [
        ""
      ],
      "execution_count": 0,
      "outputs": []
    },
    {
      "metadata": {
        "id": "Q0lyh_6hrcrn",
        "colab_type": "text"
      },
      "cell_type": "markdown",
      "source": [
        "# **Conclusion**\n",
        "\n",
        "\n",
        "\n",
        "\n",
        "\n",
        "\n"
      ]
    },
    {
      "metadata": {
        "id": "yatHxHvVsvMB",
        "colab_type": "text"
      },
      "cell_type": "markdown",
      "source": [
        "\n",
        "1.  The LSTM RNN was better at classifying  tweets as positive or negative as compared to a Random Forest Classifier.\n",
        "2.  The presence of stop words does not seem to impair the RNN.\n",
        "3. The RNN does struggle with short and simple negative comments. This could be due to:\n",
        "\n",
        "    *   The limited vocabulary present in the corpus.\n",
        "    *   A lack of context.\n",
        " "
      ]
    },
    {
      "metadata": {
        "id": "EXlZWMwnsxQQ",
        "colab_type": "text"
      },
      "cell_type": "markdown",
      "source": [
        "# **Future Work**\n",
        "\n"
      ]
    },
    {
      "metadata": {
        "id": "uKT6ZFfwsxEs",
        "colab_type": "text"
      },
      "cell_type": "markdown",
      "source": [
        "\n",
        "*   The next investigative work I plan to do is to feed the RNN an embedding layer trained with Word2Vec or Sense2Vec weights. This could illuminate if the contextual issue is why the test string failed.\n",
        "* Additionally I will investigate using part of speech tagging to improve the model.\n",
        "*   I would also like to add more data to my dataset, pulling tweets using filters based on product brands and entertainment. \n",
        "* Lastly I would like to develop a multi label classifier that predicts neutral sentiment as well.\n",
        "\n"
      ]
    },
    {
      "metadata": {
        "id": "tZvFoY_2srte",
        "colab_type": "code",
        "colab": {}
      },
      "cell_type": "code",
      "source": [
        ""
      ],
      "execution_count": 0,
      "outputs": []
    }
  ]
}