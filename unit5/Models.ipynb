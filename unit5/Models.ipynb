{
  "nbformat": 4,
  "nbformat_minor": 0,
  "metadata": {
    "colab": {
      "name": "Models.ipynb",
      "version": "0.3.2",
      "provenance": [],
      "collapsed_sections": []
    },
    "kernelspec": {
      "name": "python3",
      "display_name": "Python 3"
    },
    "accelerator": "GPU"
  },
  "cells": [
    {
      "metadata": {
        "id": "u9iiqm09nZ-7",
        "colab_type": "text"
      },
      "cell_type": "markdown",
      "source": [
        "# Imports"
      ]
    },
    {
      "metadata": {
        "id": "luMyGfgYnSaJ",
        "colab_type": "code",
        "colab": {
          "base_uri": "https://localhost:8080/",
          "height": 306
        },
        "outputId": "2a1c4648-aa4f-470a-e3ce-5ee03b3205f7"
      },
      "cell_type": "code",
      "source": [
        "# sklearn analytics\n",
        "import seaborn as sns\n",
        "import matplotlib.pyplot as plt\n",
        "%matplotlib inline\n",
        "import matplotlib as mpl\n",
        "import matplotlib.cm as cm\n",
        "from sklearn import metrics\n",
        "from sklearn.metrics import classification_report\n",
        "from sklearn.metrics import roc_auc_score\n",
        "from sklearn.metrics import roc_curve\n",
        "from sklearn.metrics import precision_recall_curve\n",
        "from sklearn.metrics import f1_score\n",
        "from sklearn.metrics import precision_score, recall_score\n",
        "from sklearn.metrics import confusion_matrix\n",
        "from sklearn.model_selection import cross_val_predict\n",
        "from sklearn.model_selection import train_test_split\n",
        "from sklearn.model_selection import cross_val_score\n",
        "from sklearn.model_selection import GridSearchCV\n",
        "\n",
        "# Models\n",
        "from sklearn import cluster\n",
        "from sklearn.cluster import KMeans\n",
        "from sklearn.cluster import MiniBatchKMeans\n",
        "from sklearn.cluster import MeanShift, estimate_bandwidth\n",
        "from sklearn.cluster import SpectralClustering\n",
        "from sklearn.manifold import TSNE\n",
        "from sklearn.svm import LinearSVC\n",
        "from sklearn.naive_bayes import GaussianNB\n",
        "from sklearn.ensemble import RandomForestClassifier\n",
        "from sklearn.linear_model import LogisticRegression\n",
        "from sklearn.cluster import Birch\n",
        "\n",
        "# Text Preprocessing\n",
        "from sklearn.feature_extraction import text\n",
        "from sklearn.feature_extraction.text import TfidfVectorizer, CountVectorizer,\\\n",
        "    TfidfTransformer\n",
        "from sklearn.decomposition import TruncatedSVD\n",
        "from sklearn.preprocessing import Normalizer\n",
        "from sklearn.pipeline import make_pipeline\n",
        "\n",
        "\n",
        "# General\n",
        "import warnings\n",
        "import numpy as np\n",
        "import pandas as pd\n",
        "import nltk\n",
        "import random\n",
        "import os\n",
        "import re\n",
        "import string\n",
        "import statsmodels.api as sm\n",
        "from os import path\n",
        "from PIL import Image\n",
        "from time import time\n",
        "\n",
        "\n",
        "# NLP\n",
        "from nltk import sent_tokenize, word_tokenize\n",
        "from nltk.util import ngrams\n",
        "from nltk.stem import PorterStemmer\n",
        "from nltk.corpus import stopwords\n",
        "nltk.download('stopwords')\n",
        "nltk.download('wordnet')\n",
        "stop = stopwords.words('english')\n",
        "from nltk.tokenize import RegexpTokenizer\n",
        "from wordcloud import WordCloud, STOPWORDS\n",
        "from subprocess import check_output\n",
        "from collections import Counter\n",
        "import spacy\n",
        "nlp = spacy.load('en')\n",
        "\n",
        "# Set Plot Theme\n",
        "sns.set_palette([\n",
        "    \"#30a2da\",\n",
        "    \"#fc4f30\",\n",
        "    \"#e5ae38\",\n",
        "    \"#6d904f\",\n",
        "    \"#551A8B\",\n",
        "])\n",
        "\n",
        "# Warnings\n",
        "warnings.filterwarnings('ignore')\n",
        "\n",
        "from google.colab import drive, files\n",
        "drive.mount('/content/gdrive', force_remount=True)\n",
        "\n",
        "\n",
        "!pip install emoji\n",
        "import emoji\n",
        "\n",
        "from textblob import TextBlob\n",
        "\n",
        "!pip install tweet-preprocessor\n",
        "import preprocessor as p\n",
        "\n",
        "!pip install plotly\n",
        "import plotly\n",
        "\n",
        "#!pip install -q keras\n",
        "#import keras\n",
        "\n",
        "!pip install -U -q PyDrive\n",
        "from pydrive.auth import GoogleAuth\n",
        "from pydrive.drive import GoogleDrive\n",
        "from google.colab import auth\n",
        "from oauth2client.client import GoogleCredentials\n",
        "\n",
        "auth.authenticate_user()\n",
        "gauth = GoogleAuth()\n",
        "gauth.credentials = GoogleCredentials.get_application_default()\n",
        "drive = GoogleDrive(gauth)\n",
        "\n",
        "from os.path import exists\n",
        "from wheel.pep425tags import get_abbr_impl, get_impl_ver, get_abi_tag\n",
        "platform = '{}{}-{}'.format(get_abbr_impl(), get_impl_ver(), get_abi_tag())\n",
        "cuda_output = !ldconfig -p|grep cudart.so|sed -e 's/.*\\.\\([0-9]*\\)\\.\\([0-9]*\\)$/cu\\1\\2/'\n",
        "accelerator = cuda_output[0] if exists('/dev/nvidia0') else 'cpu'\n",
        "\n",
        "!pip install -q http://download.pytorch.org/whl/{accelerator}/torch-0.4.1-{platform}-linux_x86_64.whl torchvision\n",
        "import torch\n",
        "import torchvision\n",
        "\n",
        "\n",
        "# we will verify that GPU is enabled for this notebook\n",
        "# following should print: CUDA is available!  Training on GPU ...\n",
        "# \n",
        "# if it prints otherwise, then you need to enable GPU: \n",
        "# from Menu > Runtime > Change Runtime Type > Hardware Accelerator > GPU\n",
        "\n",
        "import numpy as np\n",
        "\n",
        "# check if CUDA is available\n",
        "train_on_gpu = torch.cuda.is_available()\n",
        "\n",
        "if not train_on_gpu:\n",
        "    print('CUDA is not available.  Training on CPU ...')\n",
        "else:\n",
        "    print('CUDA is available!  Training on GPU ...')"
      ],
      "execution_count": 57,
      "outputs": [
        {
          "output_type": "stream",
          "text": [
            "[nltk_data] Downloading package stopwords to /root/nltk_data...\n",
            "[nltk_data]   Package stopwords is already up-to-date!\n",
            "[nltk_data] Downloading package wordnet to /root/nltk_data...\n",
            "[nltk_data]   Package wordnet is already up-to-date!\n",
            "Mounted at /content/gdrive\n",
            "Requirement already satisfied: emoji in /usr/local/lib/python3.6/dist-packages (0.5.1)\n",
            "Requirement already satisfied: tweet-preprocessor in /usr/local/lib/python3.6/dist-packages (0.5.0)\n",
            "Requirement already satisfied: plotly in /usr/local/lib/python3.6/dist-packages (1.12.12)\n",
            "Requirement already satisfied: requests in /usr/local/lib/python3.6/dist-packages (from plotly) (2.18.4)\n",
            "Requirement already satisfied: six in /usr/local/lib/python3.6/dist-packages (from plotly) (1.11.0)\n",
            "Requirement already satisfied: pytz in /usr/local/lib/python3.6/dist-packages (from plotly) (2018.9)\n",
            "Requirement already satisfied: chardet<3.1.0,>=3.0.2 in /usr/local/lib/python3.6/dist-packages (from requests->plotly) (3.0.4)\n",
            "Requirement already satisfied: certifi>=2017.4.17 in /usr/local/lib/python3.6/dist-packages (from requests->plotly) (2018.11.29)\n",
            "Requirement already satisfied: idna<2.7,>=2.5 in /usr/local/lib/python3.6/dist-packages (from requests->plotly) (2.6)\n",
            "Requirement already satisfied: urllib3<1.23,>=1.21.1 in /usr/local/lib/python3.6/dist-packages (from requests->plotly) (1.22)\n",
            "CUDA is available!  Training on GPU ...\n"
          ],
          "name": "stdout"
        }
      ]
    },
    {
      "metadata": {
        "id": "LVKJFHHwnffB",
        "colab_type": "code",
        "colab": {
          "base_uri": "https://localhost:8080/",
          "height": 380
        },
        "outputId": "f78d3385-0ac8-470a-9a9c-8e7be036ae76"
      },
      "cell_type": "code",
      "source": [
        "# Read and Peak at Data\n",
        "df3 = pd.read_csv(\n",
        "    '/content/gdrive/My Drive/Data Science/clean_labeled_data.csv')\n",
        "\n",
        "df3.head()"
      ],
      "execution_count": 2,
      "outputs": [
        {
          "output_type": "execute_result",
          "data": {
            "text/html": [
              "<div>\n",
              "<style scoped>\n",
              "    .dataframe tbody tr th:only-of-type {\n",
              "        vertical-align: middle;\n",
              "    }\n",
              "\n",
              "    .dataframe tbody tr th {\n",
              "        vertical-align: top;\n",
              "    }\n",
              "\n",
              "    .dataframe thead th {\n",
              "        text-align: right;\n",
              "    }\n",
              "</style>\n",
              "<table border=\"1\" class=\"dataframe\">\n",
              "  <thead>\n",
              "    <tr style=\"text-align: right;\">\n",
              "      <th></th>\n",
              "      <th>Unnamed: 0</th>\n",
              "      <th>tweet</th>\n",
              "      <th>word_count</th>\n",
              "      <th>character_count</th>\n",
              "      <th>filtered_tweet</th>\n",
              "      <th>clean</th>\n",
              "      <th>SA</th>\n",
              "      <th>SA2</th>\n",
              "    </tr>\n",
              "  </thead>\n",
              "  <tbody>\n",
              "    <tr>\n",
              "      <th>0</th>\n",
              "      <td>256571</td>\n",
              "      <td>RT @RonanFarrow: I can’t speak to Buzzfeed’s s...</td>\n",
              "      <td>24</td>\n",
              "      <td>140</td>\n",
              "      <td>t speak buzzfeed s sourcing s worth declined r...</td>\n",
              "      <td>can  speak  buzzfeed  sourcing but for what  ...</td>\n",
              "      <td>1</td>\n",
              "      <td>1</td>\n",
              "    </tr>\n",
              "    <tr>\n",
              "      <th>1</th>\n",
              "      <td>357865</td>\n",
              "      <td>RT @LisaMei62: Mueller: BuzzFeed Report Claimi...</td>\n",
              "      <td>16</td>\n",
              "      <td>140</td>\n",
              "      <td>mueller buzzfeed report claiming trump directe...</td>\n",
              "      <td>mueller buzzfeed report claiming trump directe...</td>\n",
              "      <td>1</td>\n",
              "      <td>-1</td>\n",
              "    </tr>\n",
              "    <tr>\n",
              "      <th>2</th>\n",
              "      <td>423653</td>\n",
              "      <td>RT @steamtug7: The GOP has become a sanctuary ...</td>\n",
              "      <td>24</td>\n",
              "      <td>140</td>\n",
              "      <td>gop sanctuary city donald trump harbor dangero...</td>\n",
              "      <td>the gop has become  sanctuary city for donald ...</td>\n",
              "      <td>-1</td>\n",
              "      <td>-1</td>\n",
              "    </tr>\n",
              "    <tr>\n",
              "      <th>3</th>\n",
              "      <td>116040</td>\n",
              "      <td>RT @BillOReilly: With 2020 coming up fast, the...</td>\n",
              "      <td>25</td>\n",
              "      <td>140</td>\n",
              "      <td>coming fast national media pretty partnered de...</td>\n",
              "      <td>with coming  fast the national media has prett...</td>\n",
              "      <td>1</td>\n",
              "      <td>1</td>\n",
              "    </tr>\n",
              "    <tr>\n",
              "      <th>4</th>\n",
              "      <td>87270</td>\n",
              "      <td>RT @michellemalkin: Step 4: #BuzzFakeNews forc...</td>\n",
              "      <td>20</td>\n",
              "      <td>140</td>\n",
              "      <td>step buzzfakenews forced report official disav...</td>\n",
              "      <td>step buzzfakenews forced  report official disa...</td>\n",
              "      <td>1</td>\n",
              "      <td>1</td>\n",
              "    </tr>\n",
              "  </tbody>\n",
              "</table>\n",
              "</div>"
            ],
            "text/plain": [
              "   Unnamed: 0                                              tweet  word_count  \\\n",
              "0      256571  RT @RonanFarrow: I can’t speak to Buzzfeed’s s...          24   \n",
              "1      357865  RT @LisaMei62: Mueller: BuzzFeed Report Claimi...          16   \n",
              "2      423653  RT @steamtug7: The GOP has become a sanctuary ...          24   \n",
              "3      116040  RT @BillOReilly: With 2020 coming up fast, the...          25   \n",
              "4       87270  RT @michellemalkin: Step 4: #BuzzFakeNews forc...          20   \n",
              "\n",
              "   character_count                                     filtered_tweet  \\\n",
              "0              140  t speak buzzfeed s sourcing s worth declined r...   \n",
              "1              140  mueller buzzfeed report claiming trump directe...   \n",
              "2              140  gop sanctuary city donald trump harbor dangero...   \n",
              "3              140  coming fast national media pretty partnered de...   \n",
              "4              140  step buzzfakenews forced report official disav...   \n",
              "\n",
              "                                               clean  SA  SA2  \n",
              "0   can  speak  buzzfeed  sourcing but for what  ...   1    1  \n",
              "1  mueller buzzfeed report claiming trump directe...   1   -1  \n",
              "2  the gop has become  sanctuary city for donald ...  -1   -1  \n",
              "3  with coming  fast the national media has prett...   1    1  \n",
              "4  step buzzfakenews forced  report official disa...   1    1  "
            ]
          },
          "metadata": {
            "tags": []
          },
          "execution_count": 2
        }
      ]
    },
    {
      "metadata": {
        "id": "gi7HVw6_DpSU",
        "colab_type": "text"
      },
      "cell_type": "markdown",
      "source": [
        "# **TF-IDF**"
      ]
    },
    {
      "metadata": {
        "id": "Fk6hjpGETECa",
        "colab_type": "code",
        "outputId": "822857ca-100d-4de7-c2f3-3e8bb0255ae9",
        "colab": {
          "base_uri": "https://localhost:8080/",
          "height": 34
        }
      },
      "cell_type": "code",
      "source": [
        "# convert column of sentiment to list of ints\n",
        "all_sent = df3.SA2.astype(int).values.tolist()\n",
        "\n",
        "# 1=positive, 0=negative label conversion\n",
        "#sent_split = sent_split('\\n')\n",
        "encoded_labels = np.array(\n",
        "    [1 if sent == 1 else 0 for sent in all_sent])\n",
        "\n",
        "\n",
        "encoded_labels[:10]"
      ],
      "execution_count": 3,
      "outputs": [
        {
          "output_type": "execute_result",
          "data": {
            "text/plain": [
              "array([1, 0, 0, 1, 1, 1, 0, 0, 1, 1])"
            ]
          },
          "metadata": {
            "tags": []
          },
          "execution_count": 3
        }
      ]
    },
    {
      "metadata": {
        "id": "8ao5FO9uMb_F",
        "colab_type": "code",
        "outputId": "ddfe7aa8-4e0f-4d83-a307-392325db8d42",
        "colab": {
          "base_uri": "https://localhost:8080/",
          "height": 67
        }
      },
      "cell_type": "code",
      "source": [
        "X = df3.loc[:, 'clean']\n",
        "y = encoded_labels\n",
        "X_train, X_test, Y_train, Y_test = train_test_split(\n",
        "    X, y, test_size=0.25, random_state=42)\n",
        "\n",
        "t0 = time()\n",
        "vectorizer = TfidfVectorizer(max_df=0.5,\n",
        "                             min_df=2, stop_words='english')\n",
        "\n",
        "X_train_tfidf = vectorizer.fit_transform(X_train)\n",
        "X_test_tfidf = vectorizer.fit_transform(X_test)\n",
        "print(\"done in %fs\" % (time() - t0))\n",
        "print(\"n_samples: %d, n_features: %d\" % X_train_tfidf.shape)\n",
        "print()"
      ],
      "execution_count": 4,
      "outputs": [
        {
          "output_type": "stream",
          "text": [
            "done in 5.282198s\n",
            "n_samples: 130725, n_features: 15447\n",
            "\n"
          ],
          "name": "stdout"
        }
      ]
    },
    {
      "metadata": {
        "id": "2OZqNhfHMbNa",
        "colab_type": "code",
        "outputId": "edcc22ff-33f6-4823-be25-09a321ec45d8",
        "colab": {
          "base_uri": "https://localhost:8080/",
          "height": 84
        }
      },
      "cell_type": "code",
      "source": [
        "print(\"Performing dimensionality reduction using LSA\")\n",
        "t0 = time()\n",
        "\n",
        "svd = TruncatedSVD(600)\n",
        "#normalizer = Normalizer(copy=False)\n",
        "lsa = make_pipeline(svd)#, normalizer)\n",
        "\n",
        "X_train_lsa = lsa.fit_transform(X_train_tfidf)\n",
        "X_test_lsa = lsa.fit_transform(X_test_tfidf)\n",
        "\n",
        "print(\"done in %fs\" % (time() - t0))\n",
        "\n",
        "explained_variance = svd.explained_variance_ratio_.sum()\n",
        "print(\"Explained variance of the SVD step: {}%\".format(\n",
        "    int(explained_variance * 100)))\n",
        "\n",
        "print()"
      ],
      "execution_count": 5,
      "outputs": [
        {
          "output_type": "stream",
          "text": [
            "Performing dimensionality reduction using LSA\n",
            "done in 152.528133s\n",
            "Explained variance of the SVD step: 71%\n",
            "\n"
          ],
          "name": "stdout"
        }
      ]
    },
    {
      "metadata": {
        "id": "ogjN7TNuWtTn",
        "colab_type": "text"
      },
      "cell_type": "markdown",
      "source": [
        "## **K-Means Clustering**"
      ]
    },
    {
      "metadata": {
        "id": "7H1zRj4vMbBD",
        "colab_type": "code",
        "outputId": "86d8f07f-bfae-4bb9-f4a8-8fb7920ff2f5",
        "colab": {
          "base_uri": "https://localhost:8080/",
          "height": 101
        }
      },
      "cell_type": "code",
      "source": [
        "# Since our target is boolean, we expect 2 clusters.\n",
        "km = KMeans(n_clusters=2, max_iter=100,\n",
        "            random_state=42)\n",
        "\n",
        "print(\"Clustering sparse data with %s\" % km)\n",
        "t0 = time()\n",
        "km.fit(X_train_lsa)\n",
        "print(\"done in %0.3fs\" % (time() - t0))\n",
        "print()"
      ],
      "execution_count": 6,
      "outputs": [
        {
          "output_type": "stream",
          "text": [
            "Clustering sparse data with KMeans(algorithm='auto', copy_x=True, init='k-means++', max_iter=100,\n",
            "    n_clusters=2, n_init=10, n_jobs=None, precompute_distances='auto',\n",
            "    random_state=42, tol=0.0001, verbose=0)\n",
            "done in 39.967s\n",
            "\n"
          ],
          "name": "stdout"
        }
      ]
    },
    {
      "metadata": {
        "id": "9wNFv0mgWrSP",
        "colab_type": "code",
        "outputId": "2201d51a-3ff7-4324-f304-5739d41905ec",
        "colab": {
          "base_uri": "https://localhost:8080/",
          "height": 582
        }
      },
      "cell_type": "code",
      "source": [
        "#if 1==0:\n",
        "#-1\tTN\n",
        "#1\tTP\n",
        "#3\tFP\n",
        "#-3\tFN\n",
        "\n",
        "plt.figure(figsize=(7, 4))\n",
        "# Calculate predicted values.\n",
        "y_pred = km.fit_predict(X_train_lsa)\n",
        "\n",
        "# Calculate Error Type\n",
        "y_error = (y_pred*2)-Y_train\n",
        "\n",
        "#Define Error Colors\n",
        "LABEL_COLOR_MAP = {-1: '#FF752E',\n",
        "                   0:  '#ad00c8',\n",
        "                   1: '#4ae500', \n",
        "                   2: '#000dbf'\n",
        "                   }\n",
        "label_color = [LABEL_COLOR_MAP[i] for i in y_error]\n",
        "label_convert = {-1: 'FN',\n",
        "                 0: 'TN',\n",
        "                 1:'TP',\n",
        "                 2: 'FP'\n",
        "                 } \n",
        "# Plot the solution.\n",
        "plt.scatter(X_train_lsa[:, 0], X_train_lsa[:, 1],\n",
        "            marker='.', c=label_color) \n",
        "#Plot the error legend\n",
        "markers = [\n",
        "    plt.Line2D([0, 0], [0, 0], color=color,\n",
        "               marker='o', linestyle=''\n",
        "               ) for color in LABEL_COLOR_MAP.values()]\n",
        "plt.legend(markers, label_convert.values(), numpoints=1, frameon=True)\n",
        "plt.rcParams.update({'font.size': 12})\n",
        "plt.title('K-Means')\n",
        "plt.savefig(\"K-Means.png\", dpi =300)\n",
        "files.download(\"K-Means.png\")\n",
        "plt.show()\n",
        "\n",
        "# Check the solution against the data.\n",
        "cm = pd.crosstab(Y_train, y_pred, rownames=['True'], \n",
        "                 colnames=['Predicted'], margins=True)\n",
        "print(\"\\nConfusion Matrix:  \\n\", cm)\n",
        "print(\"\\n                    Classification Report \\n\",\n",
        "      classification_report(Y_train, y_pred))"
      ],
      "execution_count": 7,
      "outputs": [
        {
          "output_type": "display_data",
          "data": {
            "image/png": "[encoded data removed]",
            "text/plain": [
              "<Figure size 504x288 with 1 Axes>"
            ]
          },
          "metadata": {
            "tags": []
          }
        },
        {
          "output_type": "stream",
          "text": [
            "\n",
            "Confusion Matrix:  \n",
            " Predicted       0      1     All\n",
            "True                            \n",
            "0           60640   4827   65467\n",
            "1           56907   8351   65258\n",
            "All        117547  13178  130725\n",
            "\n",
            "                    Classification Report \n",
            "               precision    recall  f1-score   support\n",
            "\n",
            "           0       0.52      0.93      0.66     65467\n",
            "           1       0.63      0.13      0.21     65258\n",
            "\n",
            "   micro avg       0.53      0.53      0.53    130725\n",
            "   macro avg       0.57      0.53      0.44    130725\n",
            "weighted avg       0.57      0.53      0.44    130725\n",
            "\n"
          ],
          "name": "stdout"
        }
      ]
    },
    {
      "metadata": {
        "id": "kRyW49oFF33_",
        "colab_type": "text"
      },
      "cell_type": "markdown",
      "source": [
        "# **Word2Vec**"
      ]
    },
    {
      "metadata": {
        "colab_type": "code",
        "id": "rNZE4Uuz1qxr",
        "colab": {}
      },
      "cell_type": "code",
      "source": [
        "from string import punctuation\n",
        "\n",
        "# convert column of tweets to list of words\n",
        "all_text = df3.clean.astype(str).values.tolist()\n",
        "string_text = '\\n'.join([word for word in all_text])\n",
        "tweet_split = string_text.split('\\n')\n",
        "string_text = ' '.join(tweet_split)\n",
        "\n",
        "# create a list of words\n",
        "words = string_text.split()"
      ],
      "execution_count": 0,
      "outputs": []
    },
    {
      "metadata": {
        "id": "YNNHVxA-u9kU",
        "colab_type": "code",
        "colab": {}
      },
      "cell_type": "code",
      "source": [
        "if 1==0:  \n",
        "  #text = \" \".join(desc for desc in df.description)\n",
        "  print (\"There are {:,.0f} words in the combination of all descriptions.\".format(\n",
        "      len(string_text)))\n",
        "  stopwords = set(STOPWORDS)\n",
        "  #d = path.dirname(__file__) if \"__file__\" in locals() else os.getcwd()\n",
        "  twitter_mask = np.array(Image.open(\n",
        "      '/content/gdrive/My Drive/Data Science/twitter.png'))\n",
        "  wc = WordCloud(stopwords=stopwords, background_color=\"black\", max_words=10000,\n",
        "                        contour_width=3, mask=video_mask, contour_color='white').generate(text)\n",
        "\n",
        "  wc.to_file(path.join(d, 'video_games.png'))\n",
        "\n",
        "  fig, ax = plt.subplots(figsize=(20, 15))\n",
        "  plt.imshow(wc, interpolation='bilinear')\n",
        "  plt.axis('off')\n",
        "  plt.show()"
      ],
      "execution_count": 0,
      "outputs": []
    },
    {
      "metadata": {
        "id": "2-pP3GFsKCRk",
        "colab_type": "code",
        "colab": {}
      },
      "cell_type": "code",
      "source": [
        "# store as list of lists of words\n",
        "sentences = []\n",
        "for sent_str in all_text:\n",
        "    tokens = re.sub(r\"[^a-z0-9]+\", \" \", sent_str.lower()).split()\n",
        "    sentences.append(tokens)"
      ],
      "execution_count": 0,
      "outputs": []
    },
    {
      "metadata": {
        "id": "8vARAsKQLTH9",
        "colab_type": "code",
        "outputId": "5443ca59-5cfe-41ff-e5c9-ba07fd90d1a0",
        "colab": {
          "base_uri": "https://localhost:8080/",
          "height": 286
        }
      },
      "cell_type": "code",
      "source": [
        "sentences[0]"
      ],
      "execution_count": 11,
      "outputs": [
        {
          "output_type": "execute_result",
          "data": {
            "text/plain": [
              "['can',\n",
              " 'speak',\n",
              " 'buzzfeed',\n",
              " 'sourcing',\n",
              " 'but',\n",
              " 'for',\n",
              " 'what',\n",
              " 'worth',\n",
              " 'declined',\n",
              " 'run',\n",
              " 'with',\n",
              " 'parts',\n",
              " 'the',\n",
              " 'narrative',\n",
              " 'they',\n",
              " 'conveye']"
            ]
          },
          "metadata": {
            "tags": []
          },
          "execution_count": 11
        }
      ]
    },
    {
      "metadata": {
        "id": "rByhq9xugi73",
        "colab_type": "code",
        "colab": {}
      },
      "cell_type": "code",
      "source": [
        "from gensim.models import Word2Vec\n",
        "\n",
        "w2v_model = Word2Vec(\n",
        "    sentences=sentences, size=300, window=5, min_count=5, workers=4, sg=0)\n"
      ],
      "execution_count": 0,
      "outputs": []
    },
    {
      "metadata": {
        "id": "1bA7w7RjN78i",
        "colab_type": "code",
        "outputId": "7d166543-5ece-4df6-bfd8-219f710b5d40",
        "colab": {
          "base_uri": "https://localhost:8080/",
          "height": 185
        }
      },
      "cell_type": "code",
      "source": [
        "w2v_model.wv.most_similar('bad')"
      ],
      "execution_count": 13,
      "outputs": [
        {
          "output_type": "execute_result",
          "data": {
            "text/plain": [
              "[('busy', 0.42426571249961853),\n",
              " ('funny', 0.41591668128967285),\n",
              " ('good', 0.3762533962726593),\n",
              " ('expensive', 0.37471961975097656),\n",
              " ('dead', 0.3725906014442444),\n",
              " ('terrible', 0.37016820907592773),\n",
              " ('aware', 0.36373957991600037),\n",
              " ('irresponsible', 0.35501688718795776),\n",
              " ('sorry', 0.3536641001701355),\n",
              " ('badly', 0.3469257950782776)]"
            ]
          },
          "metadata": {
            "tags": []
          },
          "execution_count": 13
        }
      ]
    },
    {
      "metadata": {
        "id": "mSlR9w6XOc2j",
        "colab_type": "text"
      },
      "cell_type": "markdown",
      "source": [
        "## **Fast Text**"
      ]
    },
    {
      "metadata": {
        "id": "G-5QVieGOajT",
        "colab_type": "code",
        "colab": {}
      },
      "cell_type": "code",
      "source": [
        "from gensim.models import FastText\n",
        "fast_model = FastText(\n",
        "    sentences, size=300, window=5, min_count=5, workers=4,sg=0)"
      ],
      "execution_count": 0,
      "outputs": []
    },
    {
      "metadata": {
        "id": "JZ5lJ1QIOaW2",
        "colab_type": "code",
        "outputId": "1a3bcdd5-43bd-4c81-9905-d9d0f0564a15",
        "colab": {
          "base_uri": "https://localhost:8080/",
          "height": 185
        }
      },
      "cell_type": "code",
      "source": [
        "fast_model.wv.most_similar(\"bad\")"
      ],
      "execution_count": 15,
      "outputs": [
        {
          "output_type": "execute_result",
          "data": {
            "text/plain": [
              "[('badly', 0.6516428589820862),\n",
              " ('badass', 0.6447875499725342),\n",
              " ('load', 0.5793665051460266),\n",
              " ('dad', 0.548431932926178),\n",
              " ('abroad', 0.5226844549179077),\n",
              " ('glad', 0.5136569738388062),\n",
              " ('knead', 0.4804845452308655),\n",
              " ('road', 0.4780395030975342),\n",
              " ('brad', 0.4651046395301819),\n",
              " ('wad', 0.4579755365848541)]"
            ]
          },
          "metadata": {
            "tags": []
          },
          "execution_count": 15
        }
      ]
    },
    {
      "metadata": {
        "id": "vfbjwKXFRSnv",
        "colab_type": "text"
      },
      "cell_type": "markdown",
      "source": [
        "# **Doc2Vec**"
      ]
    },
    {
      "metadata": {
        "id": "5qPloK-r9wwW",
        "colab_type": "code",
        "colab": {}
      },
      "cell_type": "code",
      "source": [
        "x_d2v = df3.clean\n",
        "y_d2v = df3.SA2\n",
        "\n",
        "x_train_d2v, x_validation_and_test_d2v, y_train_d2v, y_validation_and_test_d2v = train_test_split(\n",
        "    x_d2v, y_d2v, test_size=.02, random_state=42)\n",
        "\n",
        "x_validation_d2v, x_test_d2v, y_validation_d2v, y_test_d2v = train_test_split(\n",
        "    x_validation_and_test_d2v, y_validation_and_test_d2v, \n",
        "    test_size=.5, random_state=42)"
      ],
      "execution_count": 0,
      "outputs": []
    },
    {
      "metadata": {
        "id": "lVo9MIdxQNX1",
        "colab_type": "code",
        "colab": {}
      },
      "cell_type": "code",
      "source": [
        "from tqdm import tqdm\n",
        "tqdm.pandas(desc=\"progress-bar\")\n",
        "from gensim.models import Doc2Vec\n",
        "from gensim.models.doc2vec import LabeledSentence\n",
        "import multiprocessing\n",
        "from sklearn import utils"
      ],
      "execution_count": 0,
      "outputs": []
    },
    {
      "metadata": {
        "id": "qQf_jvyqQiUN",
        "colab_type": "code",
        "colab": {}
      },
      "cell_type": "code",
      "source": [
        "def labelize_tweets_ug(tweets,label):\n",
        "    result = []\n",
        "    prefix = label\n",
        "    for i, t in zip(tweets.index, tweets):\n",
        "        result.append(LabeledSentence(t.split(), [prefix + '_%s' % i]))\n",
        "    return result"
      ],
      "execution_count": 0,
      "outputs": []
    },
    {
      "metadata": {
        "id": "Qt0H5KmAUvPD",
        "colab_type": "text"
      },
      "cell_type": "markdown",
      "source": [
        "We'll train with the entire "
      ]
    },
    {
      "metadata": {
        "id": "ZciELooEQyK8",
        "colab_type": "code",
        "colab": {}
      },
      "cell_type": "code",
      "source": [
        "all_x = pd.concat([x_train_d2v, x_validation_d2v, x_test_d2v])\n",
        "all_x_w2v = labelize_tweets_ug(all_x, 'all')"
      ],
      "execution_count": 0,
      "outputs": []
    },
    {
      "metadata": {
        "id": "tUyJcl-XQ0pJ",
        "colab_type": "code",
        "outputId": "760010db-88c8-4f38-dbdc-c63d7b3f3d5c",
        "colab": {
          "base_uri": "https://localhost:8080/",
          "height": 34
        }
      },
      "cell_type": "code",
      "source": [
        "len(all_x_w2v)"
      ],
      "execution_count": 20,
      "outputs": [
        {
          "output_type": "execute_result",
          "data": {
            "text/plain": [
              "174300"
            ]
          },
          "metadata": {
            "tags": []
          },
          "execution_count": 20
        }
      ]
    },
    {
      "metadata": {
        "id": "oE1Jfoy6Q3mp",
        "colab_type": "code",
        "outputId": "5fa1ebbe-97fe-463c-f76e-b2ae132c3ef4",
        "colab": {
          "base_uri": "https://localhost:8080/",
          "height": 34
        }
      },
      "cell_type": "code",
      "source": [
        "doc2vec_model = Doc2Vec(vector_size=50, min_count=2, epochs=5)\n",
        "doc2vec_model.build_vocab([x for x in tqdm(all_x_w2v)])"
      ],
      "execution_count": 21,
      "outputs": [
        {
          "output_type": "stream",
          "text": [
            "100%|██████████| 174300/174300 [00:00<00:00, 1120102.21it/s]\n"
          ],
          "name": "stderr"
        }
      ]
    },
    {
      "metadata": {
        "id": "hArhkX7iRHNz",
        "colab_type": "code",
        "outputId": "90931489-9dd8-455f-b8c5-078576ae59f5",
        "colab": {
          "base_uri": "https://localhost:8080/",
          "height": 34
        }
      },
      "cell_type": "code",
      "source": [
        "doc2vec_model.train(\n",
        "    utils.shuffle([x for x in tqdm(all_x_w2v)]),\n",
        "                        total_examples=len(all_x_w2v), \n",
        "    epochs=doc2vec_model.epochs)\n",
        "   "
      ],
      "execution_count": 22,
      "outputs": [
        {
          "output_type": "stream",
          "text": [
            "100%|██████████| 174300/174300 [00:00<00:00, 1406082.31it/s]\n"
          ],
          "name": "stderr"
        }
      ]
    },
    {
      "metadata": {
        "id": "siex-gxcRZl_",
        "colab_type": "code",
        "colab": {}
      },
      "cell_type": "code",
      "source": [
        "def get_vectors(model, corpus, size):\n",
        "    vecs = np.zeros((len(corpus), size))\n",
        "    n = 0\n",
        "    for i in corpus.index:\n",
        "        prefix = 'all_' + str(i)\n",
        "        vecs[n] = model.docvecs[prefix]\n",
        "        n += 1\n",
        "    return vecs\n",
        "  \n",
        "train_vecs_d2v = get_vectors(doc2vec_model, x_train_d2v, 50)\n",
        "validation_vecs_d2v = get_vectors(doc2vec_model, x_validation_d2v, 50)  "
      ],
      "execution_count": 0,
      "outputs": []
    },
    {
      "metadata": {
        "id": "AwsA78IZY0-q",
        "colab_type": "code",
        "colab": {}
      },
      "cell_type": "code",
      "source": [
        "# Defining a function to fit and predict ML algorithms\n",
        "def auto_model(mod, model_name, X_train, X_test, y_train, y_test):\n",
        "    mod.fit(X_train, y_train)\n",
        "    print(model_name)\n",
        "    acc = cross_val_score(mod, X_train, y_train,\n",
        "                          scoring=\"accuracy\", cv=5)\n",
        "    predictions = cross_val_predict(mod, X_train, y_train, cv=5)\n",
        "    print(\"Accuracy:\", round(acc.mean(), 3))\n",
        "    cm = pd.crosstab(y_train, predictions, rownames=['True'], \n",
        "                 colnames=['Predicted'], margins=True)\n",
        "    print(\"\\nConfusion Matrix:  \\n\", cm)\n",
        "    print(\"\\n                    Classification Report \\n\",\n",
        "          classification_report(y_train, predictions))"
      ],
      "execution_count": 0,
      "outputs": []
    },
    {
      "metadata": {
        "id": "czaSkaw-gaZ6",
        "colab_type": "text"
      },
      "cell_type": "markdown",
      "source": [
        "## **Doc2Vec Classification Models**"
      ]
    },
    {
      "metadata": {
        "id": "y2JoJhdCYfbH",
        "colab_type": "code",
        "outputId": "c55f84e7-61f2-40f2-ea12-478a341a83e4",
        "colab": {
          "base_uri": "https://localhost:8080/",
          "height": 353
        }
      },
      "cell_type": "code",
      "source": [
        "# Random Forest Classifier\n",
        "rfc = RandomForestClassifier(n_estimators=100, n_jobs=-1)\n",
        "auto_model(rfc, \"Random Forest Classifier\",\n",
        "           train_vecs_d2v, validation_vecs_d2v, y_train_d2v, y_validation_d2v)"
      ],
      "execution_count": 25,
      "outputs": [
        {
          "output_type": "stream",
          "text": [
            "Random Forest Classifier\n",
            "Accuracy: 0.678\n",
            "\n",
            "Confusion Matrix:  \n",
            " Predicted     -1      1     All\n",
            "True                           \n",
            "-1         60108  25328   85436\n",
            "1          29747  55631   85378\n",
            "All        89855  80959  170814\n",
            "\n",
            "                    Classification Report \n",
            "               precision    recall  f1-score   support\n",
            "\n",
            "          -1       0.67      0.70      0.69     85436\n",
            "           1       0.69      0.65      0.67     85378\n",
            "\n",
            "   micro avg       0.68      0.68      0.68    170814\n",
            "   macro avg       0.68      0.68      0.68    170814\n",
            "weighted avg       0.68      0.68      0.68    170814\n",
            "\n"
          ],
          "name": "stdout"
        }
      ]
    },
    {
      "metadata": {
        "id": "DaRNptRdYfK_",
        "colab_type": "code",
        "outputId": "9835e8e1-e051-4d50-9eda-6156a10fa84f",
        "colab": {
          "base_uri": "https://localhost:8080/",
          "height": 353
        }
      },
      "cell_type": "code",
      "source": [
        "# Gaussian Naive Bayes\n",
        "gnb = GaussianNB()\n",
        "auto_model(gnb, \"Gaussian Naive Bayes\", \n",
        "              train_vecs_d2v, validation_vecs_d2v, y_train_d2v, \n",
        "              y_validation_d2v)"
      ],
      "execution_count": 26,
      "outputs": [
        {
          "output_type": "stream",
          "text": [
            "Gaussian Naive Bayes\n",
            "Accuracy: 0.528\n",
            "\n",
            "Confusion Matrix:  \n",
            " Predicted     -1       1     All\n",
            "True                            \n",
            "-1         28321   57115   85436\n",
            "1          23444   61934   85378\n",
            "All        51765  119049  170814\n",
            "\n",
            "                    Classification Report \n",
            "               precision    recall  f1-score   support\n",
            "\n",
            "          -1       0.55      0.33      0.41     85436\n",
            "           1       0.52      0.73      0.61     85378\n",
            "\n",
            "   micro avg       0.53      0.53      0.53    170814\n",
            "   macro avg       0.53      0.53      0.51    170814\n",
            "weighted avg       0.53      0.53      0.51    170814\n",
            "\n"
          ],
          "name": "stdout"
        }
      ]
    },
    {
      "metadata": {
        "id": "ChfYB5SXfTfG",
        "colab_type": "code",
        "outputId": "d3eefd45-259f-4c25-e881-0dd15a435983",
        "colab": {
          "base_uri": "https://localhost:8080/",
          "height": 353
        }
      },
      "cell_type": "code",
      "source": [
        "# Logistic Regression\n",
        "log = LogisticRegression(solver='lbfgs')\n",
        "auto_model(log, \"Logistic Regression\", train_vecs_d2v, validation_vecs_d2v, \n",
        "              y_train_d2v, y_validation_d2v)"
      ],
      "execution_count": 27,
      "outputs": [
        {
          "output_type": "stream",
          "text": [
            "Logistic Regression\n",
            "Accuracy: 0.582\n",
            "\n",
            "Confusion Matrix:  \n",
            " Predicted     -1      1     All\n",
            "True                           \n",
            "-1         49535  35901   85436\n",
            "1          35547  49831   85378\n",
            "All        85082  85732  170814\n",
            "\n",
            "                    Classification Report \n",
            "               precision    recall  f1-score   support\n",
            "\n",
            "          -1       0.58      0.58      0.58     85436\n",
            "           1       0.58      0.58      0.58     85378\n",
            "\n",
            "   micro avg       0.58      0.58      0.58    170814\n",
            "   macro avg       0.58      0.58      0.58    170814\n",
            "weighted avg       0.58      0.58      0.58    170814\n",
            "\n"
          ],
          "name": "stdout"
        }
      ]
    },
    {
      "metadata": {
        "id": "EYspkdVEfTTA",
        "colab_type": "code",
        "outputId": "f40485f7-e802-47f9-fd76-90c8528acb07",
        "colab": {
          "base_uri": "https://localhost:8080/",
          "height": 353
        }
      },
      "cell_type": "code",
      "source": [
        "# Linear SVC\n",
        "svc = LinearSVC()\n",
        "auto_model(svc, \"Linear SVC\", train_vecs_d2v, validation_vecs_d2v, \n",
        "              y_train_d2v, y_validation_d2v)"
      ],
      "execution_count": 28,
      "outputs": [
        {
          "output_type": "stream",
          "text": [
            "Linear SVC\n",
            "Accuracy: 0.582\n",
            "\n",
            "Confusion Matrix:  \n",
            " Predicted     -1      1     All\n",
            "True                           \n",
            "-1         49522  35914   85436\n",
            "1          35517  49861   85378\n",
            "All        85039  85775  170814\n",
            "\n",
            "                    Classification Report \n",
            "               precision    recall  f1-score   support\n",
            "\n",
            "          -1       0.58      0.58      0.58     85436\n",
            "           1       0.58      0.58      0.58     85378\n",
            "\n",
            "   micro avg       0.58      0.58      0.58    170814\n",
            "   macro avg       0.58      0.58      0.58    170814\n",
            "weighted avg       0.58      0.58      0.58    170814\n",
            "\n"
          ],
          "name": "stdout"
        }
      ]
    },
    {
      "metadata": {
        "id": "bVVaRn7_fTB0",
        "colab_type": "code",
        "outputId": "0f02d613-0a05-490d-ce23-7b6210866ff1",
        "colab": {
          "base_uri": "https://localhost:8080/",
          "height": 284
        }
      },
      "cell_type": "code",
      "source": [
        "df3.describe()"
      ],
      "execution_count": 29,
      "outputs": [
        {
          "output_type": "execute_result",
          "data": {
            "text/html": [
              "<div>\n",
              "<style scoped>\n",
              "    .dataframe tbody tr th:only-of-type {\n",
              "        vertical-align: middle;\n",
              "    }\n",
              "\n",
              "    .dataframe tbody tr th {\n",
              "        vertical-align: top;\n",
              "    }\n",
              "\n",
              "    .dataframe thead th {\n",
              "        text-align: right;\n",
              "    }\n",
              "</style>\n",
              "<table border=\"1\" class=\"dataframe\">\n",
              "  <thead>\n",
              "    <tr style=\"text-align: right;\">\n",
              "      <th></th>\n",
              "      <th>Unnamed: 0</th>\n",
              "      <th>word_count</th>\n",
              "      <th>character_count</th>\n",
              "      <th>SA</th>\n",
              "      <th>SA2</th>\n",
              "    </tr>\n",
              "  </thead>\n",
              "  <tbody>\n",
              "    <tr>\n",
              "      <th>count</th>\n",
              "      <td>174300.000000</td>\n",
              "      <td>174300.000000</td>\n",
              "      <td>174300.000000</td>\n",
              "      <td>174300.000000</td>\n",
              "      <td>174300.000000</td>\n",
              "    </tr>\n",
              "    <tr>\n",
              "      <th>mean</th>\n",
              "      <td>216112.418635</td>\n",
              "      <td>20.074412</td>\n",
              "      <td>130.227292</td>\n",
              "      <td>-0.021997</td>\n",
              "      <td>0.000000</td>\n",
              "    </tr>\n",
              "    <tr>\n",
              "      <th>std</th>\n",
              "      <td>123453.699298</td>\n",
              "      <td>4.729565</td>\n",
              "      <td>23.467064</td>\n",
              "      <td>0.959790</td>\n",
              "      <td>1.000003</td>\n",
              "    </tr>\n",
              "    <tr>\n",
              "      <th>min</th>\n",
              "      <td>1.000000</td>\n",
              "      <td>1.000000</td>\n",
              "      <td>4.000000</td>\n",
              "      <td>-1.000000</td>\n",
              "      <td>-1.000000</td>\n",
              "    </tr>\n",
              "    <tr>\n",
              "      <th>25%</th>\n",
              "      <td>110265.750000</td>\n",
              "      <td>18.000000</td>\n",
              "      <td>139.000000</td>\n",
              "      <td>-1.000000</td>\n",
              "      <td>-1.000000</td>\n",
              "    </tr>\n",
              "    <tr>\n",
              "      <th>50%</th>\n",
              "      <td>214889.500000</td>\n",
              "      <td>21.000000</td>\n",
              "      <td>140.000000</td>\n",
              "      <td>0.000000</td>\n",
              "      <td>0.000000</td>\n",
              "    </tr>\n",
              "    <tr>\n",
              "      <th>75%</th>\n",
              "      <td>322273.500000</td>\n",
              "      <td>23.000000</td>\n",
              "      <td>140.000000</td>\n",
              "      <td>1.000000</td>\n",
              "      <td>1.000000</td>\n",
              "    </tr>\n",
              "    <tr>\n",
              "      <th>max</th>\n",
              "      <td>430227.000000</td>\n",
              "      <td>32.000000</td>\n",
              "      <td>202.000000</td>\n",
              "      <td>1.000000</td>\n",
              "      <td>1.000000</td>\n",
              "    </tr>\n",
              "  </tbody>\n",
              "</table>\n",
              "</div>"
            ],
            "text/plain": [
              "          Unnamed: 0     word_count  character_count             SA  \\\n",
              "count  174300.000000  174300.000000    174300.000000  174300.000000   \n",
              "mean   216112.418635      20.074412       130.227292      -0.021997   \n",
              "std    123453.699298       4.729565        23.467064       0.959790   \n",
              "min         1.000000       1.000000         4.000000      -1.000000   \n",
              "25%    110265.750000      18.000000       139.000000      -1.000000   \n",
              "50%    214889.500000      21.000000       140.000000       0.000000   \n",
              "75%    322273.500000      23.000000       140.000000       1.000000   \n",
              "max    430227.000000      32.000000       202.000000       1.000000   \n",
              "\n",
              "                 SA2  \n",
              "count  174300.000000  \n",
              "mean        0.000000  \n",
              "std         1.000003  \n",
              "min        -1.000000  \n",
              "25%        -1.000000  \n",
              "50%         0.000000  \n",
              "75%         1.000000  \n",
              "max         1.000000  "
            ]
          },
          "metadata": {
            "tags": []
          },
          "execution_count": 29
        }
      ]
    },
    {
      "metadata": {
        "colab_type": "text",
        "id": "BIMrjnX51qx2"
      },
      "cell_type": "markdown",
      "source": [
        "# **Preparing Data for Pytorch**"
      ]
    },
    {
      "metadata": {
        "id": "aRQj7OnoRdWO",
        "colab_type": "code",
        "colab": {}
      },
      "cell_type": "code",
      "source": [
        "from collections import Counter\n",
        "\n",
        "\n",
        "## Build a dictionary that maps words to integers\n",
        "counts = Counter(words)\n",
        "vocab = sorted(counts, key=counts.get, reverse=True)\n",
        "vocab_to_int = {word: ii for ii, word in enumerate(vocab, 1)}\n",
        "  \n",
        "## use the dict to tokenize each tweet in tweet_split\n",
        "## store the tokenized tweet in tweet_ints\n",
        "tweet_ints = []\n",
        "for tweet in tweet_split:\n",
        "    tweet_ints.append([vocab_to_int[word] for word in tweet.split()])"
      ],
      "execution_count": 0,
      "outputs": []
    },
    {
      "metadata": {
        "id": "iqUMcVo_vANL",
        "colab_type": "code",
        "outputId": "7b05795b-3f12-4e34-843a-b1fc6d2b4e77",
        "colab": {
          "base_uri": "https://localhost:8080/",
          "height": 50
        }
      },
      "cell_type": "code",
      "source": [
        "#vocab_to_int.keys()\n",
        "print(tweet_split[0])\n",
        "print(tweet_ints[0])"
      ],
      "execution_count": 31,
      "outputs": [
        {
          "output_type": "stream",
          "text": [
            " can  speak  buzzfeed  sourcing but for what   worth  declined  run with parts  the narrative they conveye\n",
            "[40, 202, 7, 253, 24, 5, 35, 220, 251, 118, 19, 134, 1, 198, 15, 257]\n"
          ],
          "name": "stdout"
        }
      ]
    },
    {
      "metadata": {
        "id": "zjsxQkK7kPRg",
        "colab_type": "code",
        "outputId": "b980a6bc-a6bb-44f9-8204-856613d273de",
        "colab": {
          "base_uri": "https://localhost:8080/",
          "height": 50
        }
      },
      "cell_type": "code",
      "source": [
        "\n",
        "# stats about vocabulary\n",
        "print('Unique words: ', len((vocab_to_int)))  \n",
        "print()"
      ],
      "execution_count": 32,
      "outputs": [
        {
          "output_type": "stream",
          "text": [
            "Unique words:  33645\n",
            "\n"
          ],
          "name": "stdout"
        }
      ]
    },
    {
      "metadata": {
        "id": "46ifj23cTGzG",
        "colab_type": "code",
        "outputId": "d0bb2ab7-87c1-4176-a049-a6f185b098b9",
        "colab": {
          "base_uri": "https://localhost:8080/",
          "height": 67
        }
      },
      "cell_type": "code",
      "source": [
        "# outlier tweet stats\n",
        "tweet_lens = Counter([len(x) for x in tweet_ints])\n",
        "print(\"Zero-length tweets: {}\".format(tweet_lens[0]))\n",
        "print(\"Minimum tweet word count: {}\".format(min(tweet_lens)))\n",
        "print(\"Maximum tweet word count: {}\".format(max(tweet_lens)))"
      ],
      "execution_count": 33,
      "outputs": [
        {
          "output_type": "stream",
          "text": [
            "Zero-length tweets: 0\n",
            "Minimum tweet word count: 1\n",
            "Maximum tweet word count: 25\n"
          ],
          "name": "stdout"
        }
      ]
    },
    {
      "metadata": {
        "id": "POfLRIOZXB9W",
        "colab_type": "code",
        "colab": {}
      },
      "cell_type": "code",
      "source": [
        "def pad_features(tweet_ints, seq_length):\n",
        "    ''' Return features of tweet_ints, where each tweet is padded with 0's \n",
        "        or truncated to the input seq_length.\n",
        "    '''\n",
        "    \n",
        "    # getting the correct rows x cols shape\n",
        "    features = np.zeros((len(tweet_ints), seq_length), dtype=int)\n",
        "\n",
        "    # for each review, I grab that review and \n",
        "    for i, row in enumerate(tweet_ints):\n",
        "        features[i, -len(row):] = np.array(row)[:seq_length]\n",
        "    \n",
        "    return features"
      ],
      "execution_count": 0,
      "outputs": []
    },
    {
      "metadata": {
        "id": "kTsb9481Xlo9",
        "colab_type": "code",
        "colab": {}
      },
      "cell_type": "code",
      "source": [
        "# Test your implementation!\n",
        "\n",
        "seq_length = 26\n",
        "\n",
        "features = pad_features(tweet_ints, seq_length=seq_length)\n",
        "\n",
        "## test statements - do not change - ##\n",
        "assert len(features)==len(tweet_ints), \"Your features should have as many rows as reviews.\"\n",
        "assert len(features[0])==seq_length, \"Each feature row should contain seq_length values.\"\n",
        "\n",
        "# print last 20 values of the first 30 batches \n",
        "#features[:, 30:43]"
      ],
      "execution_count": 0,
      "outputs": []
    },
    {
      "metadata": {
        "id": "2WY7J7KiXrLy",
        "colab_type": "code",
        "outputId": "50c5ff17-8697-46f2-8167-93ce10246a3b",
        "colab": {
          "base_uri": "https://localhost:8080/",
          "height": 84
        }
      },
      "cell_type": "code",
      "source": [
        "\n",
        "split_frac = 0.8\n",
        "\n",
        "## split data into training, validation, and test data (features and labels, x and y)\n",
        "\n",
        "split_idx = int(len(features)*split_frac)\n",
        "train_x, remaining_x = features[:split_idx], features[split_idx:]\n",
        "train_y, remaining_y = encoded_labels[:split_idx], encoded_labels[split_idx:]\n",
        "\n",
        "test_idx = int(len(remaining_x)*0.5)\n",
        "val_x, test_x = remaining_x[:test_idx], remaining_x[test_idx:]\n",
        "val_y, test_y = remaining_y[:test_idx], remaining_y[test_idx:]\n",
        "\n",
        "## print out the shapes of your resultant feature data\n",
        "print(\"\\t\\t\\tFeature Shapes:\")\n",
        "print(\"Train set: \\t\\t{}\".format(train_x.shape), \n",
        "      \"\\nValidation set: \\t{}\".format(val_x.shape),\n",
        "      \"\\nTest set: \\t\\t{}\".format(test_x.shape))"
      ],
      "execution_count": 36,
      "outputs": [
        {
          "output_type": "stream",
          "text": [
            "\t\t\tFeature Shapes:\n",
            "Train set: \t\t(139440, 26) \n",
            "Validation set: \t(17430, 26) \n",
            "Test set: \t\t(17430, 26)\n"
          ],
          "name": "stdout"
        }
      ]
    },
    {
      "metadata": {
        "id": "R-GEkIPLp9la",
        "colab_type": "text"
      },
      "cell_type": "markdown",
      "source": [
        "## **DataLoaders and Batching**\n",
        "After creating training, test, and validation data, we can create DataLoaders for this data by following two steps:\n",
        "\n",
        "1.   Create a known format for accessing our data, using TensorDataset which takes in an input set of data and a target set of data with the same first dimension, and creates a dataset.\n",
        "2.   Create DataLoaders and batch our training, validation, and test Tensor datasets\n",
        "\n",
        "\n",
        "train_data = TensorDataset(torch.from_numpy(train_x), torch.from_numpy(train_y))\n",
        "\n",
        "train_loader = DataLoader(train_data, batch_size=batch_size)\n",
        "\n",
        "This is an alternative to creating a generator function for batching our data into full batches."
      ]
    },
    {
      "metadata": {
        "id": "9v_sjGMgo-1d",
        "colab_type": "code",
        "colab": {}
      },
      "cell_type": "code",
      "source": [
        "import torch\n",
        "from torch.utils.data import TensorDataset, DataLoader\n",
        "\n",
        "# create Tensor datasets\n",
        "train_data = TensorDataset(torch.from_numpy(train_x), torch.from_numpy(train_y))\n",
        "valid_data = TensorDataset(torch.from_numpy(val_x), torch.from_numpy(val_y))\n",
        "test_data = TensorDataset(torch.from_numpy(test_x), torch.from_numpy(test_y))\n",
        "\n",
        "# dataloaders\n",
        "batch_size = 30\n",
        "\n",
        "# make sure the SHUFFLE your training data\n",
        "train_loader = DataLoader(train_data, shuffle=False, batch_size=batch_size)\n",
        "valid_loader = DataLoader(valid_data, shuffle=False, batch_size=batch_size)\n",
        "test_loader = DataLoader(test_data, shuffle=False, batch_size=batch_size)"
      ],
      "execution_count": 0,
      "outputs": []
    },
    {
      "metadata": {
        "id": "uQ9MGl1aKBWA",
        "colab_type": "code",
        "outputId": "2f7d7cdd-e619-41c1-fbdc-f46c3a4c7a49",
        "colab": {
          "base_uri": "https://localhost:8080/",
          "height": 34
        }
      },
      "cell_type": "code",
      "source": [
        "torch.from_numpy(train_x)[17][:10]"
      ],
      "execution_count": 38,
      "outputs": [
        {
          "output_type": "execute_result",
          "data": {
            "text/plain": [
              "tensor([0, 0, 0, 0, 0, 0, 0, 0, 0, 0])"
            ]
          },
          "metadata": {
            "tags": []
          },
          "execution_count": 38
        }
      ]
    },
    {
      "metadata": {
        "id": "lWBEdtslqYj-",
        "colab_type": "code",
        "outputId": "4eb28098-5ca7-4801-8aaa-f8162cf69488",
        "colab": {
          "base_uri": "https://localhost:8080/",
          "height": 1646
        }
      },
      "cell_type": "code",
      "source": [
        "# obtain one batch of training data\n",
        "dataiter = iter(train_loader)\n",
        "sample_x, sample_y = dataiter.next()\n",
        "\n",
        "print('Sample input size: ', sample_x.size()) # batch_size, seq_length\n",
        "print('Sample input: \\n', sample_x)\n",
        "print()\n",
        "print('Sample label size: ', sample_y.size()) # batch_size\n",
        "print('Sample label: \\n', sample_y)"
      ],
      "execution_count": 39,
      "outputs": [
        {
          "output_type": "stream",
          "text": [
            "Sample input size:  torch.Size([30, 26])\n",
            "Sample input: \n",
            " tensor([[    0,     0,     0,     0,     0,     0,     0,     0,     0,     0,\n",
            "            40,   202,     7,   253,    24,     5,    35,   220,   251,   118,\n",
            "            19,   134,     1,   198,    15,   257],\n",
            "        [    0,     0,     0,     0,     0,     0,     0,     0,     0,     0,\n",
            "             0,     0,     0,    13,     7,    20,   184,     2,   119,    61,\n",
            "            16,   237,     9,   125,   182,  1475],\n",
            "        [    0,     0,     0,     0,     0,     0,     0,     1,   255,    29,\n",
            "          1629,  7606,  4081,     5,    56,     2,    15, 13812,   603,   127,\n",
            "             3,  2256,  5908,    47,     9,   131],\n",
            "        [    0,     0,     0,     0,     0,     0,     0,     0,     0,    19,\n",
            "           517,   461,     1,   155,    31,    29,   629,   102,  1640,    19,\n",
            "             1,   142,    52,     2,    62,   287],\n",
            "        [    0,     0,     0,     0,     0,     0,     0,     0,     0,     0,\n",
            "             0,     0,   291,  1389,   931,    20,   611,  1424,   320,    81,\n",
            "           771,  1062,   776,    20,   291,  1374],\n",
            "        [    0,     0,     0,     0,     0,     0,     0,     0,     0,     0,\n",
            "             0,     0,     0,   121,    31,    25,   394,  1183,   490,     2,\n",
            "           231,    43,   643,   109,   130,    71],\n",
            "        [    0,     0,     0,     0,     0,     0,     0,     0,  1714,    44,\n",
            "            15,   608,    61,    16,   207,  1136,     3,  1510,    47,    15,\n",
            "            11,   970,     2,    34,    78,  4569],\n",
            "        [    0,     0,     0,     0,     0,     0,     0,     0,     0,     0,\n",
            "             0,     0,     0,     0,     0,     0,   324,   450,     9,   346,\n",
            "           297,   422,     1,   108,    59,    72],\n",
            "        [    0,     0,     0,     0,     0,     0,     0,     0,     1,   109,\n",
            "            65,   194,     1,    81,    15,   179,   120,   175,    41,    66,\n",
            "            23,   209,     6,   110,   200,   151],\n",
            "        [    0,     0,     0,     0,     0,     0,     0,     0,     0,     0,\n",
            "            35,   201,   809,   411,    32,     2,  1910,    41,    28,    70,\n",
            "           311,     1,    13,   576,  1071,  2019],\n",
            "        [    0,     0,     0,     0,     0,     0,     0,     0,     0,     0,\n",
            "             0,  1530,   242,     6,  1816,    38,   565,     1,   387,     4,\n",
            "          1195,    79,   976,     1,   900,  1939],\n",
            "        [    0,     0,     0,     0,     0,     0,     0,     0,     0,   351,\n",
            "            40,   993,    28,   123,    69,    89,  4490,  2847,   298,     5,\n",
            "            54,   233,  2776,   833,  2427, 18197],\n",
            "        [    0,     0,     0,     0,     0,     0,     0,    23,   333,  1348,\n",
            "            50,    30,   170,    54,   108,    23,   236,     2,   493,  1381,\n",
            "           168,   327,   359,    23,   170,    24],\n",
            "        [    0,     0,     0,     0,     0,     0,     0,     0,     0,     0,\n",
            "             0,     0,  2545,   732,  1555,   550, 13813,  8077,  3953,    41,\n",
            "            11,   280,    57,    15,    48,  6356],\n",
            "        [    0,     0,     0,     0,     0,     0,    30,    53,    18,   270,\n",
            "            98,     1,    31,   118,     4,   412,   354,    71,   309,   438,\n",
            "            30,    53,    28,    69,    70,   105],\n",
            "        [    0,     0,     0,     0,     0,     0,     0,     0,     0,     1,\n",
            "            37,    51,    18,    10,   206,    11,   203,   191,    15,   164,\n",
            "           205,    51,   133,    18,    10,   138],\n",
            "        [    0,     0,     0,     0,     0,     0,     0,     0,     0,     0,\n",
            "             2,    65,  2591,    78,   618,   396,     8,     6,   382,  3837,\n",
            "             3,  3015,   131,    34,    52,   424],\n",
            "        [    0,     0,     0,     0,     0,     0,     0,     0,     0,     0,\n",
            "             0,     0,     0,     0,     0,     0,     0,     0,     6,   128,\n",
            "            88,   399,   272,   336,    75,     6],\n",
            "        [    0,     0,     0,     0,     0,     0,     0,     0,     0,     0,\n",
            "             0,     0,     0,     0,     0,     0,     0,     0,     0,     0,\n",
            "             0,    30,     8,   371,   417,  7204],\n",
            "        [    0,     0,     0,     0,     0,     0,     0,     0,     0,     0,\n",
            "            30,    53,   114,    11,   117,     2,   160,    34,    52,   154,\n",
            "           163,   162,   116,   135,    31,   161],\n",
            "        [    0,     0,     0,     0,     0,     0,     0,     0,   149,  7205,\n",
            "             1,  8643,     2,   518,    24,     6,  1390,   223,     9,   159,\n",
            "             1,    22,   110,   128,   369,   624],\n",
            "        [    0,     0,     0,     0,     0,     0,     0,     0,     0,     0,\n",
            "             0,     0,     0,     0,   426,  1500,   392,   219,   263,   247,\n",
            "           365,  1212,  1648,  1354,     2,  1382],\n",
            "        [    0,     0,     0,     0,     0,     0,     0,     0,     1,   109,\n",
            "            65,   194,     1,    81,    15,   179,   120,   175,    41,    66,\n",
            "            23,   209,     6,   110,   200,   151],\n",
            "        [    0,     0,     0,     0,     0,     0,     0,     0,     0,   960,\n",
            "             1,   167,   513,     2,   879,   942,   644,   964,   965,   966,\n",
            "           807,   967,   834,   893,   887,   511],\n",
            "        [    0,     0,     0,     0,     0,     0,     0,     0,     0,     0,\n",
            "            40,   202,     7,   253,    24,     5,    35,   220,   251,   118,\n",
            "            19,   134,     1,   198,    15,   257],\n",
            "        [    0,     0,     0,     0,     0,     0,     0,     0,     0,     0,\n",
            "             0,     0,     0,     0,     0,     0,     0,   662,    44,    40,\n",
            "             2,  8644,    21,   473,  1603,    84],\n",
            "        [    0,     0,     0,     0,     0,     0,     0,     0,     0,     0,\n",
            "             0,   362,     4,     1,   430,   536,    16,   256,    68,   523,\n",
            "            19,   272,     3,   532,     2,   488],\n",
            "        [    0,     0,     0,     0,     0,     0,     0,     0,     0,     0,\n",
            "             0,     0,  3383,   382,   156,     1,    22,    23,  3454,  4570,\n",
            "         18198,   418,  1390,  5909,  2488, 18199],\n",
            "        [    0,     0,     0,     0,     0,     0,     0,     0,     0,     0,\n",
            "             0,     0,     0,     0,     0,     0,     0,     0,     0,     0,\n",
            "             0,    44,     8,  1432,    42,   518],\n",
            "        [    0,     0,     0,     0,     0,     0,     0,     0,     0,   145,\n",
            "           112,    13,    17,     5,   146,     1,     7,    60,    22,     4,\n",
            "           100,     2,   144,    16,    25,    83]])\n",
            "\n",
            "Sample label size:  torch.Size([30])\n",
            "Sample label: \n",
            " tensor([1, 0, 0, 1, 1, 1, 0, 0, 1, 1, 0, 1, 0, 0, 1, 0, 0, 1, 1, 0, 0, 1, 1, 0,\n",
            "        1, 1, 1, 1, 0, 0])\n"
          ],
          "name": "stdout"
        }
      ]
    },
    {
      "metadata": {
        "id": "HzF8ZcV1qh9l",
        "colab_type": "text"
      },
      "cell_type": "markdown",
      "source": [
        "# Sentiment Network with PyTorch\n",
        "\n",
        "LSTM Neural Networks, which stand for Long Short-Term Memory, are a particular type of recurrent neural networks. LSTM networks manage to keep contextual information of inputs by integrating a loop that allows information to flow from one step to the next. \n",
        "\n",
        "Since tweets are  composed from a sequence of words, and the specific order of those words provide context to the sentiment of the tweet, it stands to reason this Neural Network should predict tweet sentiment well. \n",
        "\n",
        "<img src=\"https://github.com/udacity/deep-learning-v2-pytorch/blob/master/sentiment-rnn/assets/network_diagram.png?raw=1\" width=40%>\n",
        "\n",
        "The layers are as follows:\n",
        "1. An [embedding layer](https://pytorch.org/docs/stable/nn.html#embedding) that converts our word tokens (integers) into embeddings of a specific size.\n",
        "2. An [LSTM layer](https://pytorch.org/docs/stable/nn.html#lstm) defined by a hidden_state size and number of layers\n",
        "3. A fully-connected output layer that maps the LSTM layer outputs to a desired output_size\n",
        "4. A sigmoid activation layer which turns all outputs into a value 0-1; return **only the last sigmoid output** as the output of this network.\n",
        "\n",
        "### The Embedding Layer\n",
        "\n",
        "We need to add an [embedding layer](https://pytorch.org/docs/stable/nn.html#embedding) because there are tens of thousands of words in our vocabulary. It is massively inefficient to one-hot encode that many classes. So, instead of one-hot encoding, we can have an embedding layer and use that layer as a lookup table.** I could train an embedding layer using Word2Vec, then load it here. But, it's recommended to just make a new layer, using it for only dimensionality reduction, and let the network learn the weights.**\n",
        "\n",
        "\n",
        "### The LSTM Layer(s)\n",
        "\n",
        "We'll create an [LSTM](https://pytorch.org/docs/stable/nn.html#lstm) to use in our recurrent network, which takes in an input_size, a hidden_dim, a number of layers, a dropout probability (for dropout between multiple layers), and a batch_first parameter.\n",
        "\n",
        "\n",
        "\n"
      ]
    },
    {
      "metadata": {
        "id": "aJFmyyGyqcJb",
        "colab_type": "code",
        "outputId": "c2f6850c-34eb-430e-cce9-56b159cbed50",
        "colab": {
          "base_uri": "https://localhost:8080/",
          "height": 34
        }
      },
      "cell_type": "code",
      "source": [
        "# First checking if GPU is available\n",
        "train_on_gpu=torch.cuda.is_available()\n",
        "\n",
        "if(train_on_gpu):\n",
        "    print('Training on GPU.')\n",
        "else:\n",
        "    print('No GPU available, training on CPU.')"
      ],
      "execution_count": 40,
      "outputs": [
        {
          "output_type": "stream",
          "text": [
            "Training on GPU.\n"
          ],
          "name": "stdout"
        }
      ]
    },
    {
      "metadata": {
        "id": "k3vBnTpIr_7G",
        "colab_type": "code",
        "colab": {}
      },
      "cell_type": "code",
      "source": [
        "\n",
        "import torch.nn as nn\n",
        "\n",
        "class SentimentRNN(nn.Module):\n",
        "    \"\"\"\n",
        "    The RNN model that will be used to perform Sentiment analysis.\n",
        "    \"\"\"\n",
        "\n",
        "    def __init__(self, vocab_size, output_size, embedding_dim, hidden_dim, n_layers, drop_prob=0.5):\n",
        "        \"\"\"\n",
        "        Initialize the model by setting up the layers.\n",
        "        \"\"\"\n",
        "        super(SentimentRNN, self).__init__()\n",
        "\n",
        "        self.output_size = output_size\n",
        "        self.n_layers = n_layers\n",
        "        self.hidden_dim = hidden_dim\n",
        "        \n",
        "        # embedding and LSTM layers\n",
        "        self.embedding = nn.Embedding(vocab_size, embedding_dim)\n",
        "        self.lstm = nn.LSTM(embedding_dim, hidden_dim, n_layers, \n",
        "                            dropout=drop_prob, batch_first=True)\n",
        "        \n",
        "        # dropout layer\n",
        "        self.dropout = nn.Dropout(0.3)\n",
        "        \n",
        "        # linear and sigmoid layers\n",
        "        self.fc = nn.Linear(hidden_dim, output_size)\n",
        "        self.sig = nn.Sigmoid()\n",
        "        \n",
        "\n",
        "    def forward(self, x, hidden):\n",
        "        \"\"\"\n",
        "        Perform a forward pass of our model on some input and hidden state.\n",
        "        \"\"\"\n",
        "        batch_size = x.size(0)\n",
        "\n",
        "        # embeddings and lstm_out\n",
        "        embeds = self.embedding(x)\n",
        "        lstm_out, hidden = self.lstm(embeds, hidden)\n",
        "    \n",
        "        # stack up lstm outputs\n",
        "        lstm_out = lstm_out.contiguous().view(-1, self.hidden_dim)\n",
        "        \n",
        "        # dropout and fully-connected layer\n",
        "        out = self.dropout(lstm_out)\n",
        "        out = self.fc(out)\n",
        "        # sigmoid function\n",
        "        sig_out = self.sig(out)\n",
        "        \n",
        "        # reshape to be batch_size first\n",
        "        sig_out = sig_out.view(batch_size, -1)\n",
        "        sig_out = sig_out[:, -1] # get last batch of labels\n",
        "        \n",
        "        # return last sigmoid output and hidden state\n",
        "        return sig_out, hidden\n",
        "    \n",
        "    \n",
        "    def init_hidden(self, batch_size):\n",
        "        ''' Initializes hidden state '''\n",
        "        # Create two new tensors with sizes n_layers x batch_size x hidden_dim,\n",
        "        # initialized to zero, for hidden state and cell state of LSTM\n",
        "        weight = next(self.parameters()).data\n",
        "        \n",
        "        if (train_on_gpu):\n",
        "            hidden = (weight.new(self.n_layers, batch_size, self.hidden_dim\n",
        "                                ).zero_().cuda(),\n",
        "                  weight.new(self.n_layers, batch_size, self.hidden_dim\n",
        "                            ).zero_().cuda())\n",
        "        else:\n",
        "            hidden = (weight.new(self.n_layers, batch_size, self.hidden_dim\n",
        "                                ).zero_(),\n",
        "                      weight.new(self.n_layers, batch_size, self.hidden_dim\n",
        "                                ).zero_())\n",
        "        \n",
        "        return hidden"
      ],
      "execution_count": 0,
      "outputs": []
    },
    {
      "metadata": {
        "id": "Ti1Ko6gOsWYH",
        "colab_type": "text"
      },
      "cell_type": "markdown",
      "source": [
        "## Instantiate the network\n",
        "\n",
        "Here, we'll instantiate the network. First up, defining the hyperparameters.\n",
        "\n",
        "* `vocab_size`: Size of our vocabulary or the range of values for our input, word tokens.\n",
        "* `output_size`: Size of our desired output; the number of class scores we want to output (pos/neg).\n",
        "* `embedding_dim`: Number of columns in the embedding lookup table; size of our embeddings.\n",
        "* `hidden_dim`: Number of units in the hidden layers of our LSTM cells. Usually larger is better performance wise. Common values are 128, 256, 512, etc.\n",
        "* `n_layers`: Number of LSTM layers in the network. Typically between 1-3"
      ]
    },
    {
      "metadata": {
        "id": "ND80bDVKvVGR",
        "colab_type": "code",
        "outputId": "6ae64723-b895-4dcc-df9c-c7bb34f142dd",
        "colab": {
          "base_uri": "https://localhost:8080/",
          "height": 34
        }
      },
      "cell_type": "code",
      "source": [
        "len(vocab_to_int)"
      ],
      "execution_count": 42,
      "outputs": [
        {
          "output_type": "execute_result",
          "data": {
            "text/plain": [
              "33645"
            ]
          },
          "metadata": {
            "tags": []
          },
          "execution_count": 42
        }
      ]
    },
    {
      "metadata": {
        "id": "EebdJqW0sRX6",
        "colab_type": "code",
        "outputId": "449dde7d-3106-4c36-cce2-5a31522fd8f8",
        "colab": {
          "base_uri": "https://localhost:8080/",
          "height": 134
        }
      },
      "cell_type": "code",
      "source": [
        "# Instantiate the model w/ hyperparams\n",
        "vocab_size = len(vocab_to_int)+1 # +1 for the 0 padding + our word tokens\n",
        "output_size = 1\n",
        "embedding_dim = 300\n",
        "hidden_dim = 256\n",
        "n_layers = 2\n",
        "\n",
        "net = SentimentRNN(vocab_size, output_size, embedding_dim, hidden_dim, n_layers)\n",
        "\n",
        "print(net)"
      ],
      "execution_count": 43,
      "outputs": [
        {
          "output_type": "stream",
          "text": [
            "SentimentRNN(\n",
            "  (embedding): Embedding(33646, 300)\n",
            "  (lstm): LSTM(300, 256, num_layers=2, batch_first=True, dropout=0.5)\n",
            "  (dropout): Dropout(p=0.3)\n",
            "  (fc): Linear(in_features=256, out_features=1, bias=True)\n",
            "  (sig): Sigmoid()\n",
            ")\n"
          ],
          "name": "stdout"
        }
      ]
    },
    {
      "metadata": {
        "id": "E3VScg1Ot4h0",
        "colab_type": "text"
      },
      "cell_type": "markdown",
      "source": [
        "## Training\n",
        "​\n",
        "Below is the typical training code. \n",
        "​\n",
        ">We'll also be using a new kind of cross entropy loss, which is designed to work with a single Sigmoid output. [BCELoss](https://pytorch.org/docs/stable/nn.html#bceloss), or **Binary Cross Entropy Loss**, applies cross entropy loss to a single value between 0 and 1.\n",
        "​\n",
        "We also have some data and training hyparameters:\n",
        "​\n",
        "* `lr`: Learning rate for our optimizer.\n",
        "* `epochs`: Number of times to iterate through the training dataset.\n",
        "* `clip`: The maximum gradient value to clip at (to prevent exploding gradients)."
      ]
    },
    {
      "metadata": {
        "id": "2RK968_4tvOI",
        "colab_type": "code",
        "colab": {}
      },
      "cell_type": "code",
      "source": [
        "# loss and optimization functions\n",
        "lr=0.001\n",
        "\n",
        "criterion = nn.BCELoss()\n",
        "optimizer = torch.optim.Adam(net.parameters(), lr=lr)"
      ],
      "execution_count": 0,
      "outputs": []
    },
    {
      "metadata": {
        "id": "CXtPMfXsuHJG",
        "colab_type": "code",
        "outputId": "aaa9adc3-cbf5-4506-e96c-d8a2af3c4288",
        "colab": {
          "base_uri": "https://localhost:8080/",
          "height": 790
        }
      },
      "cell_type": "code",
      "source": [
        "\n",
        "# training params\n",
        "\n",
        "epochs = 1 # 3-4 is approx where I noticed the validation loss stop decreasing\n",
        "\n",
        "counter = 0\n",
        "print_every = 100\n",
        "clip=5 # gradient clipping\n",
        "\n",
        "train_loss = []\n",
        "val_loss1 = []\n",
        "\n",
        "# move model to GPU, if available\n",
        "if(train_on_gpu):\n",
        "    net.cuda()\n",
        "\n",
        "net.train()\n",
        "# train for some number of epochs\n",
        "for e in range(epochs):\n",
        "    # initialize hidden state\n",
        "    h = net.init_hidden(batch_size)\n",
        "\n",
        "    # batch loop\n",
        "    for inputs, labels in train_loader:\n",
        "        counter += 1\n",
        "\n",
        "        if(train_on_gpu):\n",
        "            inputs, labels = inputs.cuda(), labels.cuda()\n",
        "\n",
        "        # Creating new variables for the hidden state, otherwise\n",
        "        # we'd backprop through the entire training history\n",
        "        h = tuple([each.data for each in h])\n",
        "\n",
        "        # zero accumulated gradients\n",
        "        net.zero_grad()\n",
        "\n",
        "        # get the output from the model\n",
        "        output, h = net(inputs, h)\n",
        "\n",
        "        # calculate the loss and perform backprop\n",
        "        loss = criterion(output.squeeze(), labels.float())\n",
        "        loss.backward()\n",
        "        # `clip_grad_norm` helps prevent the exploding gradient problem in RNNs / LSTMs.\n",
        "        nn.utils.clip_grad_norm_(net.parameters(), clip)\n",
        "        optimizer.step()\n",
        "\n",
        "        # loss stats\n",
        "        if counter % print_every == 0:\n",
        "            # Get validation loss\n",
        "            val_h = net.init_hidden(batch_size)\n",
        "            val_losses = []\n",
        "            net.eval()\n",
        "            for inputs, labels in valid_loader:\n",
        "\n",
        "                # Creating new variables for the hidden state, otherwise\n",
        "                # we'd backprop through the entire training history\n",
        "                val_h = tuple([each.data for each in val_h])\n",
        "\n",
        "                if(train_on_gpu):\n",
        "                    inputs, labels = inputs.cuda(), labels.cuda()\n",
        "\n",
        "                output, val_h = net(inputs, val_h)\n",
        "                val_loss = criterion(output.squeeze(), labels.float())\n",
        "\n",
        "                val_losses.append(val_loss.item())\n",
        "\n",
        "            net.train()\n",
        "          \n",
        "            print(\"Epoch: {}/{}...\".format(e+1, epochs),\n",
        "                  \"Step: {}...\".format(counter),\n",
        "                  \"Loss: {:.6f}...\".format(loss.item()),\n",
        "                  \"Val Loss: {:.6f}\".format(np.mean(val_losses)))\n",
        "            train_loss.append(loss.item())\n",
        "            val_loss1.append(np.mean(val_losses))\n",
        "           "
      ],
      "execution_count": 45,
      "outputs": [
        {
          "output_type": "stream",
          "text": [
            "Epoch: 1/1... Step: 100... Loss: 0.302807... Val Loss: 0.355550\n",
            "Epoch: 1/1... Step: 200... Loss: 0.318893... Val Loss: 0.306834\n",
            "Epoch: 1/1... Step: 300... Loss: 0.409422... Val Loss: 0.240995\n",
            "Epoch: 1/1... Step: 400... Loss: 0.429408... Val Loss: 0.203734\n",
            "Epoch: 1/1... Step: 500... Loss: 0.180348... Val Loss: 0.192421\n",
            "Epoch: 1/1... Step: 600... Loss: 0.093724... Val Loss: 0.177341\n",
            "Epoch: 1/1... Step: 700... Loss: 0.070842... Val Loss: 0.157524\n",
            "Epoch: 1/1... Step: 800... Loss: 0.174517... Val Loss: 0.150262\n",
            "Epoch: 1/1... Step: 900... Loss: 0.119679... Val Loss: 0.134762\n",
            "Epoch: 1/1... Step: 1000... Loss: 0.102350... Val Loss: 0.134548\n",
            "Epoch: 1/1... Step: 1100... Loss: 0.140906... Val Loss: 0.132185\n",
            "Epoch: 1/1... Step: 1200... Loss: 0.090213... Val Loss: 0.122376\n",
            "Epoch: 1/1... Step: 1300... Loss: 0.184524... Val Loss: 0.123232\n",
            "Epoch: 1/1... Step: 1400... Loss: 0.071671... Val Loss: 0.109137\n",
            "Epoch: 1/1... Step: 1500... Loss: 0.036419... Val Loss: 0.116654\n",
            "Epoch: 1/1... Step: 1600... Loss: 0.148288... Val Loss: 0.104464\n",
            "Epoch: 1/1... Step: 1700... Loss: 0.171258... Val Loss: 0.095505\n",
            "Epoch: 1/1... Step: 1800... Loss: 0.083213... Val Loss: 0.095679\n",
            "Epoch: 1/1... Step: 1900... Loss: 0.143109... Val Loss: 0.091733\n",
            "Epoch: 1/1... Step: 2000... Loss: 0.072589... Val Loss: 0.085456\n",
            "Epoch: 1/1... Step: 2100... Loss: 0.117163... Val Loss: 0.082797\n",
            "Epoch: 1/1... Step: 2200... Loss: 0.038174... Val Loss: 0.089965\n",
            "Epoch: 1/1... Step: 2300... Loss: 0.020473... Val Loss: 0.078763\n",
            "Epoch: 1/1... Step: 2400... Loss: 0.016292... Val Loss: 0.072716\n",
            "Epoch: 1/1... Step: 2500... Loss: 0.052675... Val Loss: 0.073715\n",
            "Epoch: 1/1... Step: 2600... Loss: 0.115734... Val Loss: 0.069043\n",
            "Epoch: 1/1... Step: 2700... Loss: 0.053455... Val Loss: 0.066884\n",
            "Epoch: 1/1... Step: 2800... Loss: 0.125250... Val Loss: 0.067175\n",
            "Epoch: 1/1... Step: 2900... Loss: 0.157695... Val Loss: 0.065030\n",
            "Epoch: 1/1... Step: 3000... Loss: 0.033809... Val Loss: 0.061185\n",
            "Epoch: 1/1... Step: 3100... Loss: 0.014861... Val Loss: 0.059358\n",
            "Epoch: 1/1... Step: 3200... Loss: 0.259892... Val Loss: 0.060789\n",
            "Epoch: 1/1... Step: 3300... Loss: 0.011286... Val Loss: 0.060267\n",
            "Epoch: 1/1... Step: 3400... Loss: 0.005726... Val Loss: 0.055079\n",
            "Epoch: 1/1... Step: 3500... Loss: 0.086310... Val Loss: 0.055566\n",
            "Epoch: 1/1... Step: 3600... Loss: 0.041538... Val Loss: 0.052863\n",
            "Epoch: 1/1... Step: 3700... Loss: 0.111605... Val Loss: 0.059228\n",
            "Epoch: 1/1... Step: 3800... Loss: 0.086546... Val Loss: 0.050409\n",
            "Epoch: 1/1... Step: 3900... Loss: 0.002974... Val Loss: 0.050549\n",
            "Epoch: 1/1... Step: 4000... Loss: 0.008049... Val Loss: 0.048845\n",
            "Epoch: 1/1... Step: 4100... Loss: 0.079870... Val Loss: 0.049250\n",
            "Epoch: 1/1... Step: 4200... Loss: 0.006998... Val Loss: 0.045187\n",
            "Epoch: 1/1... Step: 4300... Loss: 0.006745... Val Loss: 0.044964\n",
            "Epoch: 1/1... Step: 4400... Loss: 0.177858... Val Loss: 0.044625\n",
            "Epoch: 1/1... Step: 4500... Loss: 0.001838... Val Loss: 0.048869\n",
            "Epoch: 1/1... Step: 4600... Loss: 0.006840... Val Loss: 0.044662\n"
          ],
          "name": "stdout"
        }
      ]
    },
    {
      "metadata": {
        "id": "HWLi4a6YEqMV",
        "colab_type": "text"
      },
      "cell_type": "markdown",
      "source": [
        "## **Testing the Network**"
      ]
    },
    {
      "metadata": {
        "id": "411pEhPiuUxD",
        "colab_type": "code",
        "outputId": "4543f73d-1315-4d57-a54a-1f1918f80efd",
        "colab": {
          "base_uri": "https://localhost:8080/",
          "height": 353
        }
      },
      "cell_type": "code",
      "source": [
        "# Get test data loss and accuracy\n",
        "\n",
        "test_losses = [] # track loss\n",
        "num_correct = 0\n",
        "pred_tens = [] # Track preds\n",
        "\n",
        "# init hidden state\n",
        "h = net.init_hidden(batch_size)\n",
        "\n",
        "net.eval()\n",
        "# iterate over test data\n",
        "for inputs, labels in test_loader:\n",
        "\n",
        "    # Creating new variables for the hidden state, otherwise\n",
        "    # we'd backprop through the entire training history\n",
        "    h = tuple([each.data for each in h])\n",
        "\n",
        "    if(train_on_gpu):\n",
        "        inputs, labels = inputs.cuda(), labels.cuda()\n",
        "    \n",
        "    # get predicted outputs\n",
        "    output, h = net(inputs, h)\n",
        "    \n",
        "    # calculate loss\n",
        "    test_loss = criterion(output.squeeze(), labels.float())\n",
        "    test_losses.append(test_loss.item())\n",
        "    \n",
        "    # convert output probabilities to predicted class (0 or 1)\n",
        "    pred = torch.round(output.squeeze())  # rounds to the nearest integer\n",
        "    pred_tens.append(pred.cpu().detach().numpy())\n",
        "    \n",
        "    # compare predictions to true label\n",
        "    correct_tensor = pred.eq(labels.float().view_as(pred))\n",
        "    correct = np.squeeze(correct_tensor.numpy()) if not train_on_gpu else np.squeeze(correct_tensor.cpu().numpy())\n",
        "    num_correct += np.sum(correct)\n",
        "\n",
        "\n",
        "# -- stats! -- ##\n",
        "# avg test loss\n",
        "print(\"Test loss: {:.3f}\".format(np.mean(test_losses)))\n",
        "\n",
        "# accuracy over all test data\n",
        "test_acc = num_correct/len(test_loader.dataset)\n",
        "print(\"Test accuracy: {:.3f}\".format(test_acc))\n",
        "\n",
        "#Flatten list of lists containing predictions\n",
        "flat_list = [item.astype(int) for sublist in pred_tens for item in sublist]\n",
        "\n",
        "#Convert list to np array\n",
        "pred_array = np.asarray(flat_list)\n",
        "\n",
        "# Check the solution against the data.\n",
        "cm = pd.crosstab(pred_array, test_y, rownames=['True'], \n",
        "                 colnames=['Predicted'], margins=True)\n",
        "print(\"\\nConfusion Matrix:  \\n\", cm)\n",
        "print(\"\\n                    Classification Report \\n\",\n",
        "      classification_report(flat_list, test_y))"
      ],
      "execution_count": 46,
      "outputs": [
        {
          "output_type": "stream",
          "text": [
            "Test loss: 0.045\n",
            "Test accuracy: 0.984\n",
            "\n",
            "Confusion Matrix:  \n",
            " Predicted     0     1    All\n",
            "True                        \n",
            "0          8584   108   8692\n",
            "1           166  8572   8738\n",
            "All        8750  8680  17430\n",
            "\n",
            "                    Classification Report \n",
            "               precision    recall  f1-score   support\n",
            "\n",
            "           0       0.98      0.99      0.98      8692\n",
            "           1       0.99      0.98      0.98      8738\n",
            "\n",
            "   micro avg       0.98      0.98      0.98     17430\n",
            "   macro avg       0.98      0.98      0.98     17430\n",
            "weighted avg       0.98      0.98      0.98     17430\n",
            "\n"
          ],
          "name": "stdout"
        }
      ]
    },
    {
      "metadata": {
        "id": "PUxlOGPDanTu",
        "colab_type": "code",
        "outputId": "76a4b208-7e43-4df5-ef6e-38f962b1bcf9",
        "colab": {
          "base_uri": "https://localhost:8080/",
          "height": 280
        }
      },
      "cell_type": "code",
      "source": [
        "fig=plt.figure()\n",
        "fig.show()\n",
        "ax=fig.add_subplot(111)\n",
        "ax.plot(train_loss, c='b', label='Training Loss')\n",
        "ax.plot(val_loss1, c='r', label='Validation Loss')\n",
        "plt.xlim(0,40)\n",
        "\n",
        "plt.legend(loc='upper right', frameon=True)\n",
        "plt.title('Training vs Validation Loss')\n",
        "plt.savefig('trainvalloss.png', dpi=300)\n",
        "files.download('trainvalloss.png')\n",
        "plt.show()"
      ],
      "execution_count": 47,
      "outputs": [
        {
          "output_type": "display_data",
          "data": {
            "image/png": "[encoded data removed]",
            "text/plain": [
              "<Figure size 432x288 with 1 Axes>"
            ]
          },
          "metadata": {
            "tags": []
          }
        }
      ]
    },
    {
      "metadata": {
        "id": "u8JT7RuI71Tl",
        "colab_type": "text"
      },
      "cell_type": "markdown",
      "source": [
        "## **Validating the Classifier**"
      ]
    },
    {
      "metadata": {
        "id": "XtpHAr3kcPWj",
        "colab_type": "code",
        "outputId": "00b36e08-7be2-400a-f7ff-33bd8c703ed7",
        "colab": {
          "base_uri": "https://localhost:8080/",
          "height": 509
        }
      },
      "cell_type": "code",
      "source": [
        "# Precison Recall Curve\n",
        "\n",
        "precision, recall, threshold = precision_recall_curve(test_y, pred_array)\n",
        "\n",
        "# Defining a new function to plot the precision-recall curve\n",
        "def plot_precision_and_recall(precision, recall, threshold):\n",
        "    plt.plot(threshold, precision[:-1], \"r-\", label=\"Precision\", linewidth=3)\n",
        "    plt.plot(threshold, recall[:-1], \"b\", label=\"Recall\", linewidth=3)\n",
        "    plt.xlabel(\"Threshold\", fontsize=19)\n",
        "    plt.legend(loc=\"lower right\", fontsize=19, frameon=True)\n",
        "\n",
        "plt.figure(figsize=(10, 7))\n",
        "plot_precision_and_recall(precision, recall, threshold)\n",
        "plt.tight_layout()\n",
        "#plt.savefig('Precision Recall.png', dpi=300)\n",
        "#files.download('Precision Recall.png')\n",
        "plt.show()"
      ],
      "execution_count": 48,
      "outputs": [
        {
          "output_type": "display_data",
          "data": {
            "image/png": "[encoded data removed]",
            "text/plain": [
              "<Figure size 720x504 with 1 Axes>"
            ]
          },
          "metadata": {
            "tags": []
          }
        }
      ]
    },
    {
      "metadata": {
        "id": "00kh85dmdfza",
        "colab_type": "code",
        "outputId": "1522ed61-0b3d-4922-ab0b-77afa571cce1",
        "colab": {
          "base_uri": "https://localhost:8080/",
          "height": 581
        }
      },
      "cell_type": "code",
      "source": [
        "# ROC Curve\n",
        "\n",
        "# Compute the true positive and false positive rate\n",
        "false_positive_rate, true_positive_rate, thresholds = roc_curve(\n",
        "    test_y, pred_array)\n",
        "\n",
        "# Plotting the true positive and false positive rate\n",
        "def plot_roc_curve(false_positive_rate, true_positive_rate, label=None):\n",
        "    roc_auc = metrics.auc(false_positive_rate, true_positive_rate)\n",
        "    plt.plot(false_positive_rate, true_positive_rate, 'b',\n",
        "             linewidth=3, label='ROC curve (area = {0:.2f})'.format(roc_auc))\n",
        "    plt.plot([0, 1], [0, 1], 'ro--', label='Naive Classifier',\n",
        "             linewidth=3)\n",
        "    plt.xlabel('False Positive Rate (FPR)', fontsize=16)\n",
        "    plt.ylabel('True Positive Rate (TPR)', fontsize=16)\n",
        "    plt.legend(loc=\"lower right\", fontsize=16)\n",
        "\n",
        "plt.figure(figsize=(10, 8))\n",
        "plot_roc_curve(false_positive_rate, true_positive_rate)\n",
        "plt.title('Receiver Operating Characteristic Curve', size = 20)\n",
        "plt.tight_layout()\n",
        "#plt.savefig('ROC Curve.png', dpi=300)\n",
        "#files.download('ROC Curve.png')\n",
        "plt.show()"
      ],
      "execution_count": 49,
      "outputs": [
        {
          "output_type": "display_data",
          "data": {
            "image/png": "[encoded data removed]",
            "text/plain": [
              "<Figure size 720x576 with 1 Axes>"
            ]
          },
          "metadata": {
            "tags": []
          }
        }
      ]
    },
    {
      "metadata": {
        "id": "b6DJJ-F3Xj5S",
        "colab_type": "code",
        "colab": {}
      },
      "cell_type": "code",
      "source": [
        "#torch.save(net.state_dict(), '/content/gdrive/My Drive/Data Science/net.pth')"
      ],
      "execution_count": 0,
      "outputs": []
    },
    {
      "metadata": {
        "id": "FBEeFE3RNuQn",
        "colab_type": "code",
        "colab": {}
      },
      "cell_type": "code",
      "source": [
        "#PATH = '/content/gdrive/My Drive/Data Science'\n",
        "#torch.save(\n",
        "#SentimentRNN, '/content/gdrive/My Drive/Data Science/SentimentRNN.pth')\n"
      ],
      "execution_count": 0,
      "outputs": []
    },
    {
      "metadata": {
        "id": "UcUFKLYnieB9",
        "colab_type": "text"
      },
      "cell_type": "markdown",
      "source": [
        "## Testing Brand New Tweets"
      ]
    },
    {
      "metadata": {
        "id": "RiT5srQzKrDQ",
        "colab_type": "code",
        "colab": {}
      },
      "cell_type": "code",
      "source": [
        "from string import punctuation\n",
        "\n",
        "def tokenize_comment(test_comment):\n",
        "    \n",
        "    # Remove URLs\n",
        "    test_comment = test_comment.replace('https?://[A-Za-z0-9./]+','')\n",
        "    \n",
        "    # Keep Hashtag text\n",
        "    test_comment = test_comment.replace(\"[^a-zA-Z]\", \" \")\n",
        "    \n",
        "    # Remove whitespace\n",
        "    #test_comment = test_comment.replace(' ', '')\n",
        "    \n",
        "    # Remove 1-2 letter words\n",
        "    test_comment = test_comment.replace(\"r'\\b\\w{1,2}\\b\", '')\n",
        "    \n",
        "    # Remove numbers\n",
        "    test_comment = test_comment.replace('\\d+', '')\n",
        "    \n",
        "    # Lowercase\n",
        "    test_comment = test_comment.lower() # lowercase\n",
        "    \n",
        "    # get rid of punctuation\n",
        "    test_text = ''.join([c for c in test_comment if c not in punctuation])\n",
        "    \n",
        "    # Remove Stopwords\n",
        "    #test_text = ''.join([word for word in test_text.split() if word not in (stop)])\n",
        "    \n",
        "    # splitting by spaces\n",
        "    test_words = [word for word in test_text.split() if word not in (stop)]\n",
        "\n",
        "    # tokens\n",
        "    test_ints = []\n",
        "    test_ints.append([vocab_to_int[word] for word in test_words if word in vocab])\n",
        "\n",
        "    return test_ints\n"
      ],
      "execution_count": 0,
      "outputs": []
    },
    {
      "metadata": {
        "id": "ktwD0x6ZKu-F",
        "colab_type": "code",
        "colab": {}
      },
      "cell_type": "code",
      "source": [
        "# test sequence padding\n",
        "#seq_length=26\n",
        "#neg_features = pad_features(test_ints_neg, seq_length)\n",
        "#pos_features = pad_features(test_ints_pos, seq_length)"
      ],
      "execution_count": 0,
      "outputs": []
    },
    {
      "metadata": {
        "id": "sghvRJ7ePl2g",
        "colab_type": "code",
        "colab": {}
      },
      "cell_type": "code",
      "source": [
        "# test conversion to tensor and pass into your model\n",
        "#neg_feature_tensor = torch.from_numpy(neg_features)\n",
        "#pos_feature_tensor = torch.from_numpy(pos_features)"
      ],
      "execution_count": 0,
      "outputs": []
    },
    {
      "metadata": {
        "id": "2F1guDJuPpWV",
        "colab_type": "code",
        "colab": {}
      },
      "cell_type": "code",
      "source": [
        "def predict(net, test_comment, sequence_length=43):\n",
        "    \n",
        "    net.eval()\n",
        "    \n",
        "    # tokenize review\n",
        "    test_ints = tokenize_comment(test_comment)\n",
        "    \n",
        "    # pad tokenized sequence\n",
        "    seq_length=sequence_length\n",
        "    features = pad_features(test_ints, seq_length)\n",
        "    \n",
        "    # convert to tensor to pass into your model\n",
        "    feature_tensor = torch.from_numpy(features)\n",
        "    \n",
        "    batch_size = feature_tensor.size(0)\n",
        "    \n",
        "    # initialize hidden state\n",
        "    h = net.init_hidden(batch_size)\n",
        "    \n",
        "    if(train_on_gpu):\n",
        "        feature_tensor = feature_tensor.cuda()\n",
        "    \n",
        "    # get the output from the model\n",
        "    output, h = net(feature_tensor, h)\n",
        "    \n",
        "    # convert output probabilities to predicted class (0 or 1)\n",
        "    pred = torch.round(output.squeeze()) \n",
        "    # printing output value, before rounding\n",
        "    print('Prediction value, pre-rounding: {:.6f}'.format(output.item()))\n",
        "    \n",
        "    # print custom response\n",
        "    if(pred.item()==1):\n",
        "        print(\"Positive comment detected!\")\n",
        "    else:\n",
        "        print(\"Negative comment detected.\")"
      ],
      "execution_count": 0,
      "outputs": []
    },
    {
      "metadata": {
        "id": "auhpBi-_KlOa",
        "colab_type": "code",
        "colab": {}
      },
      "cell_type": "code",
      "source": [
        "# negative test comment\n",
        "test_comment_neg = \"Ashamed of my country today. This ban in hurtful and completely unnecessary. @realDonaldTrump, for someone so seemingly obsessed with national security, why are you stripping the rights of people who just want to protect us?! #transmilitaryban\"\n",
        "test_comment_neg2 = \"This is bad!\"\n",
        "live_test_neg = \"\"\n",
        "\n",
        "# positive test comment\n",
        "test_comment_pos = \"Christopher Nolan is the kind of man who is given a release date for a film that has no title, probably just a draft of a script, and no cast. If that’s not POWER than I don’t know what is. #ChristopherNolan #King\"\n",
        "test_comment_pos2 = \"This is good.\"\n",
        "live_test_pos = \"\""
      ],
      "execution_count": 0,
      "outputs": []
    },
    {
      "metadata": {
        "id": "yDmnHEiIPt4A",
        "colab_type": "code",
        "outputId": "f138cefa-8515-48ae-a349-8818ca283a83",
        "colab": {
          "base_uri": "https://localhost:8080/",
          "height": 50
        }
      },
      "cell_type": "code",
      "source": [
        "# Negative test 1\n",
        "seq_length=26 # good to use the length that was trained on\n",
        "\n",
        "predict(net, test_comment_neg, seq_length)"
      ],
      "execution_count": 58,
      "outputs": [
        {
          "output_type": "stream",
          "text": [
            "Prediction value, pre-rounding: 0.012674\n",
            "Negative comment detected.\n"
          ],
          "name": "stdout"
        }
      ]
    },
    {
      "metadata": {
        "id": "-VEqXttqSBhv",
        "colab_type": "code",
        "outputId": "aa50e211-908c-409a-bb94-c9cd69a60835",
        "colab": {
          "base_uri": "https://localhost:8080/",
          "height": 50
        }
      },
      "cell_type": "code",
      "source": [
        "# Negative test 2\n",
        "seq_length=26 \n",
        "predict(net, test_comment_neg2, seq_length)"
      ],
      "execution_count": 59,
      "outputs": [
        {
          "output_type": "stream",
          "text": [
            "Prediction value, pre-rounding: 0.000890\n",
            "Negative comment detected.\n"
          ],
          "name": "stdout"
        }
      ]
    },
    {
      "metadata": {
        "id": "4NvLXn11P0lO",
        "colab_type": "code",
        "outputId": "611499a8-28d9-4dd9-9a1b-a68af970aacb",
        "colab": {
          "base_uri": "https://localhost:8080/",
          "height": 50
        }
      },
      "cell_type": "code",
      "source": [
        "# Positive Test 1\n",
        "seq_length=26 \n",
        "\n",
        "predict(net, test_comment_pos, seq_length)"
      ],
      "execution_count": 60,
      "outputs": [
        {
          "output_type": "stream",
          "text": [
            "Prediction value, pre-rounding: 0.999644\n",
            "Positive comment detected!\n"
          ],
          "name": "stdout"
        }
      ]
    },
    {
      "metadata": {
        "id": "Az1VUUTAk1_H",
        "colab_type": "code",
        "outputId": "ba05c64e-74bd-4764-8e76-e4d2db3d24c8",
        "colab": {
          "base_uri": "https://localhost:8080/",
          "height": 50
        }
      },
      "cell_type": "code",
      "source": [
        "# Positive Test 2\n",
        "seq_length=26 \n",
        "predict(net, test_comment_pos2, seq_length)"
      ],
      "execution_count": 61,
      "outputs": [
        {
          "output_type": "stream",
          "text": [
            "Prediction value, pre-rounding: 0.999474\n",
            "Positive comment detected!\n"
          ],
          "name": "stdout"
        }
      ]
    },
    {
      "metadata": {
        "id": "CRZxJnBJY-vm",
        "colab_type": "code",
        "colab": {}
      },
      "cell_type": "code",
      "source": [
        "if 1==0:\n",
        "  # Live test \n",
        "  seq_length=26 \n",
        "  print(predict(net, live_test_pos, seq_length))\n",
        "  print('\\n')\n",
        "  print(predict(net, live_test_neg, seq_length))"
      ],
      "execution_count": 0,
      "outputs": []
    },
    {
      "metadata": {
        "id": "huSnfWX5n_FX",
        "colab_type": "code",
        "colab": {}
      },
      "cell_type": "code",
      "source": [
        ""
      ],
      "execution_count": 0,
      "outputs": []
    },
    {
      "metadata": {
        "id": "Q0lyh_6hrcrn",
        "colab_type": "text"
      },
      "cell_type": "markdown",
      "source": [
        "# **Conclusion**\n",
        "\n",
        "\n",
        "\n",
        "\n",
        "\n",
        "\n"
      ]
    },
    {
      "metadata": {
        "id": "yatHxHvVsvMB",
        "colab_type": "text"
      },
      "cell_type": "markdown",
      "source": [
        "\n",
        "1.  The LSTM RNN was better at classifiying tweets as positive or negative as compared to a Random Forest Classifier.\n",
        "2.  The presence of stop words does not seem to impair the RNN.\n",
        "3. The RNN does struggle with short and simple negative comments. This could be due to:\n",
        "\n",
        "    *   The limited vocabulary present in the corpus.\n",
        "    *   A lack of context.\n",
        " "
      ]
    },
    {
      "metadata": {
        "id": "EXlZWMwnsxQQ",
        "colab_type": "text"
      },
      "cell_type": "markdown",
      "source": [
        "# **Future Work**\n",
        "\n"
      ]
    },
    {
      "metadata": {
        "id": "uKT6ZFfwsxEs",
        "colab_type": "text"
      },
      "cell_type": "markdown",
      "source": [
        "\n",
        "*   The next investigative work I plan to do is to feed the RNN an embedding layer trained with Word2Vec or Sense2Vec weights. This could illuminate if the contextual issue is why the test string failed.\n",
        "* Additionally I will investigate using part of pseech tagging to improve the model.\n",
        "*   I would also like to add more data to my dataset, pulling tweets using filters based on product brands and entertainment. \n",
        "* Lastly I would like to develop a multi label classifier that predicts neutral sentiment as well.\n",
        "\n"
      ]
    },
    {
      "metadata": {
        "id": "tZvFoY_2srte",
        "colab_type": "code",
        "colab": {}
      },
      "cell_type": "code",
      "source": [
        ""
      ],
      "execution_count": 0,
      "outputs": []
    }
  ]
}