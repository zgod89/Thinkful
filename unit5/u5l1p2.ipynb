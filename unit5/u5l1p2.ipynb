{
 "cells": [
  {
   "cell_type": "code",
   "execution_count": 1,
   "metadata": {},
   "outputs": [
    {
     "name": "stdout",
     "output_type": "stream",
     "text": [
      "[17, 20, 26, 31, 44, 54, 55, 77, 93]\n"
     ]
    }
   ],
   "source": [
    "def quickSort(lst):\n",
    "    quickSortHelper(lst, 0, len(lst)-1)\n",
    "    \n",
    "def quickSortHelper(lst, first, last):\n",
    "    if first<last:\n",
    "        splitpoint = partition(lst, first, last)\n",
    "        \n",
    "        quickSortHelper(lst, first, splitpoint-1)\n",
    "        quickSortHelper(lst, splitpoint+1, last)\n",
    "        \n",
    "def partition(lst, first, last):\n",
    "    pivotvalue = lst[first]\n",
    "    \n",
    "    leftmark = first+1\n",
    "    rightmark = last\n",
    "    \n",
    "    done = False\n",
    "    while not done:\n",
    "        \n",
    "        while leftmark <= rightmark and lst[leftmark] <= pivotvalue:\n",
    "            leftmark = leftmark + 1\n",
    "            \n",
    "        while lst[rightmark] >= pivotvalue and rightmark >= leftmark:\n",
    "            rightmark = rightmark -1\n",
    "            \n",
    "        if rightmark < leftmark:\n",
    "            done = True\n",
    "        else:\n",
    "            temp = lst[leftmark]\n",
    "            lst[leftmark] = lst[rightmark]\n",
    "            lst[rightmark] = temp\n",
    "            \n",
    "    temp = lst[first]\n",
    "    lst[first] = lst[rightmark]\n",
    "    lst[rightmark] = temp\n",
    "    return rightmark\n",
    "\n",
    "lst = [54,26,93,17,77,31,44,55,20]\n",
    "\n",
    "quickSort(lst)\n",
    "print(lst)\n",
    "        "
   ]
  },
  {
   "cell_type": "code",
   "execution_count": null,
   "metadata": {},
   "outputs": [],
   "source": []
  }
 ],
 "metadata": {
  "kernelspec": {
   "display_name": "Python 3",
   "language": "python",
   "name": "python3"
  },
  "language_info": {
   "codemirror_mode": {
    "name": "ipython",
    "version": 3
   },
   "file_extension": ".py",
   "mimetype": "text/x-python",
   "name": "python",
   "nbconvert_exporter": "python",
   "pygments_lexer": "ipython3",
   "version": "3.7.1"
  }
 },
 "nbformat": 4,
 "nbformat_minor": 2
}
