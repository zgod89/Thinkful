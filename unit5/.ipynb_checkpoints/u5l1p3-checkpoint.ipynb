{
 "cells": [
  {
   "cell_type": "code",
   "execution_count": 35,
   "metadata": {},
   "outputs": [],
   "source": [
    "class TreeNode:\n",
    "    def __init__(self, value):\n",
    "        self.left = None;\n",
    "        self.right = None;\n",
    "        self.data = value;\n",
    "\n",
    "class Tree:\n",
    "    def __init__(self):\n",
    "        self.root = None;\n",
    "\n",
    "    def addNode(self, node, value):\n",
    "        if(node==None):\n",
    "            self.root = TreeNode(value);\n",
    "        else:\n",
    "            if(value<node.data):\n",
    "                if(node.left==None):\n",
    "                    node.left = TreeNode(value)\n",
    "                else:\n",
    "                    self.addNode(node.left, value);\n",
    "            else:\n",
    "                if(node.right==None):\n",
    "                    node.right = TreeNode(value)\n",
    "                else:\n",
    "                    self.addNode(node.right, value);\n",
    "\n",
    "    def printInorder(self, node):\n",
    "        if(node!=None):\n",
    "            self.printInorder(node.left)\n",
    "            print(node.data)\n",
    "            self.printInorder(node.right)\n",
    "\n",
    "def main():\n",
    "    testTree = Tree()\n",
    "    testTree.addNode(testTree.root, 200)\n",
    "    testTree.addNode(testTree.root, 300)\n",
    "    testTree.addNode(testTree.root, 100)\n",
    "    testTree.addNode(testTree.root, 30)\n",
    "    testTree.printInorder(testTree.root)"
   ]
  },
  {
   "cell_type": "code",
   "execution_count": 37,
   "metadata": {},
   "outputs": [
    {
     "name": "stdout",
     "output_type": "stream",
     "text": [
      "30\n",
      "100\n",
      "200\n",
      "300\n"
     ]
    }
   ],
   "source": [
    "main()"
   ]
  }
 ],
 "metadata": {
  "kernelspec": {
   "display_name": "Python 3",
   "language": "python",
   "name": "python3"
  },
  "language_info": {
   "codemirror_mode": {
    "name": "ipython",
    "version": 3
   },
   "file_extension": ".py",
   "mimetype": "text/x-python",
   "name": "python",
   "nbconvert_exporter": "python",
   "pygments_lexer": "ipython3",
   "version": "3.7.1"
  }
 },
 "nbformat": 4,
 "nbformat_minor": 2
}
