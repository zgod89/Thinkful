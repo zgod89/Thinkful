{
 "cells": [
  {
   "cell_type": "code",
   "execution_count": 3,
   "metadata": {},
   "outputs": [
    {
     "name": "stdout",
     "output_type": "stream",
     "text": [
      "4613732\n"
     ]
    }
   ],
   "source": [
    "import math\n",
    "# Solution for # 2\n",
    "from math import sqrt\n",
    "def F(n):\n",
    "    return round(((1+sqrt(5))**n-(1-sqrt(5))**n)/(2**n*sqrt(5)))\n",
    "\n",
    "test_lst = [i for i in range(1,40)]\n",
    "fib_lst = []\n",
    "for n in test_lst:\n",
    "    fib_lst.append(F(n))\n",
    "    \n",
    "# Build Fib Sequ\n",
    "fib_lst = [i for i in fib_lst if i < 4000000 and i%2==0]\n",
    "\n",
    "b = sum(fib_lst)\n",
    "print(b)"
   ]
  },
  {
   "cell_type": "code",
   "execution_count": 4,
   "metadata": {},
   "outputs": [
    {
     "name": "stdout",
     "output_type": "stream",
     "text": [
      "71\n",
      "839\n",
      "1471\n",
      "6857\n"
     ]
    }
   ],
   "source": [
    "# Solution for #3\n",
    "# A function to print all prime factors of  \n",
    "# a given number n \n",
    "def primeFactors(n): \n",
    "      \n",
    "    # Print the number of two's that divide n \n",
    "    while n % 2 == 0: \n",
    "        print(2), \n",
    "        n = n / 2\n",
    "          \n",
    "    # n must be odd at this point \n",
    "    # so a skip of 2 ( i = i + 2) can be used \n",
    "    for i in range(3,int(math.sqrt(n))+1,2): \n",
    "          \n",
    "        # while i divides n , print i ad divide n \n",
    "        while n % i== 0: \n",
    "            print(i), \n",
    "            n = n / i \n",
    "              \n",
    "    # Condition if n is a prime \n",
    "    # number greater than 2 \n",
    "    if n > 2: \n",
    "        print(n) \n",
    "        \n",
    "primeFactors(600851475143)"
   ]
  },
  {
   "cell_type": "code",
   "execution_count": 10,
   "metadata": {},
   "outputs": [
    {
     "name": "stdout",
     "output_type": "stream",
     "text": [
      "906609\n"
     ]
    }
   ],
   "source": [
    "# 4. Find the largest palindrome made from \n",
    "# the product of two 3-digit numbers.\n",
    "def ispalindrome(n):\n",
    "    return str(n) == str(n)[::-1]\n",
    "\n",
    "mylist=[]\n",
    "for first_num in range(100,1000):\n",
    "    for second_num in range(100,1000):\n",
    "        item = first_num*second_num\n",
    "        if ispalindrome(item):\n",
    "            mylist.append(item)\n",
    "print(max(mylist))"
   ]
  },
  {
   "cell_type": "code",
   "execution_count": 20,
   "metadata": {},
   "outputs": [
    {
     "name": "stdout",
     "output_type": "stream",
     "text": [
      "found an answer: 232792560\n"
     ]
    }
   ],
   "source": [
    "#5. What is the smallest positive number that is evenly \n",
    "# divisible by all of the numbers from 1 to 20?\n",
    "check_list = [i for i in range(1,21)]\n",
    "\n",
    "def find_solution(step):\n",
    "    for num in range(step, 999999999, step):\n",
    "        if all(num % n == 0 for n in check_list):\n",
    "            return num\n",
    "    return None\n",
    "\n",
    "if __name__ == '__main__':\n",
    "    solution = find_solution(20)\n",
    "    if solution is None:\n",
    "        print(\"No answer found\")\n",
    "    else:\n",
    "        print(\"found an answer:\", solution)"
   ]
  },
  {
   "cell_type": "code",
   "execution_count": 23,
   "metadata": {},
   "outputs": [
    {
     "data": {
      "text/plain": [
       "25164150"
      ]
     },
     "execution_count": 23,
     "metadata": {},
     "output_type": "execute_result"
    }
   ],
   "source": [
    "#6. Find the difference between the sum of the squares of the first \n",
    "# one hundred natural numbers and the square of the sum.\n",
    "def sum_sq(value):\n",
    "    # list of product of all unique pairs (ignoring order)  \n",
    "    # of numbers in the range 1 to value, both included\n",
    "    t = [i*j for i in range(1, value) for j in range(i+1, value+1)]\n",
    "    return 2 * sum(t)\n",
    "\n",
    "sum_sq(100)"
   ]
  },
  {
   "cell_type": "code",
   "execution_count": 24,
   "metadata": {},
   "outputs": [
    {
     "name": "stdout",
     "output_type": "stream",
     "text": [
      "104743\n"
     ]
    }
   ],
   "source": [
    "#7. What is the 10 001st prime number?\n",
    "def eratosthenes():\n",
    "    D = {}  \n",
    "    q = 2   \n",
    "    while 1:\n",
    "        if q not in D:\n",
    "            yield q        \n",
    "            D[q*q] = [q]   \n",
    "        else:\n",
    "            for p in D[q]: \n",
    "                D.setdefault(p+q,[]).append(p)\n",
    "            del D[q]       \n",
    "        q += 1\n",
    "\n",
    "def nth_prime(n):\n",
    "    for i, prime in enumerate(eratosthenes()):\n",
    "        if i == n - 1:\n",
    "            return prime\n",
    "\n",
    "print(nth_prime(10001))"
   ]
  },
  {
   "cell_type": "code",
   "execution_count": 32,
   "metadata": {},
   "outputs": [
    {
     "name": "stdout",
     "output_type": "stream",
     "text": [
      "23514624000\n"
     ]
    }
   ],
   "source": [
    "#8. Find the thirteen adjacent digits in the \n",
    "# 1000-digit number that have the greatest product. \n",
    "# What is the value of this product?\n",
    "s = \"7316717653133062491922511967442657474235534919493496983520312774506326239578318016984801869478851843858615607891129494954595017379583319528532088055111254069874715852386305071569329096329522744304355766896648950445244523161731856403098711121722383113622298934233803081353362766142828064444866452387493035890729629049156044077239071381051585930796086670172427121883998797908792274921901699720888093776657273330010533678812202354218097512545405947522435258490771167055601360483958644670632441572215539753697817977846174064955149290862569321978468622482839722413756570560574902614079729686524145351004748216637048440319989000889524345065854122758866688116427171479924442928230863465674813919123162824586178664583591245665294765456828489128831426076900422421902267105562632111110937054421750694165896040807198403850962455444362981230987879927244284909188845801561660979191338754992005240636899125607176060588611646710940507754100225698315520005593572972571636269561882670428252483600823257530420752963450\"\n",
    "     \n",
    "largestProduct = 0\n",
    "\n",
    "for i in range(0, len(s) - 13):\n",
    "\n",
    "    product = 1\n",
    "\n",
    "    for j in range(i, i + 13):\n",
    "        product *= int(s[j: j + 1])\n",
    "\n",
    "    if product > largestProduct:\n",
    "        largestProduct = product\n",
    "\n",
    "print (largestProduct)"
   ]
  },
  {
   "cell_type": "code",
   "execution_count": 33,
   "metadata": {},
   "outputs": [
    {
     "name": "stdout",
     "output_type": "stream",
     "text": [
      "31875000\n"
     ]
    }
   ],
   "source": [
    "#9. There exists exactly one Pythagorean triplet for which a + b + c = 1000.\n",
    "# Find the product abc.\n",
    "\n",
    "for a in range(1, 1000):\n",
    "     for b in range(a, 1000):\n",
    "         c = 1000 - a - b\n",
    "         if c > 0:\n",
    "             if c*c == a*a + b*b:\n",
    "                 print (a*b*c)\n",
    "                 break"
   ]
  },
  {
   "cell_type": "code",
   "execution_count": 41,
   "metadata": {},
   "outputs": [
    {
     "name": "stdout",
     "output_type": "stream",
     "text": [
      "142913828922\n"
     ]
    }
   ],
   "source": [
    "#10. Find the sum of all the primes below two million.\n",
    "\n",
    "# number to find summation of all primes below number\n",
    "hi = 2000000\n",
    "\n",
    "# create a set excluding even numbers\n",
    "numbers = set(range(3, hi + 1, 2)) \n",
    "\n",
    "for number in range(3, int(hi ** 0.5) + 1):\n",
    "    if number not in numbers:\n",
    "        #number must have been removed because it has a prime factor\n",
    "        continue\n",
    "\n",
    "    num = number\n",
    "    while num < hi:\n",
    "        num += number\n",
    "        if num in numbers:\n",
    "            # Remove multiples of prime found\n",
    "            numbers.remove(num)\n",
    "\n",
    "print(2 + sum(numbers))"
   ]
  },
  {
   "cell_type": "code",
   "execution_count": null,
   "metadata": {},
   "outputs": [],
   "source": []
  }
 ],
 "metadata": {
  "kernelspec": {
   "display_name": "Python 3",
   "language": "python",
   "name": "python3"
  },
  "language_info": {
   "codemirror_mode": {
    "name": "ipython",
    "version": 3
   },
   "file_extension": ".py",
   "mimetype": "text/x-python",
   "name": "python",
   "nbconvert_exporter": "python",
   "pygments_lexer": "ipython3",
   "version": "3.7.1"
  }
 },
 "nbformat": 4,
 "nbformat_minor": 2
}
