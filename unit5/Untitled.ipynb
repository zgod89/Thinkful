{
 "cells": [
  {
   "cell_type": "code",
   "execution_count": null,
   "metadata": {},
   "outputs": [],
   "source": [
    "fibonacci_numbers = [0, 1]\n",
    "for i in range(2,4000000):\n",
    "    fibonacci_numbers.append(fibonacci_numbers[i-1]+fibonacci_numbers[i-2])\n",
    "\n",
    "# change this value for a different result\n",
    "#nterms = [i for i in range(0, 4000000)]\n",
    "\n",
    "even_sum = 0\n",
    "\n",
    "# check if the number of terms is valid\n",
    "for i in fibonacci_numbers:\n",
    "    if i%2 == 0:\n",
    "        even_sum = even_sum+i\n",
    "    print(even_sum)\n",
    "    "
   ]
  },
  {
   "cell_type": "code",
   "execution_count": null,
   "metadata": {},
   "outputs": [],
   "source": []
  }
 ],
 "metadata": {
  "kernelspec": {
   "display_name": "Python 3",
   "language": "python",
   "name": "python3"
  },
  "language_info": {
   "codemirror_mode": {
    "name": "ipython",
    "version": 3
   },
   "file_extension": ".py",
   "mimetype": "text/x-python",
   "name": "python",
   "nbconvert_exporter": "python",
   "pygments_lexer": "ipython3",
   "version": "3.7.1"
  }
 },
 "nbformat": 4,
 "nbformat_minor": 2
}
