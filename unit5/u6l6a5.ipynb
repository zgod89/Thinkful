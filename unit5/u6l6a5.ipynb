{
  "nbformat": 4,
  "nbformat_minor": 0,
  "metadata": {
    "colab": {
      "name": "u6l6a5.ipynb",
      "version": "0.3.2",
      "provenance": []
    },
    "kernelspec": {
      "name": "python3",
      "display_name": "Python 3"
    },
    "accelerator": "GPU"
  },
  "cells": [
    {
      "metadata": {
        "id": "EOXSxxN0Xpwg",
        "colab_type": "code",
        "colab": {
          "base_uri": "https://localhost:8080/",
          "height": 34
        },
        "outputId": "30b22bae-d607-457f-c4de-6cfff0980628"
      },
      "cell_type": "code",
      "source": [
        "import tensorflow as tf\n",
        "import keras"
      ],
      "execution_count": 1,
      "outputs": [
        {
          "output_type": "stream",
          "text": [
            "Using TensorFlow backend.\n"
          ],
          "name": "stderr"
        }
      ]
    },
    {
      "metadata": {
        "id": "lOX2akO0XrgL",
        "colab_type": "code",
        "colab": {}
      },
      "cell_type": "code",
      "source": [
        "# Import the dataset\n",
        "from keras.datasets import mnist\n",
        "\n",
        "# Import various componenets for model building\n",
        "from keras.models import Sequential\n",
        "from keras.layers import Dense, Dropout, Flatten, Conv2D, MaxPooling2D\n",
        "from keras.layers import LSTM, Input, TimeDistributed\n",
        "from keras.models import Model\n",
        "from keras.optimizers import RMSprop\n",
        "\n",
        "# Import the backend\n",
        "from keras import backend as K"
      ],
      "execution_count": 0,
      "outputs": []
    },
    {
      "metadata": {
        "id": "uHTkv68BXwm7",
        "colab_type": "code",
        "colab": {
          "base_uri": "https://localhost:8080/",
          "height": 50
        },
        "outputId": "53e96085-f7df-409c-faeb-1df483a13505"
      },
      "cell_type": "code",
      "source": [
        "(x_train, y_train), (x_test, y_test) = mnist.load_data()"
      ],
      "execution_count": 3,
      "outputs": [
        {
          "output_type": "stream",
          "text": [
            "Downloading data from https://s3.amazonaws.com/img-datasets/mnist.npz\n",
            "11493376/11490434 [==============================] - 1s 0us/step\n"
          ],
          "name": "stdout"
        }
      ]
    },
    {
      "metadata": {
        "id": "JU_qnFOnXyPP",
        "colab_type": "code",
        "colab": {
          "base_uri": "https://localhost:8080/",
          "height": 840
        },
        "outputId": "d005f63c-1b5d-4844-cc4d-4989d50655ea"
      },
      "cell_type": "code",
      "source": [
        "x_train"
      ],
      "execution_count": 4,
      "outputs": [
        {
          "output_type": "execute_result",
          "data": {
            "text/plain": [
              "array([[[0, 0, 0, ..., 0, 0, 0],\n",
              "        [0, 0, 0, ..., 0, 0, 0],\n",
              "        [0, 0, 0, ..., 0, 0, 0],\n",
              "        ...,\n",
              "        [0, 0, 0, ..., 0, 0, 0],\n",
              "        [0, 0, 0, ..., 0, 0, 0],\n",
              "        [0, 0, 0, ..., 0, 0, 0]],\n",
              "\n",
              "       [[0, 0, 0, ..., 0, 0, 0],\n",
              "        [0, 0, 0, ..., 0, 0, 0],\n",
              "        [0, 0, 0, ..., 0, 0, 0],\n",
              "        ...,\n",
              "        [0, 0, 0, ..., 0, 0, 0],\n",
              "        [0, 0, 0, ..., 0, 0, 0],\n",
              "        [0, 0, 0, ..., 0, 0, 0]],\n",
              "\n",
              "       [[0, 0, 0, ..., 0, 0, 0],\n",
              "        [0, 0, 0, ..., 0, 0, 0],\n",
              "        [0, 0, 0, ..., 0, 0, 0],\n",
              "        ...,\n",
              "        [0, 0, 0, ..., 0, 0, 0],\n",
              "        [0, 0, 0, ..., 0, 0, 0],\n",
              "        [0, 0, 0, ..., 0, 0, 0]],\n",
              "\n",
              "       ...,\n",
              "\n",
              "       [[0, 0, 0, ..., 0, 0, 0],\n",
              "        [0, 0, 0, ..., 0, 0, 0],\n",
              "        [0, 0, 0, ..., 0, 0, 0],\n",
              "        ...,\n",
              "        [0, 0, 0, ..., 0, 0, 0],\n",
              "        [0, 0, 0, ..., 0, 0, 0],\n",
              "        [0, 0, 0, ..., 0, 0, 0]],\n",
              "\n",
              "       [[0, 0, 0, ..., 0, 0, 0],\n",
              "        [0, 0, 0, ..., 0, 0, 0],\n",
              "        [0, 0, 0, ..., 0, 0, 0],\n",
              "        ...,\n",
              "        [0, 0, 0, ..., 0, 0, 0],\n",
              "        [0, 0, 0, ..., 0, 0, 0],\n",
              "        [0, 0, 0, ..., 0, 0, 0]],\n",
              "\n",
              "       [[0, 0, 0, ..., 0, 0, 0],\n",
              "        [0, 0, 0, ..., 0, 0, 0],\n",
              "        [0, 0, 0, ..., 0, 0, 0],\n",
              "        ...,\n",
              "        [0, 0, 0, ..., 0, 0, 0],\n",
              "        [0, 0, 0, ..., 0, 0, 0],\n",
              "        [0, 0, 0, ..., 0, 0, 0]]], dtype=uint8)"
            ]
          },
          "metadata": {
            "tags": []
          },
          "execution_count": 4
        }
      ]
    },
    {
      "metadata": {
        "id": "_ezmibI7Xzfu",
        "colab_type": "code",
        "colab": {
          "base_uri": "https://localhost:8080/",
          "height": 50
        },
        "outputId": "7730de5f-698e-4fba-9000-47a6c4e4b8cc"
      },
      "cell_type": "code",
      "source": [
        "# Change shape \n",
        "# Note that our images are 28*28 pixels, so in reshaping to arrays we want\n",
        "# 60,000 arrays of length 784, one for each image\n",
        "x_train = x_train.reshape(60000, 784)\n",
        "x_test = x_test.reshape(10000, 784)\n",
        "\n",
        "# Convert to float32 for type consistency\n",
        "x_train = x_train.astype('float32')\n",
        "x_test = x_test.astype('float32')\n",
        "\n",
        "# Normalize values to 1 from 0 to 255 (256 values of pixels)\n",
        "x_train /= 255\n",
        "x_test /= 255\n",
        "\n",
        "# Print sample sizes\n",
        "print(x_train.shape[0], 'train samples')\n",
        "print(x_test.shape[0], 'test samples')\n",
        "\n",
        "# Convert class vectors to binary class matrices\n",
        "# So instead of one column with 10 values, create 10 binary columns\n",
        "y_train = keras.utils.to_categorical(y_train, 10)\n",
        "y_test = keras.utils.to_categorical(y_test, 10)"
      ],
      "execution_count": 5,
      "outputs": [
        {
          "output_type": "stream",
          "text": [
            "60000 train samples\n",
            "10000 test samples\n"
          ],
          "name": "stdout"
        }
      ]
    },
    {
      "metadata": {
        "id": "ZzHBshYDX18N",
        "colab_type": "code",
        "colab": {
          "base_uri": "https://localhost:8080/",
          "height": 302
        },
        "outputId": "cf5b24d2-19a5-4203-8159-0a5cf44030b4"
      },
      "cell_type": "code",
      "source": [
        "# Start with a simple sequential model\n",
        "model = Sequential()\n",
        "\n",
        "# Add dense layers to create a fully connected MLP\n",
        "# Note that we specify an input shape for the first layer, but only the first layer.\n",
        "# Relu is the activation function used\n",
        "model.add(Dense(64, activation='relu', input_shape=(784,)))\n",
        "# Dropout layers remove features and fight overfitting\n",
        "model.add(Dropout(0.1))\n",
        "model.add(Dense(64, activation='relu'))\n",
        "model.add(Dropout(0.1))\n",
        "# End with a number of units equal to the number of classes we have for our outcome\n",
        "model.add(Dense(10, activation='softmax'))\n",
        "\n",
        "model.summary()\n",
        "\n",
        "# Compile the model to put it all together.\n",
        "model.compile(loss='categorical_crossentropy',\n",
        "              optimizer=RMSprop(),\n",
        "              metrics=['accuracy'])"
      ],
      "execution_count": 6,
      "outputs": [
        {
          "output_type": "stream",
          "text": [
            "_________________________________________________________________\n",
            "Layer (type)                 Output Shape              Param #   \n",
            "=================================================================\n",
            "dense_1 (Dense)              (None, 64)                50240     \n",
            "_________________________________________________________________\n",
            "dropout_1 (Dropout)          (None, 64)                0         \n",
            "_________________________________________________________________\n",
            "dense_2 (Dense)              (None, 64)                4160      \n",
            "_________________________________________________________________\n",
            "dropout_2 (Dropout)          (None, 64)                0         \n",
            "_________________________________________________________________\n",
            "dense_3 (Dense)              (None, 10)                650       \n",
            "=================================================================\n",
            "Total params: 55,050\n",
            "Trainable params: 55,050\n",
            "Non-trainable params: 0\n",
            "_________________________________________________________________\n"
          ],
          "name": "stdout"
        }
      ]
    },
    {
      "metadata": {
        "id": "wUpKTJkNX31D",
        "colab_type": "code",
        "colab": {
          "base_uri": "https://localhost:8080/",
          "height": 423
        },
        "outputId": "57d2d5aa-3008-42b9-ea15-6e74ff8d4e57"
      },
      "cell_type": "code",
      "source": [
        "history = model.fit(x_train, y_train,\n",
        "                    batch_size=128,\n",
        "                    epochs=10,\n",
        "                    verbose=1,\n",
        "                    validation_data=(x_test, y_test))\n",
        "score = model.evaluate(x_test, y_test, verbose=0)\n",
        "print('Test loss:', score[0])\n",
        "print('Test accuracy:', score[1])"
      ],
      "execution_count": 7,
      "outputs": [
        {
          "output_type": "stream",
          "text": [
            "Train on 60000 samples, validate on 10000 samples\n",
            "Epoch 1/10\n",
            "60000/60000 [==============================] - 8s 129us/step - loss: 0.4484 - acc: 0.8684 - val_loss: 0.2012 - val_acc: 0.9402\n",
            "Epoch 2/10\n",
            "60000/60000 [==============================] - 4s 72us/step - loss: 0.2176 - acc: 0.9358 - val_loss: 0.1411 - val_acc: 0.9563\n",
            "Epoch 3/10\n",
            "60000/60000 [==============================] - 4s 68us/step - loss: 0.1632 - acc: 0.9515 - val_loss: 0.1249 - val_acc: 0.9624\n",
            "Epoch 4/10\n",
            "60000/60000 [==============================] - 4s 70us/step - loss: 0.1368 - acc: 0.9589 - val_loss: 0.1054 - val_acc: 0.9695\n",
            "Epoch 5/10\n",
            "60000/60000 [==============================] - 4s 71us/step - loss: 0.1203 - acc: 0.9646 - val_loss: 0.1002 - val_acc: 0.9703\n",
            "Epoch 6/10\n",
            "60000/60000 [==============================] - 4s 68us/step - loss: 0.1076 - acc: 0.9671 - val_loss: 0.0915 - val_acc: 0.9727\n",
            "Epoch 7/10\n",
            "60000/60000 [==============================] - 4s 65us/step - loss: 0.0965 - acc: 0.9702 - val_loss: 0.0921 - val_acc: 0.9715\n",
            "Epoch 8/10\n",
            "60000/60000 [==============================] - 4s 71us/step - loss: 0.0907 - acc: 0.9720 - val_loss: 0.0897 - val_acc: 0.9738\n",
            "Epoch 9/10\n",
            "60000/60000 [==============================] - 4s 70us/step - loss: 0.0847 - acc: 0.9735 - val_loss: 0.0847 - val_acc: 0.9747\n",
            "Epoch 10/10\n",
            "60000/60000 [==============================] - 4s 68us/step - loss: 0.0807 - acc: 0.9749 - val_loss: 0.0885 - val_acc: 0.9742\n",
            "Test loss: 0.08854593397089047\n",
            "Test accuracy: 0.9742\n"
          ],
          "name": "stdout"
        }
      ]
    },
    {
      "metadata": {
        "id": "S3b2YZfNX6JI",
        "colab_type": "code",
        "colab": {
          "base_uri": "https://localhost:8080/",
          "height": 474
        },
        "outputId": "0a4abe54-9d5a-4db2-bbb3-ebee42a1fe18"
      },
      "cell_type": "code",
      "source": [
        "# input image dimensions, from our data\n",
        "img_rows, img_cols = 28, 28\n",
        "num_classes = 10\n",
        "\n",
        "# the data, shuffled and split between train and test sets\n",
        "(x_train, y_train), (x_test, y_test) = mnist.load_data()\n",
        "\n",
        "if K.image_data_format() == 'channels_first':\n",
        "    x_train = x_train.reshape(x_train.shape[0], 1, img_rows, img_cols)\n",
        "    x_test = x_test.reshape(x_test.shape[0], 1, img_rows, img_cols)\n",
        "    input_shape = (1, img_rows, img_cols)\n",
        "else:\n",
        "    x_train = x_train.reshape(x_train.shape[0], img_rows, img_cols, 1)\n",
        "    x_test = x_test.reshape(x_test.shape[0], img_rows, img_cols, 1)\n",
        "    input_shape = (img_rows, img_cols, 1)\n",
        "\n",
        "x_train = x_train.astype('float32')\n",
        "x_test = x_test.astype('float32')\n",
        "x_train /= 255\n",
        "x_test /= 255\n",
        "print('x_train shape:', x_train.shape)\n",
        "print(x_train.shape[0], 'train samples')\n",
        "print(x_test.shape[0], 'test samples')\n",
        "\n",
        "# convert class vectors to binary class matrices\n",
        "y_train = keras.utils.to_categorical(y_train, num_classes)\n",
        "y_test = keras.utils.to_categorical(y_test, num_classes)\n",
        "\n",
        "\n",
        "# Building the Model\n",
        "model = Sequential()\n",
        "# First convolutional layer, note the specification of shape\n",
        "model.add(Conv2D(32, kernel_size=(3, 3),\n",
        "                 activation='relu',\n",
        "                 input_shape=input_shape))\n",
        "model.add(Conv2D(64, (3, 3), activation='relu'))\n",
        "model.add(MaxPooling2D(pool_size=(2, 2)))\n",
        "model.add(Dropout(0.25))\n",
        "model.add(Flatten())\n",
        "model.add(Dense(128, activation='relu'))\n",
        "model.add(Dropout(0.5))\n",
        "model.add(Dense(num_classes, activation='softmax'))\n",
        "\n",
        "model.compile(loss=keras.losses.categorical_crossentropy,\n",
        "              optimizer=keras.optimizers.Adadelta(),\n",
        "              metrics=['accuracy'])\n",
        "\n",
        "model.fit(x_train, y_train,\n",
        "          batch_size=128,\n",
        "          epochs=10,\n",
        "          verbose=1,\n",
        "          validation_data=(x_test, y_test))\n",
        "score = model.evaluate(x_test, y_test, verbose=0)\n",
        "print('Test loss:', score[0])\n",
        "print('Test accuracy:', score[1])"
      ],
      "execution_count": 8,
      "outputs": [
        {
          "output_type": "stream",
          "text": [
            "x_train shape: (60000, 28, 28, 1)\n",
            "60000 train samples\n",
            "10000 test samples\n",
            "Train on 60000 samples, validate on 10000 samples\n",
            "Epoch 1/10\n",
            "60000/60000 [==============================] - 16s 274us/step - loss: 0.2675 - acc: 0.9171 - val_loss: 0.0573 - val_acc: 0.9823\n",
            "Epoch 2/10\n",
            "60000/60000 [==============================] - 12s 201us/step - loss: 0.0885 - acc: 0.9732 - val_loss: 0.0433 - val_acc: 0.9850\n",
            "Epoch 3/10\n",
            "60000/60000 [==============================] - 12s 195us/step - loss: 0.0650 - acc: 0.9814 - val_loss: 0.0392 - val_acc: 0.9876\n",
            "Epoch 4/10\n",
            "60000/60000 [==============================] - 12s 195us/step - loss: 0.0553 - acc: 0.9836 - val_loss: 0.0335 - val_acc: 0.9892\n",
            "Epoch 5/10\n",
            "60000/60000 [==============================] - 12s 197us/step - loss: 0.0481 - acc: 0.9857 - val_loss: 0.0308 - val_acc: 0.9895\n",
            "Epoch 6/10\n",
            "60000/60000 [==============================] - 12s 195us/step - loss: 0.0453 - acc: 0.9862 - val_loss: 0.0330 - val_acc: 0.9886\n",
            "Epoch 7/10\n",
            "60000/60000 [==============================] - 12s 197us/step - loss: 0.0381 - acc: 0.9883 - val_loss: 0.0278 - val_acc: 0.9911\n",
            "Epoch 8/10\n",
            "60000/60000 [==============================] - 12s 198us/step - loss: 0.0359 - acc: 0.9890 - val_loss: 0.0293 - val_acc: 0.9908\n",
            "Epoch 9/10\n",
            "60000/60000 [==============================] - 12s 200us/step - loss: 0.0329 - acc: 0.9895 - val_loss: 0.0307 - val_acc: 0.9903\n",
            "Epoch 10/10\n",
            "60000/60000 [==============================] - 12s 196us/step - loss: 0.0308 - acc: 0.9907 - val_loss: 0.0265 - val_acc: 0.9922\n",
            "Test loss: 0.02648978161076375\n",
            "Test accuracy: 0.9922\n"
          ],
          "name": "stdout"
        }
      ]
    },
    {
      "metadata": {
        "id": "f36w1IMTYAiO",
        "colab_type": "code",
        "colab": {
          "base_uri": "https://localhost:8080/",
          "height": 238
        },
        "outputId": "34f3882d-b195-473d-be5c-5239d327bfd6"
      },
      "cell_type": "code",
      "source": [
        "# Training parameters.\n",
        "batch_size = 64\n",
        "num_classes = 10\n",
        "epochs = 3\n",
        "\n",
        "# Embedding dimensions.\n",
        "row_hidden = 32\n",
        "col_hidden = 32\n",
        "\n",
        "# The data, shuffled and split between train and test sets.\n",
        "(x_train, y_train), (x_test, y_test) = mnist.load_data()\n",
        "\n",
        "# Reshapes data to 4D for Hierarchical RNN.\n",
        "x_train = x_train.reshape(x_train.shape[0], 28, 28, 1)\n",
        "x_test = x_test.reshape(x_test.shape[0], 28, 28, 1)\n",
        "x_train = x_train.astype('float32')\n",
        "x_test = x_test.astype('float32')\n",
        "x_train /= 255\n",
        "x_test /= 255\n",
        "print('x_train shape:', x_train.shape)\n",
        "print(x_train.shape[0], 'train samples')\n",
        "print(x_test.shape[0], 'test samples')\n",
        "\n",
        "# Converts class vectors to binary class matrices.\n",
        "y_train = keras.utils.to_categorical(y_train, num_classes)\n",
        "y_test = keras.utils.to_categorical(y_test, num_classes)\n",
        "\n",
        "row, col, pixel = x_train.shape[1:]\n",
        "\n",
        "# 4D input.\n",
        "x = Input(shape=(row, col, pixel))\n",
        "\n",
        "# Encodes a row of pixels using TimeDistributed Wrapper.\n",
        "encoded_rows = TimeDistributed(LSTM(row_hidden))(x)\n",
        "\n",
        "# Encodes columns of encoded rows.\n",
        "encoded_columns = LSTM(col_hidden)(encoded_rows)\n",
        "\n",
        "# Final predictions and model.\n",
        "prediction = Dense(num_classes, activation='softmax')(encoded_columns)\n",
        "model = Model(x, prediction)\n",
        "model.compile(loss='categorical_crossentropy',\n",
        "              optimizer='rmsprop',\n",
        "              metrics=['accuracy'])\n",
        "\n",
        "# Training.\n",
        "model.fit(x_train, y_train,\n",
        "          batch_size=batch_size,\n",
        "          epochs=epochs,\n",
        "          verbose=1,\n",
        "          validation_data=(x_test, y_test))\n",
        "\n",
        "# Evaluation.\n",
        "scores = model.evaluate(x_test, y_test, verbose=0)\n",
        "print('Test loss:', scores[0])\n",
        "print('Test accuracy:', scores[1])"
      ],
      "execution_count": 9,
      "outputs": [
        {
          "output_type": "stream",
          "text": [
            "x_train shape: (60000, 28, 28, 1)\n",
            "60000 train samples\n",
            "10000 test samples\n",
            "Train on 60000 samples, validate on 10000 samples\n",
            "Epoch 1/3\n",
            "60000/60000 [==============================] - 246s 4ms/step - loss: 0.8989 - acc: 0.6976 - val_loss: 0.5309 - val_acc: 0.8234\n",
            "Epoch 2/3\n",
            "60000/60000 [==============================] - 262s 4ms/step - loss: 0.3395 - acc: 0.8947 - val_loss: 0.3157 - val_acc: 0.8916\n",
            "Epoch 3/3\n",
            "60000/60000 [==============================] - 199s 3ms/step - loss: 0.2195 - acc: 0.9326 - val_loss: 0.1993 - val_acc: 0.9374\n",
            "Test loss: 0.19926961847543717\n",
            "Test accuracy: 0.9374\n"
          ],
          "name": "stdout"
        }
      ]
    },
    {
      "metadata": {
        "id": "EnKaelXvZCAY",
        "colab_type": "code",
        "colab": {
          "base_uri": "https://localhost:8080/",
          "height": 558
        },
        "outputId": "aab61f69-75cd-49bf-dcbc-2e738b3f7b68"
      },
      "cell_type": "code",
      "source": [
        "history = model.fit(x_train, y_train,\n",
        "                    batch_size=64,\n",
        "                    epochs=14,\n",
        "                    verbose=1,\n",
        "                    validation_data=(x_test, y_test))\n",
        "score = model.evaluate(x_test, y_test, verbose=0)\n",
        "print('Test loss:', score[0])\n",
        "print('Test accuracy:', score[1])"
      ],
      "execution_count": 11,
      "outputs": [
        {
          "output_type": "stream",
          "text": [
            "Train on 60000 samples, validate on 10000 samples\n",
            "Epoch 1/14\n",
            "60000/60000 [==============================] - 129s 2ms/step - loss: 0.0484 - acc: 0.9850 - val_loss: 0.0770 - val_acc: 0.9768\n",
            "Epoch 2/14\n",
            "60000/60000 [==============================] - 130s 2ms/step - loss: 0.0461 - acc: 0.9855 - val_loss: 0.0422 - val_acc: 0.9865\n",
            "Epoch 3/14\n",
            "60000/60000 [==============================] - 130s 2ms/step - loss: 0.0437 - acc: 0.9860 - val_loss: 0.0530 - val_acc: 0.9847\n",
            "Epoch 4/14\n",
            "60000/60000 [==============================] - 129s 2ms/step - loss: 0.0417 - acc: 0.9869 - val_loss: 0.0551 - val_acc: 0.9827\n",
            "Epoch 5/14\n",
            "60000/60000 [==============================] - 138s 2ms/step - loss: 0.0407 - acc: 0.9873 - val_loss: 0.0466 - val_acc: 0.9859\n",
            "Epoch 6/14\n",
            "60000/60000 [==============================] - 216s 4ms/step - loss: 0.0400 - acc: 0.9876 - val_loss: 0.0505 - val_acc: 0.9853\n",
            "Epoch 7/14\n",
            "60000/60000 [==============================] - 288s 5ms/step - loss: 0.0364 - acc: 0.9888 - val_loss: 0.0661 - val_acc: 0.9806\n",
            "Epoch 8/14\n",
            "60000/60000 [==============================] - 228s 4ms/step - loss: 0.0370 - acc: 0.9883 - val_loss: 0.0471 - val_acc: 0.9848\n",
            "Epoch 9/14\n",
            "60000/60000 [==============================] - 229s 4ms/step - loss: 0.0352 - acc: 0.9887 - val_loss: 0.0463 - val_acc: 0.9860\n",
            "Epoch 10/14\n",
            "60000/60000 [==============================] - 231s 4ms/step - loss: 0.0337 - acc: 0.9892 - val_loss: 0.0565 - val_acc: 0.9829\n",
            "Epoch 11/14\n",
            "60000/60000 [==============================] - 232s 4ms/step - loss: 0.0332 - acc: 0.9899 - val_loss: 0.0530 - val_acc: 0.9842\n",
            "Epoch 12/14\n",
            "60000/60000 [==============================] - 265s 4ms/step - loss: 0.0313 - acc: 0.9904 - val_loss: 0.0633 - val_acc: 0.9830\n",
            "Epoch 13/14\n",
            "60000/60000 [==============================] - 274s 5ms/step - loss: 0.0306 - acc: 0.9904 - val_loss: 0.0577 - val_acc: 0.9838\n",
            "Epoch 14/14\n",
            "60000/60000 [==============================] - 271s 5ms/step - loss: 0.0300 - acc: 0.9904 - val_loss: 0.0537 - val_acc: 0.9844\n",
            "Test loss: 0.05368839581124484\n",
            "Test accuracy: 0.9844\n"
          ],
          "name": "stdout"
        }
      ]
    },
    {
      "metadata": {
        "id": "gRJSF4mBeoqd",
        "colab_type": "code",
        "colab": {}
      },
      "cell_type": "code",
      "source": [
        ""
      ],
      "execution_count": 0,
      "outputs": []
    }
  ]
}