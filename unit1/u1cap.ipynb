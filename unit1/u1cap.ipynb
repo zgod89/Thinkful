{
 "cells": [
  {
   "cell_type": "code",
   "execution_count": 1,
   "metadata": {},
   "outputs": [],
   "source": [
    "import seaborn as sns\n",
    "import numpy as np\n",
    "import pandas as pd\n",
    "import matplotlib.pyplot as plt\n",
    "%matplotlib inline"
   ]
  },
  {
   "cell_type": "code",
   "execution_count": 2,
   "metadata": {},
   "outputs": [
    {
     "data": {
      "text/html": [
       "<div>\n",
       "<style scoped>\n",
       "    .dataframe tbody tr th:only-of-type {\n",
       "        vertical-align: middle;\n",
       "    }\n",
       "\n",
       "    .dataframe tbody tr th {\n",
       "        vertical-align: top;\n",
       "    }\n",
       "\n",
       "    .dataframe thead th {\n",
       "        text-align: right;\n",
       "    }\n",
       "</style>\n",
       "<table border=\"1\" class=\"dataframe\">\n",
       "  <thead>\n",
       "    <tr style=\"text-align: right;\">\n",
       "      <th></th>\n",
       "      <th>Date_Time</th>\n",
       "      <th>Transaction</th>\n",
       "      <th>Item</th>\n",
       "    </tr>\n",
       "  </thead>\n",
       "  <tbody>\n",
       "    <tr>\n",
       "      <th>0</th>\n",
       "      <td>2016-10-30 09:58:11</td>\n",
       "      <td>1</td>\n",
       "      <td>Bread</td>\n",
       "    </tr>\n",
       "    <tr>\n",
       "      <th>1</th>\n",
       "      <td>2016-10-30 10:05:34</td>\n",
       "      <td>2</td>\n",
       "      <td>Scandinavian</td>\n",
       "    </tr>\n",
       "    <tr>\n",
       "      <th>2</th>\n",
       "      <td>2016-10-30 10:05:34</td>\n",
       "      <td>2</td>\n",
       "      <td>Scandinavian</td>\n",
       "    </tr>\n",
       "    <tr>\n",
       "      <th>3</th>\n",
       "      <td>2016-10-30 10:07:57</td>\n",
       "      <td>3</td>\n",
       "      <td>Hot chocolate</td>\n",
       "    </tr>\n",
       "    <tr>\n",
       "      <th>4</th>\n",
       "      <td>2016-10-30 10:07:57</td>\n",
       "      <td>3</td>\n",
       "      <td>Jam</td>\n",
       "    </tr>\n",
       "  </tbody>\n",
       "</table>\n",
       "</div>"
      ],
      "text/plain": [
       "            Date_Time  Transaction           Item\n",
       "0 2016-10-30 09:58:11            1          Bread\n",
       "1 2016-10-30 10:05:34            2   Scandinavian\n",
       "2 2016-10-30 10:05:34            2   Scandinavian\n",
       "3 2016-10-30 10:07:57            3  Hot chocolate\n",
       "4 2016-10-30 10:07:57            3            Jam"
      ]
     },
     "execution_count": 2,
     "metadata": {},
     "output_type": "execute_result"
    }
   ],
   "source": [
    "#Making a dataframe\n",
    "bakery_data = pd.read_csv('BreadBasket_DMS.csv', \n",
    "                          parse_dates=[['Date', 'Time']]\n",
    "                         )\n",
    "bakery_data.head()"
   ]
  },
  {
   "cell_type": "markdown",
   "metadata": {},
   "source": [
    "### Initial Experiment ideas \n",
    "1. Not putting an item out until a certain time of day\n",
    "2. Not selling a certain item at all\n",
    "\n",
    "\n"
   ]
  },
  {
   "cell_type": "code",
   "execution_count": 3,
   "metadata": {},
   "outputs": [
    {
     "data": {
      "text/html": [
       "<div>\n",
       "<style scoped>\n",
       "    .dataframe tbody tr th:only-of-type {\n",
       "        vertical-align: middle;\n",
       "    }\n",
       "\n",
       "    .dataframe tbody tr th {\n",
       "        vertical-align: top;\n",
       "    }\n",
       "\n",
       "    .dataframe thead th {\n",
       "        text-align: right;\n",
       "    }\n",
       "</style>\n",
       "<table border=\"1\" class=\"dataframe\">\n",
       "  <thead>\n",
       "    <tr style=\"text-align: right;\">\n",
       "      <th></th>\n",
       "      <th>Transaction</th>\n",
       "    </tr>\n",
       "  </thead>\n",
       "  <tbody>\n",
       "    <tr>\n",
       "      <th>count</th>\n",
       "      <td>21293.000000</td>\n",
       "    </tr>\n",
       "    <tr>\n",
       "      <th>mean</th>\n",
       "      <td>4951.990889</td>\n",
       "    </tr>\n",
       "    <tr>\n",
       "      <th>std</th>\n",
       "      <td>2787.758400</td>\n",
       "    </tr>\n",
       "    <tr>\n",
       "      <th>min</th>\n",
       "      <td>1.000000</td>\n",
       "    </tr>\n",
       "    <tr>\n",
       "      <th>25%</th>\n",
       "      <td>2548.000000</td>\n",
       "    </tr>\n",
       "    <tr>\n",
       "      <th>50%</th>\n",
       "      <td>5067.000000</td>\n",
       "    </tr>\n",
       "    <tr>\n",
       "      <th>75%</th>\n",
       "      <td>7329.000000</td>\n",
       "    </tr>\n",
       "    <tr>\n",
       "      <th>max</th>\n",
       "      <td>9684.000000</td>\n",
       "    </tr>\n",
       "  </tbody>\n",
       "</table>\n",
       "</div>"
      ],
      "text/plain": [
       "        Transaction\n",
       "count  21293.000000\n",
       "mean    4951.990889\n",
       "std     2787.758400\n",
       "min        1.000000\n",
       "25%     2548.000000\n",
       "50%     5067.000000\n",
       "75%     7329.000000\n",
       "max     9684.000000"
      ]
     },
     "execution_count": 3,
     "metadata": {},
     "output_type": "execute_result"
    }
   ],
   "source": [
    "bakery_data.describe()"
   ]
  },
  {
   "cell_type": "code",
   "execution_count": 4,
   "metadata": {},
   "outputs": [],
   "source": [
    "items = bakery_data.Item.unique()"
   ]
  },
  {
   "cell_type": "code",
   "execution_count": 5,
   "metadata": {},
   "outputs": [
    {
     "name": "stdout",
     "output_type": "stream",
     "text": [
      "['Bread' 'Scandinavian' 'Hot chocolate' 'Jam' 'Cookies' 'Muffin' 'Coffee'\n",
      " 'Pastry' 'Medialuna' 'Tea' 'NONE' 'Tartine' 'Basket' 'Mineral water'\n",
      " 'Farm House' 'Fudge' 'Juice' \"Ella's Kitchen Pouches\" 'Victorian Sponge'\n",
      " 'Frittata' 'Hearty & Seasonal' 'Soup' 'Pick and Mix Bowls' 'Smoothies'\n",
      " 'Cake' 'Mighty Protein' 'Chicken sand' 'Coke' 'My-5 Fruit Shoot'\n",
      " 'Focaccia' 'Sandwich' 'Alfajores' 'Eggs' 'Brownie' 'Dulce de Leche'\n",
      " 'Honey' 'The BART' 'Granola' 'Fairy Doors' 'Empanadas' 'Keeping It Local'\n",
      " 'Art Tray' 'Bowl Nic Pitt' 'Bread Pudding' 'Adjustment' 'Truffles'\n",
      " 'Chimichurri Oil' 'Bacon' 'Spread' 'Kids biscuit' 'Siblings'\n",
      " 'Caramel bites' 'Jammie Dodgers' 'Tiffin' 'Olum & polenta' 'Polenta'\n",
      " 'The Nomad' 'Hack the stack' 'Bakewell' 'Lemon and coconut' 'Toast'\n",
      " 'Scone' 'Crepes' 'Vegan mincepie' 'Bare Popcorn' 'Muesli' 'Crisps'\n",
      " 'Pintxos' 'Gingerbread syrup' 'Panatone' 'Brioche and salami'\n",
      " 'Afternoon with the baker' 'Salad' 'Chicken Stew' 'Spanish Brunch'\n",
      " 'Raspberry shortbread sandwich' 'Extra Salami or Feta' 'Duck egg'\n",
      " 'Baguette' \"Valentine's card\" 'Tshirt' 'Vegan Feast' 'Postcard'\n",
      " 'Nomad bag' 'Chocolates' 'Coffee granules ' 'Drinking chocolate spoons '\n",
      " 'Christmas common' 'Argentina Night' 'Half slice Monster ' 'Gift voucher'\n",
      " 'Cherry me Dried fruit' 'Mortimer' 'Raw bars' 'Tacos/Fajita']\n"
     ]
    }
   ],
   "source": [
    "print(items)"
   ]
  },
  {
   "cell_type": "code",
   "execution_count": 6,
   "metadata": {},
   "outputs": [
    {
     "data": {
      "text/plain": [
       "95"
      ]
     },
     "execution_count": 6,
     "metadata": {},
     "output_type": "execute_result"
    }
   ],
   "source": [
    "len(bakery_data.Item.unique())"
   ]
  },
  {
   "cell_type": "code",
   "execution_count": 7,
   "metadata": {},
   "outputs": [
    {
     "data": {
      "text/plain": [
       "'Bread'"
      ]
     },
     "execution_count": 7,
     "metadata": {},
     "output_type": "execute_result"
    }
   ],
   "source": [
    "items[0]"
   ]
  },
  {
   "cell_type": "code",
   "execution_count": 8,
   "metadata": {},
   "outputs": [
    {
     "name": "stdout",
     "output_type": "stream",
     "text": [
      "Looking for item  Bread\n",
      "Looking for item  Scandinavian\n",
      "Looking for item  Hot chocolate\n",
      "Looking for item  Jam\n",
      "Looking for item  Cookies\n",
      "Looking for item  Muffin\n",
      "Looking for item  Coffee\n",
      "Looking for item  Pastry\n",
      "Looking for item  Medialuna\n",
      "Looking for item  Tea\n",
      "Looking for item  NONE\n",
      "Looking for item  Tartine\n",
      "Looking for item  Basket\n",
      "Looking for item  Mineral water\n",
      "Looking for item  Farm House\n",
      "Looking for item  Fudge\n",
      "Looking for item  Juice\n",
      "Looking for item  Ella's Kitchen Pouches\n",
      "Looking for item  Victorian Sponge\n",
      "Looking for item  Frittata\n",
      "Looking for item  Hearty & Seasonal\n",
      "Looking for item  Soup\n",
      "Looking for item  Pick and Mix Bowls\n",
      "Looking for item  Smoothies\n",
      "Looking for item  Cake\n",
      "Looking for item  Mighty Protein\n",
      "Looking for item  Chicken sand\n",
      "Looking for item  Coke\n",
      "Looking for item  My-5 Fruit Shoot\n",
      "Looking for item  Focaccia\n",
      "Looking for item  Sandwich\n",
      "Looking for item  Alfajores\n",
      "Looking for item  Eggs\n",
      "Looking for item  Brownie\n",
      "Looking for item  Dulce de Leche\n",
      "Looking for item  Honey\n",
      "Looking for item  The BART\n",
      "Looking for item  Granola\n",
      "Looking for item  Fairy Doors\n",
      "Looking for item  Empanadas\n",
      "Looking for item  Keeping It Local\n",
      "Looking for item  Art Tray\n",
      "Looking for item  Bowl Nic Pitt\n",
      "Looking for item  Bread Pudding\n",
      "Looking for item  Adjustment\n",
      "Looking for item  Truffles\n",
      "Looking for item  Chimichurri Oil\n",
      "Looking for item  Bacon\n",
      "Looking for item  Spread\n",
      "Looking for item  Kids biscuit\n",
      "Looking for item  Siblings\n",
      "Looking for item  Caramel bites\n",
      "Looking for item  Jammie Dodgers\n",
      "Looking for item  Tiffin\n",
      "Looking for item  Olum & polenta\n",
      "Looking for item  Polenta\n",
      "Looking for item  The Nomad\n",
      "Looking for item  Hack the stack\n",
      "Looking for item  Bakewell\n",
      "Looking for item  Lemon and coconut\n",
      "Looking for item  Toast\n",
      "Looking for item  Scone\n",
      "Looking for item  Crepes\n",
      "Looking for item  Vegan mincepie\n",
      "Looking for item  Bare Popcorn\n",
      "Looking for item  Muesli\n",
      "Looking for item  Crisps\n",
      "Looking for item  Pintxos\n",
      "Looking for item  Gingerbread syrup\n",
      "Looking for item  Panatone\n",
      "Looking for item  Brioche and salami\n",
      "Looking for item  Afternoon with the baker\n",
      "Looking for item  Salad\n",
      "Looking for item  Chicken Stew\n",
      "Looking for item  Spanish Brunch\n",
      "Looking for item  Raspberry shortbread sandwich\n",
      "Looking for item  Extra Salami or Feta\n",
      "Looking for item  Duck egg\n",
      "Looking for item  Baguette\n",
      "Looking for item  Valentine's card\n",
      "Looking for item  Tshirt\n",
      "Looking for item  Vegan Feast\n",
      "Looking for item  Postcard\n",
      "Looking for item  Nomad bag\n",
      "Looking for item  Chocolates\n",
      "Looking for item  Coffee granules \n",
      "Looking for item  Drinking chocolate spoons \n",
      "Looking for item  Christmas common\n",
      "Looking for item  Argentina Night\n",
      "Looking for item  Half slice Monster \n",
      "Looking for item  Gift voucher\n",
      "Looking for item  Cherry me Dried fruit\n",
      "Looking for item  Mortimer\n",
      "Looking for item  Raw bars\n",
      "Looking for item  Tacos/Fajita\n",
      "{'Bread': 3325, 'Scandinavian': 277, 'Hot chocolate': 590, 'Jam': 149, 'Cookies': 540, 'Muffin': 370, 'Coffee': 5471, 'Pastry': 856, 'Medialuna': 616, 'Tea': 1435, 'NONE': 786, 'Tartine': 47, 'Basket': 6, 'Mineral water': 136, 'Farm House': 374, 'Fudge': 159, 'Juice': 369, \"Ella's Kitchen Pouches\": 17, 'Victorian Sponge': 7, 'Frittata': 81, 'Hearty & Seasonal': 107, 'Soup': 342, 'Pick and Mix Bowls': 12, 'Smoothies': 77, 'Cake': 1025, 'Mighty Protein': 11, 'Chicken sand': 1, 'Coke': 185, 'My-5 Fruit Shoot': 18, 'Focaccia': 54, 'Sandwich': 771, 'Alfajores': 369, 'Eggs': 28, 'Brownie': 379, 'Dulce de Leche': 13, 'Honey': 6, 'The BART': 1, 'Granola': 28, 'Fairy Doors': 2, 'Empanadas': 7, 'Keeping It Local': 63, 'Art Tray': 38, 'Bowl Nic Pitt': 2, 'Bread Pudding': 4, 'Adjustment': 1, 'Truffles': 193, 'Chimichurri Oil': 2, 'Bacon': 1, 'Spread': 2, 'Kids biscuit': 12, 'Siblings': 2, 'Caramel bites': 3, 'Jammie Dodgers': 125, 'Tiffin': 146, 'Olum & polenta': 1, 'Polenta': 1, 'The Nomad': 58, 'Hack the stack': 2, 'Bakewell': 48, 'Lemon and coconut': 6, 'Toast': 318, 'Scone': 327, 'Crepes': 6, 'Vegan mincepie': 54, 'Bare Popcorn': 5, 'Muesli': 8, 'Crisps': 14, 'Pintxos': 6, 'Gingerbread syrup': 9, 'Panatone': 5, 'Brioche and salami': 3, 'Afternoon with the baker': 44, 'Salad': 99, 'Chicken Stew': 123, 'Spanish Brunch': 172, 'Raspberry shortbread sandwich': 3, 'Extra Salami or Feta': 38, 'Duck egg': 12, 'Baguette': 152, \"Valentine's card\": 13, 'Tshirt': 21, 'Vegan Feast': 16, 'Postcard': 10, 'Nomad bag': 8, 'Chocolates': 10, 'Coffee granules ': 7, 'Drinking chocolate spoons ': 8, 'Christmas common': 11, 'Argentina Night': 7, 'Half slice Monster ': 6, 'Gift voucher': 1, 'Cherry me Dried fruit': 3, 'Mortimer': 5, 'Raw bars': 1, 'Tacos/Fajita': 11}\n"
     ]
    }
   ],
   "source": [
    "counts = {}\n",
    "\n",
    "for i in range(0,95):\n",
    "    print('Looking for item ', items[i])\n",
    "    count = 0\n",
    "    for item in bakery_data.Item:\n",
    "        if items[i] == item:\n",
    "            count = count + 1\n",
    "    counts[items[i]] = count\n",
    "    \n",
    "print(counts)\n",
    "#type(counts)"
   ]
  },
  {
   "cell_type": "markdown",
   "metadata": {},
   "source": [
    "### We can see that coffee and bread make up the largest number of transactions for all our items sold at the bakery. This is also shown in the histogram below."
   ]
  },
  {
   "cell_type": "code",
   "execution_count": 9,
   "metadata": {},
   "outputs": [
    {
     "data": {
      "image/png": "[encoded data removed]",
      "text/plain": [
       "<Figure size 432x288 with 1 Axes>"
      ]
     },
     "metadata": {},
     "output_type": "display_data"
    }
   ],
   "source": [
    "y = counts.values()\n",
    "x = range(0, len(y))\n",
    "plt.bar(x, y)\n",
    "plt.grid(True)"
   ]
  },
  {
   "cell_type": "markdown",
   "metadata": {},
   "source": [
    "### That's a little crowded, so I'll present fewer variables since our big ticket items hold the most potential for increasing revenue. "
   ]
  },
  {
   "cell_type": "code",
   "execution_count": 10,
   "metadata": {},
   "outputs": [
    {
     "name": "stdout",
     "output_type": "stream",
     "text": [
      "Looking for item  Bread\n",
      "Looking for item  Scandinavian\n",
      "Looking for item  Hot chocolate\n",
      "Looking for item  Jam\n",
      "Looking for item  Cookies\n",
      "Looking for item  Muffin\n",
      "Looking for item  Coffee\n",
      "{'Bread': 3325, 'Scandinavian': 277, 'Hot chocolate': 590, 'Jam': 149, 'Cookies': 540, 'Muffin': 370, 'Coffee': 5471}\n"
     ]
    }
   ],
   "source": [
    "counts2 = {}\n",
    "\n",
    "for i in range(0,7):\n",
    "    print('Looking for item ', items[i])\n",
    "    count2 = 0\n",
    "    for item in bakery_data.Item:\n",
    "        if items[i] == item:\n",
    "            count2 = count2 + 1\n",
    "    counts2[items[i]] = count2\n",
    "    \n",
    "print(counts2)\n",
    "#type(counts)"
   ]
  },
  {
   "cell_type": "code",
   "execution_count": 11,
   "metadata": {},
   "outputs": [
    {
     "data": {
      "image/png": "[encoded data removed]",
      "text/plain": [
       "<Figure size 432x288 with 1 Axes>"
      ]
     },
     "metadata": {},
     "output_type": "display_data"
    }
   ],
   "source": [
    "y = counts2.values()\n",
    "x = range(0, len(y))\n",
    "plt.bar(x, y)\n",
    "plt.grid(True)"
   ]
  },
  {
   "cell_type": "markdown",
   "metadata": {},
   "source": [
    "### Much easier to interpret just how many transactions involve coffee and bread. While both are perishable, bread has a higher cost than coffee to produce, so this is likely our largest area for waste of overproduction. Let’s examine the sales of bread more closely. "
   ]
  },
  {
   "cell_type": "code",
   "execution_count": 12,
   "metadata": {},
   "outputs": [
    {
     "data": {
      "text/html": [
       "<div>\n",
       "<style scoped>\n",
       "    .dataframe tbody tr th:only-of-type {\n",
       "        vertical-align: middle;\n",
       "    }\n",
       "\n",
       "    .dataframe tbody tr th {\n",
       "        vertical-align: top;\n",
       "    }\n",
       "\n",
       "    .dataframe thead th {\n",
       "        text-align: right;\n",
       "    }\n",
       "</style>\n",
       "<table border=\"1\" class=\"dataframe\">\n",
       "  <thead>\n",
       "    <tr style=\"text-align: right;\">\n",
       "      <th></th>\n",
       "      <th>Date_Time</th>\n",
       "      <th>Transaction</th>\n",
       "      <th>Item</th>\n",
       "    </tr>\n",
       "  </thead>\n",
       "  <tbody>\n",
       "    <tr>\n",
       "      <th>0</th>\n",
       "      <td>2016-10-30 09:58:11</td>\n",
       "      <td>1</td>\n",
       "      <td>Bread</td>\n",
       "    </tr>\n",
       "    <tr>\n",
       "      <th>9</th>\n",
       "      <td>2016-10-30 10:13:03</td>\n",
       "      <td>5</td>\n",
       "      <td>Bread</td>\n",
       "    </tr>\n",
       "    <tr>\n",
       "      <th>18</th>\n",
       "      <td>2016-10-30 10:20:51</td>\n",
       "      <td>8</td>\n",
       "      <td>Bread</td>\n",
       "    </tr>\n",
       "    <tr>\n",
       "      <th>19</th>\n",
       "      <td>2016-10-30 10:21:59</td>\n",
       "      <td>9</td>\n",
       "      <td>Bread</td>\n",
       "    </tr>\n",
       "    <tr>\n",
       "      <th>23</th>\n",
       "      <td>2016-10-30 10:27:21</td>\n",
       "      <td>11</td>\n",
       "      <td>Bread</td>\n",
       "    </tr>\n",
       "  </tbody>\n",
       "</table>\n",
       "</div>"
      ],
      "text/plain": [
       "             Date_Time  Transaction   Item\n",
       "0  2016-10-30 09:58:11            1  Bread\n",
       "9  2016-10-30 10:13:03            5  Bread\n",
       "18 2016-10-30 10:20:51            8  Bread\n",
       "19 2016-10-30 10:21:59            9  Bread\n",
       "23 2016-10-30 10:27:21           11  Bread"
      ]
     },
     "execution_count": 12,
     "metadata": {},
     "output_type": "execute_result"
    }
   ],
   "source": [
    "# Creating a new DF with only transactions involving bread\n",
    "alist = ['Bread']\n",
    "\n",
    "df = bakery_data[bakery_data['Item'].isin(alist)]\n",
    "\n",
    "df.head()"
   ]
  },
  {
   "cell_type": "code",
   "execution_count": 13,
   "metadata": {},
   "outputs": [
    {
     "data": {
      "text/html": [
       "<div>\n",
       "<style scoped>\n",
       "    .dataframe tbody tr th:only-of-type {\n",
       "        vertical-align: middle;\n",
       "    }\n",
       "\n",
       "    .dataframe tbody tr th {\n",
       "        vertical-align: top;\n",
       "    }\n",
       "\n",
       "    .dataframe thead th {\n",
       "        text-align: right;\n",
       "    }\n",
       "</style>\n",
       "<table border=\"1\" class=\"dataframe\">\n",
       "  <thead>\n",
       "    <tr style=\"text-align: right;\">\n",
       "      <th></th>\n",
       "      <th>Date_Time</th>\n",
       "      <th>Item</th>\n",
       "    </tr>\n",
       "    <tr>\n",
       "      <th>Transaction</th>\n",
       "      <th></th>\n",
       "      <th></th>\n",
       "    </tr>\n",
       "  </thead>\n",
       "  <tbody>\n",
       "    <tr>\n",
       "      <th>1</th>\n",
       "      <td>2016-10-30 09:58:11</td>\n",
       "      <td>Bread</td>\n",
       "    </tr>\n",
       "    <tr>\n",
       "      <th>5</th>\n",
       "      <td>2016-10-30 10:13:03</td>\n",
       "      <td>Bread</td>\n",
       "    </tr>\n",
       "    <tr>\n",
       "      <th>8</th>\n",
       "      <td>2016-10-30 10:20:51</td>\n",
       "      <td>Bread</td>\n",
       "    </tr>\n",
       "    <tr>\n",
       "      <th>9</th>\n",
       "      <td>2016-10-30 10:21:59</td>\n",
       "      <td>Bread</td>\n",
       "    </tr>\n",
       "    <tr>\n",
       "      <th>11</th>\n",
       "      <td>2016-10-30 10:27:21</td>\n",
       "      <td>Bread</td>\n",
       "    </tr>\n",
       "  </tbody>\n",
       "</table>\n",
       "</div>"
      ],
      "text/plain": [
       "                      Date_Time   Item\n",
       "Transaction                           \n",
       "1           2016-10-30 09:58:11  Bread\n",
       "5           2016-10-30 10:13:03  Bread\n",
       "8           2016-10-30 10:20:51  Bread\n",
       "9           2016-10-30 10:21:59  Bread\n",
       "11          2016-10-30 10:27:21  Bread"
      ]
     },
     "execution_count": 13,
     "metadata": {},
     "output_type": "execute_result"
    }
   ],
   "source": [
    "# Changing the index to Transaction \n",
    "df = df.set_index('Transaction')\n",
    "\n",
    "df.head()"
   ]
  },
  {
   "cell_type": "code",
   "execution_count": 14,
   "metadata": {},
   "outputs": [
    {
     "data": {
      "text/plain": [
       "count    3325.000000\n",
       "mean       11.869774\n",
       "std         2.333803\n",
       "min         1.000000\n",
       "25%        10.000000\n",
       "50%        12.000000\n",
       "75%        14.000000\n",
       "max        19.000000\n",
       "Name: Date_Time, dtype: float64"
      ]
     },
     "execution_count": 14,
     "metadata": {},
     "output_type": "execute_result"
    }
   ],
   "source": [
    "# Descriptive statistics for bread sales\n",
    "df.Date_Time.dt.hour.describe()"
   ]
  },
  {
   "cell_type": "code",
   "execution_count": 15,
   "metadata": {},
   "outputs": [
    {
     "data": {
      "text/plain": [
       "<matplotlib.axes._subplots.AxesSubplot at 0x23345a06710>"
      ]
     },
     "execution_count": 15,
     "metadata": {},
     "output_type": "execute_result"
    },
    {
     "data": {
      "image/png": "[encoded data removed]",
      "text/plain": [
       "<Figure size 432x288 with 1 Axes>"
      ]
     },
     "metadata": {},
     "output_type": "display_data"
    }
   ],
   "source": [
    "# Making a histogram to show the distribution\n",
    "# of transaction hours for bread\n",
    "df.Date_Time.dt.hour.hist()\n"
   ]
  },
  {
   "cell_type": "markdown",
   "metadata": {},
   "source": [
    "### We see that there are 3,325 bread sales in our dataset, with a mean transaction hour of 11.8 which is about noon. We also see that the range in sale hour is wide, from 1am to 7pm. Given the distribution of transaction hours being skewed left, we can assume that we have some outliers in the early morning. As such we'll want to remove those. \n",
    "\n",
    "### One standard deviation is 2.3 hours, while two would be 4.6 hours. We can probably reduce the hours we sell bread to within 2 standard deviations of our mean sale our and retain most of the business. 95% of bread sales to be precise.\n",
    "\n",
    "## Hypothesis: \n",
    "There will be a difference in revenue related to bread sales for bakeries that sell bread outside the hours of 9:30am - 2pm and bakeries who do not.\n",
    "## Null: \n",
    "There will be no difference in revenue related to bread sales for a bakery that sell bread outside the hours of 9:30am - 2pm and bakeries who do not.\n",
    "## Experiment: \n",
    "At the beginning of the month the bakery will begin tracking how much bread is thrown out each day and will conduct business as normal for 30 days. For the next 30 days the same data will be tracked, but the bakery will limit the availability of bread to between 9:30am and 2pm. At the end of the two months the revenue related to sales of bread for each month will be compared. We will also examine the cost of waste, and factor that into the total revenue. We will test if there is a significant difference in revenue. If we are successful we will see a significant increase in revenue. \n"
   ]
  },
  {
   "cell_type": "code",
   "execution_count": null,
   "metadata": {},
   "outputs": [],
   "source": [
    "\n"
   ]
  },
  {
   "cell_type": "code",
   "execution_count": null,
   "metadata": {},
   "outputs": [],
   "source": []
  }
 ],
 "metadata": {
  "kernelspec": {
   "display_name": "Python 3",
   "language": "python",
   "name": "python3"
  },
  "language_info": {
   "codemirror_mode": {
    "name": "ipython",
    "version": 3
   },
   "file_extension": ".py",
   "mimetype": "text/x-python",
   "name": "python",
   "nbconvert_exporter": "python",
   "pygments_lexer": "ipython3",
   "version": "3.6.5"
  }
 },
 "nbformat": 4,
 "nbformat_minor": 2
}
